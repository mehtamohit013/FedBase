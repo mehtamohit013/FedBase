{
 "metadata": {
  "language_info": {
   "codemirror_mode": {
    "name": "ipython",
    "version": 3
   },
   "file_extension": ".py",
   "mimetype": "text/x-python",
   "name": "python",
   "nbconvert_exporter": "python",
   "pygments_lexer": "ipython3",
   "version": "3.7.9"
  },
  "orig_nbformat": 2,
  "kernelspec": {
   "name": "python3",
   "display_name": "Python 3",
   "language": "python"
  }
 },
 "nbformat": 4,
 "nbformat_minor": 2,
 "cells": [
  {
   "cell_type": "code",
   "execution_count": 4,
   "metadata": {},
   "outputs": [],
   "source": [
    "import h5py\n",
    "import math\n",
    "import numpy as np\n",
    "import os"
   ]
  },
  {
   "source": [
    "# Inputs"
   ],
   "cell_type": "markdown",
   "metadata": {}
  },
  {
   "cell_type": "code",
   "execution_count": 5,
   "metadata": {},
   "outputs": [],
   "source": [
    "numEpisodes = range(0,1,1)\n",
    "insite_version = 3.3\n",
    "raymobtimepath = './ray_tracing_data_s008_carrier60GHz'\n",
    "filePrefix = 'rosslyn_mobile_60GHz_ts0.1s_V_Lidar_e'\n",
    "extension ='.hdf5'\n",
    "numOfInvalidChannels = 0\n",
    "arrayName = 'allEpisodeData'\n",
    "final_data = [] #[Episodes Scenes RxTxPairs NumofRays NumofParams]"
   ]
  },
  {
   "source": [
    "# Reading Data"
   ],
   "cell_type": "markdown",
   "metadata": {}
  },
  {
   "source": [
    "## Read array\n"
   ],
   "cell_type": "markdown",
   "metadata": {}
  },
  {
   "cell_type": "code",
   "execution_count": 6,
   "metadata": {},
   "outputs": [],
   "source": [
    "def readArray(fileName, arrayName):\n",
    "   openFile = h5py.File(fileName, 'r')\n",
    "   #tst = list(array.keys())\n",
    "   array = openFile[arrayName]\n",
    "   zyx = np.arange(array.ndim)[::-1]  \n",
    "   array = np.transpose(array,zyx)\n",
    "   return array"
   ]
  },
  {
   "cell_type": "code",
   "execution_count": 7,
   "metadata": {},
   "outputs": [],
   "source": [
    "def Rdata(fileName):\n",
    "   arrayName = 'allEpisodeData'\n",
    "   AllEpisodeData = readArray(fileName,arrayName)\n",
    "   dimension = len(AllEpisodeData.shape)\n",
    "   if dimension == 3:\n",
    "      AllEpisodeData = AllEpisodeData[np.newaxis]\n",
    "   return(AllEpisodeData)"
   ]
  },
  {
   "cell_type": "code",
   "execution_count": 8,
   "metadata": {},
   "outputs": [],
   "source": [
    "def DiscardingInvalids(allEpisodeData,sceneNum,rxtxPair):\n",
    "\tchannelRays=np.squeeze(allEpisodeData[:,:,rxtxPair-1,sceneNum-1])\n",
    "\t[numRaysPerTxRxPair, numParametersPerRay]=channelRays.shape\n",
    "\ttheNaN = np.isnan(channelRays)\n",
    "\tsumOfNaN=np.count_nonzero(theNaN)\n",
    "\tif  (sumOfNaN > 0):  \t#there is at least one NaN, so, need to check\n",
    "\t    \tif  (sumOfNaN == numRaysPerTxRxPair*numParametersPerRay): #the whole channel is invalid (there is not a single valid ray)\n",
    "\t        \tchannelRays = -1\n",
    "\t    \telse:\n",
    "\t    \t\tif (theNaN[:,1]=='False'):\n",
    "\t        \t\tvalidRays = 1\n",
    "\t        \t\tchannelRays = channelRays[validRays,:]\n",
    "\treturn(channelRays)"
   ]
  },
  {
   "cell_type": "code",
   "execution_count": 9,
   "metadata": {},
   "outputs": [
    {
     "output_type": "stream",
     "name": "stdout",
     "text": [
      "Processing ./ray_tracing_data_s008_carrier60GHz\\rosslyn_mobile_60GHz_ts0.1s_V_Lidar_e0.hdf5\n",
      "Processing episode  0 scene 1 of receiver 1\n",
      "Processing episode  0 scene 1 of receiver 2\n",
      "Processing episode  0 scene 1 of receiver 3\n",
      "Processing episode  0 scene 1 of receiver 4\n",
      "Processing episode  0 scene 1 of receiver 5\n",
      "Processing episode  0 scene 1 of receiver 6\n",
      "Processing episode  0 scene 1 of receiver 7\n",
      "Processing episode  0 scene 1 of receiver 8\n",
      "Processing episode  0 scene 1 of receiver 9\n",
      "Processing episode  0 scene 1 of receiver 10\n",
      "ipykernel_launcher:10: FutureWarning: elementwise comparison failed; returning scalar instead, but in the future will perform elementwise comparison\n"
     ]
    }
   ],
   "source": [
    "for index in numEpisodes:\n",
    "   fileName = os.path.join(raymobtimepath,filePrefix+'{}'.format(index)+extension) #filename in hdf5 extension, without the episode counter\n",
    "   print ('Processing {}'.format(fileName))\n",
    "   allEpisodeData = Rdata(fileName)\n",
    "   [numPathParameters, maxNumPaths, numTxRxPairs, numScenes]=allEpisodeData.shape\n",
    "   i_scenes =range(1,numScenes+1,1)\n",
    "   i_pair=range(1,numTxRxPairs+1,1)\n",
    "\n",
    "\n",
    "   for index_s in i_scenes:\n",
    "        for index_p in i_pair:\n",
    "            print ('Processing episode  {}'.format(index)+' scene {}'.format(index_s)+' of receiver {}'.format(index_p))\n",
    "            channelRays=DiscardingInvalids(allEpisodeData,index_s,index_p)\n",
    "            channel_type = type(channelRays)\n",
    "            #print(channelRays)\n",
    "            if channel_type == int:\n",
    "                if  (channelRays == -1): #value returned when all rays are invalid\n",
    "                    numOfInvalidChannels = numOfInvalidChannels + 1\n",
    "                    continue #next Tx / Rx pair\n",
    "            elif channel_type == np.ndarray:\n",
    "                if  (channelRays.all() == -1): #value returned when all rays are invalid\n",
    "                    numOfInvalidChannels = numOfInvalidChannels + 1\n",
    "                    continue #next Tx / Rx pair\n",
    "\n",
    "            [numParameters, numPaths] = channelRays.shape   #support files with 7 or 8 ray information (8 is ray phase)\n",
    "            doesItIncludeRxAngle = 0\n",
    "\n",
    "            if (numParameters >= 9):\n",
    "                doesItIncludeRxAngle = 1\n",
    "\n",
    "            gainMagnitude = channelRays[0,:] # received power in dBm\n",
    "            timeOfArrival = channelRays[1,:] #time of arrival in seconds\n",
    "            AoD_el = channelRays[2,:] #elevation angle of departure in degrees\n",
    "            AoD_az = channelRays[3,:] #azimuth angle of departure in degrees\n",
    "            AoA_el = channelRays[4,:] #elevation angle of arrival in degrees\n",
    "            AoA_az = channelRays[5,:] #azimuth angle of arrival in degrees\n",
    "            isLOS = channelRays[6,:]  #flag 1 for LOS ray, flag 0 for NLOS ray\n",
    "            if (insite_version <= 3.2):\n",
    "                gainPhase = 2*math.pi*np.random.uniform(0,1,len(gainMagnitude))\n",
    "                # it was not specified in first 5gm data version, so if we don't\n",
    "\t\t\t\t# have it, generate uniformly distributed phase\n",
    "            else:\n",
    "                gainPhase = channelRays[7,:]*math.pi/180 #ray phases recorded from InSite\n",
    "            if doesItIncludeRxAngle:\n",
    "                RxAngle = channelRays[8,:]\n",
    "\t\t\t\n",
    "            gainMagnitude = np.power(10,(0.1*gainMagnitude)) #transform to linear\n",
    "            complexGain=np.power(gainMagnitude,1j * gainPhase) #consider complex gain\n",
    "            isChannelLOS = sum(isLOS)\n",
    "            #example: Return gainMagnitude (options - timeOfArrival, AoD_az, AoD_el, \n",
    "            # AoA_az, AoA_el, isLOS, gainPhase, RxAngle)\n",
    "            # print(gainMagnitude)"
   ]
  }
 ]
}