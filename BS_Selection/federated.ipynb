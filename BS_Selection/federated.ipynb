{
  "nbformat": 4,
  "nbformat_minor": 5,
  "metadata": {
    "kernelspec": {
      "display_name": "Python 3",
      "language": "python",
      "name": "python3"
    },
    "language_info": {
      "codemirror_mode": {
        "name": "ipython",
        "version": 3
      },
      "file_extension": ".py",
      "mimetype": "text/x-python",
      "name": "python",
      "nbconvert_exporter": "python",
      "pygments_lexer": "ipython3",
      "version": "3.6.13"
    },
    "notify_time": "5",
    "toc": {
      "base_numbering": 1,
      "nav_menu": {},
      "number_sections": true,
      "sideBar": true,
      "skip_h1_title": false,
      "title_cell": "Table of Contents",
      "title_sidebar": "Contents",
      "toc_cell": false,
      "toc_position": {
        "height": "481.333px",
        "left": "60px",
        "top": "267px",
        "width": "246.667px"
      },
      "toc_section_display": true,
      "toc_window_display": true
    },
    "varInspector": {
      "cols": {
        "lenName": 16,
        "lenType": 16,
        "lenVar": 40
      },
      "kernels_config": {
        "python": {
          "delete_cmd_postfix": "",
          "delete_cmd_prefix": "del ",
          "library": "var_list.py",
          "varRefreshCmd": "print(var_dic_list())"
        },
        "r": {
          "delete_cmd_postfix": ") ",
          "delete_cmd_prefix": "rm(",
          "library": "var_list.r",
          "varRefreshCmd": "cat(var_dic_list()) "
        }
      },
      "types_to_exclude": [
        "module",
        "function",
        "builtin_function_or_method",
        "instance",
        "_Feature"
      ],
      "window_display": false
    },
    "colab": {
      "name": "Copy of BS_sel.ipynb",
      "provenance": [],
      "collapsed_sections": [
        "AWoQwuy4mJ3H",
        "56cc4e95",
        "81baa8bf",
        "4378722f",
        "jCcZPJm0J-bJ",
        "cf2b02ed",
        "A69R3iQOLUYp",
        "e306Rac6LWq6",
        "nCkvA7iiLtD4",
        "eNCCwtgSa_NY",
        "Xz_yhoLabBgk",
        "ASE2VbKTbe68",
        "iqTth-rubb7L",
        "cMmwc1_VLP3K",
        "fNXmev1Nblh-",
        "q7WZoEH1dBeI"
      ],
      "include_colab_link": true
    },
    "accelerator": "GPU"
  },
  "cells": [
    {
      "cell_type": "markdown",
      "metadata": {
        "id": "view-in-github",
        "colab_type": "text"
      },
      "source": [
        "<a href=\"https://colab.research.google.com/github/mehtamohit013/comms_lidar_ML/blob/main/BS_Selection/federated.ipynb\" target=\"_parent\"><img src=\"https://colab.research.google.com/assets/colab-badge.svg\" alt=\"Open In Colab\"/></a>"
      ]
    },
    {
      "cell_type": "markdown",
      "metadata": {
        "id": "AWoQwuy4mJ3H"
      },
      "source": [
        "# Colab - Once per runtime"
      ],
      "id": "AWoQwuy4mJ3H"
    },
    {
      "cell_type": "code",
      "metadata": {
        "ExecuteTime": {
          "end_time": "2021-07-13T08:33:48.880753Z",
          "start_time": "2021-07-13T08:33:48.699934Z"
        },
        "scrolled": true,
        "id": "4ee34b45"
      },
      "source": [
        "!nvidia-smi"
      ],
      "id": "4ee34b45",
      "execution_count": null,
      "outputs": []
    },
    {
      "cell_type": "code",
      "metadata": {
        "id": "rB1IIp3_aixG"
      },
      "source": [
        "from google.colab import drive\n",
        "drive.mount('/gdrive')"
      ],
      "id": "rB1IIp3_aixG",
      "execution_count": null,
      "outputs": []
    },
    {
      "cell_type": "code",
      "metadata": {
        "id": "12hYGLNqa5sY"
      },
      "source": [
        "%%capture _\n",
        "!unzip /gdrive/MyDrive/BTP/webots_data/final/data_split.zip\n",
        "# !unzip /gdrive/MyDrive/BTP/Webots_data/val_data.zip\n",
        "!pip install pytorch-lightning"
      ],
      "id": "12hYGLNqa5sY",
      "execution_count": null,
      "outputs": []
    },
    {
      "cell_type": "code",
      "metadata": {
        "id": "urD_DUkeG3SK"
      },
      "source": [
        "!pip install  --upgrade pandas"
      ],
      "id": "urD_DUkeG3SK",
      "execution_count": null,
      "outputs": []
    },
    {
      "cell_type": "markdown",
      "metadata": {
        "id": "56cc4e95"
      },
      "source": [
        "# Imports"
      ],
      "id": "56cc4e95"
    },
    {
      "cell_type": "code",
      "metadata": {
        "id": "xMeUlYCZg7R8"
      },
      "source": [
        "%load_ext tensorboard"
      ],
      "id": "xMeUlYCZg7R8",
      "execution_count": null,
      "outputs": []
    },
    {
      "cell_type": "code",
      "metadata": {
        "ExecuteTime": {
          "end_time": "2021-07-13T08:33:51.415714Z",
          "start_time": "2021-07-13T08:33:48.884205Z"
        },
        "id": "6fbbd050"
      },
      "source": [
        "import torch\n",
        "from torch import nn\n",
        "from torch.nn import functional as F\n",
        "from torch.utils.data import DataLoader, Dataset\n",
        "from enum import Enum\n",
        "\n",
        "import numpy as np\n",
        "import pandas as pd\n",
        "import tqdm\n",
        "import os\n",
        "import matplotlib.pyplot as plt\n",
        "import random\n",
        "import scipy.io as io\n",
        "import math\n",
        "import getpass\n",
        "import time\n",
        "from typing import Union\n",
        "\n",
        "import pytorch_lightning as pl\n",
        "from pytorch_lightning.loggers import TensorBoardLogger\n",
        "\n",
        "seed = 0\n",
        "\n",
        "random.seed(seed)\n",
        "torch.manual_seed(seed)\n",
        "np.random.seed(seed)"
      ],
      "id": "6fbbd050",
      "execution_count": null,
      "outputs": []
    },
    {
      "cell_type": "markdown",
      "metadata": {
        "id": "00d80edb"
      },
      "source": [
        "# Hyper-params"
      ],
      "id": "00d80edb"
    },
    {
      "cell_type": "code",
      "metadata": {
        "ExecuteTime": {
          "end_time": "2021-07-13T08:33:51.473123Z",
          "start_time": "2021-07-13T08:33:51.419626Z"
        },
        "code_folding": [
          6
        ],
        "id": "3152ca48"
      },
      "source": [
        "user = getpass.getuser()\n",
        "\n",
        "if user == 'root':  #For google colab\n",
        "    data_dir = '.'\n",
        "    save_dir = './model_state_dict'\n",
        "elif user == 'mohit':\n",
        "    data_dir = os.environ['HOME'] + '/webots_code/data'\n",
        "    save_dir = os.path.join(os.environ['HOME'],'webots_code/model_state_dict')\n",
        "elif user == 'iiti':\n",
        "    data_dir = os.environ['HOME'] + '/webots_code/data'\n",
        "    save_dir = os.path.join(os.environ['HOME'],'webots_code/model_state_dict')\n",
        "else:\n",
        "    print(f'User {user} not present.\\n Exiting.....')\n",
        "    exit(0)\n",
        "\n",
        "os.makedirs(save_dir,exist_ok=True)\n",
        "\n",
        "train_gps = pd.read_pickle(os.path.join(data_dir,'train.pkl')).reset_index(drop=True)\n",
        "val_gps = pd.read_pickle(os.path.join(data_dir,'val.pkl')).reset_index(drop=True)\n",
        "test_gps = pd.read_pickle(os.path.join(data_dir,'test.pkl')).reset_index(drop=True)\n",
        "\n",
        "len_train = len(train_gps)\n",
        "len_val = len(val_gps)\n",
        "len_test = len(test_gps)\n",
        "\n",
        "\n",
        "lpath = os.path.join(data_dir,'lidar_compressed')\n",
        "labpath = os.path.join(data_dir,'labels')\n",
        "\n",
        "\n",
        "len_train = len(train_gps)\n",
        "len_val = len(val_gps)\n",
        "len_test = len(test_gps)\n",
        "\n",
        "BS = np.array([\n",
        "    [38.89502,-77.07303,5],\n",
        "    [38.89442,-77.07294,5],\n",
        "    [38.89452,-77.07358,5]\n",
        "])\n",
        "num_BS = int(BS.shape[0])\n",
        "\n",
        "BATCH_SIZE = 64\n",
        "\n",
        "if (user=='root'):\n",
        "    n_worker = 2\n",
        "else:\n",
        "    n_worker = 8\n",
        "\n",
        "device = torch.device('cuda' if torch.cuda.is_available() else 'cpu')\n",
        "print(device)"
      ],
      "id": "3152ca48",
      "execution_count": null,
      "outputs": []
    },
    {
      "cell_type": "markdown",
      "metadata": {
        "id": "81baa8bf"
      },
      "source": [
        "# Utilities"
      ],
      "id": "81baa8bf"
    },
    {
      "cell_type": "code",
      "metadata": {
        "ExecuteTime": {
          "end_time": "2021-07-13T08:33:51.588035Z",
          "start_time": "2021-07-13T08:33:51.476684Z"
        },
        "id": "960011d3"
      },
      "source": [
        "def top_k_acc(y_true:torch.Tensor,y_pred:torch.Tensor,k=1):\n",
        "    \n",
        "    y_pred_tpk = torch.topk(y_pred,k,dim=1)[1]\n",
        "    \n",
        "    ovr = 0\n",
        "    pos = 0\n",
        "\n",
        "    for i in range(0,len(y_pred_tpk)):\n",
        "        if(y_true[i] in y_pred_tpk[i]):\n",
        "            pos+=1\n",
        "        ovr+=1\n",
        "    \n",
        "    acc = float(pos)/float(ovr)\n",
        "    return acc"
      ],
      "id": "960011d3",
      "execution_count": null,
      "outputs": []
    },
    {
      "cell_type": "code",
      "metadata": {
        "id": "mFzIkx8oGu1V"
      },
      "source": [
        "train_gps.at[0,'Lidar'][:-4]"
      ],
      "id": "mFzIkx8oGu1V",
      "execution_count": null,
      "outputs": []
    },
    {
      "cell_type": "markdown",
      "metadata": {
        "id": "3d31e993"
      },
      "source": [
        "# Creating Dataset and Dataloader"
      ],
      "id": "3d31e993"
    },
    {
      "cell_type": "markdown",
      "metadata": {
        "id": "0944bb98"
      },
      "source": [
        "## Custom Dataset\n",
        "Using 'GPS' currently.Translation can also be used instead of gps"
      ],
      "id": "0944bb98"
    },
    {
      "cell_type": "code",
      "metadata": {
        "ExecuteTime": {
          "end_time": "2021-07-13T08:33:51.723110Z",
          "start_time": "2021-07-13T08:33:51.591281Z"
        },
        "id": "754084ca"
      },
      "source": [
        "class bs_dataset(Dataset):\n",
        "    def __init__(self,gps_pd:pd.DataFrame,\n",
        "                lpath:str=lpath,label_path:str=labpath):\n",
        "    \n",
        "        self.gps = gps_pd\n",
        "        self.lpath = lpath\n",
        "        self.label_path = label_path\n",
        "        \n",
        "    def __getitem__(self,index):\n",
        "        filename = self.gps.at[index,'Lidar']\n",
        "        sample = dict() \n",
        "\n",
        "        sample['lidar'] = dict(np.load(os.path.join(self.lpath,filename)))['lidar'] #[10,240,240]\n",
        "        sample['lidar'] = sample['lidar'].astype('float32')\n",
        "        sample['gps'] = np.array(self.gps.at[index,'GPS'])[1].astype('float32') # Central GPS coord\n",
        "        sample['BS'] = self.gps.at[index,'BS'].reshape((3*num_BS,)).astype('float32') #[num_BS*3,]\n",
        "        sample['label'] = io.loadmat(self.label_path+f'/{filename[:-3]}mat')['ss']\n",
        "        \n",
        "        #Return the index of maximum element \n",
        "        sample['label'] = np.argmax(sample['label'].astype('float32')) \n",
        "        \n",
        "        return sample\n",
        "    \n",
        "    def __len__(self):\n",
        "        return len(self.gps)"
      ],
      "id": "754084ca",
      "execution_count": null,
      "outputs": []
    },
    {
      "cell_type": "code",
      "metadata": {
        "ExecuteTime": {
          "end_time": "2021-07-13T08:33:51.830762Z",
          "start_time": "2021-07-13T08:33:51.726924Z"
        },
        "id": "0f699c87"
      },
      "source": [
        "train_dataset = bs_dataset(train_gps)\n",
        "val_dataset = bs_dataset(val_gps)\n",
        "test_dataset = bs_dataset(test_gps)"
      ],
      "id": "0f699c87",
      "execution_count": null,
      "outputs": []
    },
    {
      "cell_type": "markdown",
      "metadata": {
        "ExecuteTime": {
          "end_time": "2021-07-11T15:03:37.626795Z",
          "start_time": "2021-07-11T15:03:37.587247Z"
        },
        "id": "4378722f"
      },
      "source": [
        "## Dataloader"
      ],
      "id": "4378722f"
    },
    {
      "cell_type": "code",
      "metadata": {
        "ExecuteTime": {
          "end_time": "2021-07-13T08:33:51.930405Z",
          "start_time": "2021-07-13T08:33:51.833897Z"
        },
        "id": "8f657b15"
      },
      "source": [
        "train_loader = DataLoader(\n",
        "    train_dataset,\n",
        "    batch_size=BATCH_SIZE,\n",
        "    pin_memory=True,\n",
        "    num_workers = n_worker,\n",
        "    drop_last = True,\n",
        "    shuffle = True\n",
        "    )"
      ],
      "id": "8f657b15",
      "execution_count": null,
      "outputs": []
    },
    {
      "cell_type": "code",
      "metadata": {
        "id": "i4PbYJUnoyiy"
      },
      "source": [
        "val_loader = DataLoader(\n",
        "    val_dataset,\n",
        "    batch_size=BATCH_SIZE,\n",
        "    pin_memory=True,\n",
        "    num_workers = n_worker,\n",
        "    drop_last = True\n",
        "    )"
      ],
      "id": "i4PbYJUnoyiy",
      "execution_count": null,
      "outputs": []
    },
    {
      "cell_type": "code",
      "metadata": {
        "id": "EAHwpeumMrSe"
      },
      "source": [
        "test_loader = DataLoader(\n",
        "    test_dataset,\n",
        "    batch_size=BATCH_SIZE,\n",
        "    pin_memory=True,\n",
        "    num_workers = n_worker,\n",
        "    drop_last = True\n",
        ")"
      ],
      "id": "EAHwpeumMrSe",
      "execution_count": null,
      "outputs": []
    },
    {
      "cell_type": "markdown",
      "metadata": {
        "id": "7d0c45e4"
      },
      "source": [
        "# Models\n",
        "Based on Imperial Model"
      ],
      "id": "7d0c45e4"
    },
    {
      "cell_type": "markdown",
      "metadata": {
        "id": "jCcZPJm0J-bJ"
      },
      "source": [
        "## GPS Class"
      ],
      "id": "jCcZPJm0J-bJ"
    },
    {
      "cell_type": "code",
      "metadata": {
        "id": "eOSrpfPLJ-LN"
      },
      "source": [
        "class gps_bs_sel(nn.Module):\n",
        "    def __init__(self):\n",
        "        super().__init__()\n",
        "        \n",
        "        self.linear1 = nn.Linear(12,16)\n",
        "        self.linear2 = nn.Linear(16,32)\n",
        "        self.linear3 = nn.Linear(32,64)\n",
        "        self.linear4 = nn.Linear(64,32)\n",
        "        self.linear5 = nn.Linear(32,16)\n",
        "        self.linear6 = nn.Linear(16,8)\n",
        "        self.linear7 = nn.Linear(8,3)\n",
        "        \n",
        "        self.relu = nn.ReLU()\n",
        "    \n",
        "    def forward(self,gps,BS):\n",
        "\n",
        "        x = torch.cat([gps,BS],dim=1)\n",
        "        \n",
        "        out = self.linear1(x)\n",
        "        out = self.relu(out)\n",
        "        out = self.linear2(out)\n",
        "        out = self.relu(out)\n",
        "        out = self.linear3(out)\n",
        "        out = self.relu(out)\n",
        "        out = self.linear4(out)\n",
        "        out = self.relu(out)\n",
        "        out = self.linear5(out)\n",
        "        out = self.relu(out)\n",
        "        out = self.linear6(out)\n",
        "        out = self.relu(out)\n",
        "        out = self.linear7(out)\n",
        "\n",
        "        return out"
      ],
      "id": "eOSrpfPLJ-LN",
      "execution_count": null,
      "outputs": []
    },
    {
      "cell_type": "markdown",
      "metadata": {
        "id": "8eSVTP99ZfA_"
      },
      "source": [
        "## Lidar Class"
      ],
      "id": "8eSVTP99ZfA_"
    },
    {
      "cell_type": "markdown",
      "metadata": {
        "id": "DIvb_UASNgIO"
      },
      "source": [
        "### NU Huskies\n",
        "Resnet based architecture exploiting Residual connection\n"
      ],
      "id": "DIvb_UASNgIO"
    },
    {
      "cell_type": "code",
      "metadata": {
        "id": "mpWys44SN2Mf"
      },
      "source": [
        "class NU(nn.Module):\n",
        "    def __init__(self,drp:float=0.3,\n",
        "                 drp_fc:float=0.2):\n",
        "        super().__init__()\n",
        "        self.drop_prob = drp\n",
        "        self.drop = nn.Dropout(self.drop_prob)\n",
        "\n",
        "        self.conv0 = nn.Sequential(nn.Conv2d(10,3,(3,3)),nn.ReLU())\n",
        "        self.conv1 = nn.Sequential(nn.Conv2d(3,3,(3,3)),nn.ReLU())\n",
        "        self.conv2 = nn.Sequential(nn.Conv2d(3,3,(3,3)),nn.ReLU())\n",
        "        self.conv3 = nn.Sequential(nn.Conv2d(3,3,(3,3)),nn.ReLU())\n",
        "        self.conv4 = nn.Sequential(nn.Conv2d(3,3,(3,3)),nn.ReLU())\n",
        "        self.conv5 = nn.Sequential(nn.Conv2d(3,3,(3,3)),nn.ReLU())\n",
        "        self.conv6 = nn.Sequential(nn.Conv2d(3,3,(3,3)),nn.ReLU())\n",
        "        self.conv7 = nn.Sequential(nn.Conv2d(3,3,(3,3)),nn.ReLU())\n",
        "        self.conv8 = nn.Sequential(nn.Conv2d(3,3,(3,3)),nn.ReLU())\n",
        "\n",
        "        self.m_pool1 = nn.MaxPool2d((2,2))\n",
        "        self.m_pool2 = nn.MaxPool2d((1,2))\n",
        "\n",
        "        self.flatten = nn.Flatten()\n",
        "\n",
        "        self.drop_prob_fc = drp_fc\n",
        "        self.drop_fc = nn.Dropout(self.drop_prob_fc)\n",
        "        self.fc = nn.Sequential(nn.Linear(5400,512),\n",
        "                                nn.ReLU(),\n",
        "                                self.drop_fc,\n",
        "                                nn.Linear(512,256),\n",
        "                                nn.ReLU(),\n",
        "                                self.drop_fc,\n",
        "                                nn.Linear(256,3)\n",
        "                                )\n",
        "        \n",
        "    def forward(self,X):\n",
        "        a = X = self.conv0(X)\n",
        "        X = F.pad(X,(1,1,1,1))\n",
        "        a = F.pad(a,(1,1,1,1))\n",
        "        X = self.conv1(X)\n",
        "        X = F.pad(X,(1,1,1,1))\n",
        "        X = self.conv2(X)\n",
        "        X = F.pad(X,(1,1,1,1))\n",
        "        X = X+a\n",
        "        X = self.m_pool1(X)\n",
        "\n",
        "\n",
        "        b = X= self.drop(X)\n",
        "\n",
        "        X = self.conv3(X)\n",
        "        X = F.pad(X,(1,1,1,1))\n",
        "        X = self.conv4(X)\n",
        "        X = F.pad(X,(1,1,1,1))\n",
        "        X = X+b\n",
        "        X = self.m_pool1(X)\n",
        "\n",
        "        c = X = self.drop(X)\n",
        "\n",
        "        X = self.conv5(X)\n",
        "        X = F.pad(X,(1,1,1,1))\n",
        "        X = self.conv6(X)\n",
        "        X = F.pad(X,(1,1,1,1))\n",
        "        X = X + c\n",
        "        X = self.m_pool2(X)\n",
        "        \n",
        "        d = X = self.drop(X)\n",
        "\n",
        "        X = self.conv7(X)\n",
        "        X = F.pad(X,(1,1,1,1))\n",
        "        X = self.conv8(X)\n",
        "        X = F.pad(X,(1,1,1,1))\n",
        "        X = X + d\n",
        "\n",
        "        out = self.flatten(X)\n",
        "        out = self.fc(out)\n",
        "        \n",
        "        return out"
      ],
      "id": "mpWys44SN2Mf",
      "execution_count": null,
      "outputs": []
    },
    {
      "cell_type": "markdown",
      "metadata": {
        "id": "Cm0EnIBTN2mA"
      },
      "source": [
        "\n",
        "### Imperial\n",
        "\n",
        "Simple CNN based on imperial model\n",
        "\n",
        "Adding dropout for reduction in overfitting"
      ],
      "id": "Cm0EnIBTN2mA"
    },
    {
      "cell_type": "code",
      "metadata": {
        "id": "dK_HTVAOZh8P"
      },
      "source": [
        "class imp_lidar(nn.Module):\n",
        "    def __init__(self,drp:float=0.2,drp_fc:float=0.2):\n",
        "        super().__init__()\n",
        "        \n",
        "        self.drop_CNN = nn.Dropout(drp)\n",
        "        self.drop_fc = nn.Dropout(drp_fc)\n",
        "\n",
        "        self.channels = 5\n",
        "        self.fchannel = 3\n",
        "        self.conv1 = nn.Conv2d(10,self.channels, 13, 1, 1)\n",
        "        self.bn1 = nn.BatchNorm2d(self.channels)\n",
        "        self.relu1 = nn.PReLU(num_parameters=self.channels)\n",
        "        self.conv2 = nn.Conv2d(self.channels, self.channels, 13, 1, 1)\n",
        "        self.bn2 = nn.BatchNorm2d(self.channels)\n",
        "        self.relu2 = nn.PReLU(num_parameters=self.channels)\n",
        "        self.conv3 = nn.Conv2d(self.channels, self.channels, 7, 2, 1)\n",
        "        self.bn3 = nn.BatchNorm2d(self.channels)\n",
        "        self.relu3 = nn.PReLU(num_parameters=self.channels)\n",
        "        self.conv4 = nn.Conv2d(self.channels, self.channels, 7, 1, 1)\n",
        "        self.bn4 = nn.BatchNorm2d(self.channels)\n",
        "        self.relu4 = nn.PReLU(num_parameters=self.channels)\n",
        "        self.conv5 = nn.Conv2d(self.channels, self.fchannel, 5, 2, 1)\n",
        "        self.bn5 = nn.BatchNorm2d(self.fchannel)\n",
        "        self.relu5 = nn.PReLU(num_parameters=self.fchannel)\n",
        "        self.conv6 = nn.Conv2d(self.fchannel, 1, 5, (1, 2), 1)\n",
        "        self.bn6 = nn.BatchNorm2d(1)\n",
        "        self.relu6 = nn.PReLU(num_parameters=1)\n",
        "\n",
        "        self.flatten = nn.Flatten()\n",
        "        self.linear7 = nn.Linear(1225,256)\n",
        "        self.relu7 = nn.ReLU()\n",
        "\n",
        "        self.linear8 = nn.Linear(256,16)\n",
        "        self.linear9 = nn.Linear(16,3)\n",
        "\n",
        "    def forward(self,x):\n",
        "\n",
        "        x = self.conv1(x)\n",
        "        x = self.relu1(x)\n",
        "        x = self.bn1(x)\n",
        "\n",
        "        x = self.conv2(x)\n",
        "        x = self.relu2(x)\n",
        "        x = self.bn2(x)\n",
        "\n",
        "        x = self.drop_CNN(x)\n",
        "\n",
        "        x = self.conv3(x)\n",
        "        x = self.relu3(x)\n",
        "        x = self.bn3(x)\n",
        "      \n",
        "        x = self.conv4(x)\n",
        "        x = self.relu4(x)\n",
        "        x = self.bn3(x)\n",
        "\n",
        "        x = self.drop_CNN(x)\n",
        "\n",
        "        x = self.conv5(x)\n",
        "        x = self.relu5(x)\n",
        "        x = self.bn5(x)\n",
        "\n",
        "        x = self.conv6(x)\n",
        "        x = self.relu6(x)\n",
        "        x = self.bn6(x)\n",
        "\n",
        "        x = self.drop_CNN(x)\n",
        "\n",
        "        x = self.flatten(x)\n",
        "        x = self.linear7(x)\n",
        "        x = self.relu7(x)\n",
        "        x = self.drop_fc(x)\n",
        "\n",
        "        x = self.linear8(x)\n",
        "        x= self.relu7(x)\n",
        "        x = self.drop_fc(x)\n",
        "        \n",
        "        out = self.linear9(x)\n",
        "\n",
        "        return out\n"
      ],
      "id": "dK_HTVAOZh8P",
      "execution_count": null,
      "outputs": []
    },
    {
      "cell_type": "markdown",
      "metadata": {
        "id": "xDI2GUwqDnbs"
      },
      "source": [
        "### Model 1\n",
        "Resnet based architecture but with higher kernel size, inspired from the results of imp model\n",
        "\n",
        "Reason : As data is sparse higher kernel size may enable better computation\n",
        "\n",
        "Convolution Output size : [(W−K+2P)/S]+1\n",
        "\n",
        "*   W is the input volume \n",
        "*   K is the Kernel size \n",
        "*   P is the padding \n",
        "*   S is the stride \n"
      ],
      "id": "xDI2GUwqDnbs"
    },
    {
      "cell_type": "code",
      "metadata": {
        "id": "wJJxLmqGDusg"
      },
      "source": [
        "class m1(nn.Module):\n",
        "    def __init__(self,drp:float=0.3,\n",
        "                 drp_fc:float=0.2):\n",
        "        super().__init__()\n",
        "        self.drop_prob = drp\n",
        "        self.drop = nn.Dropout(self.drop_prob)\n",
        "\n",
        "        self.conv0 = nn.Sequential(nn.Conv2d(10,3,(13,13)),nn.BatchNorm2d(3),nn.PReLU(3))\n",
        "        self.conv1 = nn.Sequential(nn.Conv2d(3,3,(11,11)),nn.BatchNorm2d(3),nn.PReLU(3))\n",
        "        self.conv2 = nn.Sequential(nn.Conv2d(3,3,(11,11)),nn.BatchNorm2d(3),nn.PReLU(3))\n",
        "        self.conv3 = nn.Sequential(nn.Conv2d(3,3,(7,7)),nn.BatchNorm2d(3),nn.PReLU(3))\n",
        "        self.conv4 = nn.Sequential(nn.Conv2d(3,3,(7,7)),nn.BatchNorm2d(3),nn.PReLU(3))\n",
        "        self.conv5 = nn.Sequential(nn.Conv2d(3,3,(5,5)),nn.BatchNorm2d(3),nn.PReLU(3))\n",
        "        self.conv6 = nn.Sequential(nn.Conv2d(3,3,(5,5)),nn.BatchNorm2d(3),nn.PReLU(3))\n",
        "        self.conv7 = nn.Sequential(nn.Conv2d(3,3,(3,3)),nn.BatchNorm2d(3),nn.PReLU(3))\n",
        "        self.conv8 = nn.Sequential(nn.Conv2d(3,3,(3,3)),nn.BatchNorm2d(3),nn.PReLU(3))\n",
        "\n",
        "        self.m_pool1 = nn.MaxPool2d((2,2))\n",
        "        self.m_pool2 = nn.MaxPool2d((1,2))\n",
        "\n",
        "        self.flatten = nn.Flatten()\n",
        "\n",
        "        self.drop_prob_fc = drp_fc\n",
        "        self.drop_fc = nn.Dropout(self.drop_prob_fc)\n",
        "        self.fc = nn.Sequential(nn.Linear(4788,512),\n",
        "                                nn.PReLU(1),\n",
        "                                self.drop_fc,\n",
        "                                nn.Linear(512,256),\n",
        "                                nn.PReLU(1),\n",
        "                                self.drop_fc,\n",
        "                                nn.Linear(256,3)\n",
        "                                )\n",
        "        \n",
        "    def forward(self,X):\n",
        "        a = X = self.conv0(X)\n",
        "\n",
        "        X = self.conv1(X)\n",
        "        X = F.pad(X,(5,5,5,5))\n",
        "        X = self.conv2(X)\n",
        "        X = F.pad(X,(5,5,5,5))\n",
        "        X = X+a\n",
        "        X = self.m_pool1(X)\n",
        "\n",
        "\n",
        "        b = X= self.drop(X)\n",
        "\n",
        "        X = self.conv3(X)\n",
        "        X = F.pad(X,(3,3,3,3))\n",
        "        X = self.conv4(X)\n",
        "        X = F.pad(X,(3,3,3,3))\n",
        "        X = X+b\n",
        "        X = self.m_pool1(X)\n",
        "\n",
        "        c = X = self.drop(X)\n",
        "\n",
        "        X = self.conv5(X)\n",
        "        X = F.pad(X,(2,2,2,2))\n",
        "        X = self.conv6(X)\n",
        "        X = F.pad(X,(2,2,2,2))\n",
        "        X = X + c\n",
        "        X = self.m_pool2(X)\n",
        "        \n",
        "        d = X = self.drop(X)\n",
        "\n",
        "        X = self.conv7(X)\n",
        "        X = F.pad(X,(1,1,1,1))\n",
        "        X = self.conv8(X)\n",
        "        X = F.pad(X,(1,1,1,1))\n",
        "        X = X + d\n",
        "\n",
        "        out = self.flatten(X)\n",
        "        out = self.fc(out)\n",
        "        \n",
        "        return out"
      ],
      "id": "wJJxLmqGDusg",
      "execution_count": null,
      "outputs": []
    },
    {
      "cell_type": "code",
      "metadata": {
        "id": "lCvpEs8hS6jy"
      },
      "source": [
        "# tmp = m1()"
      ],
      "id": "lCvpEs8hS6jy",
      "execution_count": null,
      "outputs": []
    },
    {
      "cell_type": "code",
      "metadata": {
        "id": "fYN2kGpoS9xp"
      },
      "source": [
        "# a = torch.rand(1,10,240,240)\n",
        "# tmp(a)"
      ],
      "id": "fYN2kGpoS9xp",
      "execution_count": null,
      "outputs": []
    },
    {
      "cell_type": "markdown",
      "metadata": {
        "id": "fw9ZA9Vl_oTD"
      },
      "source": [
        "### Inception based model"
      ],
      "id": "fw9ZA9Vl_oTD"
    },
    {
      "cell_type": "code",
      "metadata": {
        "id": "O-ftsSF-_rYl"
      },
      "source": [
        "class incp(nn.Module):\n",
        "    def __init__(self,drp:float=0.3,\n",
        "                 drp_fc:float=0.2):\n",
        "        super().__init__()\n",
        "        \n",
        "        self.drop_CNN = nn.Dropout(drp)\n",
        "        self.drop_fc = nn.Dropout(drp_fc)\n",
        "        self.mpool = nn.MaxPool2d((2,2))\n",
        "        self.channels = 5\n",
        "        self.fchannel = 3\n",
        "        self.conv1 = self.create_conv(10,self.channels,13)\n",
        "        self.conv2 = self.create_conv(self.channels,self.channels,13)\n",
        "        self.conv3 = self.create_conv(self.channels,self.channels,7)\n",
        "        self.conv4 = self.create_conv(self.channels,self.channels,7)\n",
        "\n",
        "        # 1st Inception block\n",
        "        self.in1 = nn.Sequential(\n",
        "            self.create_conv(self.channels,self.fchannel,1),\n",
        "            self.create_conv(self.fchannel,self.fchannel,3),\n",
        "            self.create_conv(self.fchannel,self.fchannel,3)\n",
        "        )\n",
        "        self.in2 = nn.Sequential(\n",
        "            self.create_conv(self.channels,self.fchannel,1),\n",
        "            self.create_conv(self.fchannel,self.fchannel,3)\n",
        "        )\n",
        "        self.in3 = nn.Sequential(\n",
        "            nn.MaxPool2d((3,3)),\n",
        "            self.create_conv(self.channels,self.fchannel,1)\n",
        "        )\n",
        "        self.in4 = self.create_conv(self.channels,self.fchannel,1)\n",
        "\n",
        "        # Second inception block\n",
        "        self.in5 = nn.Sequential(\n",
        "            self.create_conv(self.fchannel*4,self.fchannel,3),\n",
        "            self.create_conv(self.fchannel,self.fchannel,3)\n",
        "        )\n",
        "        self.in6 = nn.Sequential(\n",
        "            self.create_conv(self.fchannel*4,self.fchannel,3)\n",
        "        )\n",
        "        self.in7 = nn.Sequential(\n",
        "            nn.MaxPool2d((3,3)),\n",
        "            self.create_conv(self.fchannel*4,self.fchannel,1)\n",
        "        )\n",
        "        self.in8 = self.create_conv(self.fchannel*4,self.fchannel,1)\n",
        "\n",
        "        self.conv5 = self.create_conv(self.fchannel*4,self.fchannel*4,7)\n",
        "        self.conv6 = self.create_conv(self.fchannel*4,self.fchannel*4,7)\n",
        "\n",
        "        self.conv7 = self.create_conv(self.fchannel*4,self.fchannel*4,3)\n",
        "        self.conv8 = self.create_conv(self.fchannel*4,self.fchannel*4,3)\n",
        "        \n",
        "        self.flatten = nn.Flatten()\n",
        "\n",
        "        self.linear = nn.Sequential(\n",
        "            nn.Linear(2352,256),\n",
        "            nn.PReLU(1),\n",
        "            nn.BatchNorm1d(256),\n",
        "            self.drop_fc,\n",
        "            nn.Linear(256,64),\n",
        "            nn.PReLU(1),\n",
        "            nn.BatchNorm1d(64),\n",
        "            self.drop_fc,\n",
        "            nn.Linear(64,16),\n",
        "            nn.PReLU(1),\n",
        "            nn.BatchNorm1d(16),\n",
        "            self.drop_fc,\n",
        "            nn.Linear(16,3)\n",
        "        )\n",
        "\n",
        "    \n",
        "    def forward(self,X):\n",
        "        X  = self.conv1(X)\n",
        "        X  = self.conv2(X)\n",
        "        X = self.mpool(X)\n",
        "\n",
        "        X = self.conv3(X)\n",
        "        X = self.conv4(X)\n",
        "        X = self.mpool(X)\n",
        "\n",
        "        X = self.drop_CNN(X)\n",
        "\n",
        "        a = self.in1(X)\n",
        "        a = F.pad(a,[2,2,2,2])\n",
        "        b = self.in2(X)\n",
        "        b = F.pad(b,[1,1,1,1])\n",
        "        c = self.in3(X)\n",
        "        c = F.pad(c,[16,16,16,16])\n",
        "        d = self.in4(X)\n",
        "\n",
        "        X = torch.cat((a,b,c,d),1)\n",
        "\n",
        "        X = self.drop_CNN(X)\n",
        "\n",
        "        a = self.in5(X)\n",
        "        a = F.pad(a,[2,2,2,2])\n",
        "        b = self.in6(X)\n",
        "        b = F.pad(b,[1,1,1,1])\n",
        "        c = self.in7(X)\n",
        "        c = F.pad(c,[16,16,16,16])\n",
        "        d = self.in8(X)\n",
        "\n",
        "        X = torch.cat((a,b,c,d),1)\n",
        "        X = self.drop_CNN(X)\n",
        "\n",
        "        X = self.conv5(X)\n",
        "        X = self.conv6(X)\n",
        "        X = self.mpool(X)\n",
        "\n",
        "        X = self.drop_CNN(X)\n",
        "\n",
        "        X = self.conv7(X)\n",
        "        X = self.conv8(X)\n",
        "\n",
        "        X = self.flatten(X)\n",
        "        out = self.linear(X)\n",
        "\n",
        "        return out\n",
        "    \n",
        "    def create_conv(self,in_layers:int,out_layers:int,kernel,stride:int=1,\n",
        "                    padding:int=0) -> nn.Module :\n",
        "\n",
        "        return nn.Sequential(\n",
        "            nn.Conv2d(in_layers,out_layers,kernel,stride,padding),\n",
        "            nn.PReLU(out_layers),\n",
        "            nn.BatchNorm2d(out_layers)\n",
        "        )"
      ],
      "id": "O-ftsSF-_rYl",
      "execution_count": null,
      "outputs": []
    },
    {
      "cell_type": "code",
      "metadata": {
        "id": "OOkaIV5LwYmH"
      },
      "source": [
        "tmp = incp()\n",
        "a = torch.rand(2,10,240,240)\n",
        "tmp(a)\n",
        "sum(p.numel() for p in tmp.parameters())"
      ],
      "id": "OOkaIV5LwYmH",
      "execution_count": null,
      "outputs": []
    },
    {
      "cell_type": "markdown",
      "metadata": {
        "id": "01dc727f"
      },
      "source": [
        "## Lidar + GPS Class"
      ],
      "id": "01dc727f"
    },
    {
      "cell_type": "code",
      "metadata": {
        "ExecuteTime": {
          "end_time": "2021-07-13T08:41:09.489630Z",
          "start_time": "2021-07-13T08:41:09.368525Z"
        },
        "code_folding": [],
        "id": "4351600e"
      },
      "source": [
        "class bs_model(nn.Module):\n",
        "    def __init__(self,drop_prob:float=0.0,\n",
        "                 drop_prob_fc:float=0.0):\n",
        "        super().__init__()\n",
        "        self.drop_CNN = nn.Dropout(drop_prob)\n",
        "        self.drop_fc = nn.Dropout(drop_prob_fc)\n",
        "        self.mpool = nn.MaxPool2d((2,2))\n",
        "        self.channels = 5\n",
        "        self.fchannel = 3\n",
        "        self.conv1 = self.create_conv(10,self.channels,13)\n",
        "        self.conv2 = self.create_conv(self.channels,self.channels,13)\n",
        "        self.conv3 = self.create_conv(self.channels,self.channels,7)\n",
        "        self.conv4 = self.create_conv(self.channels,self.channels,7)\n",
        "\n",
        "        # 1st Inception block\n",
        "        self.in1 = nn.Sequential(\n",
        "            self.create_conv(self.channels,self.fchannel,1),\n",
        "            self.create_conv(self.fchannel,self.fchannel,3),\n",
        "            self.create_conv(self.fchannel,self.fchannel,3)\n",
        "        )\n",
        "        self.in2 = nn.Sequential(\n",
        "            self.create_conv(self.channels,self.fchannel,1),\n",
        "            self.create_conv(self.fchannel,self.fchannel,3)\n",
        "        )\n",
        "        self.in3 = nn.Sequential(\n",
        "            nn.MaxPool2d((3,3)),\n",
        "            self.create_conv(self.channels,self.fchannel,1)\n",
        "        )\n",
        "        self.in4 = self.create_conv(self.channels,self.fchannel,1)\n",
        "\n",
        "        # Second inception block\n",
        "        self.in5 = nn.Sequential(\n",
        "            self.create_conv(self.fchannel*4,self.fchannel,3),\n",
        "            self.create_conv(self.fchannel,self.fchannel,3)\n",
        "        )\n",
        "        self.in6 = nn.Sequential(\n",
        "            self.create_conv(self.fchannel*4,self.fchannel,3)\n",
        "        )\n",
        "        self.in7 = nn.Sequential(\n",
        "            nn.MaxPool2d((3,3)),\n",
        "            self.create_conv(self.fchannel*4,self.fchannel,1)\n",
        "        )\n",
        "        self.in8 = self.create_conv(self.fchannel*4,self.fchannel,1)\n",
        "\n",
        "        self.conv5 = self.create_conv(self.fchannel*4,self.fchannel*4,7)\n",
        "        self.conv6 = self.create_conv(self.fchannel*4,self.fchannel*4,7)\n",
        "\n",
        "        self.conv7 = self.create_conv(self.fchannel*4,self.fchannel*4,3)\n",
        "        self.conv8 = self.create_conv(self.fchannel*4,self.fchannel*4,3)\n",
        "        \n",
        "        self.flatten = nn.Flatten()\n",
        "\n",
        "        self.lidar_linear = nn.Sequential(\n",
        "                            nn.Linear(2352,256),\n",
        "                            self.drop_fc,\n",
        "                            nn.PReLU(1),\n",
        "                            nn.Linear(256,128),\n",
        "                            self.drop_fc,\n",
        "                            nn.PReLU(1)\n",
        "        )\n",
        "        \n",
        "        self.coord_linear = nn.Sequential(\n",
        "                            nn.Linear(12,8),\n",
        "                            self.drop_fc,\n",
        "                            nn.PReLU(1),\n",
        "                            nn.Linear(8,4),\n",
        "                            self.drop_fc,\n",
        "                            nn.PReLU(1)\n",
        "        )\n",
        "\n",
        "        self.cat_linear = nn.Sequential(\n",
        "                            nn.Linear(132,64),\n",
        "                            nn.PReLU(1),\n",
        "                            self.drop_fc,\n",
        "                            nn.Linear(64,16),\n",
        "                            nn.PReLU(1),\n",
        "                            self.drop_fc,\n",
        "                            nn.Linear(16,3)\n",
        "        )\n",
        "\n",
        "\n",
        "\n",
        "    def forward(self, input):\n",
        "\n",
        "        [X,gps,bs] = input\n",
        "\n",
        "        X  = self.conv1(X)\n",
        "        X  = self.conv2(X)\n",
        "        X = self.mpool(X)\n",
        "\n",
        "        X = self.conv3(X)\n",
        "        X = self.conv4(X)\n",
        "        X = self.mpool(X)\n",
        "\n",
        "        X = self.drop_CNN(X)\n",
        "\n",
        "        a = self.in1(X)\n",
        "        a = F.pad(a,[2,2,2,2])\n",
        "        b = self.in2(X)\n",
        "        b = F.pad(b,[1,1,1,1])\n",
        "        c = self.in3(X)\n",
        "        c = F.pad(c,[16,16,16,16])\n",
        "        d = self.in4(X)\n",
        "\n",
        "        X = torch.cat((a,b,c,d),1)\n",
        "\n",
        "        X = self.drop_CNN(X)\n",
        "\n",
        "        a = self.in5(X)\n",
        "        a = F.pad(a,[2,2,2,2])\n",
        "        b = self.in6(X)\n",
        "        b = F.pad(b,[1,1,1,1])\n",
        "        c = self.in7(X)\n",
        "        c = F.pad(c,[16,16,16,16])\n",
        "        d = self.in8(X)\n",
        "\n",
        "        X = torch.cat((a,b,c,d),1)\n",
        "        X = self.drop_CNN(X)\n",
        "\n",
        "        X = self.conv5(X)\n",
        "        X = self.conv6(X)\n",
        "        X = self.mpool(X)\n",
        "\n",
        "        X = self.drop_CNN(X)\n",
        "\n",
        "        X = self.conv7(X)\n",
        "        X = self.conv8(X)\n",
        "\n",
        "        X = self.flatten(X)\n",
        "        X = self.lidar_linear(X)\n",
        "\n",
        "        coord = torch.cat((gps,bs),dim=1)\n",
        "        coord = self.coord_linear(coord)\n",
        "        \n",
        "        out = torch.cat((X,coord),dim=1)\n",
        "        out = self.cat_linear(out)\n",
        "        return out\n",
        "\n",
        "    def create_conv(self,in_layers:int,out_layers:int,kernel,stride:int=1,\n",
        "                    padding:int=0) -> nn.Module :\n",
        "\n",
        "        return nn.Sequential(\n",
        "            nn.Conv2d(in_layers,out_layers,kernel,stride,padding),\n",
        "            nn.PReLU(out_layers),\n",
        "            nn.BatchNorm2d(out_layers)\n",
        "        )"
      ],
      "id": "4351600e",
      "execution_count": null,
      "outputs": []
    },
    {
      "cell_type": "code",
      "metadata": {
        "ExecuteTime": {
          "end_time": "2021-07-13T08:41:10.110456Z",
          "start_time": "2021-07-13T08:41:10.099444Z"
        },
        "id": "de3ae024"
      },
      "source": [
        "# # For testing model shape and size\n",
        "# model = bs_model()\n",
        "# lidar = torch.Tensor(2,10,240,240)\n",
        "# gps = torch.Tensor(2,3)\n",
        "# BS = torch.Tensor(2,9)\n",
        "# print(sum(p.numel() for p in model.parameters()))\n",
        "# model([lidar,gps,BS])"
      ],
      "id": "de3ae024",
      "execution_count": null,
      "outputs": []
    },
    {
      "cell_type": "markdown",
      "metadata": {
        "id": "cf2b02ed"
      },
      "source": [
        "# Training\n",
        "Using pytorch lightning"
      ],
      "id": "cf2b02ed"
    },
    {
      "cell_type": "markdown",
      "metadata": {
        "id": "A69R3iQOLUYp"
      },
      "source": [
        "## GPS"
      ],
      "id": "A69R3iQOLUYp"
    },
    {
      "cell_type": "markdown",
      "metadata": {
        "id": "e306Rac6LWq6"
      },
      "source": [
        "### Lightning class"
      ],
      "id": "e306Rac6LWq6"
    },
    {
      "cell_type": "code",
      "metadata": {
        "id": "A4HPbeF6LWbZ"
      },
      "source": [
        "class gps_trainer(pl.LightningModule):\n",
        "    def __init__(self,learning_rate = 1e-3):\n",
        "        super().__init__()\n",
        "        self.model = gps_bs_sel()\n",
        "        self.celoss = nn.CrossEntropyLoss()\n",
        "        self.lr = learning_rate\n",
        "    \n",
        "    def forward(self,gps,BS):\n",
        "        out = self.model(gps,BS)\n",
        "        return out\n",
        "    \n",
        "    def training_step(self,batch,batch_idx):\n",
        "        gps = batch['gps'].float()\n",
        "        BS = batch['BS'].float()\n",
        "        label = batch['label'].long()\n",
        "        \n",
        "        yhat = self(gps,BS)\n",
        "        \n",
        "        loss = self.celoss(yhat,label)\n",
        "        \n",
        "        self.log('my_loss',loss)\n",
        "        \n",
        "        return {'loss':loss,'pred':yhat.cpu().detach(),'label':label.cpu().detach()}\n",
        "    \n",
        "    def configure_optimizers(self):\n",
        "        opt = torch.optim.Adam(self.parameters(),self.lr)\n",
        "        return opt\n",
        "    \n",
        "    def training_epoch_end(self,train_out):        \n",
        "        len_out = len(train_out)\n",
        "        y_pred = torch.Tensor(len_out*BATCH_SIZE,num_BS)\n",
        "        y_true = torch.Tensor(len_out*BATCH_SIZE)\n",
        "\n",
        "        for i in range(0,len_out):\n",
        "            y_pred[i*BATCH_SIZE:(i+1)*BATCH_SIZE,:] = train_out[i]['pred'] \n",
        "            y_true[i*BATCH_SIZE:(i+1)*BATCH_SIZE] = train_out[i]['label']\n",
        "\n",
        "        top1 = top_k_acc(y_true,y_pred,k=1)\n",
        "\n",
        "        print(f'Train accuracies is {top1}')\n",
        "\n",
        "    def validation_step(self,batch,batch_idx):\n",
        "        gps = batch['gps'].float()\n",
        "        BS = batch['BS'].float()\n",
        "        label = batch['label'].long()\n",
        "        \n",
        "        yhat = self.forward(gps,BS)\n",
        "        \n",
        "        return [yhat.cpu().detach(),label.cpu().detach()]\n",
        "     \n",
        "    def validation_epoch_end(self,val_out):\n",
        "        len_out = len(val_out)\n",
        "        y_pred = torch.Tensor(len_out*BATCH_SIZE,num_BS)\n",
        "        y_true = torch.Tensor(len_out*BATCH_SIZE)\n",
        "\n",
        "        for i in range(0,len_out):\n",
        "            y_pred[i*BATCH_SIZE:(i+1)*BATCH_SIZE,:] = val_out[i][0] \n",
        "            y_true[i*BATCH_SIZE:(i+1)*BATCH_SIZE] = val_out[i][1] \n",
        "\n",
        "        top1 = top_k_acc(y_true,y_pred,k=1)\n",
        "        print(f'Validation accuracy is {top1}')\n",
        "    \n",
        "    def test_step(self,batch,batch_idx):\n",
        "        gps = batch['gps'].float()\n",
        "        BS = batch['BS'].float()\n",
        "        label = batch['label'].long()\n",
        "        \n",
        "        yhat = self.forward(gps,BS)\n",
        "        \n",
        "        return [yhat.cpu().detach(),label.cpu().detach()]\n",
        "     \n",
        "    def test_epoch_end(self,val_out):\n",
        "        len_out = len(val_out)\n",
        "        y_pred = torch.Tensor(len_out*BATCH_SIZE,num_BS)\n",
        "        y_true = torch.Tensor(len_out*BATCH_SIZE)\n",
        "\n",
        "        for i in range(0,len_out):\n",
        "            y_pred[i*BATCH_SIZE:(i+1)*BATCH_SIZE,:] = val_out[i][0] \n",
        "            y_true[i*BATCH_SIZE:(i+1)*BATCH_SIZE] = val_out[i][1] \n",
        "\n",
        "        top1 = top_k_acc(y_true,y_pred,k=1)\n",
        "        print(f'Test accuracy is {top1}')"
      ],
      "id": "A4HPbeF6LWbZ",
      "execution_count": null,
      "outputs": []
    },
    {
      "cell_type": "markdown",
      "metadata": {
        "id": "nCkvA7iiLtD4"
      },
      "source": [
        "### Class object and trainer"
      ],
      "id": "nCkvA7iiLtD4"
    },
    {
      "cell_type": "code",
      "metadata": {
        "id": "q6pXIFsYLwZV"
      },
      "source": [
        "gps_model = gps_trainer()"
      ],
      "id": "q6pXIFsYLwZV",
      "execution_count": null,
      "outputs": []
    },
    {
      "cell_type": "code",
      "metadata": {
        "id": "ZL8H8cTQQl4V"
      },
      "source": [
        "gps_pl_trainer = pl.Trainer(\n",
        "                    gpus=1,\n",
        "                    max_epochs = 10,\n",
        "                    auto_lr_find = False\n",
        "                     )"
      ],
      "id": "ZL8H8cTQQl4V",
      "execution_count": null,
      "outputs": []
    },
    {
      "cell_type": "code",
      "metadata": {
        "id": "Js-yTthzL6uj"
      },
      "source": [
        "gps_pl_trainer.fit(gps_model,train_loader,val_loader)\n",
        "gps_pl_trainer.test(gps_model,test_loader)"
      ],
      "id": "Js-yTthzL6uj",
      "execution_count": null,
      "outputs": []
    },
    {
      "cell_type": "markdown",
      "metadata": {
        "id": "eNCCwtgSa_NY"
      },
      "source": [
        "## Lidar"
      ],
      "id": "eNCCwtgSa_NY"
    },
    {
      "cell_type": "markdown",
      "metadata": {
        "id": "Xz_yhoLabBgk"
      },
      "source": [
        "### Lightning Class"
      ],
      "id": "Xz_yhoLabBgk"
    },
    {
      "cell_type": "code",
      "metadata": {
        "id": "GSfuEe5obJrB"
      },
      "source": [
        "class lidar_trainer(pl.LightningModule):\n",
        "    def __init__(self,use_model:str,\n",
        "                 drop_prob:float = 0.3,\n",
        "                 drop_prob_fc:float = 0.2,\n",
        "                 learning_rate:float = 1e-3,\n",
        "                 weight_decay:float = 0.0):\n",
        "        \n",
        "        '''\n",
        "        use_model = 'NU','imp'\n",
        "        '''\n",
        "\n",
        "        self.drp = drop_prob\n",
        "        self.drp_fc = drop_prob_fc\n",
        "\n",
        "        super().__init__()\n",
        "        if use_model == 'NU':\n",
        "            self.model = NU(drp=drop_prob,drp_fc = drop_prob_fc)\n",
        "        elif use_model == 'imp':\n",
        "            self.model = imp_lidar(drp=drop_prob,drp_fc = drop_prob_fc)\n",
        "        elif use_model == 'm1':\n",
        "            self.model = m1(drp=drop_prob,drp_fc = drop_prob_fc)\n",
        "        elif use_model == 'incp':\n",
        "            self.model = incp(drp=drop_prob,drp_fc = drop_prob_fc)\n",
        "\n",
        "        self.celoss = nn.CrossEntropyLoss()\n",
        "        self.lr = learning_rate\n",
        "        self.wd = weight_decay\n",
        "\n",
        "        self.train_acc = 0\n",
        "        self.val_acc = 0\n",
        "        self.test_acc = 0\n",
        "\n",
        "        self.example_input_array = torch.rand(1,10,240,240) # For logging graph\n",
        "    \n",
        "    def forward(self,lidar):\n",
        "        out = self.model(lidar)\n",
        "        return out\n",
        "    \n",
        "    def training_step(self,batch,batch_idx):\n",
        "        lidar = batch['lidar'].float()\n",
        "        label = batch['label'].long()\n",
        "        \n",
        "        yhat = self(lidar)\n",
        "        \n",
        "        loss = self.celoss(yhat,label)\n",
        "        \n",
        "        self.log('Train Loss',loss)\n",
        "        \n",
        "        return {'loss':loss,'pred':yhat.cpu().detach(),'label':label.cpu().detach()}\n",
        "    \n",
        "    def configure_optimizers(self):\n",
        "        opt = torch.optim.Adam(self.parameters(),self.lr,\n",
        "                               weight_decay=self.wd)\n",
        "        return opt\n",
        "    \n",
        "    def training_epoch_end(self,train_out):        \n",
        "        len_out = len(train_out)\n",
        "        y_pred = torch.Tensor(len_out*BATCH_SIZE,num_BS)\n",
        "        y_true = torch.Tensor(len_out*BATCH_SIZE)\n",
        "\n",
        "        for i in range(0,len_out):\n",
        "            y_pred[i*BATCH_SIZE:(i+1)*BATCH_SIZE,:] = train_out[i]['pred'] \n",
        "            y_true[i*BATCH_SIZE:(i+1)*BATCH_SIZE] = train_out[i]['label']\n",
        "\n",
        "        top1 = top_k_acc(y_true,y_pred,k=1)\n",
        "\n",
        "        # Calculating Avg loss\n",
        "        avg_loss = torch.stack([x['loss'] for x in train_out]).mean()\n",
        "        \n",
        "        self.logger.experiment.add_scalar('Loss-Train per epoch',avg_loss,self.current_epoch)\n",
        "        self.logger.experiment.add_scalar('Train Accuracy',top1,self.current_epoch)\n",
        "\n",
        "        self.train_acc = top1\n",
        "        \n",
        "        print(f'Train accuracies is {top1}')\n",
        "\n",
        "    def validation_step(self,batch,batch_idx):\n",
        "        lidar = batch['lidar'].float()\n",
        "        label = batch['label'].long()\n",
        "        \n",
        "        yhat = self.forward(lidar)\n",
        "        \n",
        "        return [yhat.cpu().detach(),label.cpu().detach()]\n",
        "     \n",
        "    def validation_epoch_end(self,val_out):\n",
        "        len_out = len(val_out)\n",
        "        y_pred = torch.Tensor(len_out*BATCH_SIZE,num_BS)\n",
        "        y_true = torch.Tensor(len_out*BATCH_SIZE)\n",
        "\n",
        "        for i in range(0,len_out):\n",
        "            y_pred[i*BATCH_SIZE:(i+1)*BATCH_SIZE,:] = val_out[i][0] \n",
        "            y_true[i*BATCH_SIZE:(i+1)*BATCH_SIZE] = val_out[i][1] \n",
        "\n",
        "        top1 = top_k_acc(y_true,y_pred,k=1)\n",
        "        self.val_acc = top1\n",
        "\n",
        "        self.logger.experiment.add_scalar('Validation Accuracy',top1,self.current_epoch)\n",
        "\n",
        "        print(f'Validation accuracy is {top1}')\n",
        "    \n",
        "    def test_step(self,batch,batch_idx):\n",
        "        lidar = batch['lidar'].float()\n",
        "        label = batch['label'].long()\n",
        "        \n",
        "        yhat = self.forward(lidar)\n",
        "        \n",
        "        return [yhat.cpu().detach(),label.cpu().detach()]\n",
        "     \n",
        "    def test_epoch_end(self,val_out):\n",
        "        len_out = len(val_out)\n",
        "        y_pred = torch.Tensor(len_out*BATCH_SIZE,num_BS)\n",
        "        y_true = torch.Tensor(len_out*BATCH_SIZE)\n",
        "\n",
        "        for i in range(0,len_out):\n",
        "            y_pred[i*BATCH_SIZE:(i+1)*BATCH_SIZE,:] = val_out[i][0] \n",
        "            y_true[i*BATCH_SIZE:(i+1)*BATCH_SIZE] = val_out[i][1] \n",
        "\n",
        "        top1 = top_k_acc(y_true,y_pred,k=1)\n",
        "        self.test_acc = top1\n",
        "\n",
        "        self.logger.experiment.add_hparams(\n",
        "            {\n",
        "                'LR' : self.lr,\n",
        "                'weight_decay' : self.wd,\n",
        "                'drop_prob' : self.drp,\n",
        "                'drop_fc' : self.drp_fc,\n",
        "                'overall params' : sum(p.numel() for p in self.model.parameters())\n",
        "            },\n",
        "            {\n",
        "                'hparam/test_acc' : self.test_acc,\n",
        "                'hparam/train_acc' : self.train_acc,\n",
        "                'hparam/val_acc' : self.val_acc\n",
        "            }\n",
        "        )\n",
        "        print(f'Test accuracy is {top1}')"
      ],
      "id": "GSfuEe5obJrB",
      "execution_count": null,
      "outputs": []
    },
    {
      "cell_type": "markdown",
      "metadata": {
        "id": "ASE2VbKTbe68"
      },
      "source": [
        "### Class object and trainer"
      ],
      "id": "ASE2VbKTbe68"
    },
    {
      "cell_type": "code",
      "metadata": {
        "id": "OEZ89UfTbhUA"
      },
      "source": [
        "lidar_model = lidar_trainer(use_model='incp',drop_prob=0.0,drop_prob_fc=0.0,weight_decay=1e-4)"
      ],
      "id": "OEZ89UfTbhUA",
      "execution_count": null,
      "outputs": []
    },
    {
      "cell_type": "code",
      "metadata": {
        "id": "iOoWYJqrboHm"
      },
      "source": [
        "logger = TensorBoardLogger(\"tb_logs\", name=\"inception\",log_graph=True,default_hp_metric=False)\n",
        "lidar_pl_trainer = pl.Trainer(\n",
        "                     gpus=1,\n",
        "                     max_epochs = 5,\n",
        "                     precision = 16,\n",
        "                     logger = logger,\n",
        "                     amp_backend = 'native',\n",
        "                     auto_lr_find = True\n",
        "                     )"
      ],
      "id": "iOoWYJqrboHm",
      "execution_count": null,
      "outputs": []
    },
    {
      "cell_type": "code",
      "metadata": {
        "id": "rJvSs2VVbu2s"
      },
      "source": [
        "# lidar_pl_trainer.tune(lidar_model,train_loader,val_loader)\n",
        "lidar_pl_trainer.fit(lidar_model,train_loader,val_loader)\n",
        "lidar_pl_trainer.test(lidar_model,test_loader)"
      ],
      "id": "rJvSs2VVbu2s",
      "execution_count": null,
      "outputs": []
    },
    {
      "cell_type": "markdown",
      "metadata": {
        "id": "iqTth-rubb7L"
      },
      "source": [
        "## Lidar + GPS"
      ],
      "id": "iqTth-rubb7L"
    },
    {
      "cell_type": "markdown",
      "metadata": {
        "id": "cMmwc1_VLP3K"
      },
      "source": [
        "### Lightning Class"
      ],
      "id": "cMmwc1_VLP3K"
    },
    {
      "cell_type": "code",
      "metadata": {
        "ExecuteTime": {
          "end_time": "2021-07-13T08:33:52.345097Z",
          "start_time": "2021-07-13T08:33:52.197899Z"
        },
        "code_folding": [],
        "id": "c4697e59"
      },
      "source": [
        "class BS_trainer(pl.LightningModule):\n",
        "    def __init__(self,drop_prob:float = 0.3,\n",
        "                 drop_prob_fc:float = 0.2,\n",
        "                 learning_rate:float = 1e-3,\n",
        "                 weight_decay:float = 0.0):\n",
        "        \n",
        "        super().__init__()\n",
        "\n",
        "        self.drp = drop_prob\n",
        "        self.drp_fc = drop_prob_fc\n",
        "        self.lr = learning_rate\n",
        "        self.wd = weight_decay\n",
        "\n",
        "        self.model = bs_model(self.drp,self.drp_fc)\n",
        "        self.celoss = nn.CrossEntropyLoss()\n",
        "\n",
        "        self.train_acc = 0\n",
        "        self.val_acc = 0\n",
        "        self.test_acc = 0\n",
        "\n",
        "        self.example_input_array = [torch.rand(1,10,240,240),torch.rand(1,3),torch.rand(1,9)] # For logging graph\n",
        "    \n",
        "    def forward(self,lidar,gps,BS):\n",
        "        out = self.model([lidar,gps,BS])\n",
        "        return out\n",
        "    \n",
        "    def training_step(self,batch,batch_idx):\n",
        "        lidar = batch['lidar'].float()\n",
        "        gps = batch['gps'].float()\n",
        "        BS = batch['BS'].float()\n",
        "        label = batch['label'].long()\n",
        "        \n",
        "        yhat = self(lidar,gps,BS)\n",
        "        \n",
        "        loss = self.celoss(yhat,label)\n",
        "        \n",
        "        self.log('Train Loss',loss)\n",
        "        \n",
        "        return {'loss':loss,'pred':yhat.cpu().detach(),'label':label.cpu().detach()}\n",
        "    \n",
        "    def configure_optimizers(self):\n",
        "        opt = torch.optim.Adam(self.parameters(),self.lr,weight_decay=self.wd)\n",
        "        return opt\n",
        "    \n",
        "    def training_epoch_end(self,train_out):        \n",
        "        len_out = len(train_out)\n",
        "        y_pred = torch.Tensor(len_out*BATCH_SIZE,num_BS)\n",
        "        y_true = torch.Tensor(len_out*BATCH_SIZE)\n",
        "\n",
        "        for i in range(0,len_out):\n",
        "            y_pred[i*BATCH_SIZE:(i+1)*BATCH_SIZE,:] = train_out[i]['pred'] \n",
        "            y_true[i*BATCH_SIZE:(i+1)*BATCH_SIZE] = train_out[i]['label']\n",
        "\n",
        "        # Calculating Avg loss\n",
        "        avg_loss = torch.stack([x['loss'] for x in train_out]).mean()\n",
        "\n",
        "        top1 = top_k_acc(y_true,y_pred,k=1)\n",
        "        self.train_acc = top1\n",
        "\n",
        "        self.logger.experiment.add_scalar('Loss-Train per epoch',avg_loss,self.current_epoch)\n",
        "        self.logger.experiment.add_scalar('Train Accuracy',top1,self.current_epoch)\n",
        "\n",
        "        print(f'Train accuracies is {top1}')\n",
        "\n",
        "    def validation_step(self,batch,batch_idx):\n",
        "        lidar = batch['lidar'].float()\n",
        "        gps = batch['gps'].float()\n",
        "        BS = batch['BS'].float()\n",
        "        label = batch['label'].long()\n",
        "        \n",
        "        yhat = self.forward(lidar,gps,BS)\n",
        "        \n",
        "        return [yhat.cpu().detach(),label.cpu().detach()]\n",
        "     \n",
        "    def validation_epoch_end(self,val_out):\n",
        "        len_out = len(val_out)\n",
        "        y_pred = torch.Tensor(len_out*BATCH_SIZE,num_BS)\n",
        "        y_true = torch.Tensor(len_out*BATCH_SIZE)\n",
        "\n",
        "        for i in range(0,len_out):\n",
        "            y_pred[i*BATCH_SIZE:(i+1)*BATCH_SIZE,:] = val_out[i][0] \n",
        "            y_true[i*BATCH_SIZE:(i+1)*BATCH_SIZE] = val_out[i][1] \n",
        "\n",
        "        top1 = top_k_acc(y_true,y_pred,k=1)\n",
        "        self.val_acc = top1\n",
        "\n",
        "        self.logger.experiment.add_scalar('Validation Accuracy',top1,self.current_epoch)\n",
        "        print(f'Validation accuracy is {top1}')\n",
        "    \n",
        "    def test_step(self,batch,batch_idx):\n",
        "        lidar = batch['lidar'].float()\n",
        "        gps = batch['gps'].float()\n",
        "        BS = batch['BS'].float()\n",
        "        label = batch['label'].long()\n",
        "        \n",
        "        yhat = self.forward(lidar,gps,BS)\n",
        "        \n",
        "        return [yhat.cpu().detach(),label.cpu().detach()]\n",
        "     \n",
        "    def test_epoch_end(self,val_out):\n",
        "        len_out = len(val_out)\n",
        "        y_pred = torch.Tensor(len_out*BATCH_SIZE,num_BS)\n",
        "        y_true = torch.Tensor(len_out*BATCH_SIZE)\n",
        "\n",
        "        for i in range(0,len_out):\n",
        "            y_pred[i*BATCH_SIZE:(i+1)*BATCH_SIZE,:] = val_out[i][0] \n",
        "            y_true[i*BATCH_SIZE:(i+1)*BATCH_SIZE] = val_out[i][1] \n",
        "\n",
        "        top1 = top_k_acc(y_true,y_pred,k=1)\n",
        "        self.test_acc = top1\n",
        "\n",
        "        self.logger.experiment.add_hparams(\n",
        "            {\n",
        "                'LR' : self.lr,\n",
        "                'weight_decay' : self.wd,\n",
        "                'drop_prob' : self.drp,\n",
        "                'drop_fc' : self.drp_fc,\n",
        "                'overall params' : sum(p.numel() for p in self.model.parameters())\n",
        "            },\n",
        "            {\n",
        "                'hparam/test_acc' : self.test_acc,\n",
        "                'hparam/train_acc' : self.train_acc,\n",
        "                'hparam/val_acc' : self.val_acc\n",
        "            }\n",
        "        )\n",
        "        print(f'Test accuracy is {top1}')"
      ],
      "id": "c4697e59",
      "execution_count": null,
      "outputs": []
    },
    {
      "cell_type": "markdown",
      "metadata": {
        "id": "fNXmev1Nblh-"
      },
      "source": [
        "### Class object and trainer "
      ],
      "id": "fNXmev1Nblh-"
    },
    {
      "cell_type": "code",
      "metadata": {
        "ExecuteTime": {
          "end_time": "2021-07-13T08:33:52.500114Z",
          "start_time": "2021-07-13T08:33:52.347512Z"
        },
        "id": "0c4c1fc6"
      },
      "source": [
        "model = BS_trainer(drop_prob=0.0,drop_prob_fc=0.0,weight_decay=0)"
      ],
      "id": "0c4c1fc6",
      "execution_count": null,
      "outputs": []
    },
    {
      "cell_type": "code",
      "metadata": {
        "id": "2uAT5bMFQrZm"
      },
      "source": [
        "logger = TensorBoardLogger(\"tb_logs\", name=\"lidar_gps\",log_graph=True,default_hp_metric=False)\n",
        "lidar_gps_pl_trainer =  pl.Trainer(\n",
        "                     gpus=1,\n",
        "                     max_epochs = 5,\n",
        "                     precision = 16,\n",
        "                     logger = logger,\n",
        "                     amp_backend = 'native',\n",
        "                     auto_lr_find = True\n",
        "                     )"
      ],
      "id": "2uAT5bMFQrZm",
      "execution_count": null,
      "outputs": []
    },
    {
      "cell_type": "code",
      "metadata": {
        "ExecuteTime": {
          "end_time": "2021-07-13T08:33:59.873961Z",
          "start_time": "2021-07-13T08:33:52.593242Z"
        },
        "id": "4c00370e"
      },
      "source": [
        "lidar_gps_pl_trainer.fit(model,train_loader,val_loader)\n",
        "lidar_gps_pl_trainer.test(model,test_loader)"
      ],
      "id": "4c00370e",
      "execution_count": null,
      "outputs": []
    },
    {
      "cell_type": "code",
      "metadata": {
        "id": "cxQbArwZxAQv"
      },
      "source": [
        "!zip -r tb_logs.zip tb_logs"
      ],
      "id": "cxQbArwZxAQv",
      "execution_count": null,
      "outputs": []
    },
    {
      "cell_type": "code",
      "metadata": {
        "id": "E2liEIfz8c_i"
      },
      "source": [
        "%tensorboard --logdir tb_logs/lidar_gps"
      ],
      "id": "E2liEIfz8c_i",
      "execution_count": null,
      "outputs": []
    },
    {
      "cell_type": "markdown",
      "metadata": {
        "id": "q7WZoEH1dBeI"
      },
      "source": [
        "# Accuracy based on distance"
      ],
      "id": "q7WZoEH1dBeI"
    },
    {
      "cell_type": "code",
      "metadata": {
        "id": "fRjN5zb3dohW"
      },
      "source": [
        "def dist_gps(gps1, gps2):\n",
        "    lat1, lon1, _ = gps1\n",
        "    lat2, lon2, _ = gps2\n",
        "    R = 6371000  # radius of Earth in meters\n",
        "    phi_1 = math.radians(lat1)\n",
        "    phi_2 = math.radians(lat2)\n",
        "\n",
        "    delta_phi = math.radians(lat2 - lat1)\n",
        "    delta_lambda = math.radians(lon2 - lon1)\n",
        "\n",
        "    a = math.sin(delta_phi / 2.0) ** 2 + \\\n",
        "        math.cos(phi_1) * math.cos(phi_2) * \\\n",
        "        math.sin(delta_lambda / 2.0) ** 2\n",
        "    c = 2 * math.atan2(math.sqrt(a), math.sqrt(1 - a))\n",
        "    return R * c\n"
      ],
      "id": "fRjN5zb3dohW",
      "execution_count": null,
      "outputs": []
    },
    {
      "cell_type": "code",
      "metadata": {
        "id": "1N8pCX69dGTj"
      },
      "source": [
        "y_pred = list()\n",
        "pos = 0\n",
        "ovr = 0 \n",
        "for i in range(0,len_train):\n",
        "    data = train_dataset[i]\n",
        "    dist1 = dist_gps(data['gps'],data['BS'][:3])\n",
        "    dist2 = dist_gps(data['gps'],data['BS'][3:6])\n",
        "    dist3 = dist_gps(data['gps'],data['BS'][6:9])\n",
        "\n",
        "    # print(dist1,dist2,dist3)\n",
        "    \n",
        "    index = np.argmax(np.array([dist1,dist2,dist3]))\n",
        "\n",
        "    # print(index,data['label'])\n",
        "\n",
        "    if index == data['label']:\n",
        "        pos+=1\n",
        "    ovr+=1\n",
        "    # if((i+1)%10==0):\n",
        "    #     break\n",
        "print(f'Accuracy based on shortest distance on train is {pos/ovr}')"
      ],
      "id": "1N8pCX69dGTj",
      "execution_count": null,
      "outputs": []
    },
    {
      "cell_type": "code",
      "metadata": {
        "id": "33ztpB5Sq2_5"
      },
      "source": [
        "y_pred = list()\n",
        "pos = 0\n",
        "ovr = 0 \n",
        "for i in range(0,len_val):\n",
        "    data = val_dataset[i]\n",
        "    dist1 = dist_gps(data['gps'],data['BS'][:3])\n",
        "    dist2 = dist_gps(data['gps'],data['BS'][3:6])\n",
        "    dist3 = dist_gps(data['gps'],data['BS'][6:9])\n",
        "\n",
        "    # print(dist1,dist2,dist3)\n",
        "    \n",
        "    index = np.argmax(np.array([dist1,dist2,dist3]))\n",
        "\n",
        "    # print(index,data['label'])\n",
        "\n",
        "    if index == data['label']:\n",
        "        pos+=1\n",
        "    ovr+=1\n",
        "    # if((i+1)%10==0):\n",
        "    #     break\n",
        "print(f'Accuracy based on shortest distance on val is {pos/ovr}')"
      ],
      "id": "33ztpB5Sq2_5",
      "execution_count": null,
      "outputs": []
    },
    {
      "cell_type": "markdown",
      "metadata": {
        "id": "Te3g0jxn172s"
      },
      "source": [
        "# Federated Learning \n",
        "Without retraining on baseline data on global server [link](https://towardsdatascience.com/preserving-data-privacy-in-deep-learning-part-3-ae2103c40c22)"
      ],
      "id": "Te3g0jxn172s"
    },
    {
      "cell_type": "markdown",
      "metadata": {
        "id": "_cLhZefzH5v0"
      },
      "source": [
        "## Hyper-params (For federated)"
      ],
      "id": "_cLhZefzH5v0"
    },
    {
      "cell_type": "code",
      "metadata": {
        "id": "SVCKeIozH4V-"
      },
      "source": [
        "epoch_round = 1 # Number of epochs per dataset\n",
        "cm_rounds = 10 #Overall communication round\n",
        "\n",
        "# Available option : 'mean','wmean'\n",
        "agg = 'wmean' \n",
        "# Possible model_type: 'lg' : lidar + GPS,'l' : lidar,'g' : Gps \n",
        "model_type = 'lg'"
      ],
      "id": "SVCKeIozH4V-",
      "execution_count": null,
      "outputs": []
    },
    {
      "cell_type": "markdown",
      "metadata": {
        "id": "HsRIjhpMDn7z"
      },
      "source": [
        "## Parameters"
      ],
      "id": "HsRIjhpMDn7z"
    },
    {
      "cell_type": "markdown",
      "metadata": {
        "id": "JDNARufn8wKG"
      },
      "source": [
        " Calculating number of cars"
      ],
      "id": "JDNARufn8wKG"
    },
    {
      "cell_type": "code",
      "metadata": {
        "id": "U0AHoDC319NI"
      },
      "source": [
        "cars = 0\n",
        "car_list = list()\n",
        "car_sample = dict()\n",
        "for i in range(0,len_train):\n",
        "    data = io.loadmat(train_cpath+'/'+str(i)+'.mat')\n",
        "    if not(data['car_name'][0] in car_list):\n",
        "        cars+=1\n",
        "        car_list.append(data['car_name'][0])\n",
        "        car_sample[int(data['car_name'][0][-2:])] = list()\n",
        "    car_sample[int(data['car_name'][0][-2:])].append(i)"
      ],
      "id": "U0AHoDC319NI",
      "execution_count": null,
      "outputs": []
    },
    {
      "cell_type": "markdown",
      "metadata": {
        "id": "wth6gWIsBis2"
      },
      "source": [
        "Plotting number of samples per car"
      ],
      "id": "wth6gWIsBis2"
    },
    {
      "cell_type": "code",
      "metadata": {
        "id": "zeDn_77H-Xhj"
      },
      "source": [
        "plt.rcParams['figure.figsize'] = [18, 6]\n",
        "plt.rcParams['figure.dpi'] = 100 \n",
        "len_car = [len(car_sample[i]) for i in range(0,cars)]\n",
        "plt.bar(range(0,cars),len_car)"
      ],
      "id": "zeDn_77H-Xhj",
      "execution_count": null,
      "outputs": []
    },
    {
      "cell_type": "markdown",
      "metadata": {
        "id": "cmKDfoy8DqmD"
      },
      "source": [
        "## Creating Dataset and Dataloaders"
      ],
      "id": "cmKDfoy8DqmD"
    },
    {
      "cell_type": "markdown",
      "metadata": {
        "id": "2ONmrG7kE-6v"
      },
      "source": [
        "### Dataset"
      ],
      "id": "2ONmrG7kE-6v"
    },
    {
      "cell_type": "code",
      "metadata": {
        "id": "5mm8nXqyEKBc"
      },
      "source": [
        "cl_dataset = list()\n",
        "\n",
        "for i in range(0,cars):\n",
        "    tmp = bs_dataset(train_lpath,train_cpath,train_label_path,len_car[i],car_sample[i],BS)\n",
        "    cl_dataset.append(tmp)"
      ],
      "id": "5mm8nXqyEKBc",
      "execution_count": null,
      "outputs": []
    },
    {
      "cell_type": "markdown",
      "metadata": {
        "id": "2h7szBfvGENn"
      },
      "source": [
        "### Dataloader"
      ],
      "id": "2h7szBfvGENn"
    },
    {
      "cell_type": "code",
      "metadata": {
        "id": "Sc6xX0sPGJMX"
      },
      "source": [
        "cl_loader = list()\n",
        "\n",
        "for i in range(0,cars):\n",
        "    tmp = DataLoader(\n",
        "        cl_dataset[i],\n",
        "        batch_size=BATCH_SIZE,\n",
        "        pin_memory=True,\n",
        "        num_workers = n_worker,\n",
        "        drop_last = True,\n",
        "        shuffle = True\n",
        "        )\n",
        "    cl_loader.append(tmp)"
      ],
      "id": "Sc6xX0sPGJMX",
      "execution_count": null,
      "outputs": []
    },
    {
      "cell_type": "markdown",
      "metadata": {
        "id": "XFa2pG2PJifT"
      },
      "source": [
        "## Model"
      ],
      "id": "XFa2pG2PJifT"
    },
    {
      "cell_type": "markdown",
      "metadata": {
        "id": "bcA64nA1Jna2"
      },
      "source": [
        "### Client update"
      ],
      "id": "bcA64nA1Jna2"
    },
    {
      "cell_type": "code",
      "metadata": {
        "id": "LrVSNRFmIZ1G"
      },
      "source": [
        "class client():\n",
        "    \n",
        "    '''\n",
        "    Currently using standard trainer to train the model \n",
        "    '''\n",
        "    def __init__(self,model:nn.Module,\n",
        "                loader:DataLoader,\n",
        "                epoch:int = epoch_round,\n",
        "                model_type:str=model_type,\n",
        "                lr=1e-3):\n",
        "    \n",
        "        self.model = model.to(device)\n",
        "        self.loader = loader\n",
        "        self.epoch = epoch\n",
        "        self.model_type = model_type\n",
        "\n",
        "        self.lr = lr\n",
        "        self.celoss = nn.CrossEntropyLoss()\n",
        "        self.opt = torch.optim.Adam(model.parameters(),self.lr)\n",
        "        self.start = time.time()\n",
        "\n",
        "    def train(self):\n",
        "\n",
        "        self.model.train()\n",
        "        self.model.zero_grad()\n",
        "\n",
        "        for i in range(0,self.epoch):\n",
        "\n",
        "            # print('-'*10+f' Starting Epoch {i+1} '+'-'*10)\n",
        "            \n",
        "            running_loss = 0.0\n",
        "            running_acc = 0.000\n",
        "            \n",
        "            for count,batch in enumerate(self.loader):\n",
        "\n",
        "                self.opt.zero_grad()\n",
        "\n",
        "                lidar = batch['lidar'].float().to(device)\n",
        "                gps = batch['gps'].float().to(device)\n",
        "                BS = batch['BS'].float().to(device)\n",
        "                label = batch['label'].long().to(device)\n",
        "\n",
        "                if self.model_type == 'lg':\n",
        "                    yhat = self.model(lidar,gps,BS)\n",
        "                elif self.model_type == 'l':\n",
        "                    yhat = self.model(lidar)\n",
        "                else:\n",
        "                    yhat = self.model(gps,BS)\n",
        "                \n",
        "                loss = self.celoss(yhat,label)\n",
        "                running_loss +=loss.item()\n",
        "                \n",
        "                loss.backward()\n",
        "                self.opt.step()\n",
        "\n",
        "                top1 = top_k_acc(label.cpu().detach(),yhat.cpu().detach(),k=1)\n",
        "                running_acc = (running_acc*(count)*BATCH_SIZE + top1*BATCH_SIZE)/ ((count+1)*BATCH_SIZE)\n",
        "\n",
        "                # if count%1000 == 0 :\n",
        "                #     print(f'Cross Entropy loss after {count} iterations is {running_loss/((count+1)*BATCH_SIZE)}. '\\\n",
        "                #           f'Time Elapsed {time.time()-self.start}')\n",
        "                #     print(f'Accuracy on train after {count} iteration is {running_acc}')\n",
        "            \n",
        "            # print(f'Overall iteration completed {count}') #304\n",
        "            # print('-'*10+f' Epoch {i+1} ends '+'-'*10)\n",
        "            print(f'Cross Entropy loss after {i+1} epochs is {running_loss/((count+1)*BATCH_SIZE)}'\\\n",
        "                  f'Time Elapsed {time.time()-self.start}')\n",
        "            print(f'Accuracy on train after {i+1} epochs is {running_acc}')"
      ],
      "id": "LrVSNRFmIZ1G",
      "execution_count": null,
      "outputs": []
    },
    {
      "cell_type": "markdown",
      "metadata": {
        "id": "F-UWHfWEWeq4"
      },
      "source": [
        "### Global Server"
      ],
      "id": "F-UWHfWEWeq4"
    },
    {
      "cell_type": "code",
      "metadata": {
        "id": "GhPb9Uc5Rnxc"
      },
      "source": [
        "class fed_server():\n",
        "    def __init__(self,cars:int,cl_dataset,cl_loader,agg:str=agg,\n",
        "                model_type:str=model_type,ovr_sample:int=len_train,\n",
        "                val_loader:DataLoader=val_loader,\n",
        "                train_loader:DataLoader=train_loader):\n",
        "        \n",
        "        self.cars = cars\n",
        "        self.dataset = cl_dataset\n",
        "        self.loader = cl_loader\n",
        "        self.agg = agg\n",
        "        self.model_type = model_type\n",
        "        self.ovr_sample = ovr_sample\n",
        "        self.train_loader = train_loader\n",
        "        self.val_loader = val_loader\n",
        "\n",
        "        self.create_model() #Global Model\n",
        "    \n",
        "    def create_model(self):\n",
        "        if self.model_type == 'lg':\n",
        "            self.model = bs_model().to(device)\n",
        "        elif self.model_type == 'l':\n",
        "            self.model = lidar_bs_sel().to(device)\n",
        "        else:\n",
        "            self.model = gps_bs_sel().to(device)\n",
        "    \n",
        "    def per_round(self,epoch):\n",
        "\n",
        "        #Synchronizing client model with global model at start of each round\n",
        "        cl_model = [self.model for i in range(0,self.cars)]\n",
        "        for cmodel in cl_model:\n",
        "            cmodel.load_state_dict(self.model.state_dict())\n",
        "\n",
        "\n",
        "        # Training Client Model\n",
        "        for i in range(0,self.cars):\n",
        "            print('*'*3+f' Starting Client {i} ' +'*'*3)\n",
        "            \n",
        "            if not(len(self.loader[i])) :\n",
        "                print(f'Not enough samples for client {i}')\n",
        "                cl_model[i].load_state_dict(self.model.state_dict())\n",
        "                continue\n",
        "\n",
        "            tmp = client(cl_model[i],self.loader[i],epoch,self.model_type)\n",
        "            tmp.train()\n",
        "\n",
        "        # Global aggregration\n",
        "        global_dict = self.model.state_dict()\n",
        "\n",
        "        for k in global_dict.keys():\n",
        "            if self.agg == 'mean':\n",
        "                \n",
        "                global_dict[k] = torch.stack([cl_model[i].state_dict()[k].float() \n",
        "                                            for i in range(len(cl_model))], 0).mean(0)\n",
        "            \n",
        "            else:\n",
        "                global_dict[k] = torch.sum(\n",
        "                                        torch.stack([cl_model[i].state_dict()[k].float()*(float(len(cl_dataset[i]))/float(self.ovr_sample)) \n",
        "                                        for i in range(len(cl_model))], 0),\n",
        "                                        0)\n",
        "        \n",
        "        self.model.load_state_dict(global_dict)\n",
        "        print('Global Aggregration Successfull')\n",
        "    \n",
        "    def train(self,cm_rounds:int=cm_rounds,epoch_round:int=epoch_round):\n",
        "\n",
        "        for i in range(0,cm_rounds):\n",
        "            \n",
        "            print('-'*10+f' Staring round {i+1} '+ '-'*10)\n",
        "            self.per_round(epoch_round)\n",
        "\n",
        "            print('#'*3 + 'Train Accuracy '+ '#'*3)\n",
        "            self.train_acc()\n",
        "            \n",
        "            print('#'*3 + 'Validation Accuracy '+ '#'*3)\n",
        "            self.val()\n",
        "\n",
        "    def train_acc(self):\n",
        "        self.model.eval()\n",
        "        running_loss = 0.0\n",
        "        running_acc = 0.000\n",
        "\n",
        "        for count,batch in enumerate(self.train_loader):\n",
        "\n",
        "            lidar = batch['lidar'].float().to(device)\n",
        "            gps = batch['gps'].float().to(device)\n",
        "            BS = batch['BS'].float().to(device)\n",
        "            label = batch['label'].long().to(device)\n",
        "\n",
        "            if self.model_type == 'lg':\n",
        "                yhat = self.model(lidar,gps,BS)\n",
        "            elif self.model_type == 'l':\n",
        "                yhat = self.model(lidar)\n",
        "            else:\n",
        "                yhat = self.model(gps,BS)\n",
        "\n",
        "            top1 = top_k_acc(label.cpu().detach(),yhat.cpu().detach(),k=1)\n",
        "            running_acc = (running_acc*(count)*BATCH_SIZE + top1*BATCH_SIZE)/ ((count+1)*BATCH_SIZE)\n",
        "        \n",
        "        print(f'Accuracy on train is {running_acc}')\n",
        "    \n",
        "    def val(self):\n",
        "\n",
        "        self.model.eval()\n",
        "        running_loss = 0.0\n",
        "        running_acc = 0.000\n",
        "\n",
        "        for count,batch in enumerate(self.val_loader):\n",
        "\n",
        "            lidar = batch['lidar'].float().to(device)\n",
        "            gps = batch['gps'].float().to(device)\n",
        "            BS = batch['BS'].float().to(device)\n",
        "            label = batch['label'].long().to(device)\n",
        "\n",
        "            if self.model_type == 'lg':\n",
        "                yhat = self.model(lidar,gps,BS)\n",
        "            elif self.model_type == 'l':\n",
        "                yhat = self.model(lidar)\n",
        "            else:\n",
        "                yhat = self.model(gps,BS)\n",
        "\n",
        "            top1 = top_k_acc(label.cpu().detach(),yhat.cpu().detach(),k=1)\n",
        "            running_acc = (running_acc*(count)*BATCH_SIZE + top1*BATCH_SIZE)/ ((count+1)*BATCH_SIZE)\n",
        "        \n",
        "        print(f'Accuracy on val is {running_acc}')"
      ],
      "id": "GhPb9Uc5Rnxc",
      "execution_count": null,
      "outputs": []
    },
    {
      "cell_type": "markdown",
      "metadata": {
        "id": "CEuSPydd5Y4R"
      },
      "source": [
        "## Training - Federated Learning"
      ],
      "id": "CEuSPydd5Y4R"
    },
    {
      "cell_type": "code",
      "metadata": {
        "id": "fVx5teQjrklr"
      },
      "source": [
        "federated = fed_server(cars,cl_dataset,cl_loader,agg,model_type,len_train,val_loader,train_loader)"
      ],
      "id": "fVx5teQjrklr",
      "execution_count": null,
      "outputs": []
    },
    {
      "cell_type": "code",
      "metadata": {
        "id": "InQDAg3muWXl"
      },
      "source": [
        "federated.train(cm_rounds,epoch_round)"
      ],
      "id": "InQDAg3muWXl",
      "execution_count": null,
      "outputs": []
    }
  ]
}