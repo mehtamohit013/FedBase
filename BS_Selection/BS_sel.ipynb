{
 "cells": [
  {
   "cell_type": "markdown",
   "id": "cbc3e292",
   "metadata": {
    "heading_collapsed": true
   },
   "source": [
    "# TO-DO\n",
    "1. Replace top-k accuracy by some in built function"
   ]
  },
  {
   "cell_type": "code",
   "execution_count": 1,
   "id": "4ee34b45",
   "metadata": {
    "ExecuteTime": {
     "end_time": "2021-07-11T17:11:54.344302Z",
     "start_time": "2021-07-11T17:11:54.166221Z"
    },
    "hidden": true,
    "scrolled": true
   },
   "outputs": [
    {
     "name": "stdout",
     "output_type": "stream",
     "text": [
      "Sun Jul 11 22:41:54 2021       \n",
      "+-----------------------------------------------------------------------------+\n",
      "| NVIDIA-SMI 470.42.01    Driver Version: 470.42.01    CUDA Version: 11.4     |\n",
      "|-------------------------------+----------------------+----------------------+\n",
      "| GPU  Name        Persistence-M| Bus-Id        Disp.A | Volatile Uncorr. ECC |\n",
      "| Fan  Temp  Perf  Pwr:Usage/Cap|         Memory-Usage | GPU-Util  Compute M. |\n",
      "|                               |                      |               MIG M. |\n",
      "|===============================+======================+======================|\n",
      "|   0  NVIDIA GeForce ...  On   | 00000000:01:00.0 Off |                  N/A |\n",
      "| N/A   53C    P0    N/A /  N/A |    496MiB /  4046MiB |     28%      Default |\n",
      "|                               |                      |                  N/A |\n",
      "+-------------------------------+----------------------+----------------------+\n",
      "                                                                               \n",
      "+-----------------------------------------------------------------------------+\n",
      "| Processes:                                                                  |\n",
      "|  GPU   GI   CI        PID   Type   Process name                  GPU Memory |\n",
      "|        ID   ID                                                   Usage      |\n",
      "|=============================================================================|\n",
      "|    0   N/A  N/A       762      G   /usr/lib/firefox/firefox            0MiB |\n",
      "|    0   N/A  N/A      3429      G   ...mviewer/tv_bin/TeamViewer       17MiB |\n",
      "|    0   N/A  N/A      3786      G   /usr/lib/xorg/Xorg                 24MiB |\n",
      "|    0   N/A  N/A      6106      G   /usr/bin/gnome-shell               64MiB |\n",
      "|    0   N/A  N/A      9195      G   /usr/lib/firefox/firefox          189MiB |\n",
      "|    0   N/A  N/A     20145      G   /usr/lib/xorg/Xorg                147MiB |\n",
      "|    0   N/A  N/A     22012      G   /usr/bin/gnome-shell               40MiB |\n",
      "|    0   N/A  N/A     28058      G   /usr/lib/firefox/firefox            0MiB |\n",
      "+-----------------------------------------------------------------------------+\n"
     ]
    }
   ],
   "source": [
    "!nvidia-smi"
   ]
  },
  {
   "cell_type": "markdown",
   "id": "56cc4e95",
   "metadata": {},
   "source": [
    "# Imports"
   ]
  },
  {
   "cell_type": "code",
   "execution_count": 2,
   "id": "6fbbd050",
   "metadata": {
    "ExecuteTime": {
     "end_time": "2021-07-11T17:11:55.008847Z",
     "start_time": "2021-07-11T17:11:54.347454Z"
    }
   },
   "outputs": [
    {
     "ename": "ModuleNotFoundError",
     "evalue": "No module named 'matplotlib.pyplot'",
     "output_type": "error",
     "traceback": [
      "\u001b[0;31m---------------------------------------------------------------------------\u001b[0m",
      "\u001b[0;31mModuleNotFoundError\u001b[0m                       Traceback (most recent call last)",
      "\u001b[0;32m<ipython-input-2-23e824e68d0e>\u001b[0m in \u001b[0;36m<module>\u001b[0;34m\u001b[0m\n\u001b[1;32m      6\u001b[0m \u001b[0;32mimport\u001b[0m \u001b[0mnumpy\u001b[0m \u001b[0;32mas\u001b[0m \u001b[0mnp\u001b[0m\u001b[0;34m\u001b[0m\u001b[0;34m\u001b[0m\u001b[0m\n\u001b[1;32m      7\u001b[0m \u001b[0;32mimport\u001b[0m \u001b[0mos\u001b[0m\u001b[0;34m\u001b[0m\u001b[0;34m\u001b[0m\u001b[0m\n\u001b[0;32m----> 8\u001b[0;31m \u001b[0;32mimport\u001b[0m \u001b[0mmatplotlib\u001b[0m\u001b[0;34m.\u001b[0m\u001b[0mpyplot\u001b[0m \u001b[0;32mas\u001b[0m \u001b[0mplt\u001b[0m\u001b[0;34m\u001b[0m\u001b[0;34m\u001b[0m\u001b[0m\n\u001b[0m\u001b[1;32m      9\u001b[0m \u001b[0;32mimport\u001b[0m \u001b[0mrandom\u001b[0m\u001b[0;34m\u001b[0m\u001b[0;34m\u001b[0m\u001b[0m\n\u001b[1;32m     10\u001b[0m \u001b[0;32mimport\u001b[0m \u001b[0mscipy\u001b[0m\u001b[0;34m.\u001b[0m\u001b[0mio\u001b[0m \u001b[0;32mas\u001b[0m \u001b[0mio\u001b[0m\u001b[0;34m\u001b[0m\u001b[0;34m\u001b[0m\u001b[0m\n",
      "\u001b[0;31mModuleNotFoundError\u001b[0m: No module named 'matplotlib.pyplot'"
     ]
    }
   ],
   "source": [
    "import torch\n",
    "from torch import nn\n",
    "from torch.utils.data import DataLoader, Dataset\n",
    "from enum import Enum\n",
    "\n",
    "import numpy as np\n",
    "import os\n",
    "import matplotlib.pyplot as plt\n",
    "import random\n",
    "import scipy.io as io\n",
    "\n",
    "import pytorch_lightning as pl\n",
    "\n",
    "seed = 0\n",
    "\n",
    "random.seed(seed)\n",
    "torch.manual_seed(seed)\n",
    "np.random.seed(seed)"
   ]
  },
  {
   "cell_type": "markdown",
   "id": "00d80edb",
   "metadata": {},
   "source": [
    "# Hyper-params"
   ]
  },
  {
   "cell_type": "code",
   "execution_count": null,
   "id": "3152ca48",
   "metadata": {
    "ExecuteTime": {
     "end_time": "2021-07-11T17:11:55.017289Z",
     "start_time": "2021-07-11T17:11:54.179Z"
    },
    "code_folding": [
     6
    ]
   },
   "outputs": [],
   "source": [
    "data_dir = os.path.join(os.environ['HOME'], 'webots_code/data')\n",
    "lpath = os.path.join(data_dir, 'lidar_samples')\n",
    "cpath = os.path.join(data_dir, 'samples')\n",
    "label_path = os.path.join(data_dir,'sample_label')\n",
    "\n",
    "len_data = 40\n",
    "BS = np.array([\n",
    "    [38.89328,-77.07611,5],\n",
    "    [38.89380,-77.07590,5],\n",
    "    [38.89393,-77.07644,5]\n",
    "])\n",
    "num_BS = int(BS.shape[0])\n",
    "\n",
    "BATCH_SIZE = 32\n",
    "n_worker = 8\n",
    "\n",
    "save_dir = os.path.join(os.environ['HOME'],'webots_code/model_state_dict')\n",
    "os.makedirs(save_dir,exist_ok=True)\n",
    "\n",
    "device = torch.device('cuda' if torch.cuda.is_available() else 'cpu')\n",
    "print(device)"
   ]
  },
  {
   "cell_type": "markdown",
   "id": "81baa8bf",
   "metadata": {},
   "source": [
    "# Utilities"
   ]
  },
  {
   "cell_type": "code",
   "execution_count": null,
   "id": "960011d3",
   "metadata": {
    "ExecuteTime": {
     "end_time": "2021-07-11T17:11:55.018589Z",
     "start_time": "2021-07-11T17:11:54.186Z"
    }
   },
   "outputs": [],
   "source": [
    "def top_k_acc(y_true:torch.Tensor,y_pred:torch.Tensor,k=1):\n",
    "    \n",
    "    y_pred_tpk = torch.topk(y_pred,k,dim=1)[1]\n",
    "    \n",
    "    ovr = 0\n",
    "    pos = 0\n",
    "\n",
    "    for i in range(0,len(y_pred_tpk)):\n",
    "        if(y_true[i] in y_pred_tpk[i]):\n",
    "            pos+=1\n",
    "        ovr+=1\n",
    "    \n",
    "    acc = pos/ovr\n",
    "    return acc"
   ]
  },
  {
   "cell_type": "markdown",
   "id": "3d31e993",
   "metadata": {},
   "source": [
    "# Creating Dataset and Dataloader"
   ]
  },
  {
   "cell_type": "markdown",
   "id": "0944bb98",
   "metadata": {},
   "source": [
    "## Custom Dataset\n",
    "Using 'GPS' currently.Translation can also be used instead of gps"
   ]
  },
  {
   "cell_type": "code",
   "execution_count": null,
   "id": "754084ca",
   "metadata": {
    "ExecuteTime": {
     "end_time": "2021-07-11T17:11:55.020562Z",
     "start_time": "2021-07-11T17:11:54.193Z"
    }
   },
   "outputs": [],
   "source": [
    "class bs_dataset(Dataset):\n",
    "    def __init__(self,lpath:str,cpath:str,\n",
    "                 label_path:str,len_data:int,BS:np.ndarray):\n",
    "        \n",
    "        self.lpath = lpath\n",
    "        self.cpath = cpath\n",
    "        self.label_path = label_path\n",
    "        self.len_data = len_data\n",
    "        self.BS = BS #[num_BS,3]\n",
    "        \n",
    "    def __getitem__(self,idx):\n",
    "        sample = dict()\n",
    "        \n",
    "        sample['lidar'] = dict(np.load(self.lpath+f'/{idx}.npz'))['lidar'] #[10,240,240]\n",
    "        sample['lidar'] = sample['lidar'].astype('float32')\n",
    "        sample['gps'] = io.loadmat(self.cpath+f'/{idx}.mat')['gps']\n",
    "        sample['gps'] = sample['gps'].astype('float32').reshape((3,)) #[3,]\n",
    "        sample['BS'] = self.BS.reshape((3*num_BS,)).astype('float32') #[num_BS,3]\n",
    "        sample['label'] = io.loadmat(self.label_path+f'/{idx}.mat')['ss']\n",
    "        \n",
    "        #Return the index of maximum element \n",
    "        sample['label'] = np.argmax(sample['label'].astype('float32')) \n",
    "        \n",
    "        return sample\n",
    "    \n",
    "    def __len__(self):\n",
    "        return self.len_data"
   ]
  },
  {
   "cell_type": "code",
   "execution_count": null,
   "id": "0f699c87",
   "metadata": {
    "ExecuteTime": {
     "end_time": "2021-07-11T17:11:55.022827Z",
     "start_time": "2021-07-11T17:11:54.201Z"
    }
   },
   "outputs": [],
   "source": [
    "train_dataset = bs_dataset(lpath,cpath,label_path,\n",
    "                         len_data,BS)"
   ]
  },
  {
   "cell_type": "markdown",
   "id": "4378722f",
   "metadata": {
    "ExecuteTime": {
     "end_time": "2021-07-11T15:03:37.626795Z",
     "start_time": "2021-07-11T15:03:37.587247Z"
    }
   },
   "source": [
    "## Dataloader"
   ]
  },
  {
   "cell_type": "code",
   "execution_count": null,
   "id": "8f657b15",
   "metadata": {
    "ExecuteTime": {
     "end_time": "2021-07-11T17:11:55.024814Z",
     "start_time": "2021-07-11T17:11:54.209Z"
    }
   },
   "outputs": [],
   "source": [
    "train_loader = DataLoader(\n",
    "    train_dataset,\n",
    "    batch_size=BATCH_SIZE,\n",
    "    pin_memory=True,\n",
    "    num_workers = n_worker,\n",
    "    drop_last = True,\n",
    "    shuffle = True\n",
    "    )"
   ]
  },
  {
   "cell_type": "markdown",
   "id": "7d0c45e4",
   "metadata": {},
   "source": [
    "# Model\n",
    "Based on Imperial Model"
   ]
  },
  {
   "cell_type": "markdown",
   "id": "01dc727f",
   "metadata": {},
   "source": [
    "## Model Class"
   ]
  },
  {
   "cell_type": "code",
   "execution_count": null,
   "id": "4351600e",
   "metadata": {
    "ExecuteTime": {
     "end_time": "2021-07-11T17:11:55.026887Z",
     "start_time": "2021-07-11T17:11:54.217Z"
    },
    "code_folding": [
     1,
     32
    ]
   },
   "outputs": [],
   "source": [
    "class bs_model(nn.Module):\n",
    "    def __init__(self):\n",
    "        super().__init__()\n",
    "        self.channels = 5\n",
    "        self.fchannel = 3\n",
    "        self.conv1 = nn.Conv2d(10,self.channels, 7, 1, 1)\n",
    "        self.bn1 = nn.BatchNorm2d(self.channels)\n",
    "        self.relu1 = nn.PReLU(num_parameters=self.channels)\n",
    "        self.conv2 = nn.Conv2d(self.channels, self.channels, 7, 1, 1)\n",
    "        self.bn2 = nn.BatchNorm2d(self.channels)\n",
    "        self.relu2 = nn.PReLU(num_parameters=self.channels)\n",
    "        self.conv3 = nn.Conv2d(self.channels, self.channels, 5, 2, 1)\n",
    "        self.bn3 = nn.BatchNorm2d(self.channels)\n",
    "        self.relu3 = nn.PReLU(num_parameters=self.channels)\n",
    "        self.conv4 = nn.Conv2d(self.channels, self.channels, 5, 1, 1)\n",
    "        self.bn4 = nn.BatchNorm2d(self.channels)\n",
    "        self.relu4 = nn.PReLU(num_parameters=self.channels)\n",
    "        self.conv5 = nn.Conv2d(self.channels, self.fchannel, 3, 2, 1)\n",
    "        self.bn5 = nn.BatchNorm2d(self.fchannel)\n",
    "        self.relu5 = nn.PReLU(num_parameters=self.fchannel)\n",
    "        self.conv6 = nn.Conv2d(self.fchannel, self.fchannel, 3, (1, 2), 1)\n",
    "        self.bn6 = nn.BatchNorm2d(self.fchannel)\n",
    "        self.relu6 = nn.PReLU(num_parameters=self.fchannel)\n",
    "        \n",
    "        self.flatten = nn.Flatten()\n",
    "        self.linear7 = nn.Linear(4959,256)\n",
    "        self.relu7 = nn.ReLU()\n",
    "        self.linear8 = nn.Linear(268, 64)\n",
    "        self.linear9 = nn.Linear(64,16)\n",
    "        self.linear10 = nn.Linear(16,3)\n",
    "\n",
    "\n",
    "    def forward(self, x, gps, bs):\n",
    "\n",
    "        x = self.conv1(x)\n",
    "        x = self.bn1(x)\n",
    "        x = self.relu1(x)\n",
    "\n",
    "        x = self.conv2(x)\n",
    "        x = self.bn2(x)\n",
    "        x = self.relu2(x)\n",
    "\n",
    "        x = self.conv3(x)\n",
    "        x = self.bn3(x)\n",
    "        x = self.relu3(x)\n",
    "        #\n",
    "        x = self.conv4(x)\n",
    "        x = self.bn4(x)\n",
    "        x = self.relu4(x)\n",
    "\n",
    "        x = self.conv5(x)\n",
    "        x = self.bn5(x)\n",
    "        x = self.relu5(x)\n",
    "\n",
    "        x = self.conv6(x)\n",
    "        x = self.bn6(x)\n",
    "        x = self.relu6(x)\n",
    "\n",
    "        x = self.flatten(x)\n",
    "        x = self.linear7(x)\n",
    "        x = self.relu7(x)\n",
    "        \n",
    "        out = torch.cat((x,gps,bs),dim=1)\n",
    "        out = self.linear8(out)\n",
    "        out = self.relu7(out)\n",
    "        out = self.linear9(out)\n",
    "        out = self.relu7(out)\n",
    "        out = self.linear10(out)\n",
    "        \n",
    "        return out\n"
   ]
  },
  {
   "cell_type": "code",
   "execution_count": null,
   "id": "de3ae024",
   "metadata": {
    "ExecuteTime": {
     "end_time": "2021-07-11T17:11:55.028532Z",
     "start_time": "2021-07-11T17:11:54.223Z"
    }
   },
   "outputs": [],
   "source": [
    "# model = bs_model()"
   ]
  },
  {
   "cell_type": "markdown",
   "id": "cf2b02ed",
   "metadata": {},
   "source": [
    "# Training\n",
    "Using pytorch lightning"
   ]
  },
  {
   "cell_type": "code",
   "execution_count": null,
   "id": "c4697e59",
   "metadata": {
    "ExecuteTime": {
     "end_time": "2021-07-11T17:11:55.029876Z",
     "start_time": "2021-07-11T17:11:54.231Z"
    },
    "code_folding": [
     1,
     7
    ]
   },
   "outputs": [],
   "source": [
    "class BS_trainer(pl.LightningModule):\n",
    "    def __init__(self,learning_rate = 1e-3):\n",
    "        super().__init__()\n",
    "        self.model = bs_model()\n",
    "        self.celoss = nn.CrossEntropyLoss()\n",
    "        self.lr = learning_rate\n",
    "    \n",
    "    def forward(self,lidar,gps,BS):\n",
    "        out = model(lidar,gps,BS)\n",
    "        return out\n",
    "    \n",
    "    def training_step(self,batch,batch_idx):\n",
    "        lidar = batch['lidar'].float()\n",
    "        gps = batch['gps'].float()\n",
    "        BS = batch['BS'].float()\n",
    "        label = batch['label'].long()\n",
    "        \n",
    "        yhat = self.forward(lidar,gps,BS)\n",
    "        \n",
    "        loss = self.celoss(yhat,label)\n",
    "        self.log('CE Loss',loss)\n",
    "        \n",
    "        return {'loss':loss,'pred':yhat.cpu().detach(),'label':label.cpu().detach()}\n",
    "    \n",
    "    def configure_optimizers(self):\n",
    "        opt = torch.optim.Adam(self.parameters(),self.lr)\n",
    "        return opt\n",
    "    \n",
    "    def training_epoch_end(self,train_out):        \n",
    "        len_out = len(train_out)\n",
    "        y_pred = torch.Tensor(len_out*BATCH_SIZE,num_BS)\n",
    "        y_true = torch.Tensor(len_out*BATCH_SIZE)\n",
    "\n",
    "        for i in range(0,len_out):\n",
    "            y_pred[i*BATCH_SIZE:(i+1)*BATCH_SIZE,:] = train_out[i]['pred'] \n",
    "            y_true[i*BATCH_SIZE:(i+1)*BATCH_SIZE] = train_out[i]['label']\n",
    "\n",
    "        top1 = top_k_acc(y_true,y_pred,k=1)\n",
    "\n",
    "        print(f'Train accuracies is {top1}')\n",
    "        \n",
    "    ## Uncomment while using validation dataset\n",
    "    \n",
    "#     def validation_step(self,batch,batch_idx):\n",
    "#         lidar = batch['lidar'].float()\n",
    "#         gps = batch['gps'].float()\n",
    "#         BS = batch['BS'].float()\n",
    "#         label = batch['label'].long()\n",
    "        \n",
    "#         yhat = self.forward(lidar,gps,BS)\n",
    "        \n",
    "#         return [yhat.cpu().detach(),label.cpu().detach()]\n",
    "     \n",
    "#     def validation_epoch_end(self,val_out):\n",
    "#         len_out = len(val_out)\n",
    "#         y_pred = torch.Tensor(len_out*BATCH_SIZE,num_classes)\n",
    "#         y_true = torch.Tensor(len_out*BATCH_SIZE)\n",
    "\n",
    "#         for i in range(0,len_out):\n",
    "#             y_pred[i*BATCH_SIZE:(i+1)*BATCH_SIZE,:] = val_out[i][0] \n",
    "#             y_true[i*BATCH_SIZE:(i+1)*BATCH_SIZE] = val_out[i][1] \n",
    "\n",
    "#         top1 = top_k_acc(y_true,y_pred,k=1)\n",
    "#         print(f'Validation accuracy is {top1}')\n",
    "    \n",
    "    def test_step(self,batch,batch_idx):\n",
    "        lidar = batch['lidar'].float()\n",
    "        gps = batch['gps'].float()\n",
    "        BS = batch['BS'].float()\n",
    "        label = batch['label'].long()\n",
    "        \n",
    "        yhat = self.forward(lidar,gps,BS)\n",
    "        \n",
    "        return [yhat.cpu().detach(),label.cpu().detach()]\n",
    "     \n",
    "    def test_epoch_end(self,val_out):\n",
    "        len_out = len(val_out)\n",
    "        y_pred = torch.Tensor(len_out*BATCH_SIZE,num_classes)\n",
    "        y_true = torch.Tensor(len_out*BATCH_SIZE)\n",
    "\n",
    "        for i in range(0,len_out):\n",
    "            y_pred[i*BATCH_SIZE:(i+1)*BATCH_SIZE,:] = val_out[i][0] \n",
    "            y_true[i*BATCH_SIZE:(i+1)*BATCH_SIZE] = val_out[i][1] \n",
    "\n",
    "        top1 = top_k_acc(y_true,y_pred,k=1)\n",
    "        print(f'Test accuracy is {top1}')"
   ]
  },
  {
   "cell_type": "code",
   "execution_count": null,
   "id": "0c4c1fc6",
   "metadata": {
    "ExecuteTime": {
     "end_time": "2021-07-11T17:11:55.031164Z",
     "start_time": "2021-07-11T17:11:54.239Z"
    }
   },
   "outputs": [],
   "source": [
    "model = BS_trainer()"
   ]
  },
  {
   "cell_type": "code",
   "execution_count": null,
   "id": "e16c1aa3",
   "metadata": {
    "ExecuteTime": {
     "end_time": "2021-07-11T17:11:55.032507Z",
     "start_time": "2021-07-11T17:11:54.246Z"
    }
   },
   "outputs": [],
   "source": [
    "pl_trainer = pl.Trainer(reload_dataloaders_every_epoch = True,\n",
    "                     gpus=1,\n",
    "                     max_epochs = 50,\n",
    "                     auto_lr_find = False\n",
    "                     )"
   ]
  },
  {
   "cell_type": "code",
   "execution_count": null,
   "id": "4c00370e",
   "metadata": {
    "ExecuteTime": {
     "end_time": "2021-07-11T17:11:55.034038Z",
     "start_time": "2021-07-11T17:11:54.252Z"
    }
   },
   "outputs": [],
   "source": [
    "pl_trainer.fit(model,train_loader)"
   ]
  },
  {
   "cell_type": "code",
   "execution_count": null,
   "id": "533d9198",
   "metadata": {},
   "outputs": [],
   "source": []
  }
 ],
 "metadata": {
  "kernelspec": {
   "display_name": "Python 3",
   "language": "python",
   "name": "python3"
  },
  "language_info": {
   "codemirror_mode": {
    "name": "ipython",
    "version": 3
   },
   "file_extension": ".py",
   "mimetype": "text/x-python",
   "name": "python",
   "nbconvert_exporter": "python",
   "pygments_lexer": "ipython3",
   "version": "3.6.10"
  },
  "notify_time": "5",
  "toc": {
   "base_numbering": 1,
   "nav_menu": {},
   "number_sections": true,
   "sideBar": true,
   "skip_h1_title": false,
   "title_cell": "Table of Contents",
   "title_sidebar": "Contents",
   "toc_cell": false,
   "toc_position": {
    "height": "481.333px",
    "left": "60px",
    "top": "267px",
    "width": "246.667px"
   },
   "toc_section_display": true,
   "toc_window_display": true
  },
  "varInspector": {
   "cols": {
    "lenName": 16,
    "lenType": 16,
    "lenVar": 40
   },
   "kernels_config": {
    "python": {
     "delete_cmd_postfix": "",
     "delete_cmd_prefix": "del ",
     "library": "var_list.py",
     "varRefreshCmd": "print(var_dic_list())"
    },
    "r": {
     "delete_cmd_postfix": ") ",
     "delete_cmd_prefix": "rm(",
     "library": "var_list.r",
     "varRefreshCmd": "cat(var_dic_list()) "
    }
   },
   "types_to_exclude": [
    "module",
    "function",
    "builtin_function_or_method",
    "instance",
    "_Feature"
   ],
   "window_display": false
  }
 },
 "nbformat": 4,
 "nbformat_minor": 5
}
