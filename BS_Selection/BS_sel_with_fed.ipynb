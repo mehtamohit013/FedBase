{
  "nbformat": 4,
  "nbformat_minor": 5,
  "metadata": {
    "kernelspec": {
      "display_name": "Python 3",
      "language": "python",
      "name": "python3"
    },
    "language_info": {
      "codemirror_mode": {
        "name": "ipython",
        "version": 3
      },
      "file_extension": ".py",
      "mimetype": "text/x-python",
      "name": "python",
      "nbconvert_exporter": "python",
      "pygments_lexer": "ipython3",
      "version": "3.6.13"
    },
    "notify_time": "5",
    "toc": {
      "base_numbering": 1,
      "nav_menu": {},
      "number_sections": true,
      "sideBar": true,
      "skip_h1_title": false,
      "title_cell": "Table of Contents",
      "title_sidebar": "Contents",
      "toc_cell": false,
      "toc_position": {
        "height": "481.333px",
        "left": "60px",
        "top": "267px",
        "width": "246.667px"
      },
      "toc_section_display": true,
      "toc_window_display": true
    },
    "varInspector": {
      "cols": {
        "lenName": 16,
        "lenType": 16,
        "lenVar": 40
      },
      "kernels_config": {
        "python": {
          "delete_cmd_postfix": "",
          "delete_cmd_prefix": "del ",
          "library": "var_list.py",
          "varRefreshCmd": "print(var_dic_list())"
        },
        "r": {
          "delete_cmd_postfix": ") ",
          "delete_cmd_prefix": "rm(",
          "library": "var_list.r",
          "varRefreshCmd": "cat(var_dic_list()) "
        }
      },
      "types_to_exclude": [
        "module",
        "function",
        "builtin_function_or_method",
        "instance",
        "_Feature"
      ],
      "window_display": false
    },
    "colab": {
      "name": "Copy of BS_sel.ipynb",
      "provenance": [],
      "collapsed_sections": [
        "AWoQwuy4mJ3H",
        "56cc4e95",
        "81baa8bf",
        "4378722f",
        "jCcZPJm0J-bJ",
        "cf2b02ed",
        "A69R3iQOLUYp",
        "e306Rac6LWq6",
        "nCkvA7iiLtD4",
        "eNCCwtgSa_NY",
        "Xz_yhoLabBgk",
        "ASE2VbKTbe68",
        "iqTth-rubb7L",
        "cMmwc1_VLP3K",
        "fNXmev1Nblh-",
        "q7WZoEH1dBeI"
      ],
      "toc_visible": true,
      "include_colab_link": true
    },
    "accelerator": "GPU"
  },
  "cells": [
    {
      "cell_type": "markdown",
      "metadata": {
        "id": "view-in-github",
        "colab_type": "text"
      },
      "source": [
        "<a href=\"https://colab.research.google.com/github/mehtamohit013/comms_lidar_ML/blob/main/BS_Selection/BS_sel_with_fed.ipynb\" target=\"_parent\"><img src=\"https://colab.research.google.com/assets/colab-badge.svg\" alt=\"Open In Colab\"/></a>"
      ]
    },
    {
      "cell_type": "markdown",
      "metadata": {
        "id": "AWoQwuy4mJ3H"
      },
      "source": [
        "# Colab - Once per runtime"
      ],
      "id": "AWoQwuy4mJ3H"
    },
    {
      "cell_type": "code",
      "metadata": {
        "ExecuteTime": {
          "end_time": "2021-07-13T08:33:48.880753Z",
          "start_time": "2021-07-13T08:33:48.699934Z"
        },
        "scrolled": true,
        "id": "4ee34b45",
        "colab": {
          "base_uri": "https://localhost:8080/"
        },
        "outputId": "579b7dbf-0ed9-461a-e62d-8e21ed758e47"
      },
      "source": [
        "!nvidia-smi"
      ],
      "id": "4ee34b45",
      "execution_count": 1,
      "outputs": [
        {
          "output_type": "stream",
          "text": [
            "Thu Aug  5 04:08:36 2021       \n",
            "+-----------------------------------------------------------------------------+\n",
            "| NVIDIA-SMI 470.42.01    Driver Version: 460.32.03    CUDA Version: 11.2     |\n",
            "|-------------------------------+----------------------+----------------------+\n",
            "| GPU  Name        Persistence-M| Bus-Id        Disp.A | Volatile Uncorr. ECC |\n",
            "| Fan  Temp  Perf  Pwr:Usage/Cap|         Memory-Usage | GPU-Util  Compute M. |\n",
            "|                               |                      |               MIG M. |\n",
            "|===============================+======================+======================|\n",
            "|   0  Tesla T4            Off  | 00000000:00:04.0 Off |                    0 |\n",
            "| N/A   44C    P8     9W /  70W |      0MiB / 15109MiB |      0%      Default |\n",
            "|                               |                      |                  N/A |\n",
            "+-------------------------------+----------------------+----------------------+\n",
            "                                                                               \n",
            "+-----------------------------------------------------------------------------+\n",
            "| Processes:                                                                  |\n",
            "|  GPU   GI   CI        PID   Type   Process name                  GPU Memory |\n",
            "|        ID   ID                                                   Usage      |\n",
            "|=============================================================================|\n",
            "|  No running processes found                                                 |\n",
            "+-----------------------------------------------------------------------------+\n"
          ],
          "name": "stdout"
        }
      ]
    },
    {
      "cell_type": "code",
      "metadata": {
        "id": "rB1IIp3_aixG",
        "colab": {
          "base_uri": "https://localhost:8080/"
        },
        "outputId": "970c8674-adfc-4184-c467-9307afd280c7"
      },
      "source": [
        "from google.colab import drive\n",
        "drive.mount('/gdrive')"
      ],
      "id": "rB1IIp3_aixG",
      "execution_count": 2,
      "outputs": [
        {
          "output_type": "stream",
          "text": [
            "Mounted at /gdrive\n"
          ],
          "name": "stdout"
        }
      ]
    },
    {
      "cell_type": "code",
      "metadata": {
        "id": "12hYGLNqa5sY"
      },
      "source": [
        "%%capture _\n",
        "!unzip /gdrive/MyDrive/BTP/webots_data/data.zip\n",
        "# !unzip /gdrive/MyDrive/BTP/Webots_data/val_data.zip\n",
        "!pip install pytorch-lightning\n"
      ],
      "id": "12hYGLNqa5sY",
      "execution_count": 3,
      "outputs": []
    },
    {
      "cell_type": "markdown",
      "metadata": {
        "id": "56cc4e95"
      },
      "source": [
        "# Imports"
      ],
      "id": "56cc4e95"
    },
    {
      "cell_type": "code",
      "metadata": {
        "ExecuteTime": {
          "end_time": "2021-07-13T08:33:51.415714Z",
          "start_time": "2021-07-13T08:33:48.884205Z"
        },
        "id": "6fbbd050"
      },
      "source": [
        "import torch\n",
        "from torch import nn\n",
        "from torch.utils.data import DataLoader, Dataset\n",
        "from enum import Enum\n",
        "\n",
        "import numpy as np\n",
        "import os\n",
        "import matplotlib.pyplot as plt\n",
        "import random\n",
        "import scipy.io as io\n",
        "import math\n",
        "import getpass\n",
        "import time\n",
        "from typing import Union\n",
        "\n",
        "import pytorch_lightning as pl\n",
        "\n",
        "seed = 0\n",
        "\n",
        "random.seed(seed)\n",
        "torch.manual_seed(seed)\n",
        "np.random.seed(seed)"
      ],
      "id": "6fbbd050",
      "execution_count": 1,
      "outputs": []
    },
    {
      "cell_type": "markdown",
      "metadata": {
        "id": "00d80edb"
      },
      "source": [
        "# Hyper-params"
      ],
      "id": "00d80edb"
    },
    {
      "cell_type": "code",
      "metadata": {
        "ExecuteTime": {
          "end_time": "2021-07-13T08:33:51.473123Z",
          "start_time": "2021-07-13T08:33:51.419626Z"
        },
        "code_folding": [
          6
        ],
        "id": "3152ca48",
        "colab": {
          "base_uri": "https://localhost:8080/"
        },
        "outputId": "67801e56-b648-4967-a2c5-7f4cdaf765a8"
      },
      "source": [
        "user = getpass.getuser()\n",
        "\n",
        "if user == 'root':  #For google colab\n",
        "    data_dir = '.'\n",
        "elif user == 'mohit':\n",
        "    data_dir = os.environ['HOME'] + '/webots_code/data'\n",
        "elif user == 'iiti':\n",
        "    data_dir = os.environ['HOME'] + '/webots_code/data'\n",
        "else:\n",
        "    print(f'User {user} not present.\\n Exiting.....')\n",
        "    exit(0)\n",
        "\n",
        "train_dir = os.path.join(data_dir,'train')\n",
        "val_dir = os.path.join(data_dir,'val')\n",
        "\n",
        "#Train Path\n",
        "train_lpath = os.path.join(train_dir, 'lidar')\n",
        "train_cpath = os.path.join(train_dir, 'gps')\n",
        "train_label_path = os.path.join(train_dir,'label')\n",
        "\n",
        "# Val Path\n",
        "val_lpath = os.path.join(val_dir, 'lidar')\n",
        "val_cpath = os.path.join(val_dir, 'gps')\n",
        "val_label_path = os.path.join(val_dir,'label')\n",
        "\n",
        "\n",
        "len_train = len(os.listdir(train_lpath))\n",
        "len_val = len(os.listdir(val_lpath))\n",
        "BS = np.array([\n",
        "    [38.89502,-77.07303,5],\n",
        "    [38.89442,-77.07294,5],\n",
        "    [38.89452,-77.07358,5]\n",
        "])\n",
        "num_BS = int(BS.shape[0])\n",
        "\n",
        "BATCH_SIZE = 4 \n",
        "\n",
        "if (user=='root'):\n",
        "    n_worker = 2\n",
        "else:\n",
        "    n_worker = 8\n",
        "\n",
        "save_dir = os.path.join(os.environ['HOME'],'webots_code/model_state_dict')\n",
        "os.makedirs(save_dir,exist_ok=True)\n",
        "\n",
        "device = torch.device('cuda' if torch.cuda.is_available() else 'cpu')\n",
        "print(device)"
      ],
      "id": "3152ca48",
      "execution_count": 2,
      "outputs": [
        {
          "output_type": "stream",
          "text": [
            "cuda\n"
          ],
          "name": "stdout"
        }
      ]
    },
    {
      "cell_type": "markdown",
      "metadata": {
        "id": "81baa8bf"
      },
      "source": [
        "# Utilities"
      ],
      "id": "81baa8bf"
    },
    {
      "cell_type": "code",
      "metadata": {
        "ExecuteTime": {
          "end_time": "2021-07-13T08:33:51.588035Z",
          "start_time": "2021-07-13T08:33:51.476684Z"
        },
        "id": "960011d3"
      },
      "source": [
        "def top_k_acc(y_true:torch.Tensor,y_pred:torch.Tensor,k=1):\n",
        "    \n",
        "    y_pred_tpk = torch.topk(y_pred,k,dim=1)[1]\n",
        "    \n",
        "    ovr = 0\n",
        "    pos = 0\n",
        "\n",
        "    for i in range(0,len(y_pred_tpk)):\n",
        "        if(y_true[i] in y_pred_tpk[i]):\n",
        "            pos+=1\n",
        "        ovr+=1\n",
        "    \n",
        "    acc = float(pos)/float(ovr)\n",
        "    return acc"
      ],
      "id": "960011d3",
      "execution_count": 3,
      "outputs": []
    },
    {
      "cell_type": "markdown",
      "metadata": {
        "id": "3d31e993"
      },
      "source": [
        "# Creating Dataset and Dataloader"
      ],
      "id": "3d31e993"
    },
    {
      "cell_type": "markdown",
      "metadata": {
        "id": "0944bb98"
      },
      "source": [
        "## Custom Dataset\n",
        "Using 'GPS' currently.Translation can also be used instead of gps"
      ],
      "id": "0944bb98"
    },
    {
      "cell_type": "code",
      "metadata": {
        "ExecuteTime": {
          "end_time": "2021-07-13T08:33:51.723110Z",
          "start_time": "2021-07-13T08:33:51.591281Z"
        },
        "id": "754084ca"
      },
      "source": [
        "class bs_dataset(Dataset):\n",
        "    def __init__(self,lpath:str,cpath:str,\n",
        "                 label_path:str,len_data:int,\n",
        "                 fileidx:list,BS:np.ndarray):\n",
        "    \n",
        "        self.lpath = lpath\n",
        "        self.cpath = cpath\n",
        "        self.label_path = label_path\n",
        "        self.len_data = len_data\n",
        "        self.fileidx = fileidx\n",
        "        self.BS = BS #[num_BS,3]\n",
        "        \n",
        "    def __getitem__(self,index):\n",
        "        sample = dict() \n",
        "        idx = self.fileidx[index]\n",
        "\n",
        "        sample['lidar'] = dict(np.load(self.lpath+f'/{idx}.npz'))['lidar'] #[10,240,240]\n",
        "        sample['lidar'] = sample['lidar'].astype('float32')\n",
        "        sample['gps'] = io.loadmat(self.cpath+f'/{idx}.mat')['gps']\n",
        "        sample['gps'] = sample['gps'][1].astype('float32').reshape((3,)) #[3,]\n",
        "        sample['BS'] = self.BS.reshape((3*num_BS,)).astype('float32') #[num_BS*3,]\n",
        "        sample['label'] = io.loadmat(self.label_path+f'/{idx}.mat')['ss']\n",
        "        \n",
        "        #Return the index of maximum element \n",
        "        sample['label'] = np.argmax(sample['label'].astype('float32')) \n",
        "        \n",
        "        return sample\n",
        "    \n",
        "    def __len__(self):\n",
        "        return self.len_data"
      ],
      "id": "754084ca",
      "execution_count": 4,
      "outputs": []
    },
    {
      "cell_type": "code",
      "metadata": {
        "ExecuteTime": {
          "end_time": "2021-07-13T08:33:51.830762Z",
          "start_time": "2021-07-13T08:33:51.726924Z"
        },
        "id": "0f699c87"
      },
      "source": [
        "train_dataset = bs_dataset(train_lpath,train_cpath,train_label_path,len_train,range(0,len_train),BS)"
      ],
      "id": "0f699c87",
      "execution_count": 5,
      "outputs": []
    },
    {
      "cell_type": "code",
      "metadata": {
        "id": "oaIFtFPSmzDR"
      },
      "source": [
        "val_dataset = bs_dataset(val_lpath,val_cpath,val_label_path,len_val,range(0,len_val),BS)"
      ],
      "id": "oaIFtFPSmzDR",
      "execution_count": 6,
      "outputs": []
    },
    {
      "cell_type": "markdown",
      "metadata": {
        "ExecuteTime": {
          "end_time": "2021-07-11T15:03:37.626795Z",
          "start_time": "2021-07-11T15:03:37.587247Z"
        },
        "id": "4378722f"
      },
      "source": [
        "## Dataloader"
      ],
      "id": "4378722f"
    },
    {
      "cell_type": "code",
      "metadata": {
        "ExecuteTime": {
          "end_time": "2021-07-13T08:33:51.930405Z",
          "start_time": "2021-07-13T08:33:51.833897Z"
        },
        "id": "8f657b15"
      },
      "source": [
        "train_loader = DataLoader(\n",
        "    train_dataset,\n",
        "    batch_size=BATCH_SIZE,\n",
        "    pin_memory=True,\n",
        "    num_workers = n_worker,\n",
        "    drop_last = True,\n",
        "    shuffle = True\n",
        "    )"
      ],
      "id": "8f657b15",
      "execution_count": 7,
      "outputs": []
    },
    {
      "cell_type": "code",
      "metadata": {
        "id": "i4PbYJUnoyiy"
      },
      "source": [
        "val_loader = DataLoader(\n",
        "    val_dataset,\n",
        "    batch_size=BATCH_SIZE,\n",
        "    pin_memory=True,\n",
        "    num_workers = n_worker,\n",
        "    drop_last = True\n",
        "    )"
      ],
      "id": "i4PbYJUnoyiy",
      "execution_count": 8,
      "outputs": []
    },
    {
      "cell_type": "markdown",
      "metadata": {
        "id": "7d0c45e4"
      },
      "source": [
        "# Models\n",
        "Based on Imperial Model"
      ],
      "id": "7d0c45e4"
    },
    {
      "cell_type": "markdown",
      "metadata": {
        "id": "01dc727f"
      },
      "source": [
        "## Lidar + GPS Class"
      ],
      "id": "01dc727f"
    },
    {
      "cell_type": "code",
      "metadata": {
        "ExecuteTime": {
          "end_time": "2021-07-13T08:41:09.489630Z",
          "start_time": "2021-07-13T08:41:09.368525Z"
        },
        "code_folding": [],
        "id": "4351600e"
      },
      "source": [
        "class bs_model(nn.Module):\n",
        "    def __init__(self):\n",
        "        super().__init__()\n",
        "        self.channels = 5\n",
        "        self.fchannel = 3\n",
        "        self.conv1 = nn.Conv2d(10,self.channels, 13, 1, 1)\n",
        "        self.bn1 = nn.BatchNorm2d(self.channels)\n",
        "        self.relu1 = nn.PReLU(num_parameters=self.channels)\n",
        "        self.conv2 = nn.Conv2d(self.channels, self.channels, 13, 1, 1)\n",
        "        self.bn2 = nn.BatchNorm2d(self.channels)\n",
        "        self.relu2 = nn.PReLU(num_parameters=self.channels)\n",
        "        self.conv3 = nn.Conv2d(self.channels, self.channels, 7, 2, 1)\n",
        "        self.bn3 = nn.BatchNorm2d(self.channels)\n",
        "        self.relu3 = nn.PReLU(num_parameters=self.channels)\n",
        "        self.conv4 = nn.Conv2d(self.channels, self.channels, 7, 1, 1)\n",
        "        self.bn4 = nn.BatchNorm2d(self.channels)\n",
        "        self.relu4 = nn.PReLU(num_parameters=self.channels)\n",
        "        self.conv5 = nn.Conv2d(self.channels, self.fchannel, 5, 2, 1)\n",
        "        self.bn5 = nn.BatchNorm2d(self.fchannel)\n",
        "        self.relu5 = nn.PReLU(num_parameters=self.fchannel)\n",
        "        self.conv6 = nn.Conv2d(self.fchannel, self.fchannel, 5, (1, 2), 1)\n",
        "        self.bn6 = nn.BatchNorm2d(self.fchannel)\n",
        "        self.relu6 = nn.PReLU(num_parameters=self.fchannel)\n",
        "        \n",
        "        self.flatten = nn.Flatten()\n",
        "        self.linear7 = nn.Linear(3675,64)\n",
        "        self.relu7 = nn.ReLU()\n",
        "        self.linear8 = nn.Linear(76, 3)\n",
        "#         self.linear9 = nn.Linear(64,3)\n",
        "#         self.linear10 = nn.Linear(16,3)\n",
        "\n",
        "\n",
        "    def forward(self, x, gps, bs):\n",
        "\n",
        "        x = self.conv1(x)\n",
        "        x = self.bn1(x)\n",
        "        x = self.relu1(x)\n",
        "\n",
        "        x = self.conv2(x)\n",
        "        x = self.bn2(x)\n",
        "        x = self.relu2(x)\n",
        "\n",
        "        x = self.conv3(x)\n",
        "        x = self.bn3(x)\n",
        "        x = self.relu3(x)\n",
        "        #\n",
        "        x = self.conv4(x)\n",
        "        x = self.bn4(x)\n",
        "        x = self.relu4(x)\n",
        "\n",
        "        x = self.conv5(x)\n",
        "        x = self.bn5(x)\n",
        "        x = self.relu5(x)\n",
        "\n",
        "        x = self.conv6(x)\n",
        "        x = self.bn6(x)\n",
        "        x = self.relu6(x)\n",
        "\n",
        "        x = self.flatten(x)\n",
        "        x = self.linear7(x)\n",
        "        x = self.relu7(x)\n",
        "        \n",
        "        out = torch.cat((x,gps,bs),dim=1)\n",
        "        out = self.linear8(out)\n",
        "#         out = self.relu7(out)\n",
        "#         out = self.linear9(out)\n",
        "#         out = self.relu7(out)\n",
        "#         out = self.linear10(out)\n",
        "        \n",
        "        return out\n"
      ],
      "id": "4351600e",
      "execution_count": 9,
      "outputs": []
    },
    {
      "cell_type": "code",
      "metadata": {
        "ExecuteTime": {
          "end_time": "2021-07-13T08:41:10.110456Z",
          "start_time": "2021-07-13T08:41:10.099444Z"
        },
        "id": "de3ae024"
      },
      "source": [
        "# # For testing model shape and size\n",
        "# model = bs_model()lidar = torch.Tensor(2,10,240,240)\n",
        "# gps = torch.Tensor(2,3)\n",
        "# BS = torch.Tensor(2,9)\n",
        "# model(lidar,gps,BS)"
      ],
      "id": "de3ae024",
      "execution_count": 10,
      "outputs": []
    },
    {
      "cell_type": "markdown",
      "metadata": {
        "id": "jCcZPJm0J-bJ"
      },
      "source": [
        "## GPS Class"
      ],
      "id": "jCcZPJm0J-bJ"
    },
    {
      "cell_type": "code",
      "metadata": {
        "id": "eOSrpfPLJ-LN"
      },
      "source": [
        "class gps_bs_sel(nn.Module):\n",
        "    def __init__(self):\n",
        "        super().__init__()\n",
        "        \n",
        "        self.linear1 = nn.Linear(12,32)\n",
        "        self.linear2 = nn.Linear(32,64)\n",
        "        self.linear3 = nn.Linear(64,32)\n",
        "        self.linear4 = nn.Linear(32,3)\n",
        "        \n",
        "        self.relu = nn.ReLU()\n",
        "    \n",
        "    def forward(self,gps,BS):\n",
        "\n",
        "        x = torch.cat([gps,BS],dim=1)\n",
        "        \n",
        "        out = self.linear1(x)\n",
        "        out = self.relu(out)\n",
        "        out = self.linear2(out)\n",
        "        out = self.relu(out)\n",
        "        out = self.linear3(out)\n",
        "        out = self.relu(out)\n",
        "        out = self.linear4(out)\n",
        "\n",
        "        return out"
      ],
      "id": "eOSrpfPLJ-LN",
      "execution_count": 11,
      "outputs": []
    },
    {
      "cell_type": "markdown",
      "metadata": {
        "id": "8eSVTP99ZfA_"
      },
      "source": [
        "## Lidar Class"
      ],
      "id": "8eSVTP99ZfA_"
    },
    {
      "cell_type": "code",
      "metadata": {
        "id": "dK_HTVAOZh8P"
      },
      "source": [
        "class lidar_bs_sel(nn.Module):\n",
        "    def __init__(self):\n",
        "        super().__init__()\n",
        "        \n",
        "        self.channels = 5\n",
        "        self.fchannel = 3\n",
        "        self.conv1 = nn.Conv2d(10,self.channels, 13, 1, 1)\n",
        "        self.bn1 = nn.BatchNorm2d(self.channels)\n",
        "        self.relu1 = nn.PReLU(num_parameters=self.channels)\n",
        "        self.conv2 = nn.Conv2d(self.channels, self.channels, 13, 1, 1)\n",
        "        self.bn2 = nn.BatchNorm2d(self.channels)\n",
        "        self.relu2 = nn.PReLU(num_parameters=self.channels)\n",
        "        self.conv3 = nn.Conv2d(self.channels, self.channels, 7, 2, 1)\n",
        "        self.bn3 = nn.BatchNorm2d(self.channels)\n",
        "        self.relu3 = nn.PReLU(num_parameters=self.channels)\n",
        "        self.conv4 = nn.Conv2d(self.channels, self.channels, 7, 1, 1)\n",
        "        self.bn4 = nn.BatchNorm2d(self.channels)\n",
        "        self.relu4 = nn.PReLU(num_parameters=self.channels)\n",
        "        self.conv5 = nn.Conv2d(self.channels, self.fchannel, 5, 2, 1)\n",
        "        self.bn5 = nn.BatchNorm2d(self.fchannel)\n",
        "        self.relu5 = nn.PReLU(num_parameters=self.fchannel)\n",
        "        self.conv6 = nn.Conv2d(self.fchannel, 1, 5, (1, 2), 1)\n",
        "        self.bn6 = nn.BatchNorm2d(1)\n",
        "        self.relu6 = nn.PReLU(num_parameters=1)\n",
        "\n",
        "        self.flatten = nn.Flatten()\n",
        "        self.linear7 = nn.Linear(1225,256)\n",
        "        self.relu7 = nn.ReLU()\n",
        "\n",
        "        self.linear8 = nn.Linear(256,16)\n",
        "        self.linear9 = nn.Linear(16,3)\n",
        "\n",
        "    def forward(self,x):\n",
        "\n",
        "        x = self.conv1(x)\n",
        "        x = self.bn1(x)\n",
        "        x = self.relu1(x)\n",
        "\n",
        "        x = self.conv2(x)\n",
        "        x = self.bn2(x)\n",
        "        x = self.relu2(x)\n",
        "\n",
        "        x = self.conv3(x)\n",
        "        x = self.bn3(x)\n",
        "        x = self.relu3(x)\n",
        "      \n",
        "        x = self.conv4(x)\n",
        "        x = self.bn4(x)\n",
        "        x = self.relu4(x)\n",
        "\n",
        "        x = self.conv5(x)\n",
        "        x = self.bn5(x)\n",
        "        x = self.relu5(x)\n",
        "\n",
        "        x = self.conv6(x)\n",
        "        x = self.bn6(x)\n",
        "        x = self.relu6(x)\n",
        "\n",
        "        x = self.flatten(x)\n",
        "        x = self.linear7(x)\n",
        "        x = self.relu7(x)\n",
        "\n",
        "        x = self.linear8(x)\n",
        "        x= self.relu7(x)\n",
        "\n",
        "        out = self.linear9(x)\n",
        "\n",
        "        return out\n"
      ],
      "id": "dK_HTVAOZh8P",
      "execution_count": 12,
      "outputs": []
    },
    {
      "cell_type": "markdown",
      "metadata": {
        "id": "cf2b02ed"
      },
      "source": [
        "# Training\n",
        "Using pytorch lightning"
      ],
      "id": "cf2b02ed"
    },
    {
      "cell_type": "markdown",
      "metadata": {
        "id": "A69R3iQOLUYp"
      },
      "source": [
        "## GPS"
      ],
      "id": "A69R3iQOLUYp"
    },
    {
      "cell_type": "markdown",
      "metadata": {
        "id": "e306Rac6LWq6"
      },
      "source": [
        "### Lightning class"
      ],
      "id": "e306Rac6LWq6"
    },
    {
      "cell_type": "code",
      "metadata": {
        "id": "A4HPbeF6LWbZ"
      },
      "source": [
        "class gps_trainer(pl.LightningModule):\n",
        "    def __init__(self,learning_rate = 1e-3):\n",
        "        super().__init__()\n",
        "        self.model = gps_bs_sel()\n",
        "        self.celoss = nn.CrossEntropyLoss()\n",
        "        self.lr = learning_rate\n",
        "    \n",
        "    def forward(self,gps,BS):\n",
        "        out = self.model(gps,BS)\n",
        "        return out\n",
        "    \n",
        "    def training_step(self,batch,batch_idx):\n",
        "        gps = batch['gps'].float()\n",
        "        BS = batch['BS'].float()\n",
        "        label = batch['label'].long()\n",
        "        \n",
        "        yhat = self(gps,BS)\n",
        "        \n",
        "        loss = self.celoss(yhat,label)\n",
        "        \n",
        "        self.log('my_loss',loss)\n",
        "        \n",
        "        return {'loss':loss,'pred':yhat.cpu().detach(),'label':label.cpu().detach()}\n",
        "    \n",
        "    def configure_optimizers(self):\n",
        "        opt = torch.optim.Adam(self.parameters(),self.lr)\n",
        "        return opt\n",
        "    \n",
        "    def training_epoch_end(self,train_out):        \n",
        "        len_out = len(train_out)\n",
        "        y_pred = torch.Tensor(len_out*BATCH_SIZE,num_BS)\n",
        "        y_true = torch.Tensor(len_out*BATCH_SIZE)\n",
        "\n",
        "        for i in range(0,len_out):\n",
        "            y_pred[i*BATCH_SIZE:(i+1)*BATCH_SIZE,:] = train_out[i]['pred'] \n",
        "            y_true[i*BATCH_SIZE:(i+1)*BATCH_SIZE] = train_out[i]['label']\n",
        "\n",
        "        top1 = top_k_acc(y_true,y_pred,k=1)\n",
        "\n",
        "        print(f'Train accuracies is {top1}')\n",
        "\n",
        "    def validation_step(self,batch,batch_idx):\n",
        "        gps = batch['gps'].float()\n",
        "        BS = batch['BS'].float()\n",
        "        label = batch['label'].long()\n",
        "        \n",
        "        yhat = self.forward(gps,BS)\n",
        "        \n",
        "        return [yhat.cpu().detach(),label.cpu().detach()]\n",
        "     \n",
        "    def validation_epoch_end(self,val_out):\n",
        "        len_out = len(val_out)\n",
        "        y_pred = torch.Tensor(len_out*BATCH_SIZE,num_BS)\n",
        "        y_true = torch.Tensor(len_out*BATCH_SIZE)\n",
        "\n",
        "        for i in range(0,len_out):\n",
        "            y_pred[i*BATCH_SIZE:(i+1)*BATCH_SIZE,:] = val_out[i][0] \n",
        "            y_true[i*BATCH_SIZE:(i+1)*BATCH_SIZE] = val_out[i][1] \n",
        "\n",
        "        top1 = top_k_acc(y_true,y_pred,k=1)\n",
        "        print(f'Validation accuracy is {top1}')\n",
        "    \n",
        "    def test_step(self,batch,batch_idx):\n",
        "        gps = batch['gps'].float()\n",
        "        BS = batch['BS'].float()\n",
        "        label = batch['label'].long()\n",
        "        \n",
        "        yhat = self.forward(gps,BS)\n",
        "        \n",
        "        return [yhat.cpu().detach(),label.cpu().detach()]\n",
        "     \n",
        "    def test_epoch_end(self,val_out):\n",
        "        len_out = len(val_out)\n",
        "        y_pred = torch.Tensor(len_out*BATCH_SIZE,num_BS)\n",
        "        y_true = torch.Tensor(len_out*BATCH_SIZE)\n",
        "\n",
        "        for i in range(0,len_out):\n",
        "            y_pred[i*BATCH_SIZE:(i+1)*BATCH_SIZE,:] = val_out[i][0] \n",
        "            y_true[i*BATCH_SIZE:(i+1)*BATCH_SIZE] = val_out[i][1] \n",
        "\n",
        "        top1 = top_k_acc(y_true,y_pred,k=1)\n",
        "        print(f'Test accuracy is {top1}')"
      ],
      "id": "A4HPbeF6LWbZ",
      "execution_count": 13,
      "outputs": []
    },
    {
      "cell_type": "markdown",
      "metadata": {
        "id": "nCkvA7iiLtD4"
      },
      "source": [
        "### Class object and trainer"
      ],
      "id": "nCkvA7iiLtD4"
    },
    {
      "cell_type": "code",
      "metadata": {
        "id": "q6pXIFsYLwZV"
      },
      "source": [
        "# gps_model = gps_trainer()"
      ],
      "id": "q6pXIFsYLwZV",
      "execution_count": 14,
      "outputs": []
    },
    {
      "cell_type": "code",
      "metadata": {
        "id": "ZL8H8cTQQl4V"
      },
      "source": [
        "# gps_pl_trainer = pl.Trainer(reload_dataloaders_every_epoch = True,\n",
        "#                      gpus=0,\n",
        "#                      max_epochs = 10,\n",
        "#                      auto_lr_find = False\n",
        "#                      )"
      ],
      "id": "ZL8H8cTQQl4V",
      "execution_count": 15,
      "outputs": []
    },
    {
      "cell_type": "code",
      "metadata": {
        "id": "Js-yTthzL6uj"
      },
      "source": [
        "# gps_pl_trainer.fit(gps_model,train_loader,val_loader)"
      ],
      "id": "Js-yTthzL6uj",
      "execution_count": 16,
      "outputs": []
    },
    {
      "cell_type": "markdown",
      "metadata": {
        "id": "eNCCwtgSa_NY"
      },
      "source": [
        "## Lidar"
      ],
      "id": "eNCCwtgSa_NY"
    },
    {
      "cell_type": "markdown",
      "metadata": {
        "id": "Xz_yhoLabBgk"
      },
      "source": [
        "### Lightning Class"
      ],
      "id": "Xz_yhoLabBgk"
    },
    {
      "cell_type": "code",
      "metadata": {
        "id": "GSfuEe5obJrB"
      },
      "source": [
        "class lidar_trainer(pl.LightningModule):\n",
        "    def __init__(self,learning_rate = 1e-3):\n",
        "        super().__init__()\n",
        "        self.model = lidar_bs_sel()\n",
        "        self.celoss = nn.CrossEntropyLoss()\n",
        "        self.lr = learning_rate\n",
        "    \n",
        "    def forward(self,lidar):\n",
        "        out = self.model(lidar)\n",
        "        return out\n",
        "    \n",
        "    def training_step(self,batch,batch_idx):\n",
        "        lidar = batch['lidar'].float()\n",
        "        label = batch['label'].long()\n",
        "        \n",
        "        yhat = self(lidar)\n",
        "        \n",
        "        loss = self.celoss(yhat,label)\n",
        "        \n",
        "        self.log('my_loss',loss)\n",
        "        \n",
        "        return {'loss':loss,'pred':yhat.cpu().detach(),'label':label.cpu().detach()}\n",
        "    \n",
        "    def configure_optimizers(self):\n",
        "        opt = torch.optim.Adam(self.parameters(),self.lr)\n",
        "        return opt\n",
        "    \n",
        "    def training_epoch_end(self,train_out):        \n",
        "        len_out = len(train_out)\n",
        "        y_pred = torch.Tensor(len_out*BATCH_SIZE,num_BS)\n",
        "        y_true = torch.Tensor(len_out*BATCH_SIZE)\n",
        "\n",
        "        for i in range(0,len_out):\n",
        "            y_pred[i*BATCH_SIZE:(i+1)*BATCH_SIZE,:] = train_out[i]['pred'] \n",
        "            y_true[i*BATCH_SIZE:(i+1)*BATCH_SIZE] = train_out[i]['label']\n",
        "\n",
        "        top1 = top_k_acc(y_true,y_pred,k=1)\n",
        "\n",
        "        print(f'Train accuracies is {top1}')\n",
        "\n",
        "    def validation_step(self,batch,batch_idx):\n",
        "        lidar = batch['lidar'].float()\n",
        "        label = batch['label'].long()\n",
        "        \n",
        "        yhat = self.forward(lidar)\n",
        "        \n",
        "        return [yhat.cpu().detach(),label.cpu().detach()]\n",
        "     \n",
        "    def validation_epoch_end(self,val_out):\n",
        "        len_out = len(val_out)\n",
        "        y_pred = torch.Tensor(len_out*BATCH_SIZE,num_BS)\n",
        "        y_true = torch.Tensor(len_out*BATCH_SIZE)\n",
        "\n",
        "        for i in range(0,len_out):\n",
        "            y_pred[i*BATCH_SIZE:(i+1)*BATCH_SIZE,:] = val_out[i][0] \n",
        "            y_true[i*BATCH_SIZE:(i+1)*BATCH_SIZE] = val_out[i][1] \n",
        "\n",
        "        top1 = top_k_acc(y_true,y_pred,k=1)\n",
        "        print(f'Validation accuracy is {top1}')\n",
        "    \n",
        "    def test_step(self,batch,batch_idx):\n",
        "        lidar = batch['lidar'].float()\n",
        "        label = batch['label'].long()\n",
        "        \n",
        "        yhat = self.forward(lidar)\n",
        "        \n",
        "        return [yhat.cpu().detach(),label.cpu().detach()]\n",
        "     \n",
        "    def test_epoch_end(self,val_out):\n",
        "        len_out = len(val_out)\n",
        "        y_pred = torch.Tensor(len_out*BATCH_SIZE,num_BS)\n",
        "        y_true = torch.Tensor(len_out*BATCH_SIZE)\n",
        "\n",
        "        for i in range(0,len_out):\n",
        "            y_pred[i*BATCH_SIZE:(i+1)*BATCH_SIZE,:] = val_out[i][0] \n",
        "            y_true[i*BATCH_SIZE:(i+1)*BATCH_SIZE] = val_out[i][1] \n",
        "\n",
        "        top1 = top_k_acc(y_true,y_pred,k=1)\n",
        "        print(f'Test accuracy is {top1}')"
      ],
      "id": "GSfuEe5obJrB",
      "execution_count": 17,
      "outputs": []
    },
    {
      "cell_type": "markdown",
      "metadata": {
        "id": "ASE2VbKTbe68"
      },
      "source": [
        "### Class object and trainer"
      ],
      "id": "ASE2VbKTbe68"
    },
    {
      "cell_type": "code",
      "metadata": {
        "id": "OEZ89UfTbhUA"
      },
      "source": [
        "# lidar_model = lidar_trainer()"
      ],
      "id": "OEZ89UfTbhUA",
      "execution_count": 18,
      "outputs": []
    },
    {
      "cell_type": "code",
      "metadata": {
        "id": "iOoWYJqrboHm"
      },
      "source": [
        "# lidar_pl_trainer = pl.Trainer(reload_dataloaders_every_epoch = True,\n",
        "#                      gpus=1,\n",
        "#                      max_epochs = 10,\n",
        "#                      auto_lr_find = False\n",
        "#                      )"
      ],
      "id": "iOoWYJqrboHm",
      "execution_count": 19,
      "outputs": []
    },
    {
      "cell_type": "code",
      "metadata": {
        "id": "rJvSs2VVbu2s"
      },
      "source": [
        "# lidar_pl_trainer.fit(lidar_model,train_loader,val_loader)"
      ],
      "id": "rJvSs2VVbu2s",
      "execution_count": 20,
      "outputs": []
    },
    {
      "cell_type": "markdown",
      "metadata": {
        "id": "iqTth-rubb7L"
      },
      "source": [
        "##  GPS + Lidar"
      ],
      "id": "iqTth-rubb7L"
    },
    {
      "cell_type": "markdown",
      "metadata": {
        "id": "cMmwc1_VLP3K"
      },
      "source": [
        "### Lightning Class"
      ],
      "id": "cMmwc1_VLP3K"
    },
    {
      "cell_type": "code",
      "metadata": {
        "ExecuteTime": {
          "end_time": "2021-07-13T08:33:52.345097Z",
          "start_time": "2021-07-13T08:33:52.197899Z"
        },
        "code_folding": [],
        "id": "c4697e59"
      },
      "source": [
        "class BS_trainer(pl.LightningModule):\n",
        "    def __init__(self,learning_rate = 1e-3):\n",
        "        super().__init__()\n",
        "        self.model = bs_model()\n",
        "        self.celoss = nn.CrossEntropyLoss()\n",
        "        self.lr = learning_rate\n",
        "    \n",
        "    def forward(self,lidar,gps,BS):\n",
        "        out = self.model(lidar,gps,BS)\n",
        "        return out\n",
        "    \n",
        "    def training_step(self,batch,batch_idx):\n",
        "        lidar = batch['lidar'].float()\n",
        "        gps = batch['gps'].float()\n",
        "        BS = batch['BS'].float()\n",
        "        label = batch['label'].long()\n",
        "        \n",
        "        yhat = self(lidar,gps,BS)\n",
        "        \n",
        "        loss = self.celoss(yhat,label)\n",
        "        \n",
        "        self.log('my_loss',loss)\n",
        "        \n",
        "        return {'loss':loss,'pred':yhat.cpu().detach(),'label':label.cpu().detach()}\n",
        "    \n",
        "    def configure_optimizers(self):\n",
        "        opt = torch.optim.Adam(self.parameters(),self.lr)\n",
        "        return opt\n",
        "    \n",
        "    def training_epoch_end(self,train_out):        \n",
        "        len_out = len(train_out)\n",
        "        y_pred = torch.Tensor(len_out*BATCH_SIZE,num_BS)\n",
        "        y_true = torch.Tensor(len_out*BATCH_SIZE)\n",
        "\n",
        "        for i in range(0,len_out):\n",
        "            y_pred[i*BATCH_SIZE:(i+1)*BATCH_SIZE,:] = train_out[i]['pred'] \n",
        "            y_true[i*BATCH_SIZE:(i+1)*BATCH_SIZE] = train_out[i]['label']\n",
        "\n",
        "        top1 = top_k_acc(y_true,y_pred,k=1)\n",
        "\n",
        "        print(f'Train accuracies is {top1}')\n",
        "\n",
        "    def validation_step(self,batch,batch_idx):\n",
        "        lidar = batch['lidar'].float()\n",
        "        gps = batch['gps'].float()\n",
        "        BS = batch['BS'].float()\n",
        "        label = batch['label'].long()\n",
        "        \n",
        "        yhat = self.forward(lidar,gps,BS)\n",
        "        \n",
        "        return [yhat.cpu().detach(),label.cpu().detach()]\n",
        "     \n",
        "    def validation_epoch_end(self,val_out):\n",
        "        len_out = len(val_out)\n",
        "        y_pred = torch.Tensor(len_out*BATCH_SIZE,num_BS)\n",
        "        y_true = torch.Tensor(len_out*BATCH_SIZE)\n",
        "\n",
        "        for i in range(0,len_out):\n",
        "            y_pred[i*BATCH_SIZE:(i+1)*BATCH_SIZE,:] = val_out[i][0] \n",
        "            y_true[i*BATCH_SIZE:(i+1)*BATCH_SIZE] = val_out[i][1] \n",
        "\n",
        "        top1 = top_k_acc(y_true,y_pred,k=1)\n",
        "        print(f'Validation accuracy is {top1}')\n",
        "    \n",
        "    def test_step(self,batch,batch_idx):\n",
        "        lidar = batch['lidar'].float()\n",
        "        gps = batch['gps'].float()\n",
        "        BS = batch['BS'].float()\n",
        "        label = batch['label'].long()\n",
        "        \n",
        "        yhat = self.forward(lidar,gps,BS)\n",
        "        \n",
        "        return [yhat.cpu().detach(),label.cpu().detach()]\n",
        "     \n",
        "    def test_epoch_end(self,val_out):\n",
        "        len_out = len(val_out)\n",
        "        y_pred = torch.Tensor(len_out*BATCH_SIZE,num_BS)\n",
        "        y_true = torch.Tensor(len_out*BATCH_SIZE)\n",
        "\n",
        "        for i in range(0,len_out):\n",
        "            y_pred[i*BATCH_SIZE:(i+1)*BATCH_SIZE,:] = val_out[i][0] \n",
        "            y_true[i*BATCH_SIZE:(i+1)*BATCH_SIZE] = val_out[i][1] \n",
        "\n",
        "        top1 = top_k_acc(y_true,y_pred,k=1)\n",
        "        print(f'Test accuracy is {top1}')"
      ],
      "id": "c4697e59",
      "execution_count": 21,
      "outputs": []
    },
    {
      "cell_type": "markdown",
      "metadata": {
        "id": "fNXmev1Nblh-"
      },
      "source": [
        "### Class object and trainer "
      ],
      "id": "fNXmev1Nblh-"
    },
    {
      "cell_type": "code",
      "metadata": {
        "ExecuteTime": {
          "end_time": "2021-07-13T08:33:52.500114Z",
          "start_time": "2021-07-13T08:33:52.347512Z"
        },
        "id": "0c4c1fc6"
      },
      "source": [
        "# model = BS_trainer()"
      ],
      "id": "0c4c1fc6",
      "execution_count": 22,
      "outputs": []
    },
    {
      "cell_type": "code",
      "metadata": {
        "id": "2uAT5bMFQrZm"
      },
      "source": [
        "# lidar_gps_pl_trainer = pl.Trainer(reload_dataloaders_every_epoch = True,\n",
        "#                      gpus=1,\n",
        "#                      max_epochs = 10,\n",
        "#                      auto_lr_find = False\n",
        "#                      )"
      ],
      "id": "2uAT5bMFQrZm",
      "execution_count": 23,
      "outputs": []
    },
    {
      "cell_type": "code",
      "metadata": {
        "ExecuteTime": {
          "end_time": "2021-07-13T08:33:59.873961Z",
          "start_time": "2021-07-13T08:33:52.593242Z"
        },
        "id": "4c00370e"
      },
      "source": [
        "# lidar_gps_pl_trainer.fit(model,train_loader,val_loader)"
      ],
      "id": "4c00370e",
      "execution_count": 24,
      "outputs": []
    },
    {
      "cell_type": "markdown",
      "metadata": {
        "id": "q7WZoEH1dBeI"
      },
      "source": [
        "# Accuracy based on distance"
      ],
      "id": "q7WZoEH1dBeI"
    },
    {
      "cell_type": "code",
      "metadata": {
        "id": "fRjN5zb3dohW"
      },
      "source": [
        "def dist_gps(gps1, gps2):\n",
        "    lat1, lon1, _ = gps1\n",
        "    lat2, lon2, _ = gps2\n",
        "    R = 6371000  # radius of Earth in meters\n",
        "    phi_1 = math.radians(lat1)\n",
        "    phi_2 = math.radians(lat2)\n",
        "\n",
        "    delta_phi = math.radians(lat2 - lat1)\n",
        "    delta_lambda = math.radians(lon2 - lon1)\n",
        "\n",
        "    a = math.sin(delta_phi / 2.0) ** 2 + \\\n",
        "        math.cos(phi_1) * math.cos(phi_2) * \\\n",
        "        math.sin(delta_lambda / 2.0) ** 2\n",
        "    c = 2 * math.atan2(math.sqrt(a), math.sqrt(1 - a))\n",
        "    return R * c\n"
      ],
      "id": "fRjN5zb3dohW",
      "execution_count": 25,
      "outputs": []
    },
    {
      "cell_type": "code",
      "metadata": {
        "id": "1N8pCX69dGTj",
        "colab": {
          "base_uri": "https://localhost:8080/"
        },
        "outputId": "33ffee9d-6366-48dd-e03f-05d1af80b245"
      },
      "source": [
        "y_pred = list()\n",
        "pos = 0\n",
        "ovr = 0 \n",
        "for i in range(0,len_train):\n",
        "    data = train_dataset[i]\n",
        "    dist1 = dist_gps(data['gps'],data['BS'][:3])\n",
        "    dist2 = dist_gps(data['gps'],data['BS'][3:6])\n",
        "    dist3 = dist_gps(data['gps'],data['BS'][6:9])\n",
        "\n",
        "    # print(dist1,dist2,dist3)\n",
        "    \n",
        "    index = np.argmax(np.array([dist1,dist2,dist3]))\n",
        "\n",
        "    # print(index,data['label'])\n",
        "\n",
        "    if index == data['label']:\n",
        "        pos+=1\n",
        "    ovr+=1\n",
        "    # if((i+1)%10==0):\n",
        "    #     break\n",
        "print(f'Accuracy based on shortest distance on train is {pos/ovr}')"
      ],
      "id": "1N8pCX69dGTj",
      "execution_count": 26,
      "outputs": [
        {
          "output_type": "stream",
          "text": [
            "Accuracy based on shortest distance on train is 0.40597503580928995\n"
          ],
          "name": "stdout"
        }
      ]
    },
    {
      "cell_type": "code",
      "metadata": {
        "id": "33ztpB5Sq2_5",
        "colab": {
          "base_uri": "https://localhost:8080/"
        },
        "outputId": "52d35f5e-dc16-4af4-ef08-3b52cd02dc07"
      },
      "source": [
        "y_pred = list()\n",
        "pos = 0\n",
        "ovr = 0 \n",
        "for i in range(0,len_val):\n",
        "    data = val_dataset[i]\n",
        "    dist1 = dist_gps(data['gps'],data['BS'][:3])\n",
        "    dist2 = dist_gps(data['gps'],data['BS'][3:6])\n",
        "    dist3 = dist_gps(data['gps'],data['BS'][6:9])\n",
        "\n",
        "    # print(dist1,dist2,dist3)\n",
        "    \n",
        "    index = np.argmax(np.array([dist1,dist2,dist3]))\n",
        "\n",
        "    # print(index,data['label'])\n",
        "\n",
        "    if index == data['label']:\n",
        "        pos+=1\n",
        "    ovr+=1\n",
        "    # if((i+1)%10==0):\n",
        "    #     break\n",
        "print(f'Accuracy based on shortest distance on val is {pos/ovr}')"
      ],
      "id": "33ztpB5Sq2_5",
      "execution_count": 27,
      "outputs": [
        {
          "output_type": "stream",
          "text": [
            "Accuracy based on shortest distance on val is 0.40425531914893614\n"
          ],
          "name": "stdout"
        }
      ]
    },
    {
      "cell_type": "markdown",
      "metadata": {
        "id": "Te3g0jxn172s"
      },
      "source": [
        "# Federated Learning \n",
        "Without retraining on baseline data on global server [link](https://towardsdatascience.com/preserving-data-privacy-in-deep-learning-part-3-ae2103c40c22)"
      ],
      "id": "Te3g0jxn172s"
    },
    {
      "cell_type": "markdown",
      "metadata": {
        "id": "_cLhZefzH5v0"
      },
      "source": [
        "## Hyper-params (For federated)"
      ],
      "id": "_cLhZefzH5v0"
    },
    {
      "cell_type": "code",
      "metadata": {
        "id": "SVCKeIozH4V-"
      },
      "source": [
        "epoch_round = 2 # Number of epochs per dataset\n",
        "cm_rounds = 10 #Overall communication round\n",
        "\n",
        "# Available option : 'mean','wmean'\n",
        "agg = 'wmean' \n",
        "# Possible model_type: 'lg' : lidar + GPS,'l' : lidar,'g' : Gps \n",
        "model_type = 'lg'"
      ],
      "id": "SVCKeIozH4V-",
      "execution_count": 28,
      "outputs": []
    },
    {
      "cell_type": "markdown",
      "metadata": {
        "id": "HsRIjhpMDn7z"
      },
      "source": [
        "## Parameters"
      ],
      "id": "HsRIjhpMDn7z"
    },
    {
      "cell_type": "markdown",
      "metadata": {
        "id": "JDNARufn8wKG"
      },
      "source": [
        " Calculating number of cars"
      ],
      "id": "JDNARufn8wKG"
    },
    {
      "cell_type": "code",
      "metadata": {
        "id": "U0AHoDC319NI"
      },
      "source": [
        "cars = 0\n",
        "car_list = list()\n",
        "car_sample = dict()\n",
        "for i in range(0,len_train):\n",
        "    data = io.loadmat(train_cpath+'/'+str(i)+'.mat')\n",
        "    if not(data['car_name'][0] in car_list):\n",
        "        cars+=1\n",
        "        car_list.append(data['car_name'][0])\n",
        "        car_sample[int(data['car_name'][0][-2:])] = list()\n",
        "    car_sample[int(data['car_name'][0][-2:])].append(i)"
      ],
      "id": "U0AHoDC319NI",
      "execution_count": 29,
      "outputs": []
    },
    {
      "cell_type": "markdown",
      "metadata": {
        "id": "wth6gWIsBis2"
      },
      "source": [
        "Plotting number of samples per car"
      ],
      "id": "wth6gWIsBis2"
    },
    {
      "cell_type": "code",
      "metadata": {
        "id": "zeDn_77H-Xhj",
        "colab": {
          "base_uri": "https://localhost:8080/",
          "height": 0
        },
        "outputId": "a5ef6b08-5f2f-4e64-96c7-6c0f1da3a9a4"
      },
      "source": [
        "plt.rcParams['figure.figsize'] = [18, 6]\n",
        "plt.rcParams['figure.dpi'] = 100 \n",
        "len_car = [len(car_sample[i]) for i in range(0,cars)]\n",
        "plt.bar(range(0,cars),len_car)"
      ],
      "id": "zeDn_77H-Xhj",
      "execution_count": 30,
      "outputs": [
        {
          "output_type": "execute_result",
          "data": {
            "text/plain": [
              "<BarContainer object of 50 artists>"
            ]
          },
          "metadata": {
            "tags": []
          },
          "execution_count": 30
        },
        {
          "output_type": "display_data",
          "data": {
            "image/png": "[encoded data removed]",
            "text/plain": [
              "<Figure size 1800x600 with 1 Axes>"
            ]
          },
          "metadata": {
            "tags": [],
            "needs_background": "light"
          }
        }
      ]
    },
    {
      "cell_type": "markdown",
      "metadata": {
        "id": "cmKDfoy8DqmD"
      },
      "source": [
        "## Creating Dataset and Dataloaders"
      ],
      "id": "cmKDfoy8DqmD"
    },
    {
      "cell_type": "markdown",
      "metadata": {
        "id": "2ONmrG7kE-6v"
      },
      "source": [
        "### Dataset"
      ],
      "id": "2ONmrG7kE-6v"
    },
    {
      "cell_type": "code",
      "metadata": {
        "id": "5mm8nXqyEKBc"
      },
      "source": [
        "cl_dataset = list()\n",
        "\n",
        "for i in range(0,cars):\n",
        "    tmp = bs_dataset(train_lpath,train_cpath,train_label_path,len_car[i],car_sample[i],BS)\n",
        "    cl_dataset.append(tmp)"
      ],
      "id": "5mm8nXqyEKBc",
      "execution_count": 31,
      "outputs": []
    },
    {
      "cell_type": "markdown",
      "metadata": {
        "id": "2h7szBfvGENn"
      },
      "source": [
        "### Dataloader"
      ],
      "id": "2h7szBfvGENn"
    },
    {
      "cell_type": "code",
      "metadata": {
        "id": "Sc6xX0sPGJMX"
      },
      "source": [
        "cl_loader = list()\n",
        "\n",
        "for i in range(0,cars):\n",
        "    tmp = DataLoader(\n",
        "        cl_dataset[i],\n",
        "        batch_size=BATCH_SIZE,\n",
        "        pin_memory=True,\n",
        "        num_workers = n_worker,\n",
        "        drop_last = True,\n",
        "        shuffle = True\n",
        "        )\n",
        "    cl_loader.append(tmp)"
      ],
      "id": "Sc6xX0sPGJMX",
      "execution_count": 32,
      "outputs": []
    },
    {
      "cell_type": "markdown",
      "metadata": {
        "id": "XFa2pG2PJifT"
      },
      "source": [
        "## Model"
      ],
      "id": "XFa2pG2PJifT"
    },
    {
      "cell_type": "markdown",
      "metadata": {
        "id": "bcA64nA1Jna2"
      },
      "source": [
        "### Client update"
      ],
      "id": "bcA64nA1Jna2"
    },
    {
      "cell_type": "code",
      "metadata": {
        "id": "LrVSNRFmIZ1G"
      },
      "source": [
        "class client():\n",
        "    \n",
        "    '''\n",
        "    Currently using standard trainer to train the model \n",
        "    '''\n",
        "    def __init__(self,model:nn.Module,\n",
        "                loader:DataLoader,\n",
        "                epoch:int = epoch_round,\n",
        "                model_type:str=model_type,\n",
        "                lr=1e-3):\n",
        "    \n",
        "        self.model = model.to(device)\n",
        "        self.loader = loader\n",
        "        self.epoch = epoch\n",
        "        self.model_type = model_type\n",
        "\n",
        "        self.lr = lr\n",
        "        self.celoss = nn.CrossEntropyLoss()\n",
        "        self.opt = torch.optim.Adam(model.parameters(),self.lr)\n",
        "        self.start = time.time()\n",
        "\n",
        "    def train(self):\n",
        "\n",
        "        self.model.train()\n",
        "        self.model.zero_grad()\n",
        "\n",
        "        for i in range(0,self.epoch):\n",
        "\n",
        "            # print('-'*10+f' Starting Epoch {i+1} '+'-'*10)\n",
        "            \n",
        "            running_loss = 0.0\n",
        "            running_acc = 0.000\n",
        "            \n",
        "            for count,batch in enumerate(self.loader):\n",
        "\n",
        "                self.opt.zero_grad()\n",
        "\n",
        "                lidar = batch['lidar'].float().to(device)\n",
        "                gps = batch['gps'].float().to(device)\n",
        "                BS = batch['BS'].float().to(device)\n",
        "                label = batch['label'].long().to(device)\n",
        "\n",
        "                if self.model_type == 'lg':\n",
        "                    yhat = self.model(lidar,gps,BS)\n",
        "                elif self.model_type == 'l':\n",
        "                    yhat = self.model(lidar)\n",
        "                else:\n",
        "                    yhat = self.model(gps,BS)\n",
        "                \n",
        "                loss = self.celoss(yhat,label)\n",
        "                running_loss +=loss.item()\n",
        "                \n",
        "                loss.backward()\n",
        "                self.opt.step()\n",
        "\n",
        "                top1 = top_k_acc(label.cpu().detach(),yhat.cpu().detach(),k=1)\n",
        "                running_acc = (running_acc*(count)*BATCH_SIZE + top1*BATCH_SIZE)/ ((count+1)*BATCH_SIZE)\n",
        "\n",
        "                # if count%1000 == 0 :\n",
        "                #     print(f'Cross Entropy loss after {count} iterations is {running_loss/((count+1)*BATCH_SIZE)}. '\\\n",
        "                #           f'Time Elapsed {time.time()-self.start}')\n",
        "                #     print(f'Accuracy on train after {count} iteration is {running_acc}')\n",
        "            \n",
        "            # print(f'Overall iteration completed {count}') #304\n",
        "            # print('-'*10+f' Epoch {i+1} ends '+'-'*10)\n",
        "            print(f'Cross Entropy loss after {i+1} epochs is {running_loss/((count+1)*BATCH_SIZE)}'\\\n",
        "                  f'Time Elapsed {time.time()-self.start}')\n",
        "            print(f'Accuracy on train after {i+1} epochs is {running_acc}')"
      ],
      "id": "LrVSNRFmIZ1G",
      "execution_count": 33,
      "outputs": []
    },
    {
      "cell_type": "markdown",
      "metadata": {
        "id": "F-UWHfWEWeq4"
      },
      "source": [
        "### Global Server"
      ],
      "id": "F-UWHfWEWeq4"
    },
    {
      "cell_type": "code",
      "metadata": {
        "id": "GhPb9Uc5Rnxc"
      },
      "source": [
        "class fed_server():\n",
        "    def __init__(self,cars:int,cl_dataset,cl_loader,agg:str=agg,\n",
        "                model_type:str=model_type,ovr_sample:int=len_train,\n",
        "                val_loader:DataLoader=val_loader):\n",
        "        \n",
        "        self.cars = cars\n",
        "        self.dataset = cl_dataset\n",
        "        self.loader = cl_loader\n",
        "        self.agg = agg\n",
        "        self.model_type = model_type\n",
        "        self.ovr_sample = ovr_sample\n",
        "        self.val_loader = val_loader\n",
        "\n",
        "        self.create_model() #Global Model\n",
        "    \n",
        "    def create_model(self):\n",
        "        if self.model_type == 'lg':\n",
        "            self.model = bs_model().to(device)\n",
        "        elif self.model_type == 'l':\n",
        "            self.model = lidar_bs_sel().to(device)\n",
        "        else:\n",
        "            self.model = gps_bs_sel().to(device)\n",
        "    \n",
        "    def per_round(self,epoch):\n",
        "\n",
        "        #Synchronizing client model with global model at start of each round\n",
        "        cl_model = [self.model for i in range(0,self.cars)]\n",
        "        for cmodel in cl_model:\n",
        "            cmodel.load_state_dict(self.model.state_dict())\n",
        "\n",
        "\n",
        "        # Training Client Model\n",
        "        for i in range(0,self.cars):\n",
        "            print('*'*3+f' Starting Client {i} ' +'*'*3)\n",
        "            \n",
        "            if not(len(self.loader[i])) :\n",
        "                print(f'Not enough samples for client {i}')\n",
        "                cl_model[i].load_state_dict(self.model.state_dict())\n",
        "                continue\n",
        "\n",
        "            tmp = client(cl_model[i],self.loader[i],epoch,self.model_type)\n",
        "            tmp.train()\n",
        "\n",
        "        # Global aggregration\n",
        "        global_dict = self.model.state_dict()\n",
        "\n",
        "        for k in global_dict.keys():\n",
        "            if self.agg == 'mean':\n",
        "                \n",
        "                global_dict[k] = torch.stack([cl_model[i].state_dict()[k].float() \n",
        "                                            for i in range(len(cl_model))], 0).mean(0)\n",
        "            \n",
        "            else:\n",
        "                global_dict[k] = torch.sum(\n",
        "                                        torch.stack([cl_model[i].state_dict()[k].float()*(float(len(cl_dataset[i]))/float(self.ovr_sample)) \n",
        "                                        for i in range(len(cl_model))], 0),\n",
        "                                        0)\n",
        "        \n",
        "        self.model.load_state_dict(global_dict)\n",
        "        print('Global Aggregration Successfull')\n",
        "    \n",
        "    def train(self,cm_rounds:int=cm_rounds,epoch_round:int=epoch_round):\n",
        "\n",
        "        for i in range(0,cm_rounds):\n",
        "            \n",
        "            print('-'*10+f' Staring round {i+1} '+ '-'*10)\n",
        "            self.per_round(epoch_round)\n",
        "            \n",
        "            print('#'*3 + 'Validation Accuracy '+ '#'*3)\n",
        "            self.val()\n",
        "\n",
        "    def val(self):\n",
        "\n",
        "        self.model.eval()\n",
        "        running_loss = 0.0\n",
        "        running_acc = 0.000\n",
        "\n",
        "        for count,batch in enumerate(self.val_loader):\n",
        "\n",
        "            lidar = batch['lidar'].float().to(device)\n",
        "            gps = batch['gps'].float().to(device)\n",
        "            BS = batch['BS'].float().to(device)\n",
        "            label = batch['label'].long().to(device)\n",
        "\n",
        "            if self.model_type == 'lg':\n",
        "                yhat = self.model(lidar,gps,BS)\n",
        "            elif self.model_type == 'l':\n",
        "                yhat = self.model(lidar)\n",
        "            else:\n",
        "                yhat = self.model(gps,BS)\n",
        "\n",
        "            top1 = top_k_acc(label.cpu().detach(),yhat.cpu().detach(),k=1)\n",
        "            running_acc = (running_acc*(count)*BATCH_SIZE + top1*BATCH_SIZE)/ ((count+1)*BATCH_SIZE)\n",
        "        \n",
        "        print(f'Accuracy on val is {running_acc}')"
      ],
      "id": "GhPb9Uc5Rnxc",
      "execution_count": 37,
      "outputs": []
    },
    {
      "cell_type": "markdown",
      "metadata": {
        "id": "CEuSPydd5Y4R"
      },
      "source": [
        "## Training - Federated Learning"
      ],
      "id": "CEuSPydd5Y4R"
    },
    {
      "cell_type": "code",
      "metadata": {
        "id": "fVx5teQjrklr"
      },
      "source": [
        "federated = fed_server(cars,cl_dataset,cl_loader,agg,model_type,len_train,val_loader)"
      ],
      "id": "fVx5teQjrklr",
      "execution_count": 38,
      "outputs": []
    },
    {
      "cell_type": "code",
      "metadata": {
        "colab": {
          "base_uri": "https://localhost:8080/"
        },
        "id": "InQDAg3muWXl",
        "outputId": "b8d4013e-bfe7-47b3-94ed-f3dc6aa1e62b"
      },
      "source": [
        "federated.train(2,1)"
      ],
      "id": "InQDAg3muWXl",
      "execution_count": 39,
      "outputs": [
        {
          "output_type": "stream",
          "text": [
            "---------- Staring round 1 ----------\n",
            "*** Starting Client 0 ***\n",
            "Cross Entropy loss after 1 epochs is 0.33768077503960087Time Elapsed 3.3686230182647705\n",
            "Accuracy on train after 1 epochs is 0.38207547169811323\n",
            "*** Starting Client 1 ***\n",
            "Cross Entropy loss after 1 epochs is 0.24755352876823525Time Elapsed 3.4383127689361572\n",
            "Accuracy on train after 1 epochs is 0.5344827586206895\n",
            "*** Starting Client 2 ***\n",
            "Cross Entropy loss after 1 epochs is 0.26294848322868347Time Elapsed 3.7001001834869385\n",
            "Accuracy on train after 1 epochs is 0.5119047619047621\n",
            "*** Starting Client 3 ***\n",
            "Cross Entropy loss after 1 epochs is 0.24267656329003248Time Elapsed 3.388314723968506\n",
            "Accuracy on train after 1 epochs is 0.5590909090909092\n",
            "*** Starting Client 4 ***\n",
            "Cross Entropy loss after 1 epochs is 0.2452349101583804Time Elapsed 3.771109104156494\n",
            "Accuracy on train after 1 epochs is 0.5725806451612904\n",
            "*** Starting Client 5 ***\n",
            "Cross Entropy loss after 1 epochs is 0.28146207829316455Time Elapsed 2.6160356998443604\n",
            "Accuracy on train after 1 epochs is 0.47619047619047616\n",
            "*** Starting Client 6 ***\n",
            "Cross Entropy loss after 1 epochs is 0.26960620449648964Time Elapsed 2.7965056896209717\n",
            "Accuracy on train after 1 epochs is 0.5333333333333333\n",
            "*** Starting Client 7 ***\n",
            "Cross Entropy loss after 1 epochs is 0.23470769207114758Time Elapsed 2.839245557785034\n",
            "Accuracy on train after 1 epochs is 0.6249999999999998\n",
            "*** Starting Client 8 ***\n",
            "Cross Entropy loss after 1 epochs is 0.22435013729394698Time Elapsed 2.984715461730957\n",
            "Accuracy on train after 1 epochs is 0.6071428571428572\n",
            "*** Starting Client 9 ***\n",
            "Cross Entropy loss after 1 epochs is 0.2564334771462849Time Elapsed 2.190474033355713\n",
            "Accuracy on train after 1 epochs is 0.5785714285714287\n",
            "*** Starting Client 10 ***\n",
            "Cross Entropy loss after 1 epochs is 0.23493800216326208Time Elapsed 2.119645357131958\n",
            "Accuracy on train after 1 epochs is 0.6590909090909091\n",
            "*** Starting Client 11 ***\n",
            "Cross Entropy loss after 1 epochs is 0.2384593350579962Time Elapsed 2.127018928527832\n",
            "Accuracy on train after 1 epochs is 0.625\n",
            "*** Starting Client 12 ***\n",
            "Cross Entropy loss after 1 epochs is 0.2522556708906503Time Elapsed 2.0535929203033447\n",
            "Accuracy on train after 1 epochs is 0.5955882352941178\n",
            "*** Starting Client 13 ***\n",
            "Cross Entropy loss after 1 epochs is 0.25945247101287044Time Elapsed 1.800825834274292\n",
            "Accuracy on train after 1 epochs is 0.575\n",
            "*** Starting Client 14 ***\n",
            "Cross Entropy loss after 1 epochs is 0.1960741172691709Time Elapsed 2.2522292137145996\n",
            "Accuracy on train after 1 epochs is 0.7105263157894736\n",
            "*** Starting Client 15 ***\n",
            "Cross Entropy loss after 1 epochs is 0.20719744530148232Time Elapsed 1.6547260284423828\n",
            "Accuracy on train after 1 epochs is 0.6442307692307693\n",
            "*** Starting Client 16 ***\n",
            "Cross Entropy loss after 1 epochs is 0.24454024987238826Time Elapsed 1.9954240322113037\n",
            "Accuracy on train after 1 epochs is 0.6590909090909091\n",
            "*** Starting Client 17 ***\n",
            "Cross Entropy loss after 1 epochs is 0.25280810009550164Time Elapsed 1.6537787914276123\n",
            "Accuracy on train after 1 epochs is 0.5648148148148148\n",
            "*** Starting Client 18 ***\n",
            "Cross Entropy loss after 1 epochs is 0.18578618597881547Time Elapsed 1.7373268604278564\n",
            "Accuracy on train after 1 epochs is 0.7068965517241379\n",
            "*** Starting Client 19 ***\n",
            "Cross Entropy loss after 1 epochs is 0.19231783446890335Time Elapsed 1.6118216514587402\n",
            "Accuracy on train after 1 epochs is 0.6944444444444443\n",
            "*** Starting Client 20 ***\n",
            "Cross Entropy loss after 1 epochs is 0.22073239708940187Time Elapsed 1.5535540580749512\n",
            "Accuracy on train after 1 epochs is 0.6041666666666666\n",
            "*** Starting Client 21 ***\n",
            "Cross Entropy loss after 1 epochs is 0.21421463295817375Time Elapsed 1.5678608417510986\n",
            "Accuracy on train after 1 epochs is 0.6899999999999998\n",
            "*** Starting Client 22 ***\n",
            "Cross Entropy loss after 1 epochs is 0.18120757368919643Time Elapsed 1.4346306324005127\n",
            "Accuracy on train after 1 epochs is 0.6847826086956522\n",
            "*** Starting Client 23 ***\n",
            "Cross Entropy loss after 1 epochs is 0.20023818596382625Time Elapsed 1.937014102935791\n",
            "Accuracy on train after 1 epochs is 0.6718749999999999\n",
            "*** Starting Client 24 ***\n",
            "Cross Entropy loss after 1 epochs is 0.2991206766261409Time Elapsed 0.8534021377563477\n",
            "Accuracy on train after 1 epochs is 0.5\n",
            "*** Starting Client 25 ***\n",
            "Cross Entropy loss after 1 epochs is 0.21141573573861802Time Elapsed 1.3137016296386719\n",
            "Accuracy on train after 1 epochs is 0.7142857142857143\n",
            "*** Starting Client 26 ***\n",
            "Cross Entropy loss after 1 epochs is 0.17006725256331265Time Elapsed 1.5103950500488281\n",
            "Accuracy on train after 1 epochs is 0.77\n",
            "*** Starting Client 27 ***\n",
            "Cross Entropy loss after 1 epochs is 0.3414194258776578Time Elapsed 0.7617099285125732\n",
            "Accuracy on train after 1 epochs is 0.45454545454545453\n",
            "*** Starting Client 28 ***\n",
            "Cross Entropy loss after 1 epochs is 0.2590875035772721Time Elapsed 0.8317599296569824\n",
            "Accuracy on train after 1 epochs is 0.6666666666666666\n",
            "*** Starting Client 29 ***\n",
            "Cross Entropy loss after 1 epochs is 0.18626230090740137Time Elapsed 0.9450228214263916\n",
            "Accuracy on train after 1 epochs is 0.7678571428571429\n",
            "*** Starting Client 30 ***\n",
            "Cross Entropy loss after 1 epochs is 0.21695128083229065Time Elapsed 0.3413126468658447\n",
            "Accuracy on train after 1 epochs is 0.4166666666666667\n",
            "*** Starting Client 31 ***\n",
            "Cross Entropy loss after 1 epochs is 0.2106807865202427Time Elapsed 0.40148138999938965\n",
            "Accuracy on train after 1 epochs is 0.6875\n",
            "*** Starting Client 32 ***\n",
            "Cross Entropy loss after 1 epochs is 0.28628136217594147Time Elapsed 0.3879849910736084\n",
            "Accuracy on train after 1 epochs is 0.4375\n",
            "*** Starting Client 33 ***\n",
            "Cross Entropy loss after 1 epochs is 0.20621757209300995Time Elapsed 0.9893901348114014\n",
            "Accuracy on train after 1 epochs is 0.6666666666666666\n",
            "*** Starting Client 34 ***\n",
            "Cross Entropy loss after 1 epochs is 0.16730647073949084Time Elapsed 1.1029279232025146\n",
            "Accuracy on train after 1 epochs is 0.7941176470588235\n",
            "*** Starting Client 35 ***\n",
            "Cross Entropy loss after 1 epochs is 0.1418830005881878Time Elapsed 0.8649096488952637\n",
            "Accuracy on train after 1 epochs is 0.7884615384615384\n",
            "*** Starting Client 36 ***\n",
            "Cross Entropy loss after 1 epochs is 0.1482606521874134Time Elapsed 0.9306855201721191\n",
            "Accuracy on train after 1 epochs is 0.7678571428571429\n",
            "*** Starting Client 37 ***\n",
            "Cross Entropy loss after 1 epochs is 0.2734713717375901Time Elapsed 0.8307023048400879\n",
            "Accuracy on train after 1 epochs is 0.75\n",
            "*** Starting Client 38 ***\n",
            "Cross Entropy loss after 1 epochs is 0.17465555313101505Time Elapsed 0.7055516242980957\n",
            "Accuracy on train after 1 epochs is 0.8\n",
            "*** Starting Client 39 ***\n",
            "Cross Entropy loss after 1 epochs is 0.1441918319950883Time Elapsed 0.8875892162322998\n",
            "Accuracy on train after 1 epochs is 0.8461538461538461\n",
            "*** Starting Client 40 ***\n",
            "Cross Entropy loss after 1 epochs is 0.20750208912068047Time Elapsed 1.0995676517486572\n",
            "Accuracy on train after 1 epochs is 0.765625\n",
            "*** Starting Client 41 ***\n",
            "Cross Entropy loss after 1 epochs is 0.2746671140193939Time Elapsed 0.2726316452026367\n",
            "Accuracy on train after 1 epochs is 0.5\n",
            "*** Starting Client 42 ***\n",
            "Cross Entropy loss after 1 epochs is 0.4144980311393738Time Elapsed 0.2792365550994873\n",
            "Accuracy on train after 1 epochs is 0.5\n",
            "*** Starting Client 43 ***\n",
            "Cross Entropy loss after 1 epochs is 0.3737747296690941Time Elapsed 0.2829737663269043\n",
            "Accuracy on train after 1 epochs is 0.5\n",
            "*** Starting Client 44 ***\n",
            "Cross Entropy loss after 1 epochs is 0.14110642950981855Time Elapsed 0.5045657157897949\n",
            "Accuracy on train after 1 epochs is 0.8333333333333334\n",
            "*** Starting Client 45 ***\n",
            "Cross Entropy loss after 1 epochs is 0.2859788749366999Time Elapsed 0.7254157066345215\n",
            "Accuracy on train after 1 epochs is 0.675\n",
            "*** Starting Client 46 ***\n",
            "Cross Entropy loss after 1 epochs is 0.19697993585080104Time Elapsed 1.1837055683135986\n",
            "Accuracy on train after 1 epochs is 0.6842105263157895\n",
            "*** Starting Client 47 ***\n",
            "Cross Entropy loss after 1 epochs is 0.25268396197093856Time Elapsed 1.2072992324829102\n",
            "Accuracy on train after 1 epochs is 0.6944444444444444\n",
            "*** Starting Client 48 ***\n",
            "Cross Entropy loss after 1 epochs is 0.24454250683387121Time Elapsed 0.5085201263427734\n",
            "Accuracy on train after 1 epochs is 0.6666666666666666\n",
            "*** Starting Client 49 ***\n",
            "Not enough samples for client 49\n",
            "Global Aggregration Successfull\n",
            "###Validation Accuracy ###\n",
            "Accuracy on val is 0.5942622950819669\n",
            "---------- Staring round 2 ----------\n",
            "*** Starting Client 0 ***\n",
            "Cross Entropy loss after 1 epochs is 0.26610300654791436Time Elapsed 3.334127902984619\n",
            "Accuracy on train after 1 epochs is 0.5566037735849058\n",
            "*** Starting Client 1 ***\n",
            "Cross Entropy loss after 1 epochs is 0.20157531295613995Time Elapsed 3.574868679046631\n",
            "Accuracy on train after 1 epochs is 0.6551724137931033\n",
            "*** Starting Client 2 ***\n",
            "Cross Entropy loss after 1 epochs is 0.22220904453997575Time Elapsed 3.629023551940918\n",
            "Accuracy on train after 1 epochs is 0.6071428571428571\n",
            "*** Starting Client 3 ***\n",
            "Cross Entropy loss after 1 epochs is 0.21930285157127813Time Elapsed 3.212813377380371\n",
            "Accuracy on train after 1 epochs is 0.640909090909091\n",
            "*** Starting Client 4 ***\n",
            "Cross Entropy loss after 1 epochs is 0.20460076397284865Time Elapsed 3.6101291179656982\n",
            "Accuracy on train after 1 epochs is 0.616935483870968\n",
            "*** Starting Client 5 ***\n",
            "Cross Entropy loss after 1 epochs is 0.2547028462535569Time Elapsed 2.4820051193237305\n",
            "Accuracy on train after 1 epochs is 0.6369047619047621\n",
            "*** Starting Client 6 ***\n",
            "Cross Entropy loss after 1 epochs is 0.2666871317558818Time Elapsed 2.614588737487793\n",
            "Accuracy on train after 1 epochs is 0.5333333333333333\n",
            "*** Starting Client 7 ***\n",
            "Cross Entropy loss after 1 epochs is 0.19132628364731435Time Elapsed 2.7465147972106934\n",
            "Accuracy on train after 1 epochs is 0.6956521739130435\n",
            "*** Starting Client 8 ***\n",
            "Cross Entropy loss after 1 epochs is 0.20467744197468368Time Elapsed 2.851698160171509\n",
            "Accuracy on train after 1 epochs is 0.6785714285714287\n",
            "*** Starting Client 9 ***\n",
            "Cross Entropy loss after 1 epochs is 0.21428881556327853Time Elapsed 2.096637487411499\n",
            "Accuracy on train after 1 epochs is 0.6571428571428571\n",
            "*** Starting Client 10 ***\n",
            "Cross Entropy loss after 1 epochs is 0.1874057687254566Time Elapsed 1.9720747470855713\n",
            "Accuracy on train after 1 epochs is 0.6666666666666667\n",
            "*** Starting Client 11 ***\n",
            "Cross Entropy loss after 1 epochs is 0.21468852586386836Time Elapsed 2.0409116744995117\n",
            "Accuracy on train after 1 epochs is 0.6029411764705882\n",
            "*** Starting Client 12 ***\n",
            "Cross Entropy loss after 1 epochs is 0.21480504861649344Time Elapsed 2.057326316833496\n",
            "Accuracy on train after 1 epochs is 0.6838235294117647\n",
            "*** Starting Client 13 ***\n",
            "Cross Entropy loss after 1 epochs is 0.21550494659071168Time Elapsed 1.8466932773590088\n",
            "Accuracy on train after 1 epochs is 0.6916666666666667\n",
            "*** Starting Client 14 ***\n",
            "Cross Entropy loss after 1 epochs is 0.17973424281042658Time Elapsed 2.294172525405884\n",
            "Accuracy on train after 1 epochs is 0.7236842105263158\n",
            "*** Starting Client 15 ***\n",
            "Cross Entropy loss after 1 epochs is 0.1511158189521386Time Elapsed 1.6123077869415283\n",
            "Accuracy on train after 1 epochs is 0.7596153846153846\n",
            "*** Starting Client 16 ***\n",
            "Cross Entropy loss after 1 epochs is 0.25794168632251746Time Elapsed 2.023818254470825\n",
            "Accuracy on train after 1 epochs is 0.6666666666666666\n",
            "*** Starting Client 17 ***\n",
            "Cross Entropy loss after 1 epochs is 0.2570916494285619Time Elapsed 1.677725076675415\n",
            "Accuracy on train after 1 epochs is 0.6018518518518521\n",
            "*** Starting Client 18 ***\n",
            "Cross Entropy loss after 1 epochs is 0.16874769843857865Time Elapsed 1.7596213817596436\n",
            "Accuracy on train after 1 epochs is 0.75\n",
            "*** Starting Client 19 ***\n",
            "Cross Entropy loss after 1 epochs is 0.21498435389905893Time Elapsed 1.6810824871063232\n",
            "Accuracy on train after 1 epochs is 0.6574074074074074\n",
            "*** Starting Client 20 ***\n",
            "Cross Entropy loss after 1 epochs is 0.21749646061410507Time Elapsed 1.586392879486084\n",
            "Accuracy on train after 1 epochs is 0.6354166666666666\n",
            "*** Starting Client 21 ***\n",
            "Cross Entropy loss after 1 epochs is 0.2148152628354728Time Elapsed 1.6185986995697021\n",
            "Accuracy on train after 1 epochs is 0.7\n",
            "*** Starting Client 22 ***\n",
            "Cross Entropy loss after 1 epochs is 0.22362139286554378Time Elapsed 1.5076487064361572\n",
            "Accuracy on train after 1 epochs is 0.6195652173913043\n",
            "*** Starting Client 23 ***\n",
            "Cross Entropy loss after 1 epochs is 0.17128576440154575Time Elapsed 2.0315258502960205\n",
            "Accuracy on train after 1 epochs is 0.734375\n",
            "*** Starting Client 24 ***\n",
            "Cross Entropy loss after 1 epochs is 0.2983049750328064Time Elapsed 0.9007256031036377\n",
            "Accuracy on train after 1 epochs is 0.6041666666666666\n",
            "*** Starting Client 25 ***\n",
            "Cross Entropy loss after 1 epochs is 0.17428137956275827Time Elapsed 1.4155116081237793\n",
            "Accuracy on train after 1 epochs is 0.7857142857142857\n",
            "*** Starting Client 26 ***\n",
            "Cross Entropy loss after 1 epochs is 0.32325942389667034Time Elapsed 1.636887550354004\n",
            "Accuracy on train after 1 epochs is 0.74\n",
            "*** Starting Client 27 ***\n",
            "Cross Entropy loss after 1 epochs is 0.30716404860669916Time Elapsed 0.809659481048584\n",
            "Accuracy on train after 1 epochs is 0.4772727272727273\n",
            "*** Starting Client 28 ***\n",
            "Cross Entropy loss after 1 epochs is 0.24479926005005836Time Elapsed 0.8620798587799072\n",
            "Accuracy on train after 1 epochs is 0.5208333333333334\n",
            "*** Starting Client 29 ***\n",
            "Cross Entropy loss after 1 epochs is 0.12092922552463799Time Elapsed 0.975578784942627\n",
            "Accuracy on train after 1 epochs is 0.8392857142857143\n",
            "*** Starting Client 30 ***\n",
            "Cross Entropy loss after 1 epochs is 0.1768012841542562Time Elapsed 0.34209251403808594\n",
            "Accuracy on train after 1 epochs is 0.75\n",
            "*** Starting Client 31 ***\n",
            "Cross Entropy loss after 1 epochs is 0.19951373059302568Time Elapsed 0.40418529510498047\n",
            "Accuracy on train after 1 epochs is 0.75\n",
            "*** Starting Client 32 ***\n",
            "Cross Entropy loss after 1 epochs is 0.33466775342822075Time Elapsed 0.3935084342956543\n",
            "Accuracy on train after 1 epochs is 0.5\n",
            "*** Starting Client 33 ***\n",
            "Cross Entropy loss after 1 epochs is 0.18786204171677431Time Elapsed 1.0792412757873535\n",
            "Accuracy on train after 1 epochs is 0.7\n",
            "*** Starting Client 34 ***\n",
            "Cross Entropy loss after 1 epochs is 0.13931886950398192Time Elapsed 1.1513864994049072\n",
            "Accuracy on train after 1 epochs is 0.7941176470588235\n",
            "*** Starting Client 35 ***\n",
            "Cross Entropy loss after 1 epochs is 0.16573114861519292Time Elapsed 0.9747495651245117\n",
            "Accuracy on train after 1 epochs is 0.7115384615384616\n",
            "*** Starting Client 36 ***\n",
            "Cross Entropy loss after 1 epochs is 0.15590909610701992Time Elapsed 1.0164737701416016\n",
            "Accuracy on train after 1 epochs is 0.8035714285714286\n",
            "*** Starting Client 37 ***\n",
            "Cross Entropy loss after 1 epochs is 0.18300963829581937Time Elapsed 0.8775858879089355\n",
            "Accuracy on train after 1 epochs is 0.7291666666666666\n",
            "*** Starting Client 38 ***\n",
            "Cross Entropy loss after 1 epochs is 0.18711115926562344Time Elapsed 0.775242805480957\n",
            "Accuracy on train after 1 epochs is 0.8\n",
            "*** Starting Client 39 ***\n",
            "Cross Entropy loss after 1 epochs is 0.1404768810965694Time Elapsed 0.9309759140014648\n",
            "Accuracy on train after 1 epochs is 0.8269230769230769\n",
            "*** Starting Client 40 ***\n",
            "Cross Entropy loss after 1 epochs is 0.233446912108775Time Elapsed 1.104339599609375\n",
            "Accuracy on train after 1 epochs is 0.65625\n",
            "*** Starting Client 41 ***\n",
            "Cross Entropy loss after 1 epochs is 0.38075168058276176Time Elapsed 0.2878241539001465\n",
            "Accuracy on train after 1 epochs is 0.625\n",
            "*** Starting Client 42 ***\n",
            "Cross Entropy loss after 1 epochs is 0.45761702954769135Time Elapsed 0.2928884029388428\n",
            "Accuracy on train after 1 epochs is 0.5\n",
            "*** Starting Client 43 ***\n",
            "Cross Entropy loss after 1 epochs is 0.24206581711769104Time Elapsed 0.304901123046875\n",
            "Accuracy on train after 1 epochs is 0.625\n",
            "*** Starting Client 44 ***\n",
            "Cross Entropy loss after 1 epochs is 0.12036037697301556Time Elapsed 0.5108709335327148\n",
            "Accuracy on train after 1 epochs is 0.8333333333333334\n",
            "*** Starting Client 45 ***\n",
            "Cross Entropy loss after 1 epochs is 0.27247549816966055Time Elapsed 0.7699954509735107\n",
            "Accuracy on train after 1 epochs is 0.625\n",
            "*** Starting Client 46 ***\n",
            "Cross Entropy loss after 1 epochs is 0.15723688268151723Time Elapsed 1.219789743423462\n",
            "Accuracy on train after 1 epochs is 0.7763157894736842\n",
            "*** Starting Client 47 ***\n",
            "Cross Entropy loss after 1 epochs is 0.23978113905630177Time Elapsed 1.1820404529571533\n",
            "Accuracy on train after 1 epochs is 0.6805555555555556\n",
            "*** Starting Client 48 ***\n",
            "Cross Entropy loss after 1 epochs is 0.2512251219401757Time Elapsed 0.497542142868042\n",
            "Accuracy on train after 1 epochs is 0.625\n",
            "*** Starting Client 49 ***\n",
            "Not enough samples for client 49\n",
            "Global Aggregration Successfull\n",
            "###Validation Accuracy ###\n",
            "Accuracy on val is 0.6754098360655739\n"
          ],
          "name": "stdout"
        }
      ]
    }
  ]
}