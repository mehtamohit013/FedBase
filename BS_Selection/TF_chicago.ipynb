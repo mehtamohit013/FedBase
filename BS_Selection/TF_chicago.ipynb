{
  "cells": [
    {
      "cell_type": "markdown",
      "metadata": {
        "colab_type": "text",
        "id": "view-in-github"
      },
      "source": [
        "<a href=\"https://colab.research.google.com/github/mehtamohit013/comms_lidar_ML/blob/main/BS_Selection/TF_5bs.ipynb\" target=\"_parent\"><img src=\"https://colab.research.google.com/assets/colab-badge.svg\" alt=\"Open In Colab\"/></a>"
      ]
    },
    {
      "cell_type": "markdown",
      "id": "6baca2d3",
      "metadata": {
        "heading_collapsed": true,
        "id": "6baca2d3"
      },
      "source": [
        "# Colab "
      ]
    },
    {
      "cell_type": "code",
      "execution_count": null,
      "id": "9ce7cf5e",
      "metadata": {
        "ExecuteTime": {
          "end_time": "2022-01-25T11:20:48.615265Z",
          "start_time": "2022-01-25T11:20:48.446571Z"
        },
        "hidden": true,
        "id": "9ce7cf5e"
      },
      "outputs": [],
      "source": [
        "!mkdir tb_logs\n",
        "from google.colab import drive\n",
        "drive.mount('/gdrive')"
      ]
    },
    {
      "cell_type": "code",
      "execution_count": null,
      "id": "3bdd4929",
      "metadata": {
        "ExecuteTime": {
          "end_time": "2022-01-25T11:20:48.619538Z",
          "start_time": "2022-01-25T11:20:48.619490Z"
        },
        "hidden": true,
        "id": "3bdd4929"
      },
      "outputs": [],
      "source": [
        "%%capture _\n",
        "!unzip /gdrive/MyDrive/BTP/5_bs/5_bs_ml.zip\n",
        "# !unzip /gdrive/MyDrive/BTP/Webots_data/val_data.zip\n",
        "!pip install pytorch-lightning"
      ]
    },
    {
      "cell_type": "code",
      "execution_count": null,
      "id": "fdf1df71",
      "metadata": {
        "ExecuteTime": {
          "end_time": "2022-01-25T11:20:48.621227Z",
          "start_time": "2022-01-25T11:20:48.621211Z"
        },
        "hidden": true,
        "id": "fdf1df71"
      },
      "outputs": [],
      "source": [
        "!pip install  --upgrade pandas"
      ]
    },
    {
      "cell_type": "markdown",
      "id": "8d111ccc",
      "metadata": {
        "id": "8d111ccc"
      },
      "source": [
        "# Imports"
      ]
    },
    {
      "cell_type": "code",
      "execution_count": null,
      "id": "FnffeR8sHG9K",
      "metadata": {
        "id": "FnffeR8sHG9K"
      },
      "outputs": [],
      "source": [
        "%load_ext tensorboard"
      ]
    },
    {
      "cell_type": "code",
      "execution_count": 12,
      "id": "92405dc5",
      "metadata": {
        "ExecuteTime": {
          "end_time": "2022-01-25T11:21:42.556817Z",
          "start_time": "2022-01-25T11:21:42.532338Z"
        },
        "id": "92405dc5",
        "scrolled": false
      },
      "outputs": [
        {
          "name": "stderr",
          "output_type": "stream",
          "text": [
            "Global seed set to 0\n"
          ]
        },
        {
          "data": {
            "text/plain": [
              "0"
            ]
          },
          "execution_count": 12,
          "metadata": {},
          "output_type": "execute_result"
        }
      ],
      "source": [
        "import torch\n",
        "from torch import nn\n",
        "from torch.nn import functional as F\n",
        "from torch.utils.data import DataLoader, Dataset\n",
        "from torch.utils.tensorboard import SummaryWriter\n",
        "from enum import Enum\n",
        "\n",
        "import numpy as np\n",
        "import pandas as pd\n",
        "from tqdm.notebook import tqdm_notebook\n",
        "import os\n",
        "import matplotlib.pyplot as plt\n",
        "import random\n",
        "import scipy.io as io\n",
        "import math\n",
        "import getpass\n",
        "import time\n",
        "from typing import Union\n",
        "\n",
        "import pytorch_lightning as pl\n",
        "from pytorch_lightning.loggers import TensorBoardLogger\n",
        "\n",
        "seed = 0\n",
        "\n",
        "random.seed(seed)\n",
        "torch.manual_seed(seed)\n",
        "np.random.seed(seed)\n",
        "pl.seed_everything(seed)\n",
        "# torch.backends.cudnn.deterministic = True\n",
        "# torch.backends.cudnn.benchmark = True #Use only while training, not while deterministic "
      ]
    },
    {
      "cell_type": "markdown",
      "id": "9e1da2b5",
      "metadata": {
        "id": "9e1da2b5"
      },
      "source": [
        "# Data and Hyper Params"
      ]
    },
    {
      "cell_type": "markdown",
      "id": "0fa3d22c",
      "metadata": {
        "id": "0fa3d22c"
      },
      "source": [
        "## Hyper Params"
      ]
    },
    {
      "cell_type": "code",
      "execution_count": 13,
      "id": "f7b1e19a",
      "metadata": {
        "ExecuteTime": {
          "end_time": "2022-01-25T11:21:43.543322Z",
          "start_time": "2022-01-25T11:21:43.225968Z"
        },
        "id": "f7b1e19a",
        "scrolled": true
      },
      "outputs": [
        {
          "name": "stdout",
          "output_type": "stream",
          "text": [
            "cpu\n"
          ]
        }
      ],
      "source": [
        "user = getpass.getuser()\n",
        "\n",
        "HOME = os.environ['HOME']\n",
        "\n",
        "if user == 'root':  #For google colab\n",
        "    dpath = './chicago'\n",
        "    save_dir = './model_state_dict'\n",
        "else:\n",
        "    dpath = os.environ['HOME'] + '/webots_code/data/chicago'\n",
        "    save_dir = os.path.join(os.environ['HOME'],'webots_code/model_state_dict')\n",
        "\n",
        "gpath = f'{dpath}/gps.pkl'\n",
        "gps_pd = pd.read_pickle(gpath)\n",
        "train_pd = gps_pd[:1000]\n",
        "test_pd = gps_pd[1000:2000].reset_index()\n",
        "\n",
        "len_train = len(train_pd)\n",
        "len_test = len(test_pd)\n",
        "num_BS = 3\n",
        "\n",
        "BATCH_SIZE = 64\n",
        "\n",
        "if (user=='root'):\n",
        "    n_worker = 2\n",
        "else:\n",
        "    n_worker = 8\n",
        "\n",
        "# device = torch.device('cuda' if torch.cuda.is_available() else 'cpu')\n",
        "device = 'cpu'\n",
        "print(device)"
      ]
    },
    {
      "cell_type": "markdown",
      "id": "bf6c73de",
      "metadata": {
        "id": "bf6c73de"
      },
      "source": [
        "## Utilities"
      ]
    },
    {
      "cell_type": "code",
      "execution_count": 14,
      "id": "091fc643",
      "metadata": {
        "ExecuteTime": {
          "end_time": "2022-01-25T11:20:48.624148Z",
          "start_time": "2022-01-25T11:20:48.624137Z"
        },
        "id": "091fc643"
      },
      "outputs": [],
      "source": [
        "def top_k_acc(y_true:torch.Tensor,y_pred:torch.Tensor,k=1):\n",
        "    \n",
        "    y_pred_tpk = torch.topk(y_pred,k,dim=1)[1]\n",
        "    \n",
        "    ovr = 0\n",
        "    pos = 0\n",
        "\n",
        "    for i in range(0,len(y_pred_tpk)):\n",
        "        if(y_true[i] in y_pred_tpk[i]):\n",
        "            pos+=1\n",
        "        ovr+=1\n",
        "    \n",
        "    acc = float(pos)/float(ovr)\n",
        "    return acc"
      ]
    },
    {
      "cell_type": "markdown",
      "id": "1ba92c0f",
      "metadata": {
        "id": "1ba92c0f"
      },
      "source": [
        "## Dataset"
      ]
    },
    {
      "cell_type": "code",
      "execution_count": 15,
      "id": "5882e757",
      "metadata": {
        "ExecuteTime": {
          "end_time": "2022-01-25T11:20:48.624932Z",
          "start_time": "2022-01-25T11:20:48.624921Z"
        },
        "id": "5882e757"
      },
      "outputs": [],
      "source": [
        "class bs_dataset(Dataset):\n",
        "    def __init__(self,gps_pd:pd.DataFrame,\n",
        "                lpath:str=dpath+'/lidar_samples',\n",
        "                 label_path:str=dpath+'/labels'):\n",
        "    \n",
        "        self.gps = gps_pd\n",
        "        self.lpath = lpath\n",
        "        self.label_path = label_path\n",
        "        \n",
        "    def __getitem__(self,index):\n",
        "        filename = self.gps.at[index,'Lidar']\n",
        "        sample = dict() \n",
        "\n",
        "        sample['lidar'] = dict(np.load(os.path.join(self.lpath,filename)))['lidar'] #[10,240,240]\n",
        "        sample['lidar'] = sample['lidar'].astype('float32')\n",
        "        sample['gps'] = np.array(self.gps.at[index,'GPS'])[1].astype('float32') # Central GPS coord\n",
        "        sample['BS'] = self.gps.at[index,'BS'].reshape((3*num_BS,)).astype('float32') #[num_BS*3,]\n",
        "        sample['label'] = io.loadmat(self.label_path+f'/{filename[:-3]}mat')['ss']\n",
        "        \n",
        "        #Return the index of maximum element \n",
        "        sample['label'] = np.argmax(sample['label'].astype('float32')) \n",
        "        \n",
        "        return sample\n",
        "    \n",
        "    def __len__(self):\n",
        "        return len(self.gps)"
      ]
    },
    {
      "cell_type": "code",
      "execution_count": 16,
      "id": "20bf5bf7",
      "metadata": {
        "ExecuteTime": {
          "end_time": "2022-01-25T11:20:48.625845Z",
          "start_time": "2022-01-25T11:20:48.625834Z"
        },
        "id": "20bf5bf7"
      },
      "outputs": [],
      "source": [
        "train_dataset = bs_dataset(train_pd)\n",
        "test_dataset = bs_dataset(test_pd)"
      ]
    },
    {
      "cell_type": "markdown",
      "id": "8ab3f9b8",
      "metadata": {
        "heading_collapsed": true,
        "id": "8ab3f9b8"
      },
      "source": [
        "## DataLoader"
      ]
    },
    {
      "cell_type": "code",
      "execution_count": 18,
      "id": "d78c59ea",
      "metadata": {
        "ExecuteTime": {
          "end_time": "2022-01-25T11:20:48.626516Z",
          "start_time": "2022-01-25T11:20:48.626505Z"
        },
        "hidden": true,
        "id": "d78c59ea"
      },
      "outputs": [],
      "source": [
        "train_loader = DataLoader(\n",
        "    train_dataset,\n",
        "    batch_size=BATCH_SIZE,\n",
        "    pin_memory=True,\n",
        "    num_workers = n_worker,\n",
        "    drop_last = True,\n",
        "    shuffle = True\n",
        "    )"
      ]
    },
    {
      "cell_type": "code",
      "execution_count": 19,
      "id": "1c0c22a5",
      "metadata": {
        "ExecuteTime": {
          "end_time": "2022-01-25T11:20:48.627228Z",
          "start_time": "2022-01-25T11:20:48.627217Z"
        },
        "hidden": true,
        "id": "1c0c22a5"
      },
      "outputs": [],
      "source": [
        "test_loader = DataLoader(\n",
        "    test_dataset,\n",
        "    batch_size=BATCH_SIZE,\n",
        "    pin_memory=True,\n",
        "    num_workers = n_worker,\n",
        "    drop_last = True\n",
        ")"
      ]
    },
    {
      "cell_type": "markdown",
      "id": "7522fdff",
      "metadata": {
        "heading_collapsed": true,
        "id": "7522fdff"
      },
      "source": [
        "# Model "
      ]
    },
    {
      "cell_type": "markdown",
      "id": "2840e195",
      "metadata": {
        "hidden": true,
        "id": "2840e195"
      },
      "source": [
        "## Pre Trained Incp model"
      ]
    },
    {
      "cell_type": "code",
      "execution_count": 20,
      "id": "618560c2",
      "metadata": {
        "ExecuteTime": {
          "end_time": "2022-01-25T11:20:48.627908Z",
          "start_time": "2022-01-25T11:20:48.627897Z"
        },
        "code_folding": [],
        "hidden": true,
        "id": "618560c2"
      },
      "outputs": [],
      "source": [
        "class incp(nn.Module):\n",
        "    def __init__(self,drp:float=0.3,\n",
        "                 drp_fc:float=0.2):\n",
        "        super().__init__()\n",
        "        \n",
        "        self.drop_CNN = nn.Dropout(drp)\n",
        "        self.drop_fc = nn.Dropout(drp_fc)\n",
        "        self.mpool = nn.MaxPool2d((2,2))\n",
        "        self.channels = 5\n",
        "        self.fchannel = 3\n",
        "        self.conv1 = self.create_conv(10,self.channels,13)\n",
        "        self.conv2 = self.create_conv(self.channels,self.channels,13)\n",
        "        self.conv3 = self.create_conv(self.channels,self.channels,7)\n",
        "        self.conv4 = self.create_conv(self.channels,self.channels,7)\n",
        "\n",
        "        # 1st Inception block\n",
        "        self.in1 = nn.Sequential(\n",
        "            self.create_conv(self.channels,self.fchannel,1),\n",
        "            self.create_conv(self.fchannel,self.fchannel,3),\n",
        "            self.create_conv(self.fchannel,self.fchannel,3)\n",
        "        )\n",
        "        self.in2 = nn.Sequential(\n",
        "            self.create_conv(self.channels,self.fchannel,1),\n",
        "            self.create_conv(self.fchannel,self.fchannel,3)\n",
        "        )\n",
        "        self.in3 = nn.Sequential(\n",
        "            nn.MaxPool2d((3,3)),\n",
        "            self.create_conv(self.channels,self.fchannel,1)\n",
        "        )\n",
        "        self.in4 = self.create_conv(self.channels,self.fchannel,1)\n",
        "\n",
        "        # Second inception block\n",
        "        self.in5 = nn.Sequential(\n",
        "            self.create_conv(self.fchannel*4,self.fchannel,1),\n",
        "            self.create_conv(self.fchannel,self.fchannel,3),\n",
        "            self.create_conv(self.fchannel,self.fchannel,3)\n",
        "        )\n",
        "        self.in6 = nn.Sequential(\n",
        "            self.create_conv(self.fchannel*4,self.fchannel,1),\n",
        "            self.create_conv(self.fchannel,self.fchannel,3)\n",
        "        )\n",
        "        self.in7 = nn.Sequential(\n",
        "            nn.MaxPool2d((3,3)),\n",
        "            self.create_conv(self.fchannel*4,self.fchannel,1)\n",
        "        )\n",
        "        self.in8 = self.create_conv(self.fchannel*4,self.fchannel,1)\n",
        "\n",
        "        self.conv5 = self.create_conv(self.fchannel*4,self.fchannel,7)\n",
        "        self.conv6 = self.create_conv(self.fchannel,self.fchannel,7)\n",
        "\n",
        "        self.conv7 = self.create_conv(self.fchannel,self.fchannel,3)\n",
        "        self.conv8 = self.create_conv(self.fchannel,self.fchannel,3)\n",
        "        \n",
        "        self.flatten = nn.Flatten()\n",
        "\n",
        "        # self.linear = nn.Sequential(\n",
        "        #     nn.Linear(2352,256),\n",
        "        #     nn.PReLU(1),\n",
        "        #     nn.BatchNorm1d(256),\n",
        "        #     self.drop_fc,\n",
        "        #     nn.Linear(256,64),\n",
        "        #     nn.PReLU(1),\n",
        "        #     nn.BatchNorm1d(64),\n",
        "        #     self.drop_fc,\n",
        "        #     nn.Linear(64,16),\n",
        "        #     nn.PReLU(1),\n",
        "        #     nn.BatchNorm1d(16),\n",
        "        #     self.drop_fc,\n",
        "        #     nn.Linear(16,3)\n",
        "        # )\n",
        "\n",
        "        self.linear = nn.Sequential(\n",
        "            nn.Linear(588,16),\n",
        "            nn.PReLU(1),\n",
        "            nn.BatchNorm1d(16),\n",
        "            nn.Linear(16,3)\n",
        "        )\n",
        "\n",
        "    \n",
        "    def forward(self,X):\n",
        "        X  = self.conv1(X)\n",
        "        X  = self.conv2(X)\n",
        "        X = self.mpool(X)\n",
        "\n",
        "        X = self.conv3(X)\n",
        "        X = self.conv4(X)\n",
        "        X = self.mpool(X)\n",
        "\n",
        "        X = self.drop_CNN(X)\n",
        "\n",
        "        a = self.in1(X)\n",
        "        a = F.pad(a,[2,2,2,2])\n",
        "        b = self.in2(X)\n",
        "        b = F.pad(b,[1,1,1,1])\n",
        "        c = self.in3(X)\n",
        "        c = F.pad(c,[16,16,16,16])\n",
        "        d = self.in4(X)\n",
        "\n",
        "        X = torch.cat((a,b,c,d),1)\n",
        "\n",
        "        X = self.drop_CNN(X)\n",
        "\n",
        "        a = self.in5(X)\n",
        "        a = F.pad(a,[2,2,2,2])\n",
        "        b = self.in6(X)\n",
        "        b = F.pad(b,[1,1,1,1])\n",
        "        c = self.in7(X)\n",
        "        c = F.pad(c,[16,16,16,16])\n",
        "        d = self.in8(X)\n",
        "\n",
        "        X = torch.cat((a,b,c,d),1)\n",
        "        X = self.drop_CNN(X)\n",
        "\n",
        "        X = self.conv5(X)\n",
        "        X = self.conv6(X)\n",
        "\n",
        "        X = self.mpool(X)\n",
        "\n",
        "        X = self.drop_CNN(X)\n",
        "\n",
        "        X = self.conv7(X)\n",
        "        X = self.conv8(X)\n",
        "        # print(X.shape)\n",
        "\n",
        "        X = self.flatten(X)\n",
        "        out = self.linear(X)\n",
        "\n",
        "        return out\n",
        "    \n",
        "    def create_conv(self,in_layers:int,out_layers:int,kernel,stride:int=1,\n",
        "                    padding:int=0) -> nn.Module :\n",
        "\n",
        "        return nn.Sequential(\n",
        "            nn.Conv2d(in_layers,out_layers,kernel,stride,padding),\n",
        "            nn.PReLU(out_layers),\n",
        "            nn.BatchNorm2d(out_layers)\n",
        "        )"
      ]
    },
    {
      "cell_type": "code",
      "execution_count": 21,
      "id": "fa4fdd49",
      "metadata": {
        "ExecuteTime": {
          "end_time": "2022-01-25T11:20:48.628460Z",
          "start_time": "2022-01-25T11:20:48.628449Z"
        },
        "hidden": true,
        "id": "fa4fdd49"
      },
      "outputs": [],
      "source": [
        "# lidar_pre = incp()\n",
        "\n",
        "# if user == 'root':  #For google colab\n",
        "#    lidar_pre.load_state_dict(torch.load('/gdrive/MyDrive/BTP/model_state_dict/lidar_final.zip'))\n",
        "# else:\n",
        "#     lidar_pre.load_state_dict(torch.load('./model_state_dict/lidar_final.zip'))"
      ]
    },
    {
      "cell_type": "markdown",
      "id": "47bc7f2b",
      "metadata": {
        "hidden": true,
        "id": "47bc7f2b"
      },
      "source": [
        "## Freezing layers\n",
        "and forward hook"
      ]
    },
    {
      "cell_type": "markdown",
      "id": "034d2149",
      "metadata": {
        "heading_collapsed": true,
        "hidden": true,
        "id": "034d2149"
      },
      "source": [
        "### Freezing"
      ]
    },
    {
      "cell_type": "code",
      "execution_count": null,
      "id": "79b0fe4d",
      "metadata": {
        "ExecuteTime": {
          "end_time": "2022-01-25T11:20:48.629193Z",
          "start_time": "2022-01-25T11:20:48.629182Z"
        },
        "hidden": true,
        "id": "79b0fe4d"
      },
      "outputs": [],
      "source": [
        "# for c in lidar_pre.children():\n",
        "#     if c == lidar_pre.linear:\n",
        "# #         For freezing upto convolution, uncomment 'break' below\n",
        "#         # break \n",
        "        \n",
        "# #         for freezing upto last second layer\n",
        "#         for params in lidar_pre.linear[0].parameters():\n",
        "#             params.requires_grad = False\n",
        "\n",
        "#     else:\n",
        "#         for param in c.parameters():\n",
        "#             param.requires_grad = False"
      ]
    },
    {
      "cell_type": "code",
      "execution_count": null,
      "id": "48c0e508",
      "metadata": {
        "ExecuteTime": {
          "end_time": "2022-01-25T11:20:48.629863Z",
          "start_time": "2022-01-25T11:20:48.629852Z"
        },
        "hidden": true,
        "id": "48c0e508"
      },
      "outputs": [],
      "source": [
        "# for c in lidar_pre.conv8.parameters():\n",
        "#     print(c.requires_grad)\n",
        "\n",
        "# for c in lidar_pre.linear.parameters():\n",
        "#     print(c.requires_grad)"
      ]
    },
    {
      "cell_type": "markdown",
      "id": "1adb1769",
      "metadata": {
        "hidden": true,
        "id": "1adb1769"
      },
      "source": [
        "### Forward Hook"
      ]
    },
    {
      "cell_type": "code",
      "execution_count": null,
      "id": "147ed09d",
      "metadata": {
        "ExecuteTime": {
          "end_time": "2022-01-25T11:20:48.630687Z",
          "start_time": "2022-01-25T11:20:48.630676Z"
        },
        "hidden": true,
        "id": "147ed09d"
      },
      "outputs": [],
      "source": [
        "def getActivation(name,activation:dict):\n",
        "    # the hook signature\n",
        "    def hook(model, input, output):\n",
        "        activation[name] = output.detach()\n",
        "    return hook"
      ]
    },
    {
      "cell_type": "markdown",
      "id": "abb9a36d",
      "metadata": {
        "hidden": true,
        "id": "abb9a36d"
      },
      "source": [
        "## Transfer Learning"
      ]
    },
    {
      "cell_type": "code",
      "execution_count": null,
      "id": "ff691935",
      "metadata": {
        "ExecuteTime": {
          "end_time": "2022-01-25T11:20:48.631348Z",
          "start_time": "2022-01-25T11:20:48.631337Z"
        },
        "hidden": true,
        "id": "ff691935"
      },
      "outputs": [],
      "source": [
        "class incp_5(torch.nn.Module):\n",
        "    def __init__(self,\n",
        "                 lidar_pre:nn.Module=lidar_pre):\n",
        "        \n",
        "        super(incp_5,self).__init__()\n",
        "        self.incp = lidar_pre\n",
        "        \n",
        "        self.activation = {}\n",
        "        self.incp.flatten.register_forward_hook(getActivation('conv',self.activation))\n",
        "        \n",
        "        self.linear = nn.Sequential(\n",
        "            nn.Linear(588,16),\n",
        "            nn.PReLU(1),\n",
        "            nn.BatchNorm1d(16),\n",
        "            nn.Linear(16,5)\n",
        "        )\n",
        "        \n",
        "    def forward(self,X):\n",
        "        self.incp(X)\n",
        "        out = self.activation['conv']\n",
        "        \n",
        "        out = self.linear(out)\n",
        "        return out"
      ]
    },
    {
      "cell_type": "code",
      "execution_count": null,
      "id": "798621ab",
      "metadata": {
        "ExecuteTime": {
          "end_time": "2022-01-25T11:20:48.632024Z",
          "start_time": "2022-01-25T11:20:48.632012Z"
        },
        "hidden": true,
        "id": "798621ab"
      },
      "outputs": [],
      "source": [
        "# model = incp_5(lidar_pre)"
      ]
    },
    {
      "cell_type": "markdown",
      "id": "9a259ca6",
      "metadata": {
        "id": "9a259ca6"
      },
      "source": [
        "# Training"
      ]
    },
    {
      "cell_type": "markdown",
      "id": "d9aa264c",
      "metadata": {
        "id": "d9aa264c"
      },
      "source": [
        "## Lidar Trainer\n"
      ]
    },
    {
      "cell_type": "code",
      "execution_count": null,
      "id": "9c49ba65",
      "metadata": {
        "ExecuteTime": {
          "end_time": "2022-01-25T11:20:48.632811Z",
          "start_time": "2022-01-25T11:20:48.632800Z"
        },
        "id": "9c49ba65"
      },
      "outputs": [],
      "source": [
        "class lidar_trainer(pl.LightningModule):\n",
        "    def __init__(self,\n",
        "                 drop_prob:float = 0.3,\n",
        "                 drop_prob_fc:float = 0.2,\n",
        "                 learning_rate:float = 1e-3,\n",
        "                 weight_decay:float = 0.0):\n",
        "        \n",
        "        '''\n",
        "        use_model = 'NU','imp'\n",
        "        '''\n",
        "\n",
        "        self.drp = drop_prob\n",
        "        self.drp_fc = drop_prob_fc\n",
        "\n",
        "        super().__init__()\n",
        "        self.model = incp(drop_prob,drop_prob_fc)\n",
        "\n",
        "        if user == 'root':  #For google colab\n",
        "            self.model.load_state_dict(torch.load('/gdrive/MyDrive/BTP/model_state_dict/lidar_final.zip'))\n",
        "        else:\n",
        "            self.model.load_state_dict(torch.load('./model_state_dict/lidar_final.zip'))\n",
        "        \n",
        "\n",
        "        self.celoss = nn.CrossEntropyLoss()\n",
        "        self.lr = learning_rate\n",
        "        self.wd = weight_decay\n",
        "\n",
        "        self.train_acc = 0\n",
        "        self.val_acc = 0\n",
        "        self.test_acc = 0\n",
        "\n",
        "        self.example_input_array = torch.rand(1,10,240,240) # For logging graph\n",
        "    \n",
        "    def forward(self,lidar):\n",
        "        out = self.model(lidar)\n",
        "        return out\n",
        "    \n",
        "    def training_step(self,batch,batch_idx):\n",
        "        lidar = batch['lidar'].float()\n",
        "        label = batch['label'].long()\n",
        "        \n",
        "        yhat = self(lidar)\n",
        "        \n",
        "        loss = self.celoss(yhat,label)\n",
        "        \n",
        "        self.log('Train Loss',loss)\n",
        "        \n",
        "        return {'loss':loss,'pred':yhat.cpu().detach(),'label':label.cpu().detach()}\n",
        "    \n",
        "    def configure_optimizers(self):\n",
        "        opt = torch.optim.Adam(self.parameters(),self.lr,\n",
        "                               weight_decay=self.wd)\n",
        "        return opt\n",
        "    \n",
        "    def training_epoch_end(self,train_out):        \n",
        "        len_out = len(train_out)\n",
        "        y_pred = torch.Tensor(len_out*BATCH_SIZE,num_BS)\n",
        "        y_true = torch.Tensor(len_out*BATCH_SIZE)\n",
        "\n",
        "        for i in range(0,len_out):\n",
        "            y_pred[i*BATCH_SIZE:(i+1)*BATCH_SIZE,:] = train_out[i]['pred'] \n",
        "            y_true[i*BATCH_SIZE:(i+1)*BATCH_SIZE] = train_out[i]['label']\n",
        "\n",
        "        top1 = top_k_acc(y_true,y_pred,k=1)\n",
        "\n",
        "        # Calculating Avg loss\n",
        "        avg_loss = torch.stack([x['loss'] for x in train_out]).mean()\n",
        "        \n",
        "        self.logger.experiment.add_scalar('Loss-Train per epoch',avg_loss,self.current_epoch)\n",
        "        self.logger.experiment.add_scalar('Train Accuracy',top1,self.current_epoch)\n",
        "\n",
        "        self.train_acc = top1\n",
        "        \n",
        "        print(f'Train accuracies is {top1}')\n",
        "\n",
        "    def validation_step(self,batch,batch_idx):\n",
        "        lidar = batch['lidar'].float()\n",
        "        label = batch['label'].long()\n",
        "        \n",
        "        yhat = self.forward(lidar)\n",
        "        \n",
        "        return [yhat.cpu().detach(),label.cpu().detach()]\n",
        "     \n",
        "    def validation_epoch_end(self,val_out):\n",
        "        len_out = len(val_out)\n",
        "        y_pred = torch.Tensor(len_out*BATCH_SIZE,num_BS)\n",
        "        y_true = torch.Tensor(len_out*BATCH_SIZE)\n",
        "\n",
        "        for i in range(0,len_out):\n",
        "            y_pred[i*BATCH_SIZE:(i+1)*BATCH_SIZE,:] = val_out[i][0] \n",
        "            y_true[i*BATCH_SIZE:(i+1)*BATCH_SIZE] = val_out[i][1] \n",
        "\n",
        "        top1 = top_k_acc(y_true,y_pred,k=1)\n",
        "        self.val_acc = top1\n",
        "\n",
        "        self.logger.experiment.add_scalar('Validation Accuracy',top1,self.current_epoch)\n",
        "\n",
        "        print(f'Validation accuracy is {top1}')\n",
        "    \n",
        "    def test_step(self,batch,batch_idx):\n",
        "        lidar = batch['lidar'].float()\n",
        "        label = batch['label'].long()\n",
        "        \n",
        "        yhat = self.forward(lidar)\n",
        "        \n",
        "        return [yhat.cpu().detach(),label.cpu().detach()]\n",
        "     \n",
        "    def test_epoch_end(self,val_out):\n",
        "        len_out = len(val_out)\n",
        "        y_pred = torch.Tensor(len_out*BATCH_SIZE,num_BS)\n",
        "        y_true = torch.Tensor(len_out*BATCH_SIZE)\n",
        "\n",
        "        for i in range(0,len_out):\n",
        "            y_pred[i*BATCH_SIZE:(i+1)*BATCH_SIZE,:] = val_out[i][0] \n",
        "            y_true[i*BATCH_SIZE:(i+1)*BATCH_SIZE] = val_out[i][1] \n",
        "\n",
        "        top1 = top_k_acc(y_true,y_pred,k=1)\n",
        "        self.test_acc = top1\n",
        "\n",
        "        self.logger.experiment.add_hparams(\n",
        "            {\n",
        "                'LR' : self.lr,\n",
        "                'weight_decay' : self.wd,\n",
        "                'drop_prob' : self.drp,\n",
        "                'drop_fc' : self.drp_fc,\n",
        "                'overall params' : sum(p.numel() for p in self.model.parameters())\n",
        "            },\n",
        "            {\n",
        "                'hparam/test_acc' : self.test_acc,\n",
        "                'hparam/train_acc' : self.train_acc,\n",
        "                'hparam/val_acc' : self.val_acc\n",
        "            }\n",
        "        )\n",
        "        print(f'Test accuracy is {top1}')"
      ]
    },
    {
      "cell_type": "markdown",
      "id": "8d3b130b",
      "metadata": {
        "id": "8d3b130b"
      },
      "source": [
        "## Training"
      ]
    },
    {
      "cell_type": "code",
      "execution_count": null,
      "id": "af89c098",
      "metadata": {
        "ExecuteTime": {
          "end_time": "2022-01-25T11:20:48.633340Z",
          "start_time": "2022-01-25T11:20:48.633329Z"
        },
        "id": "af89c098"
      },
      "outputs": [],
      "source": [
        "lidar_model = lidar_trainer(learning_rate=1e-3)"
      ]
    },
    {
      "cell_type": "code",
      "execution_count": null,
      "id": "7fa3d3dd",
      "metadata": {
        "ExecuteTime": {
          "end_time": "2022-01-25T11:20:48.634073Z",
          "start_time": "2022-01-25T11:20:48.634062Z"
        },
        "id": "7fa3d3dd"
      },
      "outputs": [],
      "source": [
        "logger = TensorBoardLogger(\"tf_chicago\", name=\"pre_trained\",log_graph=True,default_hp_metric=False)\n",
        "lidar_pl_trainer = pl.Trainer(\n",
        "                     gpus=1,\n",
        "                     max_epochs = 10,\n",
        "                     precision = 16,\n",
        "                     logger = logger,\n",
        "                     log_every_n_steps = 1,\n",
        "                     amp_backend = 'native',\n",
        "                     deterministic = False,\n",
        "                     auto_lr_find = False\n",
        "                     )"
      ]
    },
    {
      "cell_type": "code",
      "execution_count": null,
      "id": "d52cfafc",
      "metadata": {},
      "outputs": [],
      "source": [
        "%tensorboard --logdir ./tf_5bs/init"
      ]
    },
    {
      "cell_type": "code",
      "execution_count": null,
      "id": "30c55408",
      "metadata": {},
      "outputs": [],
      "source": [
        "lidar_pl_trainer.tune(lidar_model,train_loader,test_loader)"
      ]
    },
    {
      "cell_type": "code",
      "execution_count": null,
      "id": "ee462257",
      "metadata": {
        "ExecuteTime": {
          "end_time": "2022-01-25T11:20:48.634966Z",
          "start_time": "2022-01-25T11:20:48.634954Z"
        },
        "id": "ee462257"
      },
      "outputs": [],
      "source": [
        "lidar_pl_trainer.fit(lidar_model,train_loader,test_loader)\n",
        "lidar_pl_trainer.test(lidar_model,test_loader)"
      ]
    },
    {
      "cell_type": "code",
      "execution_count": null,
      "id": "hNfaUs2_dWUS",
      "metadata": {
        "id": "hNfaUs2_dWUS"
      },
      "outputs": [],
      "source": [
        "!zip -r tf_5bs.zip tf_5bs"
      ]
    }
  ],
  "metadata": {
    "accelerator": "GPU",
    "colab": {
      "include_colab_link": true,
      "name": "TF_5bs.ipynb",
      "provenance": []
    },
    "kernelspec": {
      "display_name": "Python 3",
      "name": "python3"
    },
    "language_info": {
      "codemirror_mode": {
        "name": "ipython",
        "version": 3
      },
      "file_extension": ".py",
      "mimetype": "text/x-python",
      "name": "python",
      "nbconvert_exporter": "python",
      "pygments_lexer": "ipython3",
      "version": "3.7.11"
    },
    "notify_time": "5",
    "toc": {
      "base_numbering": 1,
      "nav_menu": {},
      "number_sections": true,
      "sideBar": true,
      "skip_h1_title": false,
      "title_cell": "Table of Contents",
      "title_sidebar": "Contents",
      "toc_cell": false,
      "toc_position": {
        "height": "calc(100% - 180px)",
        "left": "10px",
        "top": "150px",
        "width": "352px"
      },
      "toc_section_display": true,
      "toc_window_display": true
    },
    "varInspector": {
      "cols": {
        "lenName": 16,
        "lenType": 16,
        "lenVar": 40
      },
      "kernels_config": {
        "python": {
          "delete_cmd_postfix": "",
          "delete_cmd_prefix": "del ",
          "library": "var_list.py",
          "varRefreshCmd": "print(var_dic_list())"
        },
        "r": {
          "delete_cmd_postfix": ") ",
          "delete_cmd_prefix": "rm(",
          "library": "var_list.r",
          "varRefreshCmd": "cat(var_dic_list()) "
        }
      },
      "types_to_exclude": [
        "module",
        "function",
        "builtin_function_or_method",
        "instance",
        "_Feature"
      ],
      "window_display": false
    }
  },
  "nbformat": 4,
  "nbformat_minor": 5
}
