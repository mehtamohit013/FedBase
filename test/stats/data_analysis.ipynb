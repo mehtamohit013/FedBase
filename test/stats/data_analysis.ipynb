{
 "cells": [
  {
   "cell_type": "code",
   "execution_count": 13,
   "id": "2614f63d",
   "metadata": {
    "ExecuteTime": {
     "end_time": "2022-03-02T03:55:12.774860Z",
     "start_time": "2022-03-02T03:55:10.850308Z"
    }
   },
   "outputs": [],
   "source": [
    "import os\n",
    "import pandas as pd\n",
    "import pickle\n",
    "import collections\n",
    "import matplotlib.pyplot as plt\n",
    "from statistics import  mean\n",
    "import math\n",
    "import time\n",
    "from typing import Union\n",
    "import tqdm\n",
    "\n",
    "%matplotlib qt"
   ]
  },
  {
   "cell_type": "code",
   "execution_count": 2,
   "id": "ea033e77",
   "metadata": {
    "ExecuteTime": {
     "end_time": "2022-03-02T03:50:09.329383Z",
     "start_time": "2022-03-02T03:50:09.324021Z"
    }
   },
   "outputs": [],
   "source": [
    "HOME = os.environ['HOME']"
   ]
  },
  {
   "cell_type": "markdown",
   "id": "fba43b3e",
   "metadata": {},
   "source": [
    "## Creating Dataframe"
   ]
  },
  {
   "cell_type": "code",
   "execution_count": 3,
   "id": "ebb2343f",
   "metadata": {
    "ExecuteTime": {
     "end_time": "2022-03-02T03:50:21.462015Z",
     "start_time": "2022-03-02T03:50:21.452655Z"
    }
   },
   "outputs": [],
   "source": [
    "def create_df(dpath:str)->pd.DataFrame:\n",
    "    '''\n",
    "    Creates a pandas dataframe from all the \n",
    "    pickled files\n",
    "    '''\n",
    "    data = pd.DataFrame(columns=['Time','Name','Model',\n",
    "                                'GPS','Speed','BS'])\n",
    "\n",
    "    for count,filename in enumerate(os.listdir(dpath)):\n",
    "        ind = count\n",
    "        with open(dpath+f'/{filename}','rb') as a:\n",
    "            data.at[ind,'Time'] = pickle.load(a)\n",
    "            data.at[ind,'Name'] = pickle.load(a)\n",
    "            data.at[ind,'Model'] = pickle.load(a)\n",
    "            data.at[ind,'GPS'] = pickle.load(a)\n",
    "            data.at[ind,'Speed'] = pickle.load(a)\n",
    "            data.at[ind,'BS'] = pickle.load(a)\n",
    "        \n",
    "        if (count+1)%1000 == 0:\n",
    "            print(f'{count+1} samples has been added to dataframe')\n",
    "\n",
    "    return data\n"
   ]
  },
  {
   "cell_type": "code",
   "execution_count": 4,
   "id": "53ae144b",
   "metadata": {
    "ExecuteTime": {
     "end_time": "2022-03-02T03:51:18.808179Z",
     "start_time": "2022-03-02T03:51:18.388732Z"
    }
   },
   "outputs": [
    {
     "name": "stdout",
     "output_type": "stream",
     "text": [
      "Preprocessed dataframe already present\n"
     ]
    }
   ],
   "source": [
    "try: \n",
    "    data = pd.read_pickle(f'{HOME}/webots_code/data/final/gps.pkl')\n",
    "    print(f'Preprocessed dataframe already present')\n",
    "except:\n",
    "    dpath = f'{HOME}/webots_code/data/rt/data'\n",
    "    print(f'Creating Dataframe .....')\n",
    "    data = create_df(dpath)\n",
    "    data.to_pickle(f'{HOME}/webots_code/data/rt/gps.pkl')\n",
    "    print('Dataframe saved')"
   ]
  },
  {
   "cell_type": "code",
   "execution_count": 5,
   "id": "ebca3348",
   "metadata": {
    "ExecuteTime": {
     "end_time": "2022-03-02T03:51:23.021719Z",
     "start_time": "2022-03-02T03:51:22.667900Z"
    }
   },
   "outputs": [
    {
     "name": "stdout",
     "output_type": "stream",
     "text": [
      "<class 'pandas.core.frame.DataFrame'>\n",
      "Int64Index: 14902 entries, 0 to 14901\n",
      "Data columns (total 7 columns):\n",
      " #   Column  Non-Null Count  Dtype \n",
      "---  ------  --------------  ----- \n",
      " 0   Time    14902 non-null  object\n",
      " 1   Name    14902 non-null  object\n",
      " 2   Model   14902 non-null  object\n",
      " 3   GPS     14902 non-null  object\n",
      " 4   Speed   14902 non-null  object\n",
      " 5   Lidar   14902 non-null  object\n",
      " 6   BS      14902 non-null  object\n",
      "dtypes: object(7)\n",
      "memory usage: 931.4+ KB\n"
     ]
    }
   ],
   "source": [
    "data.info()"
   ]
  },
  {
   "cell_type": "code",
   "execution_count": 6,
   "id": "6b0bfc51",
   "metadata": {
    "ExecuteTime": {
     "end_time": "2022-03-02T03:51:27.600295Z",
     "start_time": "2022-03-02T03:51:27.595448Z"
    }
   },
   "outputs": [],
   "source": [
    "ncars = len(data['Name'].unique())"
   ]
  },
  {
   "cell_type": "markdown",
   "id": "66620842",
   "metadata": {},
   "source": [
    "## Distribution of samples "
   ]
  },
  {
   "cell_type": "code",
   "execution_count": 23,
   "id": "7906b38b",
   "metadata": {
    "ExecuteTime": {
     "end_time": "2022-03-02T04:20:12.503390Z",
     "start_time": "2022-03-02T04:20:12.356106Z"
    },
    "scrolled": true
   },
   "outputs": [
    {
     "data": {
      "text/plain": [
       "<BarContainer object of 57 artists>"
      ]
     },
     "execution_count": 23,
     "metadata": {},
     "output_type": "execute_result"
    }
   ],
   "source": [
    "# Number of samples per car\n",
    "car_dist = data['Name'].value_counts().to_dict()\n",
    "#Sorting into list\n",
    "per_car = [car_dist[f'SUMO vehicle {i}'] for i in range(0,len(data['Name'].unique()))]\n",
    "\n",
    "# plt.rcParams['figure.figsize'] = [20, 8]\n",
    "# plt.rcParams['figure.dpi'] = 100 \n",
    "plt.xlabel('Vehicle Index (0 Indexed)')\n",
    "plt.ylabel('Number of samples collected per vehicle')\n",
    "# plt.title('Distribution of samples over total vehicles')\n",
    "plt.bar(range(0,len(data['Name'].unique())),per_car)"
   ]
  },
  {
   "cell_type": "markdown",
   "id": "5265d5e3",
   "metadata": {
    "heading_collapsed": true
   },
   "source": [
    "## Average Speed and speed distribution"
   ]
  },
  {
   "cell_type": "code",
   "execution_count": 8,
   "id": "65fb2c62",
   "metadata": {
    "ExecuteTime": {
     "end_time": "2022-01-15T08:55:15.483624Z",
     "start_time": "2022-01-15T08:55:15.403410Z"
    },
    "hidden": true
   },
   "outputs": [
    {
     "name": "stdout",
     "output_type": "stream",
     "text": [
      "Unusually high speed: 78123.74630184326 Skipping\n",
      "Unusually high speed: 78577.19204316252 Skipping\n",
      "Unusually high speed: 78129.38644345499 Skipping\n",
      "Unusually high speed: 78690.58612413231 Skipping\n",
      "Unusually high speed: 78361.25566322099 Skipping\n",
      "Unusually high speed: 78566.60769535151 Skipping\n"
     ]
    }
   ],
   "source": [
    "speed = dict()\n",
    "speed_dist = [0]*(round(data['Speed'][data['Speed']<100].max())+1)\n",
    "for i in data.index.values:\n",
    "    if data.at[i,'Speed'] > 100.00:\n",
    "        print('Unusually high speed:',data.at[i,'Speed'],'Skipping')\n",
    "        continue\n",
    "    if data.at[i,'Name'] in speed.keys():\n",
    "        speed[data.at[i,'Name']].append(data.at[i,'Speed'])\n",
    "    else:\n",
    "        speed[data.at[i,'Name']] = list()\n",
    "        speed[data.at[i,'Name']].append(data.at[i,'Speed'])\n",
    "    speed_dist[round(data.at[i,'Speed'])]+=1"
   ]
  },
  {
   "cell_type": "markdown",
   "id": "188f5a63",
   "metadata": {
    "heading_collapsed": true,
    "hidden": true
   },
   "source": [
    "### Speed Distribution"
   ]
  },
  {
   "cell_type": "code",
   "execution_count": 9,
   "id": "1ed172dc",
   "metadata": {
    "ExecuteTime": {
     "end_time": "2022-01-15T08:55:16.687981Z",
     "start_time": "2022-01-15T08:55:16.554911Z"
    },
    "hidden": true
   },
   "outputs": [
    {
     "name": "stdout",
     "output_type": "stream",
     "text": [
      "Max speed is 17.67503567392118\n"
     ]
    },
    {
     "data": {
      "image/png": "[encoded data removed]",
      "text/plain": [
       "<Figure size 432x288 with 1 Axes>"
      ]
     },
     "metadata": {
      "needs_background": "light"
     },
     "output_type": "display_data"
    }
   ],
   "source": [
    "# plt.rcParams['figure.figsize'] = [15, 8]\n",
    "# plt.rcParams['figure.dpi'] = 100\n",
    "plt.bar(range(len(speed_dist)),speed_dist[:20])\n",
    "print('Max speed is',data['Speed'][data['Speed']<100].max())"
   ]
  },
  {
   "cell_type": "code",
   "execution_count": 10,
   "id": "5ba5ee2d",
   "metadata": {
    "ExecuteTime": {
     "end_time": "2022-01-15T08:55:17.168860Z",
     "start_time": "2022-01-15T08:55:17.151286Z"
    },
    "hidden": true
   },
   "outputs": [],
   "source": [
    "avg_speed = list()\n",
    "for i in range(len(data['Name'].unique())):\n",
    "    avg_speed.append(mean(speed[f'SUMO vehicle {i}']))"
   ]
  },
  {
   "cell_type": "code",
   "execution_count": 11,
   "id": "84f3d0e1",
   "metadata": {
    "ExecuteTime": {
     "end_time": "2022-01-15T08:55:17.806711Z",
     "start_time": "2022-01-15T08:55:17.687579Z"
    },
    "hidden": true
   },
   "outputs": [
    {
     "data": {
      "text/plain": [
       "[<matplotlib.lines.Line2D at 0x7f857d4955d0>]"
      ]
     },
     "execution_count": 11,
     "metadata": {},
     "output_type": "execute_result"
    },
    {
     "data": {
      "image/png": "[encoded data removed]",
      "text/plain": [
       "<Figure size 432x288 with 1 Axes>"
      ]
     },
     "metadata": {
      "needs_background": "light"
     },
     "output_type": "display_data"
    }
   ],
   "source": [
    "# plt.rcParams['figure.figsize'] = [20, 8]\n",
    "# plt.rcParams['figure.dpi'] = 100\n",
    "plt.xlabel('Vehicle Index (0 Indexed)')\n",
    "plt.ylabel('Average Speed throughout journey (in m/s)')\n",
    "# plt.title('Average Speed Distribution Over Collected Data')\n",
    "plt.plot(range(ncars),avg_speed)"
   ]
  },
  {
   "cell_type": "markdown",
   "id": "e9d2cc02",
   "metadata": {},
   "source": [
    "## Surrounding vehicles"
   ]
  },
  {
   "cell_type": "markdown",
   "id": "481695a6",
   "metadata": {},
   "source": [
    "### For each sample\n",
    "Calculating surrounding vehciles for each sample"
   ]
  },
  {
   "cell_type": "code",
   "execution_count": 9,
   "id": "f082e565",
   "metadata": {
    "ExecuteTime": {
     "end_time": "2022-03-02T03:53:42.267870Z",
     "start_time": "2022-03-02T03:53:42.264122Z"
    }
   },
   "outputs": [],
   "source": [
    "timestep = 0.128\n",
    "gpath = f'{HOME}/webots_code/data/final/gps'\n",
    "lrange = 120\n",
    "\n",
    "#Creating new column for veh count\n",
    "veh_range = [0]*len(data)"
   ]
  },
  {
   "cell_type": "code",
   "execution_count": 13,
   "id": "26d3b22e",
   "metadata": {
    "ExecuteTime": {
     "end_time": "2022-01-15T08:55:19.969165Z",
     "start_time": "2022-01-15T08:55:19.964488Z"
    },
    "code_folding": [
     2
    ]
   },
   "outputs": [],
   "source": [
    "# Determining the distance between car and transmitter in meter\n",
    "# TO-DO : Consider height while calculating distance\n",
    "def dist_gps(gps1, gps2):\n",
    "    lat1, lon1, _ = gps1\n",
    "    lat2, lon2, _ = gps2\n",
    "    R = 6371000  # radius of Earth in meters\n",
    "    phi_1 = math.radians(lat1)\n",
    "    phi_2 = math.radians(lat2)\n",
    "\n",
    "    delta_phi = math.radians(lat2 - lat1)\n",
    "    delta_lambda = math.radians(lon2 - lon1)\n",
    "\n",
    "    a = math.sin(delta_phi / 2.0) ** 2 + \\\n",
    "        math.cos(phi_1) * math.cos(phi_2) * \\\n",
    "        math.sin(delta_lambda / 2.0) ** 2\n",
    "    c = 2 * math.atan2(math.sqrt(a), math.sqrt(1 - a))\n",
    "    return R * c"
   ]
  },
  {
   "cell_type": "code",
   "execution_count": 14,
   "id": "8a0ef33f",
   "metadata": {
    "ExecuteTime": {
     "end_time": "2022-01-15T08:55:20.641142Z",
     "start_time": "2022-01-15T08:55:20.633139Z"
    }
   },
   "outputs": [],
   "source": [
    "def read_gps(gpath)-> Union[pd.DataFrame]:\n",
    "    '''\n",
    "    Read all the GPS dataset and store\n",
    "    it in RAM, for faster exec\n",
    "    '''\n",
    "    gps_pd = []\n",
    "    for filename in os.listdir(gpath):\n",
    "        gps_pd.append(pd.read_feather(\n",
    "                        gpath+f'/{filename}'))\n",
    "    \n",
    "    return gps_pd"
   ]
  },
  {
   "cell_type": "code",
   "execution_count": 15,
   "id": "45c69f74",
   "metadata": {
    "ExecuteTime": {
     "end_time": "2022-01-15T08:55:21.468591Z",
     "start_time": "2022-01-15T08:55:21.227544Z"
    },
    "scrolled": true
   },
   "outputs": [
    {
     "name": "stdout",
     "output_type": "stream",
     "text": [
      "<class 'pandas.core.frame.DataFrame'>\n",
      "RangeIndex: 21468 entries, 0 to 21467\n",
      "Data columns (total 4 columns):\n",
      " #   Column    Non-Null Count  Dtype  \n",
      "---  ------    --------------  -----  \n",
      " 0   timestep  21468 non-null  float64\n",
      " 1   gps       21468 non-null  object \n",
      " 2   speed     21468 non-null  float64\n",
      " 3   model     21468 non-null  object \n",
      "dtypes: float64(2), object(2)\n",
      "memory usage: 671.0+ KB\n",
      "32 None\n"
     ]
    }
   ],
   "source": [
    "gps_pd = read_gps(gpath)\n",
    "print(len(gps_pd),gps_pd[0].info())"
   ]
  },
  {
   "cell_type": "code",
   "execution_count": 16,
   "id": "aa5f0e78",
   "metadata": {
    "ExecuteTime": {
     "end_time": "2022-01-15T08:55:22.758600Z",
     "start_time": "2022-01-15T08:55:22.755024Z"
    }
   },
   "outputs": [
    {
     "data": {
      "text/plain": [
       "[38.89429623716866, -77.07303298699297, 0.358]"
      ]
     },
     "execution_count": 16,
     "metadata": {},
     "output_type": "execute_result"
    }
   ],
   "source": [
    "data.at[0,'GPS']\n"
   ]
  },
  {
   "cell_type": "code",
   "execution_count": 10,
   "id": "93d2e3c7",
   "metadata": {
    "ExecuteTime": {
     "end_time": "2022-03-02T03:54:22.705570Z",
     "start_time": "2022-03-02T03:54:22.221711Z"
    }
   },
   "outputs": [],
   "source": [
    "data = pd.read_pickle(f'{HOME}/webots_code/data/final/stats_pd.pkl')"
   ]
  },
  {
   "cell_type": "code",
   "execution_count": 18,
   "id": "4d037a3b",
   "metadata": {
    "ExecuteTime": {
     "end_time": "2022-01-15T08:56:56.100792Z",
     "start_time": "2022-01-15T08:55:25.333826Z"
    },
    "code_folding": [],
    "scrolled": true
   },
   "outputs": [
    {
     "name": "stderr",
     "output_type": "stream",
     "text": [
      "/home/mohit/anaconda3/envs/webots_ml/lib/python3.7/site-packages/ipykernel_launcher.py:4: TqdmDeprecationWarning: This function will be removed in tqdm==5.0.0\n",
      "Please use `tqdm.notebook.tqdm` instead of `tqdm.tqdm_notebook`\n",
      "  after removing the cwd from sys.path.\n"
     ]
    },
    {
     "data": {
      "application/vnd.jupyter.widget-view+json": {
       "model_id": "66ec83a4c11b4cd1a12c89a7562f9c24",
       "version_major": 2,
       "version_minor": 0
      },
      "text/plain": [
       "  0%|          | 0/3943 [00:00<?, ?it/s]"
      ]
     },
     "metadata": {},
     "output_type": "display_data"
    }
   ],
   "source": [
    "#Iterating over all the vehicle GPS data\n",
    "start = time.time()\n",
    "veh_dist = list()\n",
    "for i in tqdm.tqdm_notebook(data.index.values):\n",
    "    siml_time = data.at[i,'Time']\n",
    "    i_dist = list()\n",
    "    for gps_entry in gps_pd: \n",
    "        # Checking for the position of the vehicle in that timestep\n",
    "        entry = gps_entry[\n",
    "                    ((data.at[i,'Time'] - timestep) < gps_entry['timestep']) &\n",
    "                    (gps_entry['timestep'] <= data.at[i,'Time'])\n",
    "                    ]\n",
    "        \n",
    "        \n",
    "        if entry.empty : \n",
    "            continue\n",
    "        \n",
    "\n",
    "        if len(entry) > 1:\n",
    "            entry = entry[entry['timestep']==siml_time]\n",
    "            \n",
    "#         print(entry)\n",
    "#         print(entry['gps'])\n",
    "            \n",
    "        # Calculating distance between vehicles\n",
    "        dist = dist_gps(data.at[i,'GPS'],entry['gps'].values[0])\n",
    "        dist = round(dist,2)\n",
    "        if dist < lrange and dist!=0:\n",
    "            veh_range[i] +=1         #For number of vehicles in range\n",
    "            i_dist.append(dist) #Capturing the distance of each vehicle\n",
    "    \n",
    "    veh_dist.append(i_dist)"
   ]
  },
  {
   "cell_type": "code",
   "execution_count": 19,
   "id": "e0a1f1fa",
   "metadata": {
    "ExecuteTime": {
     "end_time": "2022-01-15T08:56:57.577844Z",
     "start_time": "2022-01-15T08:56:57.572736Z"
    }
   },
   "outputs": [],
   "source": [
    "data['veh_range'] = veh_range\n",
    "data['veh_dist'] = veh_dist"
   ]
  },
  {
   "cell_type": "markdown",
   "id": "39f13ffb",
   "metadata": {},
   "source": [
    "### Load pre processed data"
   ]
  },
  {
   "cell_type": "code",
   "execution_count": 19,
   "id": "c5cd92fc",
   "metadata": {
    "ExecuteTime": {
     "end_time": "2022-03-02T04:08:49.512650Z",
     "start_time": "2022-03-02T04:08:49.281675Z"
    }
   },
   "outputs": [
    {
     "data": {
      "text/plain": [
       "<BarContainer object of 21 artists>"
      ]
     },
     "execution_count": 19,
     "metadata": {},
     "output_type": "execute_result"
    }
   ],
   "source": [
    "occr = [0]*(data['veh_range'].max()+1)\n",
    "\n",
    "for i in data.index.values:\n",
    "    occr[data.at[i,'veh_range']]+=1\n",
    "\n",
    "plt.xlabel('Number of vehicles within the range(120 m)')\n",
    "plt.ylabel('Number of samples present')\n",
    "# plt.title('Distribution of Surrounding Vehicles over the collected data')\n",
    "# plt.rcParams['figure.figsize'] = [20, 8]\n",
    "# plt.rcParams['figure.dpi'] = 100\n",
    "plt.bar(range(data['veh_range'].max()+1),occr)"
   ]
  },
  {
   "cell_type": "code",
   "execution_count": 21,
   "id": "d532e71b",
   "metadata": {
    "ExecuteTime": {
     "end_time": "2022-01-15T08:57:42.046400Z",
     "start_time": "2022-01-15T08:57:41.567212Z"
    }
   },
   "outputs": [
    {
     "data": {
      "application/vnd.jupyter.widget-view+json": {
       "model_id": "5b188a9691de4c078e3a7cfec803b5c7",
       "version_major": 2,
       "version_minor": 0
      },
      "text/plain": [
       "  0%|          | 0/3943 [00:00<?, ?it/s]"
      ]
     },
     "metadata": {},
     "output_type": "display_data"
    },
    {
     "data": {
      "text/plain": [
       "[<matplotlib.lines.Line2D at 0x7f8542a08590>]"
      ]
     },
     "execution_count": 21,
     "metadata": {},
     "output_type": "execute_result"
    },
    {
     "data": {
      "image/png": "[encoded data removed]",
      "text/plain": [
       "<Figure size 2000x800 with 1 Axes>"
      ]
     },
     "metadata": {
      "needs_background": "light"
     },
     "output_type": "display_data"
    }
   ],
   "source": [
    "dist = [0]*121\n",
    "start = time.time()\n",
    "for i in tqdm.notebook.tqdm(data.index.values):\n",
    "    for j in data.at[i,'veh_dist']:\n",
    "        dist[int(j)] +=1\n",
    "        \n",
    "plt.rcParams['figure.figsize'] = [20, 8]\n",
    "plt.rcParams['figure.dpi'] = 100\n",
    "plt.plot(range(0,121),dist)"
   ]
  },
  {
   "cell_type": "code",
   "execution_count": 22,
   "id": "62fec33b",
   "metadata": {
    "ExecuteTime": {
     "end_time": "2022-01-15T08:57:53.854311Z",
     "start_time": "2022-01-15T08:57:53.701156Z"
    }
   },
   "outputs": [],
   "source": [
    "# # Saving dataframe\n",
    "savepath = f'{HOME}/webots_code/data/rt/stats_pd.pkl'\n",
    "data.to_pickle(savepath)"
   ]
  },
  {
   "cell_type": "markdown",
   "id": "60389287",
   "metadata": {
    "heading_collapsed": true
   },
   "source": [
    "# No lidar"
   ]
  },
  {
   "cell_type": "code",
   "execution_count": 25,
   "id": "6637d020",
   "metadata": {
    "hidden": true
   },
   "outputs": [],
   "source": [
    "## Surrounding vehicles\n",
    "### For each sample\n",
    "timestep = 0.128\n",
    "gpath = f'{HOME}/webots_code/data/rt/gps'\n",
    "lrange = 120"
   ]
  },
  {
   "cell_type": "code",
   "execution_count": 26,
   "id": "842b324f",
   "metadata": {
    "hidden": true
   },
   "outputs": [],
   "source": [
    "# Determining the distance between car and transmitter in meter\n",
    "# TO-DO : Consider height while calculating distance\n",
    "def dist_gps(gps1, gps2):\n",
    "    lat1, lon1, _ = gps1\n",
    "    lat2, lon2, _ = gps2\n",
    "    R = 6371000  # radius of Earth in meters\n",
    "    phi_1 = math.radians(lat1)\n",
    "    phi_2 = math.radians(lat2)\n",
    "\n",
    "    delta_phi = math.radians(lat2 - lat1)\n",
    "    delta_lambda = math.radians(lon2 - lon1)\n",
    "\n",
    "    a = math.sin(delta_phi / 2.0) ** 2 + \\\n",
    "        math.cos(phi_1) * math.cos(phi_2) * \\\n",
    "        math.sin(delta_lambda / 2.0) ** 2\n",
    "    c = 2 * math.atan2(math.sqrt(a), math.sqrt(1 - a))\n",
    "    return R * c"
   ]
  },
  {
   "cell_type": "code",
   "execution_count": 27,
   "id": "a8a33e97",
   "metadata": {
    "hidden": true
   },
   "outputs": [],
   "source": [
    "def read_gps(gpath)-> Union[pd.DataFrame]:\n",
    "    '''\n",
    "    Read all the GPS dataset and store\n",
    "    it in RAM, for faster exec\n",
    "    '''\n",
    "    gps_pd = []\n",
    "    for filename in os.listdir(gpath):\n",
    "        gps_pd.append(pd.read_feather(\n",
    "                        gpath+f'/{filename}'))\n",
    "    \n",
    "    return gps_pd"
   ]
  },
  {
   "cell_type": "code",
   "execution_count": 28,
   "id": "333c00ca",
   "metadata": {
    "hidden": true
   },
   "outputs": [
    {
     "name": "stdout",
     "output_type": "stream",
     "text": [
      "57    timestep                                             gps         speed  \\\n",
      "0    98.048    [38.98490574717039, -77.07634849024531, 0.5]  78128.906250   \n",
      "1    98.176  [38.89358054338915, -77.07361753849344, 0.285]  79227.753057   \n",
      "2    98.304  [38.89358054338915, -77.07361753849344, 0.285]      0.000000   \n",
      "3    98.432  [38.89359693377051, -77.07362113611595, 0.285]     14.422849   \n",
      "4    98.560  [38.89361332415167, -77.07362473374029, 0.285]     14.422849   \n",
      "\n",
      "            model  \n",
      "0  Citroen C-Zero  \n",
      "1  Citroen C-Zero  \n",
      "2  Citroen C-Zero  \n",
      "3  Citroen C-Zero  \n",
      "4  Citroen C-Zero  \n"
     ]
    }
   ],
   "source": [
    "gps_pd = read_gps(gpath)\n",
    "print(len(gps_pd),gps_pd[0].head())"
   ]
  },
  {
   "cell_type": "code",
   "execution_count": 33,
   "id": "b877bee2",
   "metadata": {
    "hidden": true
   },
   "outputs": [
    {
     "name": "stderr",
     "output_type": "stream",
     "text": [
      "/home/iiti/anaconda3/envs/webots/lib/python3.6/site-packages/ipykernel_launcher.py:4: TqdmDeprecationWarning: This function will be removed in tqdm==5.0.0\n",
      "Please use `tqdm.notebook.tqdm` instead of `tqdm.tqdm_notebook`\n",
      "  after removing the cwd from sys.path.\n"
     ]
    },
    {
     "data": {
      "application/vnd.jupyter.widget-view+json": {
       "model_id": "d07e1e44036a4f30a3afae56e5bb63d3",
       "version_major": 2,
       "version_minor": 0
      },
      "text/plain": [
       "  0%|          | 0/14902 [00:00<?, ?it/s]"
      ]
     },
     "metadata": {},
     "output_type": "display_data"
    }
   ],
   "source": [
    "#Iterating over all the vehicle GPS data\n",
    "start = time.time()\n",
    "veh_dist = list()\n",
    "for i in tqdm.tqdm_notebook(data.index.values):\n",
    "    siml_time = data.at[i,'Time']\n",
    "    i_dist = list()\n",
    "    for gps_entry in gps_pd: \n",
    "        # Checking for the position of the vehicle in that timestep\n",
    "        entry = gps_entry[\n",
    "                    ((data.at[i,'Time'] - timestep) < gps_entry['timestep']) &\n",
    "                    (gps_entry['timestep'] <= data.at[i,'Time'])\n",
    "                    ]\n",
    "        \n",
    "        \n",
    "        if entry.empty : \n",
    "            continue\n",
    "        \n",
    "\n",
    "        if len(entry) > 1:\n",
    "            entry = entry[entry['timestep']==siml_time]\n",
    "            \n",
    "        # Calculating distance between vehicles\n",
    "        dist = dist_gps(data.at[i,'GPS'][1],entry['gps'].values[0])\n",
    "        dist = round(dist,2)\n",
    "        if dist < lrange and dist!=0:\n",
    "            veh_range[i] +=1         #For number of vehicles in range\n",
    "            i_dist.append(dist) #Capturing the distance of each vehicle\n",
    "    \n",
    "    veh_dist.append(i_dist)"
   ]
  },
  {
   "cell_type": "code",
   "execution_count": 34,
   "id": "d8d9d6d1",
   "metadata": {
    "hidden": true
   },
   "outputs": [],
   "source": [
    "data['veh_range'] = veh_range\n",
    "data['veh_dist'] = veh_dist"
   ]
  },
  {
   "cell_type": "code",
   "execution_count": 35,
   "id": "09b35862",
   "metadata": {
    "hidden": true
   },
   "outputs": [
    {
     "data": {
      "text/plain": [
       "<BarContainer object of 22 artists>"
      ]
     },
     "execution_count": 35,
     "metadata": {},
     "output_type": "execute_result"
    },
    {
     "data": {
      "image/png": "[encoded data removed]",
      "text/plain": [
       "<Figure size 2000x800 with 1 Axes>"
      ]
     },
     "metadata": {
      "needs_background": "light"
     },
     "output_type": "display_data"
    }
   ],
   "source": [
    "occr = [0]*(data['veh_range'].max()+1)\n",
    "\n",
    "for i in data.index.values:\n",
    "    occr[data.at[i,'veh_range']]+=1\n",
    "\n",
    "plt.rcParams['figure.figsize'] = [20, 8]\n",
    "plt.rcParams['figure.dpi'] = 100\n",
    "plt.bar(range(data['veh_range'].max()+1),occr)"
   ]
  },
  {
   "cell_type": "code",
   "execution_count": 36,
   "id": "d167b3e3",
   "metadata": {
    "hidden": true,
    "scrolled": true
   },
   "outputs": [
    {
     "data": {
      "application/vnd.jupyter.widget-view+json": {
       "model_id": "3245c29247004ffea107c1d8ca6fcbf3",
       "version_major": 2,
       "version_minor": 0
      },
      "text/plain": [
       "  0%|          | 0/14902 [00:00<?, ?it/s]"
      ]
     },
     "metadata": {},
     "output_type": "display_data"
    },
    {
     "data": {
      "text/plain": [
       "[<matplotlib.lines.Line2D at 0x7f5948474ba8>]"
      ]
     },
     "execution_count": 36,
     "metadata": {},
     "output_type": "execute_result"
    },
    {
     "data": {
      "image/png": "[encoded data removed]",
      "text/plain": [
       "<Figure size 2000x800 with 1 Axes>"
      ]
     },
     "metadata": {
      "needs_background": "light"
     },
     "output_type": "display_data"
    }
   ],
   "source": [
    "dist = [0]*121\n",
    "start = time.time()\n",
    "for i in tqdm.notebook.tqdm(data.index.values):\n",
    "    for j in data.at[i,'veh_dist']:\n",
    "        dist[int(j)] +=1\n",
    "        \n",
    "plt.rcParams['figure.figsize'] = [20, 8]\n",
    "plt.rcParams['figure.dpi'] = 100\n",
    "plt.plot(range(0,121),dist)"
   ]
  },
  {
   "cell_type": "code",
   "execution_count": 37,
   "id": "adf6c1c3",
   "metadata": {
    "hidden": true
   },
   "outputs": [],
   "source": [
    "# # Saving dataframe\n",
    "savepath = f'{HOME}/webots_code/data/final/stats_nl_pd.pkl'\n",
    "data.to_pickle(savepath)"
   ]
  },
  {
   "cell_type": "code",
   "execution_count": null,
   "id": "699cd8d0",
   "metadata": {
    "hidden": true
   },
   "outputs": [],
   "source": []
  }
 ],
 "metadata": {
  "celltoolbar": "Raw Cell Format",
  "interpreter": {
   "hash": "9f204ee5eebe1c92544dd66b5fb476370636da9ac4aaacd1dda3d2d290bc3264"
  },
  "kernelspec": {
   "display_name": "Python [conda env:webots_ml] *",
   "language": "python",
   "name": "conda-env-webots_ml-py"
  },
  "language_info": {
   "codemirror_mode": {
    "name": "ipython",
    "version": 3
   },
   "file_extension": ".py",
   "mimetype": "text/x-python",
   "name": "python",
   "nbconvert_exporter": "python",
   "pygments_lexer": "ipython3",
   "version": "3.7.11"
  },
  "toc": {
   "base_numbering": 1,
   "nav_menu": {},
   "number_sections": true,
   "sideBar": true,
   "skip_h1_title": false,
   "title_cell": "Table of Contents",
   "title_sidebar": "Contents",
   "toc_cell": false,
   "toc_position": {
    "height": "calc(100% - 180px)",
    "left": "10px",
    "top": "150px",
    "width": "294.4px"
   },
   "toc_section_display": true,
   "toc_window_display": true
  },
  "varInspector": {
   "cols": {
    "lenName": 16,
    "lenType": 16,
    "lenVar": 40
   },
   "kernels_config": {
    "python": {
     "delete_cmd_postfix": "",
     "delete_cmd_prefix": "del ",
     "library": "var_list.py",
     "varRefreshCmd": "print(var_dic_list())"
    },
    "r": {
     "delete_cmd_postfix": ") ",
     "delete_cmd_prefix": "rm(",
     "library": "var_list.r",
     "varRefreshCmd": "cat(var_dic_list()) "
    }
   },
   "position": {
    "height": "21.6667px",
    "left": "1245.33px",
    "right": "20px",
    "top": "120px",
    "width": "334.667px"
   },
   "types_to_exclude": [
    "module",
    "function",
    "builtin_function_or_method",
    "instance",
    "_Feature"
   ],
   "window_display": false
  }
 },
 "nbformat": 4,
 "nbformat_minor": 5
}
