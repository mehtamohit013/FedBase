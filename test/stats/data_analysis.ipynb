{
 "cells": [
  {
   "cell_type": "code",
   "execution_count": null,
   "source": [
    "import os\n",
    "import pandas as pd\n",
    "import pickle\n",
    "import collections\n",
    "import matplotlib.pyplot as plt\n",
    "from statistics import  mean\n",
    "import math\n",
    "import time\n",
    "from typing import Union\n",
    "import tqdm\n",
    "%matplotlib inline"
   ],
   "outputs": [],
   "metadata": {
    "ExecuteTime": {
     "end_time": "2021-09-02T16:31:09.020756Z",
     "start_time": "2021-09-02T16:31:02.217789Z"
    }
   }
  },
  {
   "cell_type": "code",
   "execution_count": null,
   "source": [
    "HOME = os.environ['HOME']"
   ],
   "outputs": [],
   "metadata": {
    "ExecuteTime": {
     "end_time": "2021-09-02T16:31:09.030947Z",
     "start_time": "2021-09-02T16:31:09.025090Z"
    }
   }
  },
  {
   "cell_type": "markdown",
   "source": [
    "## Creating Dataframe"
   ],
   "metadata": {}
  },
  {
   "cell_type": "code",
   "execution_count": null,
   "source": [
    "def create_df(dpath:str)->pd.DataFrame:\n",
    "    '''\n",
    "    Creates a pandas dataframe from all the \n",
    "    pickled files\n",
    "    '''\n",
    "    data = pd.DataFrame(columns=['Time','Name','Model',\n",
    "                                'GPS','Speed','BS'])\n",
    "\n",
    "    for count,filename in enumerate(os.listdir(dpath)):\n",
    "        ind = count\n",
    "        with open(dpath+f'/{filename}','rb') as a:\n",
    "            data.at[ind,'Time'] = pickle.load(a)\n",
    "            data.at[ind,'Name'] = pickle.load(a)\n",
    "            data.at[ind,'Model'] = pickle.load(a)\n",
    "            data.at[ind,'GPS'] = pickle.load(a)\n",
    "            data.at[ind,'Speed'] = pickle.load(a)\n",
    "            data.at[ind,'BS'] = pickle.load(a)\n",
    "        \n",
    "        if (count+1)%1000 == 0:\n",
    "            print(f'{count+1} samples has been added to dataframe')\n",
    "\n",
    "    return data\n"
   ],
   "outputs": [],
   "metadata": {
    "ExecuteTime": {
     "end_time": "2021-09-02T16:31:09.185945Z",
     "start_time": "2021-09-02T16:31:09.036476Z"
    }
   }
  },
  {
   "cell_type": "code",
   "execution_count": null,
   "source": [
    "try: \n",
    "    data = pd.read_pickle(f'{HOME}/webots_code/data/final/gps.pkl')\n",
    "    print(f'Preprocessed dataframe already present')\n",
    "except:\n",
    "    # data = create_df(dpath)\n",
    "    print(f'DataFrame does not exist')"
   ],
   "outputs": [],
   "metadata": {
    "ExecuteTime": {
     "end_time": "2021-09-02T16:31:09.643375Z",
     "start_time": "2021-09-02T16:31:09.190601Z"
    }
   }
  },
  {
   "cell_type": "code",
   "execution_count": null,
   "source": [
    "data.info()"
   ],
   "outputs": [],
   "metadata": {}
  },
  {
   "cell_type": "code",
   "execution_count": null,
   "source": [
    "ncars = len(data['Name'].unique())"
   ],
   "outputs": [],
   "metadata": {
    "ExecuteTime": {
     "end_time": "2021-09-02T16:31:09.809540Z",
     "start_time": "2021-09-02T16:31:09.765488Z"
    }
   }
  },
  {
   "cell_type": "markdown",
   "source": [
    "## Distribution of samples "
   ],
   "metadata": {}
  },
  {
   "cell_type": "code",
   "execution_count": null,
   "source": [
    "# Number of samples per car\n",
    "car_dist = data['Name'].value_counts().to_dict()\n",
    "#Sorting into list\n",
    "per_car = [car_dist[f'SUMO vehicle {i}'] for i in range(0,len(data['Name'].unique()))]\n",
    "\n",
    "plt.rcParams['figure.figsize'] = [20, 8]\n",
    "plt.rcParams['figure.dpi'] = 100 \n",
    "plt.bar(range(0,len(data['Name'].unique())),per_car)"
   ],
   "outputs": [],
   "metadata": {
    "ExecuteTime": {
     "end_time": "2021-09-02T16:31:10.849644Z",
     "start_time": "2021-09-02T16:31:09.812089Z"
    },
    "scrolled": true
   }
  },
  {
   "cell_type": "markdown",
   "source": [
    "## Average Speed and speed distribution"
   ],
   "metadata": {}
  },
  {
   "cell_type": "code",
   "execution_count": null,
   "source": [
    "speed = dict()\n",
    "speed_dist = [0]*(round(data['Speed'][data['Speed']<100].max())+1)\n",
    "for i in data.index.values:\n",
    "    if data.at[i,'Speed'] > 100.00:\n",
    "        print('Unusually high speed:',data.at[i,'Speed'],'Skipping')\n",
    "        continue\n",
    "    if data.at[i,'Name'] in speed.keys():\n",
    "        speed[data.at[i,'Name']].append(data.at[i,'Speed'])\n",
    "    else:\n",
    "        speed[data.at[i,'Name']] = list()\n",
    "        speed[data.at[i,'Name']].append(data.at[i,'Speed'])\n",
    "    speed_dist[round(data.at[i,'Speed'])]+=1"
   ],
   "outputs": [],
   "metadata": {
    "ExecuteTime": {
     "end_time": "2021-09-02T16:31:11.513578Z",
     "start_time": "2021-09-02T16:31:10.852448Z"
    }
   }
  },
  {
   "cell_type": "markdown",
   "source": [
    "### Speed Distribution"
   ],
   "metadata": {}
  },
  {
   "cell_type": "code",
   "execution_count": null,
   "source": [
    "plt.rcParams['figure.figsize'] = [15, 8]\n",
    "plt.rcParams['figure.dpi'] = 100\n",
    "plt.bar(range(20),speed_dist[:20])\n",
    "print('Max speed is',data['Speed'][data['Speed']<100].max())"
   ],
   "outputs": [],
   "metadata": {
    "ExecuteTime": {
     "end_time": "2021-09-02T16:31:11.926215Z",
     "start_time": "2021-09-02T16:31:11.518006Z"
    }
   }
  },
  {
   "cell_type": "code",
   "execution_count": null,
   "source": [
    "avg_speed = list()\n",
    "for i in range(len(data['Name'].unique())):\n",
    "    avg_speed.append(mean(speed[f'SUMO vehicle {i}']))"
   ],
   "outputs": [],
   "metadata": {
    "ExecuteTime": {
     "end_time": "2021-09-02T16:31:11.985230Z",
     "start_time": "2021-09-02T16:31:11.931472Z"
    }
   }
  },
  {
   "cell_type": "code",
   "execution_count": null,
   "source": [
    "plt.rcParams['figure.figsize'] = [20, 8]\n",
    "plt.rcParams['figure.dpi'] = 100\n",
    "plt.plot(range(ncars),avg_speed)"
   ],
   "outputs": [],
   "metadata": {
    "ExecuteTime": {
     "end_time": "2021-09-02T16:31:12.521174Z",
     "start_time": "2021-09-02T16:31:11.988687Z"
    }
   }
  },
  {
   "cell_type": "markdown",
   "source": [
    "## Surrounding vehicles"
   ],
   "metadata": {}
  },
  {
   "cell_type": "markdown",
   "source": [
    "### For each sample\n",
    "Calculating surrounding vehciles for each sample"
   ],
   "metadata": {}
  },
  {
   "cell_type": "code",
   "execution_count": null,
   "source": [
    "timestep = 0.128\n",
    "gpath = f'{HOME}/webots_code/data/final/tracking'\n",
    "lrange = 120\n",
    "\n",
    "#Creating new column for veh count\n",
    "veh_range = [0]*len(data)"
   ],
   "outputs": [],
   "metadata": {
    "ExecuteTime": {
     "end_time": "2021-09-02T16:31:12.536404Z",
     "start_time": "2021-09-02T16:31:12.523841Z"
    }
   }
  },
  {
   "cell_type": "code",
   "execution_count": null,
   "source": [
    "# Determining the distance between car and transmitter in meter\n",
    "# TO-DO : Consider height while calculating distance\n",
    "def dist_gps(gps1, gps2):\n",
    "    lat1, lon1, _ = gps1\n",
    "    lat2, lon2, _ = gps2\n",
    "    R = 6371000  # radius of Earth in meters\n",
    "    phi_1 = math.radians(lat1)\n",
    "    phi_2 = math.radians(lat2)\n",
    "\n",
    "    delta_phi = math.radians(lat2 - lat1)\n",
    "    delta_lambda = math.radians(lon2 - lon1)\n",
    "\n",
    "    a = math.sin(delta_phi / 2.0) ** 2 + \\\n",
    "        math.cos(phi_1) * math.cos(phi_2) * \\\n",
    "        math.sin(delta_lambda / 2.0) ** 2\n",
    "    c = 2 * math.atan2(math.sqrt(a), math.sqrt(1 - a))\n",
    "    return R * c"
   ],
   "outputs": [],
   "metadata": {
    "ExecuteTime": {
     "end_time": "2021-09-02T16:31:12.642411Z",
     "start_time": "2021-09-02T16:31:12.539260Z"
    },
    "code_folding": [
     2
    ]
   }
  },
  {
   "cell_type": "code",
   "execution_count": null,
   "source": [
    "def read_gps(gpath)-> Union[pd.DataFrame]:\n",
    "    '''\n",
    "    Read all the GPS dataset and store\n",
    "    it in RAM, for faster exec\n",
    "    '''\n",
    "    gps_pd = []\n",
    "    for filename in os.listdir(gpath):\n",
    "        gps_pd.append(pd.read_feather(\n",
    "                        gpath+f'/{filename}'))\n",
    "    \n",
    "    return gps_pd"
   ],
   "outputs": [],
   "metadata": {
    "ExecuteTime": {
     "end_time": "2021-09-02T16:31:12.739943Z",
     "start_time": "2021-09-02T16:31:12.645268Z"
    }
   }
  },
  {
   "cell_type": "code",
   "execution_count": null,
   "source": [
    "gps_pd = read_gps(gpath)\n",
    "print(len(gps_pd),gps_pd[0].info())"
   ],
   "outputs": [],
   "metadata": {
    "ExecuteTime": {
     "end_time": "2021-09-02T16:31:13.084896Z",
     "start_time": "2021-09-02T16:31:12.743384Z"
    }
   }
  },
  {
   "cell_type": "code",
   "execution_count": null,
   "source": [
    "#Iterating over all the vehicle GPS data\n",
    "start = time.time()\n",
    "veh_dist = list()\n",
    "for i in tqdm.tqdm_notebook(data.index.values):\n",
    "    siml_time = data.at[i,'Time']\n",
    "    i_dist = list()\n",
    "    for gps_entry in gps_pd: \n",
    "        # Checking for the position of the vehicle in that timestep\n",
    "        entry = gps_entry[\n",
    "                    ((data.at[i,'Time'] - timestep) < gps_entry['Time']) &\n",
    "                    (gps_entry['Time'] <= data.at[i,'Time'])\n",
    "                    ]\n",
    "        \n",
    "        \n",
    "        if entry.empty : \n",
    "            continue\n",
    "        \n",
    "\n",
    "        if len(entry) > 1:\n",
    "            entry = entry[entry['Time']==siml_time]\n",
    "            \n",
    "        # Calculating distance between vehicles\n",
    "        dist = dist_gps(data.at[i,'GPS'][1],entry['gps'].values[0][1])\n",
    "        dist = round(dist,2)\n",
    "        if dist < lrange and dist!=0:\n",
    "            veh_range[i] +=1         #For number of vehicles in range\n",
    "            i_dist.append(dist) #Capturing the distance of each vehicle\n",
    "    \n",
    "    veh_dist.append(i_dist)"
   ],
   "outputs": [],
   "metadata": {
    "ExecuteTime": {
     "end_time": "2021-09-02T16:45:31.934970Z",
     "start_time": "2021-09-02T16:31:13.088309Z"
    },
    "code_folding": []
   }
  },
  {
   "cell_type": "code",
   "execution_count": null,
   "source": [
    "# # Saving dataframe\n",
    "# savepath = f'{HOME}/webots_code/data/final/stats_pd.pkl'\n",
    "# data.to_pickle(savepath)"
   ],
   "outputs": [],
   "metadata": {
    "ExecuteTime": {
     "end_time": "2021-09-02T16:45:31.940933Z",
     "start_time": "2021-09-02T16:45:31.937500Z"
    }
   }
  },
  {
   "cell_type": "code",
   "execution_count": null,
   "source": [
    "# data"
   ],
   "outputs": [],
   "metadata": {
    "ExecuteTime": {
     "end_time": "2021-09-02T16:45:32.316229Z",
     "start_time": "2021-09-02T16:45:31.944262Z"
    }
   }
  },
  {
   "cell_type": "code",
   "execution_count": null,
   "source": [
    "data['veh_range'] = veh_range\n",
    "data['veh_dist'] = veh_dist"
   ],
   "outputs": [],
   "metadata": {}
  },
  {
   "cell_type": "markdown",
   "source": [
    "### Load pre processed data"
   ],
   "metadata": {}
  },
  {
   "cell_type": "code",
   "execution_count": null,
   "source": [
    "occr = [0]*(data['veh_range'].max()+1)\n",
    "\n",
    "for i in data.index.values:\n",
    "    occr[data.at[i,'veh_range']]+=1\n",
    "\n",
    "plt.rcParams['figure.figsize'] = [20, 8]\n",
    "plt.rcParams['figure.dpi'] = 100\n",
    "plt.bar(range(data['veh_range'].max()+1),occr)"
   ],
   "outputs": [],
   "metadata": {
    "ExecuteTime": {
     "end_time": "2021-09-02T16:45:33.151413Z",
     "start_time": "2021-09-02T16:45:32.319412Z"
    }
   }
  },
  {
   "cell_type": "code",
   "execution_count": null,
   "source": [
    "dist = [0]*121\n",
    "start = time.time()\n",
    "for i in tqdm.notebook.tqdm(data.index.values):\n",
    "    for j in data.at[i,'veh_dist']:\n",
    "        dist[int(j)] +=1\n",
    "        \n",
    "plt.rcParams['figure.figsize'] = [20, 8]\n",
    "plt.rcParams['figure.dpi'] = 100\n",
    "plt.plot(range(0,121),dist)"
   ],
   "outputs": [],
   "metadata": {
    "ExecuteTime": {
     "end_time": "2021-09-02T16:45:33.691738Z",
     "start_time": "2021-09-02T16:45:33.154323Z"
    }
   }
  },
  {
   "cell_type": "code",
   "execution_count": null,
   "source": [
    "data.info()"
   ],
   "outputs": [],
   "metadata": {
    "ExecuteTime": {
     "end_time": "2021-09-02T16:45:33.810486Z",
     "start_time": "2021-09-02T16:45:33.694261Z"
    }
   }
  }
 ],
 "metadata": {
  "celltoolbar": "Raw Cell Format",
  "interpreter": {
   "hash": "8fb06b6ce65f09bbdbb5f9605824692967c03f2e8fe46c0571cf5453854fdb82"
  },
  "kernelspec": {
   "name": "python3",
   "display_name": "Python 3.7.11 64-bit"
  },
  "language_info": {
   "codemirror_mode": {
    "name": "ipython",
    "version": 3
   },
   "file_extension": ".py",
   "mimetype": "text/x-python",
   "name": "python",
   "nbconvert_exporter": "python",
   "pygments_lexer": "ipython3",
   "version": "3.7.11"
  },
  "toc": {
   "base_numbering": 1,
   "nav_menu": {},
   "number_sections": true,
   "sideBar": true,
   "skip_h1_title": false,
   "title_cell": "Table of Contents",
   "title_sidebar": "Contents",
   "toc_cell": false,
   "toc_position": {
    "height": "calc(100% - 180px)",
    "left": "10px",
    "top": "150px",
    "width": "294.4px"
   },
   "toc_section_display": true,
   "toc_window_display": true
  },
  "varInspector": {
   "cols": {
    "lenName": 16,
    "lenType": 16,
    "lenVar": 40
   },
   "kernels_config": {
    "python": {
     "delete_cmd_postfix": "",
     "delete_cmd_prefix": "del ",
     "library": "var_list.py",
     "varRefreshCmd": "print(var_dic_list())"
    },
    "r": {
     "delete_cmd_postfix": ") ",
     "delete_cmd_prefix": "rm(",
     "library": "var_list.r",
     "varRefreshCmd": "cat(var_dic_list()) "
    }
   },
   "position": {
    "height": "21.6667px",
    "left": "1245.33px",
    "right": "20px",
    "top": "120px",
    "width": "334.667px"
   },
   "types_to_exclude": [
    "module",
    "function",
    "builtin_function_or_method",
    "instance",
    "_Feature"
   ],
   "window_display": false
  }
 },
 "nbformat": 4,
 "nbformat_minor": 5
}