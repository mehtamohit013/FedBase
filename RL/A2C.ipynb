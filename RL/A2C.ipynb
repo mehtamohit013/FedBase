{
 "cells": [
  {
   "cell_type": "markdown",
   "id": "3d94c8ee",
   "metadata": {
    "heading_collapsed": true
   },
   "source": [
    "# Imports"
   ]
  },
  {
   "cell_type": "code",
   "execution_count": 5,
   "id": "e2254606",
   "metadata": {
    "ExecuteTime": {
     "end_time": "2022-01-13T07:33:26.628525Z",
     "start_time": "2022-01-13T07:33:26.612178Z"
    },
    "hidden": true
   },
   "outputs": [
    {
     "name": "stdout",
     "output_type": "stream",
     "text": [
      "The tensorboard extension is already loaded. To reload it, use:\n",
      "  %reload_ext tensorboard\n"
     ]
    }
   ],
   "source": [
    "import torch\n",
    "import torch.nn as nn\n",
    "import torch.optim as optim\n",
    "import torch.nn.functional as F\n",
    "from torch.utils.tensorboard import SummaryWriter\n",
    "from torch.distributions import Categorical\n",
    "from torch.autograd import Variable\n",
    "\n",
    "import tqdm\n",
    "import getpass\n",
    "import os\n",
    "\n",
    "import math\n",
    "import random\n",
    "import numpy as np\n",
    "import matplotlib\n",
    "import matplotlib.pyplot as plt\n",
    "from collections import namedtuple, deque\n",
    "from itertools import count\n",
    "import copy\n",
    "import tqdm\n",
    "\n",
    "import gym\n",
    "%load_ext tensorboard\n",
    "HOME = os.environ['HOME']"
   ]
  },
  {
   "cell_type": "code",
   "execution_count": 6,
   "id": "c76f89e9",
   "metadata": {
    "ExecuteTime": {
     "end_time": "2022-01-13T07:33:26.818784Z",
     "start_time": "2022-01-13T07:33:26.811211Z"
    },
    "hidden": true
   },
   "outputs": [],
   "source": [
    "user = getpass.getuser()\n",
    "\n",
    "if user == 'root':  #For google colab\n",
    "    dpath = '.'\n",
    "    save_dir = './model_state_dict'\n",
    "else:\n",
    "    dpath = os.environ['HOME'] + '/webots_code/data/final'\n",
    "    save_dir = os.path.join(os.environ['HOME'],'webots_code/model_state_dict')"
   ]
  },
  {
   "cell_type": "markdown",
   "id": "4b58c2d4",
   "metadata": {
    "heading_collapsed": true
   },
   "source": [
    "# Gym Env"
   ]
  },
  {
   "cell_type": "code",
   "execution_count": null,
   "id": "3fcb7252",
   "metadata": {
    "hidden": true
   },
   "outputs": [],
   "source": [
    "device = torch.device(\"cuda\" if torch.cuda.is_available() else \"cpu\")"
   ]
  },
  {
   "cell_type": "code",
   "execution_count": null,
   "id": "aa01a984",
   "metadata": {
    "hidden": true
   },
   "outputs": [],
   "source": [
    "max_train = len(pd.read_pickle(dpath+'/train.pkl'))\n",
    "max_val = len(pd.read_pickle(dpath+'/val.pkl'))\n",
    "epi = [0,500] #[start,end] \n",
    "epi_val = [0,max_val-1]\n",
    "\n",
    "gym_env = BS_env(epi,dpath,'train')\n",
    "gym_env_val = BS_env(epi_val,dpath,'val')\n",
    "\n",
    "n_steps = epi[1] - epi[0] + 1\n",
    "n_steps_val = epi_val[1] - epi_val[0] + 1"
   ]
  },
  {
   "cell_type": "markdown",
   "id": "87739432",
   "metadata": {
    "heading_collapsed": true
   },
   "source": [
    "# A2C"
   ]
  },
  {
   "cell_type": "code",
   "execution_count": null,
   "id": "29198dd6",
   "metadata": {
    "hidden": true
   },
   "outputs": [],
   "source": [
    "class A2C(nn.Module):\n",
    "\n",
    "    def __init__(self, inputs:int=7, outputs:int=64*3):\n",
    "        super().__init__()\n",
    "\n",
    "        self.affine =  nn.Sequential(\n",
    "            self.create_linear(inputs,16),\n",
    "            self.create_linear(16, 32),\n",
    "            self.create_linear(32,64),\n",
    "            self.create_linear(64,256)\n",
    "        )\n",
    "        \n",
    "        self.actor_linear = nn.Sequential(\n",
    "            self.create_linear(256,outputs)\n",
    "        )\n",
    "\n",
    "        self.critic_linear = nn.Sequential(\n",
    "            self.create_linear(256,1)\n",
    "        )\n",
    "\n",
    "\n",
    "    \n",
    "    def create_linear(self,inp:int,out:int)-> nn.Module:\n",
    "        return nn.Sequential(\n",
    "            nn.Linear(inp,out),\n",
    "            nn.ELU()\n",
    "            # nn.BatchNorm1d(out)\n",
    "        )\n",
    "    \n",
    "    def forward(self, x):\n",
    "        x = x.to(device)\n",
    "        x = self.affine(x)\n",
    "\n",
    "        # Actor - A2C implementation\n",
    "        x_action = self.actor_linear(x)\n",
    "        x_action = nn.Softmax(dim=-1)(x_action)\n",
    "\n",
    "        #  Critic\n",
    "        x_critic = self.critic_linear(x) \n",
    "\n",
    "        return x_action,x_critic\n"
   ]
  },
  {
   "cell_type": "markdown",
   "id": "ad3000b9",
   "metadata": {
    "heading_collapsed": true
   },
   "source": [
    "# Storage of actions and policy"
   ]
  },
  {
   "cell_type": "code",
   "execution_count": 7,
   "id": "79d1b9b2",
   "metadata": {
    "ExecuteTime": {
     "end_time": "2022-01-13T07:36:18.508337Z",
     "start_time": "2022-01-13T07:36:18.502143Z"
    },
    "hidden": true
   },
   "outputs": [],
   "source": [
    "SavedAction = namedtuple('SavedAction', ['log_prob', 'value'])"
   ]
  },
  {
   "cell_type": "code",
   "execution_count": 8,
   "id": "53fd4ad9",
   "metadata": {
    "ExecuteTime": {
     "end_time": "2022-01-13T07:36:25.266083Z",
     "start_time": "2022-01-13T07:36:25.261007Z"
    },
    "hidden": true
   },
   "outputs": [],
   "source": [
    "class Policy():\n",
    "    def __init__(self):\n",
    "         # Episode policy and reward history \n",
    "        self.rewards = []\n",
    "        self.saved_actions = []"
   ]
  },
  {
   "cell_type": "code",
   "execution_count": 9,
   "id": "9c914cef",
   "metadata": {
    "ExecuteTime": {
     "end_time": "2022-01-13T07:36:32.418990Z",
     "start_time": "2022-01-13T07:36:32.416162Z"
    },
    "hidden": true
   },
   "outputs": [],
   "source": [
    "policy = Policy()"
   ]
  },
  {
   "cell_type": "markdown",
   "id": "6adab984",
   "metadata": {
    "heading_collapsed": true
   },
   "source": [
    "# Hyper Params"
   ]
  },
  {
   "cell_type": "code",
   "execution_count": 10,
   "id": "256b701e",
   "metadata": {
    "ExecuteTime": {
     "end_time": "2022-01-13T07:36:54.181266Z",
     "start_time": "2022-01-13T07:36:54.176638Z"
    },
    "hidden": true
   },
   "outputs": [],
   "source": [
    "\n",
    "\n",
    "BATCH_SIZE = 128\n",
    "GAMMA = 0.99\n",
    "# EPS_START = 0.9\n",
    "# EPS_END = 0.3\n",
    "\n",
    "# # It depends on overall number of steps, basic intitution is that\n",
    "# # once steps_done == EPS_DECAY then the probablity of choosing \n",
    "# # random action is 33%; considering EPS_END is zero\n",
    "# # As for ep = [0,10]; approx ep is 80k therefore exploration can be reduced to 33% around 50k\n",
    "# # Also because of this factor smoothed accuracy matters more for training then seeing the average\n",
    "# EPS_DECAY = n_steps*0.3\n",
    "\n",
    "TARGET_UPDATE = 1000\n",
    "VAL_STEP = 60000\n",
    "\n"
   ]
  },
  {
   "cell_type": "markdown",
   "id": "3d8eaf01",
   "metadata": {
    "heading_collapsed": true
   },
   "source": [
    "# Action"
   ]
  },
  {
   "cell_type": "code",
   "execution_count": null,
   "id": "3f40b323",
   "metadata": {
    "hidden": true
   },
   "outputs": [],
   "source": [
    "policy_net = A2C(11, 192).to(device)\n",
    "\n",
    "optimizer = optim.Adam(policy_net.parameters(),lr=3e-2)\n",
    "\n",
    "n_actions = 64*3\n",
    "steps_done = 0\n",
    "\n",
    "def select_action(state:torch.Tensor,val:bool=False):\n",
    "    if not val:\n",
    "        action_array, state_value = policy_net(state)\n",
    "        action_dist = Categorical(action_array)\n",
    "        action_value = action_dist.sample()\n",
    "\n",
    "        # Add log probability of our chosen action to our history    \n",
    "        # if policy.policy_history.dim() != 0:\n",
    "        policy.saved_actions.append(SavedAction(action_dist.log_prob(action_value).float(), state_value.float()))\n",
    "        # else:\n",
    "        #     policy.policy_history = (action_dist.log_prob(action_value))\n",
    "        return action_value\n",
    "    else:\n",
    "        with torch.no_grad():\n",
    "            action = torch.max(policy_net(state)[0],dim=1)\n",
    "            return action.indices"
   ]
  },
  {
   "cell_type": "markdown",
   "id": "e9cef82b",
   "metadata": {
    "heading_collapsed": true
   },
   "source": [
    "# Optimize Model\n"
   ]
  },
  {
   "cell_type": "code",
   "execution_count": null,
   "id": "6905a13d",
   "metadata": {
    "hidden": true
   },
   "outputs": [],
   "source": [
    "def update_policy(n_step:int):\n",
    "\n",
    "    \"\"\"\n",
    "    Training code. Calculates actor and critic loss and performs backprop.\n",
    "    \"\"\"\n",
    "    R = 0\n",
    "    saved_actions = policy.saved_actions\n",
    "    policy_losses = [] # list to save actor (policy) loss\n",
    "    value_losses = [] # list to save critic (value) loss\n",
    "    returns = [] # list to save the true values\n",
    "\n",
    "    # calculate the true value using rewards returned from the environment\n",
    "    for r in policy.rewards[::-1]:\n",
    "        # calculate the discounted value\n",
    "        R = r + GAMMA * R\n",
    "        returns.insert(0, R)\n",
    "\n",
    "    returns = torch.tensor(returns).float()\n",
    "    \n",
    "    returns = (returns - returns.mean()) / (returns.std() + np.finfo(np.float32).eps)\n",
    "    for (log_prob, value), R in zip(saved_actions, returns):\n",
    "        advantage = R - value.item()\n",
    "        advantage = advantage.float()\n",
    "\n",
    "        # calculate actor (policy) loss \n",
    "        policy_losses.append(-log_prob * advantage)\n",
    "\n",
    "        # calculate critic (value) loss using L1 smooth loss\n",
    "        value_losses.append(F.smooth_l1_loss(value, torch.tensor([R])))\n",
    "\n",
    "    # reset gradients\n",
    "    optimizer.zero_grad()\n",
    "\n",
    "    # sum up all the values of policy_losses and value_losses\n",
    "    loss = torch.stack(policy_losses).sum() + torch.stack(value_losses).sum()\n",
    "    loss = loss.float()\n",
    "\n",
    "    writer.add_scalar('Loss',loss.item(),n_step)\n",
    "    \n",
    "    # perform backprop\n",
    "    loss.backward()\n",
    "    optimizer.step()\n",
    "\n",
    "    # reset rewards and action buffer\n",
    "    del policy.rewards[:]\n",
    "    del policy.saved_actions[:]"
   ]
  },
  {
   "cell_type": "markdown",
   "id": "de724978",
   "metadata": {
    "heading_collapsed": true
   },
   "source": [
    "# Training"
   ]
  },
  {
   "cell_type": "code",
   "execution_count": null,
   "id": "1b06c6e5",
   "metadata": {
    "hidden": true
   },
   "outputs": [],
   "source": [
    "# Tensorboard\n",
    "log_dir = './mini_logs/AC' \n",
    "\n",
    "writer = SummaryWriter(log_dir=log_dir)"
   ]
  },
  {
   "cell_type": "code",
   "execution_count": null,
   "id": "72f6a564",
   "metadata": {
    "hidden": true
   },
   "outputs": [],
   "source": [
    "def val(train_step:int,gym_env_val:gym.Env,n_steps_val:int=n_steps_val,\n",
    "        writer:SummaryWriter=writer):\n",
    "\n",
    "    state = torch.zeros((1,11), dtype=torch.float32)\n",
    "    running_reward = 0.0\n",
    "    for episode in tqdm.tqdm_notebook(range(n_steps_val),desc='Val'):\n",
    "        # Reset environment and record the starting state\n",
    "        done = False       \n",
    "\n",
    "        action = select_action(state, val = 'True')\n",
    "        # Step through environment using chosen action\n",
    "        state, reward, done, _ = gym_env_val.step([action.item()//64,action.item()%64])\n",
    "\n",
    "        state = state.astype(np.float32).reshape(1, state.shape[0])\n",
    "        state = torch.tensor(state)\n",
    "        running_reward +=reward\n",
    "        \n",
    "        # if done:\n",
    "        #     break\n",
    "    \n",
    "    writer.add_scalar('Val Reward',running_reward/n_steps_val,train_step)\n",
    "    gym_env_val.close()\n",
    "    print(f'Validation Reward {running_reward/n_steps_val}')"
   ]
  },
  {
   "cell_type": "code",
   "execution_count": null,
   "id": "34e35772",
   "metadata": {
    "hidden": true
   },
   "outputs": [],
   "source": [
    "state = torch.zeros((1,11), dtype=torch.float32)\n",
    "ovr_reward = 0.0\n",
    "episode_cnt = 0\n",
    "for episode in tqdm.tqdm_notebook(range(n_steps),desc='Train'):\n",
    "     # Reset environment and record the starting state\n",
    "    done = False       \n",
    "\n",
    "    action = select_action(state)\n",
    "\n",
    "    # Step through environment using chosen action\n",
    "    state, reward, done, _ = gym_env.step([action.data[0].item()//64,action.data[0].item()%64])\n",
    "\n",
    "    state = state.astype(np.float32).reshape(1, state.shape[0])\n",
    "    state = torch.tensor(state)\n",
    "\n",
    "    # Save reward\n",
    "    policy.rewards.append(reward)\n",
    "    writer.add_scalar('Rewards',reward.item(),episode)\n",
    "    ovr_reward+=reward.item()\n",
    "    \n",
    "\n",
    "    if episode == n_steps_per_epi[episode_cnt]:\n",
    "        update_policy(episode)\n",
    "        episode_cnt += 1\n",
    "\n",
    "    if (episode)%VAL_STEP == 0 or (episode == n_steps-1):\n",
    "        val(episode, copy.deepcopy(gym_env_val))\n",
    "\n",
    "\n",
    "writer.add_hparams(\n",
    "    {\n",
    "        'BATCH_SIZE' : BATCH_SIZE,\n",
    "        'GAMMA' : GAMMA,\n",
    "        'TARGET_UPDATE' :TARGET_UPDATE\n",
    "    },\n",
    "    {\n",
    "        'Overall Reward':ovr_reward,\n",
    "        'Average Reward': ovr_reward/n_steps\n",
    "    }\n",
    ")\n",
    "\n",
    "print(f'Overall Train reward = {ovr_reward:.2f}. ' \\\n",
    "    f'Average Reward = {ovr_reward/n_steps:.4f}')\n",
    "gym_env.close()"
   ]
  }
 ],
 "metadata": {
  "kernelspec": {
   "display_name": "Python [conda env:webots_ml] *",
   "language": "python",
   "name": "conda-env-webots_ml-py"
  },
  "language_info": {
   "codemirror_mode": {
    "name": "ipython",
    "version": 3
   },
   "file_extension": ".py",
   "mimetype": "text/x-python",
   "name": "python",
   "nbconvert_exporter": "python",
   "pygments_lexer": "ipython3",
   "version": "3.7.11"
  },
  "toc": {
   "base_numbering": 1,
   "nav_menu": {},
   "number_sections": true,
   "sideBar": true,
   "skip_h1_title": false,
   "title_cell": "Table of Contents",
   "title_sidebar": "Contents",
   "toc_cell": false,
   "toc_position": {
    "height": "calc(100% - 180px)",
    "left": "10px",
    "top": "150px",
    "width": "352px"
   },
   "toc_section_display": true,
   "toc_window_display": true
  },
  "varInspector": {
   "cols": {
    "lenName": 16,
    "lenType": 16,
    "lenVar": 40
   },
   "kernels_config": {
    "python": {
     "delete_cmd_postfix": "",
     "delete_cmd_prefix": "del ",
     "library": "var_list.py",
     "varRefreshCmd": "print(var_dic_list())"
    },
    "r": {
     "delete_cmd_postfix": ") ",
     "delete_cmd_prefix": "rm(",
     "library": "var_list.r",
     "varRefreshCmd": "cat(var_dic_list()) "
    }
   },
   "types_to_exclude": [
    "module",
    "function",
    "builtin_function_or_method",
    "instance",
    "_Feature"
   ],
   "window_display": false
  }
 },
 "nbformat": 4,
 "nbformat_minor": 5
}
