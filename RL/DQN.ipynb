{
 "cells": [
  {
   "cell_type": "markdown",
   "id": "97a81d81",
   "metadata": {},
   "source": [
    "# Imports"
   ]
  },
  {
   "cell_type": "code",
   "execution_count": null,
   "id": "d1b96941",
   "metadata": {
    "ExecuteTime": {
     "end_time": "2022-01-11T10:52:30.812402Z",
     "start_time": "2022-01-11T10:52:27.892234Z"
    }
   },
   "outputs": [],
   "source": [
    "import pandas as pd\n",
    "import numpy as np\n",
    "import pickle\n",
    "import os\n",
    "import scipy.io as io\n",
    "import tqdm\n",
    "import math\n",
    "import random\n",
    "import matplotlib.pyplot as plt\n",
    "from collections import namedtuple, deque\n",
    "from itertools import count\n",
    "import copy\n",
    "\n",
    "\n",
    "import torch\n",
    "import torch.nn as nn\n",
    "import torch.optim as optim\n",
    "import torch.nn.functional as F\n",
    "from torch.utils.tensorboard import SummaryWriter\n",
    "\n",
    "\n",
    "import gym\n",
    "\n",
    "HOME = os.environ['HOME']\n",
    "dpath = HOME + '/webots_code/data/final'"
   ]
  },
  {
   "cell_type": "markdown",
   "id": "3a7d0c6a",
   "metadata": {},
   "source": [
    "# Gym Env"
   ]
  },
  {
   "cell_type": "code",
   "execution_count": null,
   "id": "44acac63",
   "metadata": {
    "ExecuteTime": {
     "end_time": "2022-01-11T10:52:30.832940Z",
     "start_time": "2022-01-11T10:52:30.814691Z"
    },
    "code_folding": []
   },
   "outputs": [],
   "source": [
    "class BS_env(gym.Env):\n",
    "    def __init__(self,ep:list,ds:str='train'):\n",
    "        \n",
    "        '''\n",
    "        ep: Pass the number of episodes to run: [start,end] where end is inclusive \n",
    "        ds: Dataset type: 'train','val' and 'test'\n",
    "        '''\n",
    "        super().__init__()\n",
    "        self.len = ep[1]\n",
    "        self.curr = ep[0]\n",
    "        self.reward_range = [-120,0]\n",
    "        \n",
    "        if ds == 'train':\n",
    "            self.df = pd.read_pickle(HOME+'/webots_code/data/final/train.pkl')\n",
    "        elif ds == 'val':\n",
    "            self.df = pd.read_pickle(HOME+'/webots_code/data/final/val.pkl')\n",
    "        else:\n",
    "            self.df = pd.read_pickle(HOME+'/webots_code/data/final/test.pkl')\n",
    "        \n",
    "        self.df = self.df.reset_index()\n",
    "        \n",
    "        #Observation Space: Lidar : [10,240,240]\n",
    "        self.observation_space = gym.spaces.Box(\n",
    "                                low = -10.0,\n",
    "                                high = 10.0,\n",
    "                                shape = (10,240,240),\n",
    "                                dtype = np.float32\n",
    "                                )\n",
    "        \n",
    "        # Action Space : Discrete : 0,1,2 -> Base station\n",
    "        self.action_space = gym.spaces.Discrete(3)\n",
    "        \n",
    "        # Init the env and resetting it\n",
    "        self.reset()\n",
    "    \n",
    "    def reset(self):\n",
    "        self._state = np.zeros((10,240,240))\n",
    "        return self._state\n",
    "    \n",
    "    def step(self, action):\n",
    "        \n",
    "        '''\n",
    "        Inp : Action Space\n",
    "        Output : Next State , Reward, done, info\n",
    "        '''\n",
    "        label = io.loadmat(dpath+'/labels/'+self.df.at[self.curr,'Lidar'][:-3]+'mat')\n",
    "        label = (np.array([label['ss'][0][0],\n",
    "                                   label['ss'][1][0],\n",
    "                                   label['ss'][2][0]]))\n",
    "        self.state = np.load(dpath+'/lidar_compressed/'+self.df.at[self.curr,'Lidar'])['lidar']\n",
    "\n",
    "        '''\n",
    "        Reward Calculation\n",
    "        Currently using power as reward\n",
    "        '''\n",
    "        reward = label[action]\n",
    "#         print(type(reward))\n",
    "        \n",
    "        if reward <= -120.0 :\n",
    "            reward = np.float64(-120.0)\n",
    "        \n",
    "        self.curr +=1\n",
    "        \n",
    "        if self.curr>=self.len:\n",
    "            done=1\n",
    "        else:\n",
    "            done = 0\n",
    "            \n",
    "        info = [action,label]\n",
    "        return self.state, reward, done, info   "
   ]
  },
  {
   "cell_type": "code",
   "execution_count": null,
   "id": "46fa8f6e",
   "metadata": {
    "ExecuteTime": {
     "end_time": "2022-01-11T10:52:31.062213Z",
     "start_time": "2022-01-11T10:52:30.835793Z"
    }
   },
   "outputs": [],
   "source": [
    "# gym_env = BS_env([0,10],'train')\n",
    "# gym_env.step(0)"
   ]
  },
  {
   "cell_type": "code",
   "execution_count": null,
   "id": "7d4be43d",
   "metadata": {
    "ExecuteTime": {
     "end_time": "2022-01-11T10:52:31.161358Z",
     "start_time": "2022-01-11T10:52:31.065184Z"
    }
   },
   "outputs": [],
   "source": [
    "device = torch.device(\"cpu\")"
   ]
  },
  {
   "cell_type": "code",
   "execution_count": null,
   "id": "618369a0",
   "metadata": {
    "ExecuteTime": {
     "end_time": "2022-01-11T10:52:31.397872Z",
     "start_time": "2022-01-11T10:52:31.163723Z"
    }
   },
   "outputs": [],
   "source": [
    "epi = [0,100] #[start,end] \n",
    "epi_val = [0,100]\n",
    "\n",
    "gym_env = BS_env(epi,'train')\n",
    "gym_env_val = BS_env(epi_val,'val')\n",
    "\n",
    "n_steps = epi[1] - epi[0] + 1\n",
    "n_steps_val = epi_val[1] - epi_val[0] + 1"
   ]
  },
  {
   "cell_type": "markdown",
   "id": "3ce62d16",
   "metadata": {},
   "source": [
    "# Replay Memory"
   ]
  },
  {
   "cell_type": "code",
   "execution_count": null,
   "id": "d0aba0a4",
   "metadata": {
    "ExecuteTime": {
     "end_time": "2022-01-11T10:52:31.414234Z",
     "start_time": "2022-01-11T10:52:31.400443Z"
    }
   },
   "outputs": [],
   "source": [
    "Transition = namedtuple('Transition',\n",
    "                        ('state', 'action', 'next_state', 'reward'))\n",
    "\n",
    "\n",
    "class ReplayMemory(object):\n",
    "\n",
    "    def __init__(self, capacity):\n",
    "        self.memory = deque([],maxlen=capacity)\n",
    "\n",
    "    def push(self, *args):\n",
    "        \"\"\"Save a transition\"\"\"\n",
    "        self.memory.append(Transition(*args))\n",
    "\n",
    "    def sample(self, batch_size):\n",
    "        return random.sample(self.memory, batch_size)\n",
    "\n",
    "    def __len__(self):\n",
    "        return len(self.memory)"
   ]
  },
  {
   "cell_type": "markdown",
   "id": "0295ef41",
   "metadata": {},
   "source": [
    "# DQN"
   ]
  },
  {
   "cell_type": "code",
   "execution_count": null,
   "id": "ae044859",
   "metadata": {
    "ExecuteTime": {
     "end_time": "2022-01-11T10:52:31.520912Z",
     "start_time": "2022-01-11T10:52:31.417570Z"
    }
   },
   "outputs": [],
   "source": [
    "class DQN(nn.Module):\n",
    "\n",
    "    def __init__(self,drp:float=0.3,\n",
    "                 drp_fc:float=0.2):\n",
    "        super().__init__()\n",
    "        \n",
    "        self.drop_CNN = nn.Dropout(drp)\n",
    "        self.drop_fc = nn.Dropout(drp_fc)\n",
    "        self.mpool = nn.MaxPool2d((2,2))\n",
    "        self.channels = 5\n",
    "        self.fchannel = 3\n",
    "        self.conv1 = self.create_conv(10,self.channels,13)\n",
    "        self.conv2 = self.create_conv(self.channels,self.channels,13)\n",
    "        self.conv3 = self.create_conv(self.channels,self.channels,7)\n",
    "        self.conv4 = self.create_conv(self.channels,self.channels,7)\n",
    "\n",
    "        # 1st Inception block\n",
    "        self.in1 = nn.Sequential(\n",
    "            self.create_conv(self.channels,self.fchannel,1),\n",
    "            self.create_conv(self.fchannel,self.fchannel,3),\n",
    "            self.create_conv(self.fchannel,self.fchannel,3)\n",
    "        )\n",
    "        self.in2 = nn.Sequential(\n",
    "            self.create_conv(self.channels,self.fchannel,1),\n",
    "            self.create_conv(self.fchannel,self.fchannel,3)\n",
    "        )\n",
    "        self.in3 = nn.Sequential(\n",
    "            nn.MaxPool2d((3,3)),\n",
    "            self.create_conv(self.channels,self.fchannel,1)\n",
    "        )\n",
    "        self.in4 = self.create_conv(self.channels,self.fchannel,1)\n",
    "\n",
    "        # Second inception block\n",
    "        self.in5 = nn.Sequential(\n",
    "            self.create_conv(self.fchannel*4,self.fchannel,1),\n",
    "            self.create_conv(self.fchannel,self.fchannel,3),\n",
    "            self.create_conv(self.fchannel,self.fchannel,3)\n",
    "        )\n",
    "        self.in6 = nn.Sequential(\n",
    "            self.create_conv(self.fchannel*4,self.fchannel,1),\n",
    "            self.create_conv(self.fchannel,self.fchannel,3)\n",
    "        )\n",
    "        self.in7 = nn.Sequential(\n",
    "            nn.MaxPool2d((3,3)),\n",
    "            self.create_conv(self.fchannel*4,self.fchannel,1)\n",
    "        )\n",
    "        self.in8 = self.create_conv(self.fchannel*4,self.fchannel,1)\n",
    "\n",
    "        self.conv5 = self.create_conv(self.fchannel*4,self.fchannel,7)\n",
    "        self.conv6 = self.create_conv(self.fchannel,self.fchannel,7)\n",
    "\n",
    "        self.conv7 = self.create_conv(self.fchannel,self.fchannel,3)\n",
    "        self.conv8 = self.create_conv(self.fchannel,self.fchannel,3)\n",
    "        \n",
    "        self.flatten = nn.Flatten()\n",
    "\n",
    "        self.linear = nn.Sequential(\n",
    "            nn.Linear(588,16),\n",
    "            nn.PReLU(1),\n",
    "#             nn.BatchNorm1d(16),\n",
    "            nn.Linear(16,3)\n",
    "        )\n",
    "\n",
    "    \n",
    "    def forward(self,X):\n",
    "        X  = self.conv1(X)\n",
    "        X  = self.conv2(X)\n",
    "        X = self.mpool(X)\n",
    "\n",
    "        X = self.conv3(X)\n",
    "        X = self.conv4(X)\n",
    "        X = self.mpool(X)\n",
    "\n",
    "        X = self.drop_CNN(X)\n",
    "\n",
    "        a = self.in1(X)\n",
    "        a = F.pad(a,[2,2,2,2])\n",
    "        b = self.in2(X)\n",
    "        b = F.pad(b,[1,1,1,1])\n",
    "        c = self.in3(X)\n",
    "        c = F.pad(c,[16,16,16,16])\n",
    "        d = self.in4(X)\n",
    "\n",
    "        X = torch.cat((a,b,c,d),1)\n",
    "\n",
    "        X = self.drop_CNN(X)\n",
    "\n",
    "        a = self.in5(X)\n",
    "        a = F.pad(a,[2,2,2,2])\n",
    "        b = self.in6(X)\n",
    "        b = F.pad(b,[1,1,1,1])\n",
    "        c = self.in7(X)\n",
    "        c = F.pad(c,[16,16,16,16])\n",
    "        d = self.in8(X)\n",
    "\n",
    "        X = torch.cat((a,b,c,d),1)\n",
    "        X = self.drop_CNN(X)\n",
    "\n",
    "        X = self.conv5(X)\n",
    "        X = self.conv6(X)\n",
    "\n",
    "        X = self.mpool(X)\n",
    "\n",
    "        X = self.drop_CNN(X)\n",
    "\n",
    "        X = self.conv7(X)\n",
    "        X = self.conv8(X)\n",
    "        # print(X.shape)\n",
    "\n",
    "        X = self.flatten(X)\n",
    "        out = self.linear(X)\n",
    "\n",
    "        return out\n",
    "    \n",
    "    def create_conv(self,in_layers:int,out_layers:int,kernel,stride:int=1,\n",
    "                    padding:int=0) -> nn.Module :\n",
    "\n",
    "        return nn.Sequential(\n",
    "            nn.Conv2d(in_layers,out_layers,kernel,stride,padding),\n",
    "            nn.PReLU(out_layers),\n",
    "            nn.BatchNorm2d(out_layers)\n",
    "        )"
   ]
  },
  {
   "cell_type": "code",
   "execution_count": null,
   "id": "def1e25a",
   "metadata": {
    "ExecuteTime": {
     "end_time": "2022-01-11T10:52:31.755808Z",
     "start_time": "2022-01-11T10:52:31.527114Z"
    }
   },
   "outputs": [],
   "source": [
    "tmp = DQN()\n",
    "inp = torch.rand(1,10,240,240)\n",
    "print(inp.shape)\n",
    "tmp(inp)"
   ]
  },
  {
   "cell_type": "markdown",
   "id": "1af0bc61",
   "metadata": {},
   "source": [
    "# Hyper Params"
   ]
  },
  {
   "cell_type": "code",
   "execution_count": null,
   "id": "82dd7eab",
   "metadata": {
    "ExecuteTime": {
     "end_time": "2022-01-11T10:52:31.766900Z",
     "start_time": "2022-01-11T10:52:31.759403Z"
    }
   },
   "outputs": [],
   "source": [
    "\n",
    "\n",
    "BATCH_SIZE = 16\n",
    "GAMMA = 0.99\n",
    "\n",
    "EPS_START = 0.9\n",
    "EPS_END = 0.5\n",
    "\n",
    "# It depends on overall number of steps, basic intitution is that\n",
    "# once steps_done == EPS_DECAY then the probablity of choosing \n",
    "# random action is 33%; considering EPS_END is zero\n",
    "# As for ep = [0,10]; approx ep is 80k therefore exploration can be reduced to 33% around 50k\n",
    "# Also because of this factor smoothed accuracy matters more for training then seeing the average\n",
    "EPS_DECAY = n_steps*0.3\n",
    "\n",
    "TARGET_UPDATE = 1000\n",
    "VAL_STEP = 100000\n",
    "Replay = 500000\n",
    "\n",
    "EPOCH = 10"
   ]
  },
  {
   "cell_type": "markdown",
   "id": "8ae83838",
   "metadata": {},
   "source": [
    "# Choosing Action\n",
    "Based on epsilon-greedy "
   ]
  },
  {
   "cell_type": "code",
   "execution_count": null,
   "id": "9ca9c916",
   "metadata": {
    "ExecuteTime": {
     "end_time": "2022-01-11T10:52:31.947243Z",
     "start_time": "2022-01-11T10:52:31.770378Z"
    }
   },
   "outputs": [],
   "source": [
    "policy_net = DQN().to(device)\n",
    "target_net = DQN().to(device)\n",
    "target_net.load_state_dict(policy_net.state_dict())\n",
    "target_net.eval()\n",
    "\n",
    "optimizer = optim.Adam(policy_net.parameters())\n",
    "memory = ReplayMemory(500000)\n",
    "\n",
    "n_actions = 3\n",
    "steps_done = 0\n",
    "\n",
    "def select_action(state,steps_done:int=0,val:bool=False):\n",
    "    if val:\n",
    "        with torch.no_grad():\n",
    "            # t.max(1) will return largest column value of each row.\n",
    "            # second column on max result is index of where max element was\n",
    "            # found, so we pick action with the larger expected reward.\n",
    "            flattened_action = policy_net(state).max(dim = 1).indices\n",
    "            return torch.tensor([[flattened_action]], device=device, dtype=torch.long)\n",
    "    else:\n",
    "        sample = random.random()\n",
    "        eps_threshold = EPS_END + (EPS_START - EPS_END) * \\\n",
    "            math.exp(-1. * steps_done / EPS_DECAY)\n",
    "        if sample > eps_threshold:\n",
    "            with torch.no_grad():\n",
    "                # t.max(1) will return largest column value of each row.\n",
    "                # second column on max result is index of where max element was\n",
    "                # found, so we pick action with the larger expected reward.\n",
    "                flattened_action = policy_net(state).max(dim = 1).indices\n",
    "                return torch.tensor([[flattened_action]], device=device, dtype=torch.long)\n",
    "        else:\n",
    "            flattened_action = random.randrange(n_actions)\n",
    "            return torch.tensor([[flattened_action]], device=device, dtype=torch.long)"
   ]
  },
  {
   "cell_type": "markdown",
   "id": "5d52386f",
   "metadata": {},
   "source": [
    "# Optimize Model"
   ]
  },
  {
   "cell_type": "code",
   "execution_count": null,
   "id": "80a7a530",
   "metadata": {
    "ExecuteTime": {
     "end_time": "2022-01-11T10:52:32.065705Z",
     "start_time": "2022-01-11T10:52:31.950172Z"
    }
   },
   "outputs": [],
   "source": [
    "def optimize_model(memory:ReplayMemory):\n",
    "    if len(memory) < BATCH_SIZE:\n",
    "        return\n",
    "    transitions = memory.sample(BATCH_SIZE)\n",
    "    # Transpose the batch (see https://stackoverflow.com/a/19343/3343043 for\n",
    "    # detailed explanation). This converts batch-array of Transitions\n",
    "    # to Transition of batch-arrays.\n",
    "    batch = Transition(*zip(*transitions))\n",
    "\n",
    "    # Compute a mask of non-final states and concatenate the batch elements\n",
    "    # (a final state would've been the one after which simulation ended)\n",
    "    non_final_mask = torch.tensor(tuple(map(lambda s: s is not None,\n",
    "                                          batch.next_state)), device=device, dtype=torch.bool)\n",
    "    non_final_next_states = torch.cat([s for s in batch.next_state\n",
    "                                                if s is not None])\n",
    "    state_batch = torch.cat(batch.state)\n",
    "    action_batch = torch.cat(batch.action)\n",
    "    reward_batch = torch.cat(batch.reward)\n",
    "\n",
    "    # Compute Q(s_t, a) - the model computes Q(s_t), then we select the\n",
    "    # columns of actions taken. These are the actions which would've been taken\n",
    "    # for each batch state according to policy_net\n",
    "    state_action_values = policy_net(state_batch).gather(1, action_batch)\n",
    "\n",
    "    # Compute V(s_{t+1}) for all next states.\n",
    "    # Expected values of actions for non_final_next_states are computed based\n",
    "    # on the \"older\" target_net; selecting their best reward with max(1)[0].\n",
    "    # This is merged based on the mask, such that we'll have either the expected\n",
    "    # state value or 0 in case the state was final.\n",
    "    next_state_values = torch.zeros(BATCH_SIZE, device=device)\n",
    "    next_state_values[non_final_mask] = target_net(non_final_next_states).max(1)[0].detach()\n",
    "    # Compute the expected Q values\n",
    "    expected_state_action_values = (next_state_values * GAMMA) + reward_batch\n",
    "    # Compute Huber loss\n",
    "    criterion = nn.SmoothL1Loss()\n",
    "    loss = criterion(state_action_values, expected_state_action_values.unsqueeze(1))\n",
    "\n",
    "    # Optimize the model\n",
    "    optimizer.zero_grad()\n",
    "    loss.backward()\n",
    "    for param in policy_net.parameters():\n",
    "        param.grad.data.clamp_(-1, 1)\n",
    "    optimizer.step()\n"
   ]
  },
  {
   "cell_type": "markdown",
   "id": "13382e9d",
   "metadata": {},
   "source": [
    "# Training Loop"
   ]
  },
  {
   "cell_type": "code",
   "execution_count": null,
   "id": "c9eb37b1",
   "metadata": {
    "ExecuteTime": {
     "end_time": "2022-01-11T10:52:32.199375Z",
     "start_time": "2022-01-11T10:52:32.068132Z"
    }
   },
   "outputs": [],
   "source": [
    "#  Tensorboard\n",
    "log_dir = './DQN' \n",
    "\n",
    "writer = SummaryWriter(log_dir=log_dir)"
   ]
  },
  {
   "cell_type": "code",
   "execution_count": null,
   "id": "45ab33ca",
   "metadata": {
    "ExecuteTime": {
     "end_time": "2022-01-11T10:52:32.297555Z",
     "start_time": "2022-01-11T10:52:32.201703Z"
    }
   },
   "outputs": [],
   "source": [
    "def val(train_step:int,gym_env_val:gym.Env,n_steps_val:int=n_steps_val,\n",
    "        writer:SummaryWriter=writer):\n",
    "\n",
    "    state = torch.zeros((1,10,240,240), dtype=torch.float32)\n",
    "    ovr_reward = 0\n",
    "    for i_episode in tqdm.tqdm_notebook(range(n_steps_val),desc='Validation'):\n",
    "        # Select and perform an action\n",
    "        action = select_action(state,val=True)\n",
    "        # Observe new state\n",
    "        next_state, reward, done, info = gym_env_val.step(action)\n",
    "\n",
    "\n",
    "        ovr_reward+=reward.item()\n",
    "\n",
    "        next_state = next_state.astype(np.float32).reshape(1, next_state.shape[0])\n",
    "        next_state = torch.tensor(next_state)\n",
    "        reward = torch.tensor([reward], device=device).float()\n",
    "\n",
    "        # Move to the next state\n",
    "        state = next_state\n",
    "        \n",
    "    writer.add_scalar('Val Overall Reward',ovr_reward,train_step)\n",
    "    writer.add_scalar('Val Average Rewad',(ovr_reward/n_steps_val),train_step)\n",
    "\n",
    "    print(f'Validation Overall reward = {ovr_reward:.2f}. ' \\\n",
    "        f' Validation Average Reward = {ovr_reward/n_steps_val:.4f}')\n",
    "    gym_env_val.close()"
   ]
  },
  {
   "cell_type": "code",
   "execution_count": null,
   "id": "1528b284",
   "metadata": {
    "ExecuteTime": {
     "end_time": "2022-01-11T11:08:41.943095Z",
     "start_time": "2022-01-11T10:52:32.299899Z"
    }
   },
   "outputs": [],
   "source": [
    "# Initialize the environment and state\n",
    "cnt = 0\n",
    "gym_env_cp = copy.deepcopy(gym_env)\n",
    "for i in range(0,EPOCH):\n",
    "    \n",
    "    steps_done = 0\n",
    "    memory = ReplayMemory(Replay)\n",
    "\n",
    "    gym_env = copy.deepcopy(gym_env_cp)\n",
    "    state = torch.zeros((1,10,240,240), dtype=torch.float32)\n",
    "    ovr_reward = 0\n",
    "    for i_episode in tqdm.notebook.tqdm(range(n_steps),desc='Train'):\n",
    "        # Select and perform an action\n",
    "        action = select_action(state,steps_done)\n",
    "        # Observe new state\n",
    "        next_state, reward, done, info = gym_env.step(action)\n",
    "        if reward.item() == -np.inf :\n",
    "            print(info,i_episode)\n",
    "            break\n",
    "        ovr_reward+=reward.item()\n",
    "\n",
    "        next_state = next_state.astype(np.float32)[None,:,:,:]\n",
    "        next_state = torch.tensor(next_state)\n",
    "        reward = torch.tensor([reward], device=device).float()\n",
    "\n",
    "        writer.add_scalar('episode_reward',reward,cnt)\n",
    "\n",
    "        # print(next_state)\n",
    "        # print(state)\n",
    "        # Store the transition in memory\n",
    "        memory.push(state, action, next_state, reward)\n",
    "\n",
    "        # Move to the next state\n",
    "        state = next_state\n",
    "\n",
    "        # Perform one step of the optimization (on the policy network)\n",
    "        optimize_model(memory)\n",
    "        \n",
    "        # Update the target network, copying all weights and biases in DQN\n",
    "        if i_episode % TARGET_UPDATE == 0:\n",
    "            target_net.load_state_dict(policy_net.state_dict())\n",
    "\n",
    "#         if (i_episode) == 0:\n",
    "#             val(cnt, copy.deepcopy(gym_env_val))\n",
    "        cnt+=1\n",
    "        \n",
    "    steps_done+=1\n",
    "    print(f'Overall Train reward after epoch {i} = {ovr_reward:.2f}. ' \\\n",
    "        f'Average Reward = {ovr_reward/n_steps:.4f}')\n",
    "    gym_env.close()\n",
    "\n",
    "writer.add_hparams(\n",
    "        {'BATCH_SIZE' : BATCH_SIZE,\n",
    "        'GAMMA' : GAMMA,\n",
    "        'EPS_START' : EPS_START,\n",
    "        'EPS_END' : EPS_END,\n",
    "        'EPS_DECAY' : EPS_DECAY,\n",
    "        'TARGET_UPDATE' :TARGET_UPDATE},\n",
    "        {\n",
    "            'Overall Reward':ovr_reward,\n",
    "            'Average Reward': ovr_reward/n_steps\n",
    "        }\n",
    "    )\n",
    "gym_env_cp.close()\n",
    "\n",
    "val(cnt, copy.deepcopy(gym_env_val))"
   ]
  }
 ],
 "metadata": {
  "kernelspec": {
   "display_name": "Python [conda env:webots_ml] *",
   "language": "python",
   "name": "conda-env-webots_ml-py"
  },
  "language_info": {
   "codemirror_mode": {
    "name": "ipython",
    "version": 3
   },
   "file_extension": ".py",
   "mimetype": "text/x-python",
   "name": "python",
   "nbconvert_exporter": "python",
   "pygments_lexer": "ipython3",
   "version": "3.7.11"
  },
  "notify_time": "10",
  "toc": {
   "base_numbering": 1,
   "nav_menu": {},
   "number_sections": true,
   "sideBar": true,
   "skip_h1_title": false,
   "title_cell": "Table of Contents",
   "title_sidebar": "Contents",
   "toc_cell": false,
   "toc_position": {
    "height": "calc(100% - 180px)",
    "left": "10px",
    "top": "150px",
    "width": "352px"
   },
   "toc_section_display": true,
   "toc_window_display": true
  },
  "varInspector": {
   "cols": {
    "lenName": 16,
    "lenType": 16,
    "lenVar": 40
   },
   "kernels_config": {
    "python": {
     "delete_cmd_postfix": "",
     "delete_cmd_prefix": "del ",
     "library": "var_list.py",
     "varRefreshCmd": "print(var_dic_list())"
    },
    "r": {
     "delete_cmd_postfix": ") ",
     "delete_cmd_prefix": "rm(",
     "library": "var_list.r",
     "varRefreshCmd": "cat(var_dic_list()) "
    }
   },
   "types_to_exclude": [
    "module",
    "function",
    "builtin_function_or_method",
    "instance",
    "_Feature"
   ],
   "window_display": false
  }
 },
 "nbformat": 4,
 "nbformat_minor": 5
}
