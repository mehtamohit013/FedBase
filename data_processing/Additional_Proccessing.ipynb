{
 "cells": [
  {
   "cell_type": "code",
   "execution_count": 1,
   "id": "5391fff6",
   "metadata": {
    "ExecuteTime": {
     "end_time": "2021-07-11T05:07:52.688267Z",
     "start_time": "2021-07-11T05:07:52.683257Z"
    }
   },
   "outputs": [],
   "source": [
    "import os\n",
    "import numpy as np"
   ]
  },
  {
   "cell_type": "code",
   "execution_count": 26,
   "id": "69e3f99e",
   "metadata": {
    "ExecuteTime": {
     "end_time": "2021-07-11T05:21:37.397115Z",
     "start_time": "2021-07-11T05:21:37.390022Z"
    }
   },
   "outputs": [],
   "source": [
    "lpath = (os.environ['HOME']+f'/webots_code/data/lidar_samples')\n",
    "origins = np.array([\n",
    "        [-170,5,-113],\n",
    "        [-112,5,-95],\n",
    "        [-97.7,5,-139]\n",
    "    ])"
   ]
  },
  {
   "cell_type": "markdown",
   "id": "f41e132d",
   "metadata": {
    "ExecuteTime": {
     "end_time": "2021-07-11T05:13:52.233233Z",
     "start_time": "2021-07-11T05:13:52.226692Z"
    }
   },
   "source": [
    "# Adding RX and TX in lidar array\n",
    "\n",
    "For Rx =3, Tx=2\n",
    "\n",
    "Tx will always be located at [10,120,120] # At a height of '5'\n",
    "\n",
    "Rx will be located at: (Remember that data is organized as [y,x,z]\n",
    "    \n",
    "    [int(translation[0]-origin[i][2]+120),4,int(translation[2]-origins[i][2]+120)]"
   ]
  },
  {
   "cell_type": "code",
   "execution_count": null,
   "id": "9e0c1865",
   "metadata": {
    "ExecuteTime": {
     "end_time": "2021-07-11T05:39:33.428415Z",
     "start_time": "2021-07-11T05:37:32.324091Z"
    }
   },
   "outputs": [],
   "source": [
    "for count,filename in enumerate(os.listdir(lpath)):\n",
    "    data = dict(np.load(os.path.join(lpath,filename)))\n",
    "    print(filename,data['lidar'].shape)\n",
    "    for i in range(0,origins.shape[0]):\n",
    "        data['lidar'][i,10,120,120] = 2\n",
    "        x = int(data['translation'][0] - origins[i][0] + 120)\n",
    "        y = 4\n",
    "        z = int(data['translation'][2] - origins[i][2] + 120)\n",
    "        data['lidar'][i,y,x,z] = 3\n",
    "    np.savez_compressed(os.path.join(lpath,filename),\n",
    "                       lidar = data['lidar'],\n",
    "                       translation = data['translation'],\n",
    "                       rotation = data['rotation'],\n",
    "                       sites = data['sites'],\n",
    "                       data_pp = data['data_pp'])\n",
    "    if count%10==0:\n",
    "        print(f'{count} files has been processed')"
   ]
  },
  {
   "cell_type": "markdown",
   "id": "a5acdc88",
   "metadata": {},
   "source": [
    "# File inspector"
   ]
  },
  {
   "cell_type": "code",
   "execution_count": 35,
   "id": "5ed254e1",
   "metadata": {
    "ExecuteTime": {
     "end_time": "2021-07-11T05:41:57.943627Z",
     "start_time": "2021-07-11T05:41:57.630708Z"
    }
   },
   "outputs": [
    {
     "name": "stdout",
     "output_type": "stream",
     "text": [
      "(2, 20, 440, 440) [0 1]\n"
     ]
    }
   ],
   "source": [
    "data = dict(np.load(lpath+'/82.npz'))\n",
    "print(data['lidar'].shape,data['sites'])"
   ]
  },
  {
   "cell_type": "code",
   "execution_count": null,
   "id": "d45ad9a5",
   "metadata": {},
   "outputs": [],
   "source": []
  }
 ],
 "metadata": {
  "kernelspec": {
   "display_name": "Python 3",
   "language": "python",
   "name": "python3"
  },
  "language_info": {
   "codemirror_mode": {
    "name": "ipython",
    "version": 3
   },
   "file_extension": ".py",
   "mimetype": "text/x-python",
   "name": "python",
   "nbconvert_exporter": "python",
   "pygments_lexer": "ipython3",
   "version": "3.6.10"
  },
  "notify_time": "10",
  "toc": {
   "base_numbering": 1,
   "nav_menu": {},
   "number_sections": true,
   "sideBar": false,
   "skip_h1_title": false,
   "title_cell": "Table of Contents",
   "title_sidebar": "Contents",
   "toc_cell": false,
   "toc_position": {},
   "toc_section_display": true,
   "toc_window_display": false
  },
  "varInspector": {
   "cols": {
    "lenName": 16,
    "lenType": 16,
    "lenVar": 40
   },
   "kernels_config": {
    "python": {
     "delete_cmd_postfix": "",
     "delete_cmd_prefix": "del ",
     "library": "var_list.py",
     "varRefreshCmd": "print(var_dic_list())"
    },
    "r": {
     "delete_cmd_postfix": ") ",
     "delete_cmd_prefix": "rm(",
     "library": "var_list.r",
     "varRefreshCmd": "cat(var_dic_list()) "
    }
   },
   "types_to_exclude": [
    "module",
    "function",
    "builtin_function_or_method",
    "instance",
    "_Feature"
   ],
   "window_display": false
  }
 },
 "nbformat": 4,
 "nbformat_minor": 5
}
