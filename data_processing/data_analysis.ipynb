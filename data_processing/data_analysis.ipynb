{
 "cells": [
  {
   "cell_type": "code",
   "execution_count": 2,
   "metadata": {},
   "outputs": [],
   "source": [
    "import os\n",
    "from pypcd import pypcd\n",
    "import numpy as np"
   ]
  },
  {
   "cell_type": "code",
   "execution_count": 3,
   "metadata": {},
   "outputs": [],
   "source": [
    "def save_pcloud(data: np.ndarray, filename: str):\n",
    "    pcloud = pypcd.make_xyz_point_cloud(data)\n",
    "    pypcd.save_point_cloud_bin(pcloud, f\"{filename}.pcd\")"
   ]
  },
  {
   "cell_type": "code",
   "execution_count": 4,
   "metadata": {},
   "outputs": [],
   "source": [
    "def quantize(data: np.ndarray, steps: np.ndarray) -> np.ndarray:\n",
    "    data = np.around(data/steps)\n",
    "    data = np.unique(data, axis=0)\n",
    "    return data"
   ]
  },
  {
   "cell_type": "code",
   "execution_count": 5,
   "metadata": {},
   "outputs": [
    {
     "data": {
      "text/plain": [
       "(1, 1)"
      ]
     },
     "execution_count": 5,
     "metadata": {},
     "output_type": "execute_result"
    }
   ],
   "source": [
    "a = np.array([1])\n",
    "a[:, None].shape"
   ]
  },
  {
   "cell_type": "code",
   "execution_count": 6,
   "metadata": {},
   "outputs": [],
   "source": [
    "def pts_around_lidar(data: np.ndarray, cube: list()) -> np.ndarray:\n",
    "    x_ind = np.where(cube[0] < data[:, 0], 1, 0) * \\\n",
    "        np.where(data[:, 0] < cube[1], 1, 0)\n",
    "    y_ind = np.where(cube[2] < data[:, 1], 1, 0) * \\\n",
    "        np.where(data[:, 1] < cube[3], 1, 0)\n",
    "    z_ind = np.where(cube[4] < data[:, 2], 1, 0) * \\\n",
    "        np.where(data[:, 2] < cube[5], 1, 0)\n",
    "    cube_ind = x_ind*y_ind*z_ind\n",
    "    data = data - data*cube_ind[:, None]\n",
    "    return np.unique(data, axis=0)"
   ]
  },
  {
   "cell_type": "code",
   "execution_count": 7,
   "metadata": {},
   "outputs": [],
   "source": [
    "dpath = '/home/mohit/webots_code/data'\n",
    "lidar_path = os.path.join(dpath, 'lidar_samples')\n",
    "label_path = os.path.join(dpath, 'sample_label')\n",
    "gps_path = os.path.join(dpath, 'samples')"
   ]
  },
  {
   "cell_type": "code",
   "execution_count": 16,
   "metadata": {},
   "outputs": [],
   "source": [
    "lidar_data = np.load(os.path.join(lidar_path, '25.npy'))"
   ]
  },
  {
   "cell_type": "code",
   "execution_count": 17,
   "metadata": {},
   "outputs": [
    {
     "name": "stdout",
     "output_type": "stream",
     "text": [
      "(222402, 3) float32\n"
     ]
    }
   ],
   "source": [
    "print(lidar_data.shape, lidar_data.dtype)"
   ]
  },
  {
   "cell_type": "code",
   "execution_count": 18,
   "metadata": {},
   "outputs": [],
   "source": [
    "boundaries = {'xmax': 120, 'xmin': -120,\n",
    "              'zmax': 120, 'zmin': -120, \"ymin\": -5, 'ymax': 5}\n",
    "steps = np.array([1.0, 0.5, 1.0])\n",
    "cube = [-1, 1, -5, 5, -5, 5]"
   ]
  },
  {
   "cell_type": "code",
   "execution_count": 20,
   "metadata": {},
   "outputs": [
    {
     "name": "stdout",
     "output_type": "stream",
     "text": [
      "(6433, 3)\n",
      "(207335, 3)\n"
     ]
    }
   ],
   "source": [
    "lidar_un = quantize(lidar_data, steps)\n",
    "lidar_tr = pts_around_lidar(lidar_data, cube)\n",
    "print(lidar_un.shape)\n",
    "print(lidar_tr.shape)\n",
    "save_pcloud(lidar_data, 'raw')\n",
    "save_pcloud(lidar_un, 'quant')\n",
    "save_pcloud(lidar_tr, 'trunc')\n",
    "lidar_t_un = pts_around_lidar(lidar_un, cube)\n",
    "save_pcloud(lidar_t_un, 'final')"
   ]
  }
 ],
 "metadata": {
  "interpreter": {
   "hash": "8a6e41e2096ae80e44a520737195a0624724a8dc9183fd278f6c24401b68bee1"
  },
  "kernelspec": {
   "display_name": "Python 3",
   "language": "python",
   "name": "python3"
  },
  "language_info": {
   "codemirror_mode": {
    "name": "ipython",
    "version": 3
   },
   "file_extension": ".py",
   "mimetype": "text/x-python",
   "name": "python",
   "nbconvert_exporter": "python",
   "pygments_lexer": "ipython3",
   "version": "3.6.10"
  },
  "toc": {
   "base_numbering": 1,
   "nav_menu": {},
   "number_sections": true,
   "sideBar": false,
   "skip_h1_title": false,
   "title_cell": "Table of Contents",
   "title_sidebar": "Contents",
   "toc_cell": false,
   "toc_position": {},
   "toc_section_display": true,
   "toc_window_display": false
  },
  "varInspector": {
   "cols": {
    "lenName": 16,
    "lenType": 16,
    "lenVar": 40
   },
   "kernels_config": {
    "python": {
     "delete_cmd_postfix": "",
     "delete_cmd_prefix": "del ",
     "library": "var_list.py",
     "varRefreshCmd": "print(var_dic_list())"
    },
    "r": {
     "delete_cmd_postfix": ") ",
     "delete_cmd_prefix": "rm(",
     "library": "var_list.r",
     "varRefreshCmd": "cat(var_dic_list()) "
    }
   },
   "types_to_exclude": [
    "module",
    "function",
    "builtin_function_or_method",
    "instance",
    "_Feature"
   ],
   "window_display": false
  }
 },
 "nbformat": 4,
 "nbformat_minor": 2
}
