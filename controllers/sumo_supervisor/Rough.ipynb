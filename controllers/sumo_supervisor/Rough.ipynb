{
 "metadata": {
  "language_info": {
   "codemirror_mode": {
    "name": "ipython",
    "version": 3
   },
   "file_extension": ".py",
   "mimetype": "text/x-python",
   "name": "python",
   "nbconvert_exporter": "python",
   "pygments_lexer": "ipython3",
   "version": "3.9.5"
  },
  "orig_nbformat": 4,
  "kernelspec": {
   "name": "python3",
   "display_name": "Python 3.9.5 64-bit ('webots_code': conda)"
  },
  "interpreter": {
   "hash": "8a6e41e2096ae80e44a520737195a0624724a8dc9183fd278f6c24401b68bee1"
  }
 },
 "nbformat": 4,
 "nbformat_minor": 2,
 "cells": [
  {
   "cell_type": "code",
   "execution_count": 2,
   "metadata": {},
   "outputs": [],
   "source": [
    "from SumoSupervisor import SumoSupervisor\n",
    "\n",
    "import optparse\n",
    "import os\n",
    "import re\n",
    "import shutil\n",
    "import subprocess\n",
    "import sys\n",
    "import tempfile"
   ]
  },
  {
   "cell_type": "code",
   "execution_count": 3,
   "metadata": {},
   "outputs": [
    {
     "output_type": "stream",
     "name": "stdout",
     "text": [
      "Using SUMO from /usr/share/sumo/\nThis might cause version conflicts, unset the \"SUMO_HOME\" environment variable to use the one from Webots\n"
     ]
    }
   ],
   "source": [
    "try:\n",
    "    if 'SUMO_HOME' in os.environ:\n",
    "        sumoPath = os.environ['SUMO_HOME'] + '/'\n",
    "        print('Using SUMO from %s' % sumoPath)\n",
    "        print('This might cause version conflicts, unset the \"SUMO_HOME\" environment variable to use the one from Webots')\n",
    "    else:\n",
    "        sumoPath = os.environ.get(\"WEBOTS_HOME\") + \"/projects/default/resources/sumo/\"\n",
    "        sumoPath.replace('/', os.sep)\n",
    "        os.putenv(\"SUMO_HOME\", sumoPath)\n",
    "    if sys.platform.startswith('darwin'):\n",
    "        libraryVariablePath = \"DYLD_LIBRARY_PATH\"\n",
    "\n",
    "        # Fix the following error (shown on \"El Capitan\"):\n",
    "        #    ./projects/default/resources/sumo/sumo-gui\n",
    "        #    Fontconfig error: Cannot load default config file\n",
    "        #    Quitting (on unknown error).\n",
    "        if os.path.exists('/opt/local/etc/fonts/fonts.conf'):\n",
    "            os.putenv('FONTCONFIG_PATH', '/opt/local/etc/fonts/')\n",
    "        elif os.path.exists('/opt/X11/lib/X11/fontconfig/fonts.conf'):\n",
    "            os.putenv('FONTCONFIG_PATH', '/opt/X11/lib/X11/fontconfig/')\n",
    "\n",
    "    elif sys.platform.startswith('linux'):\n",
    "        libraryVariablePath = \"LD_LIBRARY_PATH\"\n",
    "    else:\n",
    "        libraryVariablePath = \"PATH\"\n",
    "    path = os.environ.get(libraryVariablePath)\n",
    "    addToPath = sumoPath + \"bin\"\n",
    "    if sys.platform.startswith('linux'):\n",
    "        addToPath = os.environ.get(\"WEBOTS_HOME\") + os.sep + \"lib\" + ';' + sumoPath + \"bin\"\n",
    "    if path is None:\n",
    "        os.putenv(libraryVariablePath, addToPath)\n",
    "    else:\n",
    "        os.putenv(libraryVariablePath, addToPath + ';' + path)\n",
    "    sys.path.append(sumoPath + os.sep + \"tools\")\n",
    "    import traci\n",
    "    import sumolib\n",
    "except ImportError:\n",
    "    sys.exit(\"Can't find SUMO.\")"
   ]
  },
  {
   "cell_type": "code",
   "execution_count": null,
   "metadata": {},
   "outputs": [],
   "source": []
  }
 ]
}