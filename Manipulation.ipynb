{
 "cells": [
  {
   "cell_type": "code",
   "execution_count": 1,
   "id": "7b769a55",
   "metadata": {
    "ExecuteTime": {
     "end_time": "2022-03-07T09:05:09.797379Z",
     "start_time": "2022-03-07T09:04:59.189314Z"
    }
   },
   "outputs": [],
   "source": [
    "import pandas as pd \n",
    "import numpy as np\n",
    "import os\n",
    "import math\n",
    "import scipy.io as io\n",
    "from tqdm.notebook import tqdm\n",
    "\n",
    "import matplotlib.pyplot as plt\n",
    "%matplotlib qt\n",
    "\n",
    "HOME = os.environ['HOME']"
   ]
  },
  {
   "cell_type": "markdown",
   "id": "3ab52fec",
   "metadata": {},
   "source": [
    "# Cleaning Data"
   ]
  },
  {
   "cell_type": "code",
   "execution_count": 2,
   "id": "e1cc7dbc",
   "metadata": {
    "ExecuteTime": {
     "end_time": "2022-03-07T09:05:59.667451Z",
     "start_time": "2022-03-07T09:05:59.389711Z"
    }
   },
   "outputs": [],
   "source": [
    "lstat = pd.read_pickle(f'{HOME}/webots_code/data/final/test.pkl')\n",
    "# mstat = pd.read_pickle(f'{HOME}/webots_code/data/traffic_test/med/stats_pd.pkl')\n",
    "# hstat = pd.read_pickle(f'{HOME}/webots_code/data/traffic_test/high/stats_pd.pkl')"
   ]
  },
  {
   "cell_type": "code",
   "execution_count": 4,
   "id": "3ac4474b",
   "metadata": {
    "ExecuteTime": {
     "end_time": "2022-01-27T15:43:38.544017Z",
     "start_time": "2022-01-27T15:43:38.540515Z"
    }
   },
   "outputs": [],
   "source": [
    "# print(len(lstat),len(mstat),len(hstat))"
   ]
  },
  {
   "cell_type": "code",
   "execution_count": 5,
   "id": "0721a6db",
   "metadata": {
    "ExecuteTime": {
     "end_time": "2022-01-22T11:40:35.938708Z",
     "start_time": "2022-01-22T11:40:35.928193Z"
    }
   },
   "outputs": [],
   "source": [
    "def check_df(traf:str):\n",
    "    \n",
    "    '''\n",
    "    traf : 'low','med','high'\n",
    "    '''\n",
    "    \n",
    "    if(traf=='low'):\n",
    "        dpath = f'{HOME}/webots_code/data/traffic_test/low/labels'\n",
    "        label = os.listdir(dpath)\n",
    "        nf = list()\n",
    "        for i in lstat.index.values:\n",
    "            t = lstat.at[i,'Time']\n",
    "#             print(lstat.at[i,'Name']+f'{t:.1f}'+'.mat',label[0])\n",
    "            if not(lstat.at[i,'Name']+f'{t:.1f}'+'.mat' in label):\n",
    "                nf.append(i)\n",
    "        return nf\n",
    "    elif(traf=='med'):\n",
    "        dpath = f'{HOME}/webots_code/data/traffic_test/med/labels'\n",
    "        label = os.listdir(dpath)\n",
    "        nf = list()\n",
    "        for i in mstat.index.values:\n",
    "            t = mstat.at[i,'Time']\n",
    "            if not(mstat.at[i,'Name']+f'{t:.1f}'+'.mat' in label):\n",
    "                nf.append(i)\n",
    "        return nf\n",
    "    else:\n",
    "        dpath = f'{HOME}/webots_code/data/traffic_test/high/labels'\n",
    "        label = os.listdir(dpath)\n",
    "        nf = list()\n",
    "        for i in hstat.index.values:\n",
    "            t = hstat.at[i,'Time']\n",
    "            if not(hstat.at[i,'Name']+f'{t:.1f}'+'.mat' in label):\n",
    "                nf.append(i)\n",
    "        return nf"
   ]
  },
  {
   "cell_type": "code",
   "execution_count": 5,
   "id": "e567092f",
   "metadata": {
    "ExecuteTime": {
     "end_time": "2022-01-22T07:22:21.893955Z",
     "start_time": "2022-01-22T07:22:21.741536Z"
    }
   },
   "outputs": [],
   "source": [
    "# lstat = lstat.drop(index=check_df('low'))\n",
    "# mstat = mstat.drop(index=check_df('med'))\n",
    "# hstat = hstat.drop(index=check_df('high'))"
   ]
  },
  {
   "cell_type": "code",
   "execution_count": 6,
   "id": "4eca532a",
   "metadata": {
    "ExecuteTime": {
     "end_time": "2022-01-22T07:22:36.699074Z",
     "start_time": "2022-01-22T07:22:36.674584Z"
    }
   },
   "outputs": [
    {
     "name": "stdout",
     "output_type": "stream",
     "text": [
      "1207 1222 1496\n"
     ]
    }
   ],
   "source": [
    "# print(len(lstat),len(mstat),len(hstat))\n",
    "# lstat.to_pickle(f'{HOME}/webots_code/data/traffic_test/low/stats_pd.pkl')\n",
    "# mstat.to_pickle(f'{HOME}/webots_code/data/traffic_test/med/stats_pd.pkl')\n",
    "# hstat.to_pickle(f'{HOME}/webots_code/data/traffic_test/high/stats_pd.pkl')"
   ]
  },
  {
   "cell_type": "code",
   "execution_count": 59,
   "id": "e6d0d315",
   "metadata": {
    "ExecuteTime": {
     "end_time": "2022-01-21T18:09:49.618378Z",
     "start_time": "2022-01-21T18:09:49.603513Z"
    }
   },
   "outputs": [],
   "source": [
    "# def find_cnt(lw:int,hg:int):\n",
    "#     print(sum(lw<=lstat['veh_range']< hg) + sum(lw<=mstat['veh_range']<hg) + sum(lw<=hstat['veh_range']<hg))"
   ]
  },
  {
   "cell_type": "code",
   "execution_count": 60,
   "id": "07779e4c",
   "metadata": {
    "ExecuteTime": {
     "end_time": "2022-01-21T18:09:58.115974Z",
     "start_time": "2022-01-21T18:09:58.088488Z"
    },
    "scrolled": true
   },
   "outputs": [
    {
     "ename": "ValueError",
     "evalue": "The truth value of a Series is ambiguous. Use a.empty, a.bool(), a.item(), a.any() or a.all().",
     "output_type": "error",
     "traceback": [
      "\u001b[0;31m---------------------------------------------------------------------------\u001b[0m",
      "\u001b[0;31mValueError\u001b[0m                                Traceback (most recent call last)",
      "\u001b[0;32m/tmp/ipykernel_13052/2893900038.py\u001b[0m in \u001b[0;36m<module>\u001b[0;34m\u001b[0m\n\u001b[0;32m----> 1\u001b[0;31m \u001b[0mfind_cnt\u001b[0m\u001b[0;34m(\u001b[0m\u001b[0;36m0\u001b[0m\u001b[0;34m,\u001b[0m\u001b[0;36m5\u001b[0m\u001b[0;34m)\u001b[0m\u001b[0;34m\u001b[0m\u001b[0;34m\u001b[0m\u001b[0m\n\u001b[0m",
      "\u001b[0;32m/tmp/ipykernel_13052/3317478548.py\u001b[0m in \u001b[0;36mfind_cnt\u001b[0;34m(lw, hg)\u001b[0m\n\u001b[1;32m      1\u001b[0m \u001b[0;32mdef\u001b[0m \u001b[0mfind_cnt\u001b[0m\u001b[0;34m(\u001b[0m\u001b[0mlw\u001b[0m\u001b[0;34m:\u001b[0m\u001b[0mint\u001b[0m\u001b[0;34m,\u001b[0m\u001b[0mhg\u001b[0m\u001b[0;34m:\u001b[0m\u001b[0mint\u001b[0m\u001b[0;34m)\u001b[0m\u001b[0;34m:\u001b[0m\u001b[0;34m\u001b[0m\u001b[0;34m\u001b[0m\u001b[0m\n\u001b[0;32m----> 2\u001b[0;31m     \u001b[0mprint\u001b[0m\u001b[0;34m(\u001b[0m\u001b[0msum\u001b[0m\u001b[0;34m(\u001b[0m\u001b[0mlw\u001b[0m\u001b[0;34m<=\u001b[0m\u001b[0mlstat\u001b[0m\u001b[0;34m[\u001b[0m\u001b[0;34m'veh_range'\u001b[0m\u001b[0;34m]\u001b[0m\u001b[0;34m<\u001b[0m \u001b[0mhg\u001b[0m\u001b[0;34m)\u001b[0m \u001b[0;34m+\u001b[0m \u001b[0msum\u001b[0m\u001b[0;34m(\u001b[0m\u001b[0mlw\u001b[0m\u001b[0;34m<=\u001b[0m\u001b[0mmstat\u001b[0m\u001b[0;34m[\u001b[0m\u001b[0;34m'veh_range'\u001b[0m\u001b[0;34m]\u001b[0m\u001b[0;34m<\u001b[0m\u001b[0mhg\u001b[0m\u001b[0;34m)\u001b[0m \u001b[0;34m+\u001b[0m \u001b[0msum\u001b[0m\u001b[0;34m(\u001b[0m\u001b[0mlw\u001b[0m\u001b[0;34m<=\u001b[0m\u001b[0mhstat\u001b[0m\u001b[0;34m[\u001b[0m\u001b[0;34m'veh_range'\u001b[0m\u001b[0;34m]\u001b[0m\u001b[0;34m<\u001b[0m\u001b[0mhg\u001b[0m\u001b[0;34m)\u001b[0m\u001b[0;34m)\u001b[0m\u001b[0;34m\u001b[0m\u001b[0;34m\u001b[0m\u001b[0m\n\u001b[0m",
      "\u001b[0;32m~/anaconda3/envs/webots_ml/lib/python3.7/site-packages/pandas/core/generic.py\u001b[0m in \u001b[0;36m__nonzero__\u001b[0;34m(self)\u001b[0m\n\u001b[1;32m   1536\u001b[0m     \u001b[0;32mdef\u001b[0m \u001b[0m__nonzero__\u001b[0m\u001b[0;34m(\u001b[0m\u001b[0mself\u001b[0m\u001b[0;34m)\u001b[0m\u001b[0;34m:\u001b[0m\u001b[0;34m\u001b[0m\u001b[0;34m\u001b[0m\u001b[0m\n\u001b[1;32m   1537\u001b[0m         raise ValueError(\n\u001b[0;32m-> 1538\u001b[0;31m             \u001b[0;34mf\"The truth value of a {type(self).__name__} is ambiguous. \"\u001b[0m\u001b[0;34m\u001b[0m\u001b[0;34m\u001b[0m\u001b[0m\n\u001b[0m\u001b[1;32m   1539\u001b[0m             \u001b[0;34m\"Use a.empty, a.bool(), a.item(), a.any() or a.all().\"\u001b[0m\u001b[0;34m\u001b[0m\u001b[0;34m\u001b[0m\u001b[0m\n\u001b[1;32m   1540\u001b[0m         )\n",
      "\u001b[0;31mValueError\u001b[0m: The truth value of a Series is ambiguous. Use a.empty, a.bool(), a.item(), a.any() or a.all()."
     ]
    }
   ],
   "source": [
    "# find_cnt(0,5)"
   ]
  },
  {
   "cell_type": "markdown",
   "id": "80a43625",
   "metadata": {},
   "source": [
    "# Loading model"
   ]
  },
  {
   "cell_type": "code",
   "execution_count": 3,
   "id": "0b078a0d",
   "metadata": {
    "ExecuteTime": {
     "end_time": "2022-03-07T09:06:25.617435Z",
     "start_time": "2022-03-07T09:06:04.725597Z"
    }
   },
   "outputs": [],
   "source": [
    "import torch \n",
    "from torch import nn\n",
    "from torch.nn import functional as F\n",
    "\n",
    "import pytorch_lightning as pl"
   ]
  },
  {
   "cell_type": "code",
   "execution_count": 4,
   "id": "54a4368a",
   "metadata": {
    "ExecuteTime": {
     "end_time": "2022-03-07T09:06:25.656850Z",
     "start_time": "2022-03-07T09:06:25.638054Z"
    }
   },
   "outputs": [],
   "source": [
    "class incp(nn.Module):\n",
    "    def __init__(self,drp:float=0.3,\n",
    "                 drp_fc:float=0.2):\n",
    "        super().__init__()\n",
    "        \n",
    "        self.drop_CNN = nn.Dropout(drp)\n",
    "        self.drop_fc = nn.Dropout(drp_fc)\n",
    "        self.mpool = nn.MaxPool2d((2,2))\n",
    "        self.channels = 5\n",
    "        self.fchannel = 3\n",
    "        self.conv1 = self.create_conv(10,self.channels,13)\n",
    "        self.conv2 = self.create_conv(self.channels,self.channels,13)\n",
    "        self.conv3 = self.create_conv(self.channels,self.channels,7)\n",
    "        self.conv4 = self.create_conv(self.channels,self.channels,7)\n",
    "\n",
    "        # 1st Inception block\n",
    "        self.in1 = nn.Sequential(\n",
    "            self.create_conv(self.channels,self.fchannel,1),\n",
    "            self.create_conv(self.fchannel,self.fchannel,3),\n",
    "            self.create_conv(self.fchannel,self.fchannel,3)\n",
    "        )\n",
    "        self.in2 = nn.Sequential(\n",
    "            self.create_conv(self.channels,self.fchannel,1),\n",
    "            self.create_conv(self.fchannel,self.fchannel,3)\n",
    "        )\n",
    "        self.in3 = nn.Sequential(\n",
    "            nn.MaxPool2d((3,3)),\n",
    "            self.create_conv(self.channels,self.fchannel,1)\n",
    "        )\n",
    "        self.in4 = self.create_conv(self.channels,self.fchannel,1)\n",
    "\n",
    "        # Second inception block\n",
    "        self.in5 = nn.Sequential(\n",
    "            self.create_conv(self.fchannel*4,self.fchannel,1),\n",
    "            self.create_conv(self.fchannel,self.fchannel,3),\n",
    "            self.create_conv(self.fchannel,self.fchannel,3)\n",
    "        )\n",
    "        self.in6 = nn.Sequential(\n",
    "            self.create_conv(self.fchannel*4,self.fchannel,1),\n",
    "            self.create_conv(self.fchannel,self.fchannel,3)\n",
    "        )\n",
    "        self.in7 = nn.Sequential(\n",
    "            nn.MaxPool2d((3,3)),\n",
    "            self.create_conv(self.fchannel*4,self.fchannel,1)\n",
    "        )\n",
    "        self.in8 = self.create_conv(self.fchannel*4,self.fchannel,1)\n",
    "\n",
    "        self.conv5 = self.create_conv(self.fchannel*4,self.fchannel,7)\n",
    "        self.conv6 = self.create_conv(self.fchannel,self.fchannel,7)\n",
    "\n",
    "        self.conv7 = self.create_conv(self.fchannel,self.fchannel,3)\n",
    "        self.conv8 = self.create_conv(self.fchannel,self.fchannel,3)\n",
    "        \n",
    "        self.flatten = nn.Flatten()\n",
    "\n",
    "        # self.linear = nn.Sequential(\n",
    "        #     nn.Linear(2352,256),\n",
    "        #     nn.PReLU(1),\n",
    "        #     nn.BatchNorm1d(256),\n",
    "        #     self.drop_fc,\n",
    "        #     nn.Linear(256,64),\n",
    "        #     nn.PReLU(1),\n",
    "        #     nn.BatchNorm1d(64),\n",
    "        #     self.drop_fc,\n",
    "        #     nn.Linear(64,16),\n",
    "        #     nn.PReLU(1),\n",
    "        #     nn.BatchNorm1d(16),\n",
    "        #     self.drop_fc,\n",
    "        #     nn.Linear(16,3)\n",
    "        # )\n",
    "\n",
    "        self.linear = nn.Sequential(\n",
    "            nn.Linear(588,16),\n",
    "            nn.PReLU(1),\n",
    "            nn.BatchNorm1d(16),\n",
    "            nn.Linear(16,3)\n",
    "        )\n",
    "\n",
    "    \n",
    "    def forward(self,X):\n",
    "        X  = self.conv1(X)\n",
    "        X  = self.conv2(X)\n",
    "        X = self.mpool(X)\n",
    "\n",
    "        X = self.conv3(X)\n",
    "        X = self.conv4(X)\n",
    "        X = self.mpool(X)\n",
    "\n",
    "        X = self.drop_CNN(X)\n",
    "\n",
    "        a = self.in1(X)\n",
    "        a = F.pad(a,[2,2,2,2])\n",
    "        b = self.in2(X)\n",
    "        b = F.pad(b,[1,1,1,1])\n",
    "        c = self.in3(X)\n",
    "        c = F.pad(c,[16,16,16,16])\n",
    "        d = self.in4(X)\n",
    "\n",
    "        X = torch.cat((a,b,c,d),1)\n",
    "\n",
    "        X = self.drop_CNN(X)\n",
    "\n",
    "        a = self.in5(X)\n",
    "        a = F.pad(a,[2,2,2,2])\n",
    "        b = self.in6(X)\n",
    "        b = F.pad(b,[1,1,1,1])\n",
    "        c = self.in7(X)\n",
    "        c = F.pad(c,[16,16,16,16])\n",
    "        d = self.in8(X)\n",
    "\n",
    "        X = torch.cat((a,b,c,d),1)\n",
    "        X = self.drop_CNN(X)\n",
    "\n",
    "        X = self.conv5(X)\n",
    "        X = self.conv6(X)\n",
    "\n",
    "        X = self.mpool(X)\n",
    "\n",
    "        X = self.drop_CNN(X)\n",
    "\n",
    "        X = self.conv7(X)\n",
    "        X = self.conv8(X)\n",
    "        # print(X.shape)\n",
    "\n",
    "        X = self.flatten(X)\n",
    "        out = self.linear(X)\n",
    "\n",
    "        return out\n",
    "    \n",
    "    def create_conv(self,in_layers:int,out_layers:int,kernel,stride:int=1,\n",
    "                    padding:int=0) -> nn.Module :\n",
    "\n",
    "        return nn.Sequential(\n",
    "            nn.Conv2d(in_layers,out_layers,kernel,stride,padding),\n",
    "            nn.PReLU(out_layers),\n",
    "            nn.BatchNorm2d(out_layers)\n",
    "        )"
   ]
  },
  {
   "cell_type": "code",
   "execution_count": 5,
   "id": "8f04ea47",
   "metadata": {
    "ExecuteTime": {
     "end_time": "2022-03-07T09:06:25.829357Z",
     "start_time": "2022-03-07T09:06:25.677450Z"
    }
   },
   "outputs": [],
   "source": [
    "class lidar_trainer(pl.LightningModule):\n",
    "    def __init__(self,use_model:str='incp',\n",
    "                 drop_prob:float = 0.3,\n",
    "                 drop_prob_fc:float = 0.2,\n",
    "                 learning_rate:float = 1e-3,\n",
    "                 weight_decay:float = 0.0):\n",
    "        \n",
    "        '''\n",
    "        use_model = 'NU','imp'\n",
    "        '''\n",
    "\n",
    "        self.drp = drop_prob\n",
    "        self.drp_fc = drop_prob_fc\n",
    "\n",
    "        super().__init__()\n",
    "        if use_model == 'NU':\n",
    "            self.model = NU(drp=drop_prob,drp_fc = drop_prob_fc)\n",
    "        elif use_model == 'imp':\n",
    "            self.model = imp_lidar(drp=drop_prob,drp_fc = drop_prob_fc)\n",
    "        elif use_model == 'm1':\n",
    "            self.model = m1(drp=drop_prob,drp_fc = drop_prob_fc)\n",
    "        elif use_model == 'incp':\n",
    "            self.model = incp(drp=drop_prob,drp_fc = drop_prob_fc)\n",
    "\n",
    "        self.celoss = nn.CrossEntropyLoss()\n",
    "        self.lr = learning_rate\n",
    "        self.wd = weight_decay\n",
    "\n",
    "        self.train_acc = 0\n",
    "        self.val_acc = 0\n",
    "        self.test_acc = 0\n",
    "\n",
    "        self.example_input_array = torch.rand(1,10,240,240) # For logging graph\n",
    "    \n",
    "    def forward(self,lidar):\n",
    "        out = self.model(lidar)\n",
    "        return out\n",
    "    \n",
    "    def training_step(self,batch,batch_idx):\n",
    "        lidar = batch['lidar'].float()\n",
    "        label = batch['label'].long()\n",
    "        \n",
    "        yhat = self(lidar)\n",
    "        \n",
    "        loss = self.celoss(yhat,label)\n",
    "        \n",
    "        self.log('Train Loss',loss)\n",
    "        \n",
    "        return {'loss':loss,'pred':yhat.cpu().detach(),'label':label.cpu().detach()}\n",
    "    \n",
    "    def configure_optimizers(self):\n",
    "        opt = torch.optim.Adam(self.parameters(),self.lr,\n",
    "                               weight_decay=self.wd)\n",
    "        return opt\n",
    "    \n",
    "    def training_epoch_end(self,train_out):        \n",
    "        len_out = len(train_out)\n",
    "        y_pred = torch.Tensor(len_out*BATCH_SIZE,num_BS)\n",
    "        y_true = torch.Tensor(len_out*BATCH_SIZE)\n",
    "\n",
    "        for i in range(0,len_out):\n",
    "            y_pred[i*BATCH_SIZE:(i+1)*BATCH_SIZE,:] = train_out[i]['pred'] \n",
    "            y_true[i*BATCH_SIZE:(i+1)*BATCH_SIZE] = train_out[i]['label']\n",
    "\n",
    "        top1 = top_k_acc(y_true,y_pred,k=1)\n",
    "\n",
    "        # Calculating Avg loss\n",
    "        avg_loss = torch.stack([x['loss'] for x in train_out]).mean()\n",
    "        \n",
    "        self.logger.experiment.add_scalar('Loss-Train per epoch',avg_loss,self.current_epoch)\n",
    "        self.logger.experiment.add_scalar('Train Accuracy',top1,self.current_epoch)\n",
    "\n",
    "        self.train_acc = top1\n",
    "        \n",
    "        print(f'Train accuracies is {top1}')\n",
    "\n",
    "    def validation_step(self,batch,batch_idx):\n",
    "        lidar = batch['lidar'].float()\n",
    "        label = batch['label'].long()\n",
    "        \n",
    "        yhat = self.forward(lidar)\n",
    "        \n",
    "        return [yhat.cpu().detach(),label.cpu().detach()]\n",
    "     \n",
    "    def validation_epoch_end(self,val_out):\n",
    "        len_out = len(val_out)\n",
    "        y_pred = torch.Tensor(len_out*BATCH_SIZE,num_BS)\n",
    "        y_true = torch.Tensor(len_out*BATCH_SIZE)\n",
    "\n",
    "        for i in range(0,len_out):\n",
    "            y_pred[i*BATCH_SIZE:(i+1)*BATCH_SIZE,:] = val_out[i][0] \n",
    "            y_true[i*BATCH_SIZE:(i+1)*BATCH_SIZE] = val_out[i][1] \n",
    "\n",
    "        top1 = top_k_acc(y_true,y_pred,k=1)\n",
    "        self.val_acc = top1\n",
    "\n",
    "        self.logger.experiment.add_scalar('Validation Accuracy',top1,self.current_epoch)\n",
    "\n",
    "        print(f'Validation accuracy is {top1}')\n",
    "    \n",
    "    def test_step(self,batch,batch_idx):\n",
    "        lidar = batch['lidar'].float()\n",
    "        label = batch['label'].long()\n",
    "        \n",
    "        yhat = self.forward(lidar)\n",
    "        \n",
    "        return [yhat.cpu().detach(),label.cpu().detach()]\n",
    "     \n",
    "    def test_epoch_end(self,val_out):\n",
    "        len_out = len(val_out)\n",
    "        y_pred = torch.Tensor(len_out*BATCH_SIZE,num_BS)\n",
    "        y_true = torch.Tensor(len_out*BATCH_SIZE)\n",
    "\n",
    "        for i in range(0,len_out):\n",
    "            y_pred[i*BATCH_SIZE:(i+1)*BATCH_SIZE,:] = val_out[i][0] \n",
    "            y_true[i*BATCH_SIZE:(i+1)*BATCH_SIZE] = val_out[i][1] \n",
    "\n",
    "        top1 = top_k_acc(y_true,y_pred,k=1)\n",
    "        self.test_acc = top1\n",
    "\n",
    "        self.logger.experiment.add_hparams(\n",
    "            {\n",
    "                'LR' : self.lr,\n",
    "                'weight_decay' : self.wd,\n",
    "                'drop_prob' : self.drp,\n",
    "                'drop_fc' : self.drp_fc,\n",
    "                'overall params' : sum(p.numel() for p in self.model.parameters())\n",
    "            },\n",
    "            {\n",
    "                'hparam/test_acc' : self.test_acc,\n",
    "                'hparam/train_acc' : self.train_acc,\n",
    "                'hparam/val_acc' : self.val_acc\n",
    "            }\n",
    "        )\n",
    "        print(f'Test accuracy is {top1}')"
   ]
  },
  {
   "cell_type": "code",
   "execution_count": 6,
   "id": "9e94a573",
   "metadata": {
    "ExecuteTime": {
     "end_time": "2022-03-07T09:06:26.609297Z",
     "start_time": "2022-03-07T09:06:25.849623Z"
    }
   },
   "outputs": [],
   "source": [
    "lidar_model = lidar_trainer(use_model='incp',drop_prob=0.3,drop_prob_fc=0.2,weight_decay=1e-4,learning_rate=3.63e-4)"
   ]
  },
  {
   "cell_type": "code",
   "execution_count": 7,
   "id": "5ac2ff6a",
   "metadata": {
    "ExecuteTime": {
     "end_time": "2022-03-07T09:06:27.041130Z",
     "start_time": "2022-03-07T09:06:26.628903Z"
    }
   },
   "outputs": [],
   "source": [
    "lidar_model = lidar_trainer.load_from_checkpoint('/home/mohit/webots_code/comms_lidar_ML/BS_Selection/tb_logs_new2/inception/version_0/checkpoints/epoch=19-step=3759.ckpt')"
   ]
  },
  {
   "cell_type": "code",
   "execution_count": 8,
   "id": "8d399744",
   "metadata": {
    "ExecuteTime": {
     "end_time": "2022-03-07T09:06:27.064899Z",
     "start_time": "2022-03-07T09:06:27.061985Z"
    }
   },
   "outputs": [],
   "source": [
    "model = lidar_model.model"
   ]
  },
  {
   "cell_type": "markdown",
   "id": "15a0a21f",
   "metadata": {},
   "source": [
    "# Evaluting the model"
   ]
  },
  {
   "cell_type": "code",
   "execution_count": 9,
   "id": "a157c566",
   "metadata": {
    "ExecuteTime": {
     "end_time": "2022-03-07T09:06:35.704029Z",
     "start_time": "2022-03-07T09:06:35.671315Z"
    }
   },
   "outputs": [],
   "source": [
    "lstat = lstat.reset_index()\n",
    "# mstat = mstat.reset_index()\n",
    "# hstat = hstat.reset_index()"
   ]
  },
  {
   "cell_type": "code",
   "execution_count": 10,
   "id": "2e65bff4",
   "metadata": {
    "ExecuteTime": {
     "end_time": "2022-03-07T09:06:37.109008Z",
     "start_time": "2022-03-07T09:06:37.100949Z"
    }
   },
   "outputs": [
    {
     "data": {
      "text/plain": [
       "'SUMO vehicle 301849.8.'"
      ]
     },
     "execution_count": 10,
     "metadata": {},
     "output_type": "execute_result"
    }
   ],
   "source": [
    "lstat.at[0,'Lidar'][:-3]"
   ]
  },
  {
   "cell_type": "code",
   "execution_count": 22,
   "id": "1f7ca197",
   "metadata": {
    "ExecuteTime": {
     "end_time": "2022-03-07T09:13:32.484793Z",
     "start_time": "2022-03-07T09:12:13.099480Z"
    }
   },
   "outputs": [
    {
     "data": {
      "application/vnd.jupyter.widget-view+json": {
       "model_id": "52f475a9872940d2b9661c46a7b09293",
       "version_major": 2,
       "version_minor": 0
      },
      "text/plain": [
       "  0%|          | 0/1342 [00:00<?, ?it/s]"
      ]
     },
     "metadata": {},
     "output_type": "display_data"
    }
   ],
   "source": [
    "model.eval()\n",
    "dpath = f'{HOME}/webots_code/data/final'\n",
    "acc = list()\n",
    "for i in tqdm(lstat.index.values):\n",
    "    name = lstat.at[i,'Lidar']\n",
    "    lidar_data = torch.tensor(np.load(dpath+f'/lidar_compressed/{name}')['lidar'].reshape(1,10,240,240).astype('float32'))   \n",
    "    label = io.loadmat(dpath+f'/labels/{name[:-3]}mat')['ss']\n",
    "    label = np.argmax(label.astype('float64'))\n",
    "    \n",
    "    pred = model(lidar_data)\n",
    "    \n",
    "#     print(label,torch.argmax(pred))\n",
    "    if (label == torch.argmax(pred)):\n",
    "        acc.append(1)\n",
    "    else:\n",
    "        acc.append(0)"
   ]
  },
  {
   "cell_type": "code",
   "execution_count": 23,
   "id": "35f5cd31",
   "metadata": {
    "ExecuteTime": {
     "end_time": "2022-03-07T09:13:32.550418Z",
     "start_time": "2022-03-07T09:13:32.543425Z"
    }
   },
   "outputs": [
    {
     "data": {
      "text/plain": [
       "0.6035767511177347"
      ]
     },
     "execution_count": 23,
     "metadata": {},
     "output_type": "execute_result"
    }
   ],
   "source": [
    "sum(acc)/len(acc)"
   ]
  },
  {
   "cell_type": "code",
   "execution_count": 24,
   "id": "93ebfde6",
   "metadata": {
    "ExecuteTime": {
     "end_time": "2022-03-07T09:13:32.741026Z",
     "start_time": "2022-03-07T09:13:32.611399Z"
    }
   },
   "outputs": [],
   "source": [
    "lstat['Pred'] = acc"
   ]
  },
  {
   "cell_type": "code",
   "execution_count": 17,
   "id": "07a3abba",
   "metadata": {
    "ExecuteTime": {
     "end_time": "2022-01-22T11:43:47.124677Z",
     "start_time": "2022-01-22T11:42:39.044971Z"
    }
   },
   "outputs": [
    {
     "data": {
      "application/vnd.jupyter.widget-view+json": {
       "model_id": "72aa5ba7838d4756b4ef0a6e03a1a75f",
       "version_major": 2,
       "version_minor": 0
      },
      "text/plain": [
       "  0%|          | 0/1222 [00:00<?, ?it/s]"
      ]
     },
     "metadata": {},
     "output_type": "display_data"
    },
    {
     "name": "stdout",
     "output_type": "stream",
     "text": [
      "0.6399345335515548\n"
     ]
    }
   ],
   "source": [
    "model.eval()\n",
    "dpath = f'{HOME}/webots_code/data/traffic_test/med'\n",
    "acc = list()\n",
    "for i in tqdm(mstat.index.values):\n",
    "    name = mstat.at[i,'Lidar']\n",
    "    lidar_data = torch.tensor(np.load(dpath+f'/lidar_compressed/{name}')['lidar'].reshape(1,10,240,240).astype('float32'))   \n",
    "    label = io.loadmat(dpath+f'/labels/{name[:-3]}mat')['ss']\n",
    "    label = np.argmax(label.astype('float64'))\n",
    "    \n",
    "    pred = model(lidar_data)\n",
    "    \n",
    "#     print(label,torch.argmax(pred))\n",
    "    if (label == torch.argmax(pred)):\n",
    "        acc.append(1)\n",
    "    else:\n",
    "        acc.append(0)\n",
    "print(sum(acc)/len(acc))"
   ]
  },
  {
   "cell_type": "code",
   "execution_count": 20,
   "id": "d572698e",
   "metadata": {
    "ExecuteTime": {
     "end_time": "2022-01-22T07:25:09.068476Z",
     "start_time": "2022-01-22T07:25:09.063760Z"
    }
   },
   "outputs": [],
   "source": [
    "mstat['Pred'] = acc"
   ]
  },
  {
   "cell_type": "code",
   "execution_count": 21,
   "id": "0951801a",
   "metadata": {
    "ExecuteTime": {
     "end_time": "2022-01-22T07:26:30.248292Z",
     "start_time": "2022-01-22T07:25:10.460538Z"
    }
   },
   "outputs": [
    {
     "data": {
      "application/vnd.jupyter.widget-view+json": {
       "model_id": "5fcffbc0876c433eaf85cf6a6e57a308",
       "version_major": 2,
       "version_minor": 0
      },
      "text/plain": [
       "  0%|          | 0/1496 [00:00<?, ?it/s]"
      ]
     },
     "metadata": {},
     "output_type": "display_data"
    },
    {
     "name": "stdout",
     "output_type": "stream",
     "text": [
      "0.6082887700534759\n"
     ]
    }
   ],
   "source": [
    "model.eval()\n",
    "dpath = f'{HOME}/webots_code/data/traffic_test/high'\n",
    "acc = list()\n",
    "for i in tqdm(hstat.index.values):\n",
    "    name = hstat.at[i,'Lidar']\n",
    "    lidar_data = torch.tensor(np.load(dpath+f'/lidar_compressed/{name}')['lidar'].reshape(1,10,240,240).astype('float32'))   \n",
    "    label = io.loadmat(dpath+f'/labels/{name[:-3]}mat')['ss']\n",
    "    label = np.argmax(label.astype('float64'))\n",
    "    \n",
    "    pred = model(lidar_data)\n",
    "    \n",
    "#     print(label,torch.argmax(pred))\n",
    "    if (label == torch.argmax(pred)):\n",
    "        acc.append(1)\n",
    "    else:\n",
    "        acc.append(0)\n",
    "print(sum(acc)/len(acc))\n",
    "hstat['Pred'] = acc"
   ]
  },
  {
   "cell_type": "code",
   "execution_count": 22,
   "id": "64c48754",
   "metadata": {
    "ExecuteTime": {
     "end_time": "2022-01-22T07:26:30.728451Z",
     "start_time": "2022-01-22T07:26:30.707987Z"
    }
   },
   "outputs": [
    {
     "name": "stdout",
     "output_type": "stream",
     "text": [
      "1207 1222 1496\n"
     ]
    }
   ],
   "source": [
    "# print(len(lstat),len(mstat),len(hstat))\n",
    "# lstat.to_pickle(f'{HOME}/webots_code/data/traffic_test/low/stats_pd.pkl')\n",
    "# mstat.to_pickle(f'{HOME}/webots_code/data/traffic_test/med/stats_pd.pkl')\n",
    "# hstat.to_pickle(f'{HOME}/webots_code/data/traffic_test/high/stats_pd.pkl')"
   ]
  },
  {
   "cell_type": "markdown",
   "id": "217a6539",
   "metadata": {},
   "source": [
    "# Graphs"
   ]
  },
  {
   "cell_type": "code",
   "execution_count": 25,
   "id": "4978457b",
   "metadata": {
    "ExecuteTime": {
     "end_time": "2022-03-07T09:13:37.379478Z",
     "start_time": "2022-03-07T09:13:37.371789Z"
    }
   },
   "outputs": [],
   "source": [
    "true = [0]*max(lstat['veh_range']+1)\n",
    "ovr = [0]*max(lstat['veh_range']+1)"
   ]
  },
  {
   "cell_type": "code",
   "execution_count": 26,
   "id": "2c75bffd",
   "metadata": {
    "ExecuteTime": {
     "end_time": "2022-03-07T09:13:38.368071Z",
     "start_time": "2022-03-07T09:13:38.327217Z"
    }
   },
   "outputs": [],
   "source": [
    "for i in lstat.index.values:\n",
    "    if lstat.at[i,'Pred'] == 1:\n",
    "        true[lstat.at[i,'veh_range']]+=1\n",
    "    ovr[lstat.at[i,'veh_range']]+=1"
   ]
  },
  {
   "cell_type": "code",
   "execution_count": 34,
   "id": "4abdf9bf",
   "metadata": {
    "ExecuteTime": {
     "end_time": "2022-01-22T08:18:11.607896Z",
     "start_time": "2022-01-22T08:18:11.592493Z"
    }
   },
   "outputs": [],
   "source": [
    "for i in mstat.index.values:\n",
    "    if mstat.at[i,'Pred'] == 1:\n",
    "        true[mstat.at[i,'veh_range']]+=1\n",
    "    ovr[mstat.at[i,'veh_range']]+=1"
   ]
  },
  {
   "cell_type": "code",
   "execution_count": 35,
   "id": "de8b28b3",
   "metadata": {
    "ExecuteTime": {
     "end_time": "2022-01-22T08:18:12.000546Z",
     "start_time": "2022-01-22T08:18:11.983076Z"
    }
   },
   "outputs": [],
   "source": [
    "for i in hstat.index.values:\n",
    "    if hstat.at[i,'Pred'] == 1:\n",
    "        true[hstat.at[i,'veh_range']]+=1\n",
    "    ovr[hstat.at[i,'veh_range']]+=1"
   ]
  },
  {
   "cell_type": "code",
   "execution_count": 27,
   "id": "d6f887ba",
   "metadata": {
    "ExecuteTime": {
     "end_time": "2022-03-07T09:13:43.088694Z",
     "start_time": "2022-03-07T09:13:43.085225Z"
    }
   },
   "outputs": [],
   "source": [
    "acc = [i / j for i, j in zip(true, ovr)]"
   ]
  },
  {
   "cell_type": "code",
   "execution_count": 31,
   "id": "a8d7b545",
   "metadata": {
    "ExecuteTime": {
     "end_time": "2022-03-07T09:24:27.373451Z",
     "start_time": "2022-03-07T09:24:27.290758Z"
    }
   },
   "outputs": [
    {
     "data": {
      "text/plain": [
       "<BarContainer object of 19 artists>"
      ]
     },
     "execution_count": 31,
     "metadata": {},
     "output_type": "execute_result"
    }
   ],
   "source": [
    "plt.xlabel('Number of surrounding vehicles(120m)')\n",
    "plt.ylabel('Average accuracy')\n",
    "plt.bar(range(0,len(acc)-1),acc[:-1])"
   ]
  },
  {
   "cell_type": "code",
   "execution_count": 50,
   "id": "3da496fd",
   "metadata": {
    "ExecuteTime": {
     "end_time": "2022-01-22T08:27:08.660722Z",
     "start_time": "2022-01-22T08:27:08.654876Z"
    }
   },
   "outputs": [
    {
     "data": {
      "text/plain": [
       "0.4431818181818182"
      ]
     },
     "execution_count": 50,
     "metadata": {},
     "output_type": "execute_result"
    }
   ],
   "source": [
    "acc[15]"
   ]
  },
  {
   "cell_type": "code",
   "execution_count": 24,
   "id": "c3863eeb",
   "metadata": {
    "ExecuteTime": {
     "end_time": "2022-01-22T11:39:29.248922Z",
     "start_time": "2022-01-22T11:39:29.188019Z"
    }
   },
   "outputs": [],
   "source": [
    "# lstat.to_pickle(f'/home/mohit/webots_code/data/final/test_stats_new.pkl')"
   ]
  }
 ],
 "metadata": {
  "kernelspec": {
   "display_name": "Python [conda env:webots_ml] *",
   "language": "python",
   "name": "conda-env-webots_ml-py"
  },
  "language_info": {
   "codemirror_mode": {
    "name": "ipython",
    "version": 3
   },
   "file_extension": ".py",
   "mimetype": "text/x-python",
   "name": "python",
   "nbconvert_exporter": "python",
   "pygments_lexer": "ipython3",
   "version": "3.7.11"
  },
  "toc": {
   "base_numbering": 1,
   "nav_menu": {},
   "number_sections": true,
   "sideBar": true,
   "skip_h1_title": false,
   "title_cell": "Table of Contents",
   "title_sidebar": "Contents",
   "toc_cell": false,
   "toc_position": {
    "height": "calc(100% - 180px)",
    "left": "10px",
    "top": "150px",
    "width": "352px"
   },
   "toc_section_display": true,
   "toc_window_display": true
  },
  "varInspector": {
   "cols": {
    "lenName": 16,
    "lenType": 16,
    "lenVar": 40
   },
   "kernels_config": {
    "python": {
     "delete_cmd_postfix": "",
     "delete_cmd_prefix": "del ",
     "library": "var_list.py",
     "varRefreshCmd": "print(var_dic_list())"
    },
    "r": {
     "delete_cmd_postfix": ") ",
     "delete_cmd_prefix": "rm(",
     "library": "var_list.r",
     "varRefreshCmd": "cat(var_dic_list()) "
    }
   },
   "types_to_exclude": [
    "module",
    "function",
    "builtin_function_or_method",
    "instance",
    "_Feature"
   ],
   "window_display": false
  }
 },
 "nbformat": 4,
 "nbformat_minor": 5
}
