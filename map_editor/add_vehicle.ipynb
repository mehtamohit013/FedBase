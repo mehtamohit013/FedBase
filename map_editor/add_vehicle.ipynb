{
 "metadata": {
  "language_info": {
   "codemirror_mode": {
    "name": "ipython",
    "version": 3
   },
   "file_extension": ".py",
   "mimetype": "text/x-python",
   "name": "python",
   "nbconvert_exporter": "python",
   "pygments_lexer": "ipython3",
   "version": "3.6.13"
  },
  "orig_nbformat": 4,
  "kernelspec": {
   "name": "python3",
   "display_name": "Python 3.6.13 64-bit"
  },
  "interpreter": {
   "hash": "8a6e41e2096ae80e44a520737195a0624724a8dc9183fd278f6c24401b68bee1"
  }
 },
 "nbformat": 4,
 "nbformat_minor": 2,
 "cells": [
  {
   "cell_type": "code",
   "execution_count": 1,
   "metadata": {},
   "outputs": [],
   "source": [
    "from bs4 import BeautifulSoup as bs,Comment"
   ]
  },
  {
   "cell_type": "code",
   "execution_count": 2,
   "metadata": {},
   "outputs": [
    {
     "output_type": "execute_result",
     "data": {
      "text/plain": [
       "bs4.BeautifulSoup"
      ]
     },
     "metadata": {},
     "execution_count": 2
    }
   ],
   "source": [
    "map_osm = open(\"trial.osm\")\n",
    "y = bs(map_osm)\n",
    "type(y)"
   ]
  },
  {
   "cell_type": "code",
   "execution_count": 3,
   "metadata": {},
   "outputs": [],
   "source": [
    "def add_vehicle(y:bs,\n",
    "                node_num:int,way_num:int,\n",
    "                lat:float,lon:float,eps:float) -> bs:\n",
    "\n",
    "    y.osm.find('node',{'id':str(node_num)}).insert_after(y.new_tag(\"node\",id=str(node_num+1),\n",
    "                                                        visible=\"true\",version='1',\n",
    "                                                        lat=f'{lat:.8f}',lon=f'{lon:.8f}'))\n",
    "    y.osm.find('node',{'id':str(node_num+1)}).insert_after(y.new_tag(\"node\",id=str(node_num+2),\n",
    "                                                            visible=\"true\",version='1',\n",
    "                                                            lat=f'{(lat+eps):.8f}',lon=f'{lon:.8f}'))\n",
    "    y.osm.find('node',{'id':str(node_num+2)}).insert_after(y.new_tag(\"node\",id=str(node_num+3),\n",
    "                                                            visible=\"true\",version='1',\n",
    "                                                            lat=f'{(lat+eps):.8f}',lon=f'{(lon+eps):.8f}'))\n",
    "    y.osm.find('node',{'id':str(node_num+3)}).insert_after(y.new_tag(\"node\",id=str(node_num+4),\n",
    "                                                            visible=\"true\",version='1',\n",
    "                                                            lat=f'{lat:.8f}',lon=f'{(lon+eps):.8f}'))\n",
    "    \n",
    "    way_tag = y.new_tag(\"way\",id=str(way_num+1),version='1',visible=\"true\")\n",
    "    way_tag.append(y.new_tag('nd',ref=str(node_num+1)))\n",
    "    way_tag.append(y.new_tag('nd',ref=str(node_num+2)))\n",
    "    way_tag.append(y.new_tag('nd',ref=str(node_num+3)))\n",
    "    way_tag.append(y.new_tag('nd',ref=str(node_num+4)))\n",
    "    way_tag.append(y.new_tag('nd',ref=str(node_num+1)))\n",
    "    way_tag.append(y.new_tag('tag',k=\"height\",v=f'10'))\n",
    "    way_tag.append(y.new_tag('tag',k=\"building\",v=\"apartments\"))\n",
    "    way_com = Comment('Way Tag inserted here')\n",
    "    y.osm.find('way',{'id':str(way_num)}).insert_after(way_com,way_tag)\n",
    "\n",
    "    return y\n"
   ]
  },
  {
   "cell_type": "code",
   "execution_count": 4,
   "metadata": {},
   "outputs": [],
   "source": [
    "node_num = int(y.osm.find_all(\"node\")[-1]['id'])\n",
    "way_num = int(y.osm.find_all(\"way\")[-1]['id'])\n",
    "lat = 38.8941300\n",
    "lon = -77.0782000\n",
    "eps = 4e-5\n",
    "y = add_vehicle(y,node_num,way_num,lat,lon,eps)"
   ]
  },
  {
   "cell_type": "code",
   "execution_count": 5,
   "metadata": {},
   "outputs": [],
   "source": [
    "with open('trial_pr.osm','w') as t:\n",
    "    t.write(y.prettify())"
   ]
  },
  {
   "cell_type": "code",
   "execution_count": 6,
   "metadata": {},
   "outputs": [],
   "source": [
    "with open('trial.osm','w') as t:\n",
    "    t.write(str(y))"
   ]
  },
  {
   "cell_type": "code",
   "execution_count": 22,
   "metadata": {},
   "outputs": [],
   "source": [
    " a = y.new_tag(\"way\",id=str(way_num),version='1',visible=\"true\")"
   ]
  },
  {
   "cell_type": "code",
   "execution_count": 23,
   "metadata": {},
   "outputs": [
    {
     "output_type": "execute_result",
     "data": {
      "text/plain": [
       "<way id=\"931237648\" version=\"1\" visible=\"true\"><hello></hello></way>"
      ]
     },
     "metadata": {},
     "execution_count": 23
    }
   ],
   "source": [
    "a.insert(1,y.new_tag('hello'))\n",
    "a"
   ]
  },
  {
   "cell_type": "code",
   "execution_count": 24,
   "metadata": {},
   "outputs": [
    {
     "output_type": "execute_result",
     "data": {
      "text/plain": [
       "<way id=\"931237648\" version=\"1\" visible=\"true\"><bye></bye><hello></hello></way>"
      ]
     },
     "metadata": {},
     "execution_count": 24
    }
   ],
   "source": [
    "a.insert(0,y.new_tag('bye'))\n",
    "a"
   ]
  },
  {
   "cell_type": "code",
   "execution_count": 25,
   "metadata": {},
   "outputs": [
    {
     "output_type": "execute_result",
     "data": {
      "text/plain": [
       "<way id=\"931237648\" version=\"1\" visible=\"true\"><bye></bye><by></by><hello></hello></way>"
      ]
     },
     "metadata": {},
     "execution_count": 25
    }
   ],
   "source": [
    "a.insert(1,y.new_tag('by'))\n",
    "a"
   ]
  },
  {
   "cell_type": "code",
   "execution_count": 26,
   "metadata": {},
   "outputs": [],
   "source": [
    "a.by.insert_after(y.new_tag(\"after bye\"))"
   ]
  },
  {
   "cell_type": "code",
   "execution_count": 29,
   "metadata": {},
   "outputs": [],
   "source": [
    "a.by.insert_before(y.new_tag('before'))"
   ]
  },
  {
   "cell_type": "code",
   "execution_count": 33,
   "metadata": {},
   "outputs": [
    {
     "output_type": "stream",
     "name": "stdout",
     "text": [
      "<class 'bs4.element.Tag'>\n"
     ]
    }
   ],
   "source": [
    "print(type(a.by))"
   ]
  },
  {
   "cell_type": "code",
   "execution_count": 35,
   "metadata": {},
   "outputs": [
    {
     "output_type": "execute_result",
     "data": {
      "text/plain": [
       "bs4.element.Tag"
      ]
     },
     "metadata": {},
     "execution_count": 35
    }
   ],
   "source": [
    "y.osm.find('node',{'id':str(node_num)}).insert_"
   ]
  },
  {
   "cell_type": "code",
   "execution_count": 37,
   "metadata": {},
   "outputs": [],
   "source": [
    "com = Comment('It Works')\n",
    "y.osm.find('node',{'id':str(node_num)}).insert_after(com)"
   ]
  },
  {
   "cell_type": "code",
   "execution_count": 38,
   "metadata": {},
   "outputs": [],
   "source": [
    "with open('trial.osm','w') as t:\n",
    "    t.write(str(y))"
   ]
  }
 ]
}