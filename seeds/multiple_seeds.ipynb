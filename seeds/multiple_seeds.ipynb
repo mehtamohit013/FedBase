{
 "cells": [
  {
   "cell_type": "markdown",
   "id": "6a90e9c5",
   "metadata": {
    "colab_type": "text",
    "id": "view-in-github"
   },
   "source": [
    "<a href=\"https://colab.research.google.com/github/mehtamohit013/comms_lidar_ML/blob/main/BS_selection/multiple_seeds.ipynb\" target=\"_parent\"><img src=\"https://colab.research.google.com/assets/colab-badge.svg\" alt=\"Open In Colab\"/></a>"
   ]
  },
  {
   "cell_type": "markdown",
   "id": "4HMizfr1rGrU",
   "metadata": {
    "heading_collapsed": true,
    "id": "4HMizfr1rGrU"
   },
   "source": [
    "# Colab"
   ]
  },
  {
   "cell_type": "code",
   "execution_count": 1,
   "id": "nsVorMqWrIM2",
   "metadata": {
    "colab": {
     "base_uri": "https://localhost:8080/"
    },
    "hidden": true,
    "id": "nsVorMqWrIM2",
    "outputId": "3d36d28d-5b67-4310-a97a-7c57cc346c04"
   },
   "outputs": [
    {
     "name": "stdout",
     "output_type": "stream",
     "text": [
      "Mounted at /gdrive\n"
     ]
    }
   ],
   "source": [
    "from google.colab import drive\n",
    "drive.mount('/gdrive')"
   ]
  },
  {
   "cell_type": "code",
   "execution_count": 2,
   "id": "VWTq3iDarOE9",
   "metadata": {
    "hidden": true,
    "id": "VWTq3iDarOE9"
   },
   "outputs": [],
   "source": [
    "%%capture _\n",
    "!unzip /gdrive/MyDrive/BTP/webots_data/final/data_split.zip\n",
    "# !unzip /gdrive/MyDrive/BTP/Webots_data/val_data.zip\n",
    "!pip install pytorch-lightning"
   ]
  },
  {
   "cell_type": "markdown",
   "id": "a7b76905",
   "metadata": {
    "id": "a7b76905"
   },
   "source": [
    "# Imports"
   ]
  },
  {
   "cell_type": "code",
   "execution_count": 7,
   "id": "c78ff91c",
   "metadata": {
    "ExecuteTime": {
     "end_time": "2022-04-07T07:42:30.620652Z",
     "start_time": "2022-04-07T07:42:30.615500Z"
    },
    "id": "c78ff91c"
   },
   "outputs": [],
   "source": [
    "import pandas as pd \n",
    "import numpy as np\n",
    "import os\n",
    "import math\n",
    "import scipy.io as io\n",
    "from tqdm.notebook import tqdm\n",
    "\n",
    "import torch \n",
    "from torch import nn\n",
    "from torch.nn import functional as F\n",
    "\n",
    "import pytorch_lightning as pl\n",
    "\n",
    "import matplotlib.pyplot as plt\n",
    "%matplotlib qt\n",
    "\n",
    "num_model = 10"
   ]
  },
  {
   "cell_type": "markdown",
   "id": "2dc1b18a",
   "metadata": {
    "heading_collapsed": true,
    "id": "2dc1b18a"
   },
   "source": [
    "# Model Class"
   ]
  },
  {
   "cell_type": "code",
   "execution_count": 5,
   "id": "1ada0c01",
   "metadata": {
    "ExecuteTime": {
     "end_time": "2022-04-07T06:11:03.280053Z",
     "start_time": "2022-04-07T06:11:03.261217Z"
    },
    "hidden": true,
    "id": "1ada0c01"
   },
   "outputs": [],
   "source": [
    "class incp(nn.Module):\n",
    "    def __init__(self,drp:float=0.3,\n",
    "                 drp_fc:float=0.2):\n",
    "        super().__init__()\n",
    "        \n",
    "        self.drop_CNN = nn.Dropout(drp)\n",
    "        self.drop_fc = nn.Dropout(drp_fc)\n",
    "        self.mpool = nn.MaxPool2d((2,2))\n",
    "        self.channels = 5\n",
    "        self.fchannel = 3\n",
    "        self.conv1 = self.create_conv(10,self.channels,13)\n",
    "        self.conv2 = self.create_conv(self.channels,self.channels,13)\n",
    "        self.conv3 = self.create_conv(self.channels,self.channels,7)\n",
    "        self.conv4 = self.create_conv(self.channels,self.channels,7)\n",
    "\n",
    "        # 1st Inception block\n",
    "        self.in1 = nn.Sequential(\n",
    "            self.create_conv(self.channels,self.fchannel,1),\n",
    "            self.create_conv(self.fchannel,self.fchannel,3),\n",
    "            self.create_conv(self.fchannel,self.fchannel,3)\n",
    "        )\n",
    "        self.in2 = nn.Sequential(\n",
    "            self.create_conv(self.channels,self.fchannel,1),\n",
    "            self.create_conv(self.fchannel,self.fchannel,3)\n",
    "        )\n",
    "        self.in3 = nn.Sequential(\n",
    "            nn.MaxPool2d((3,3)),\n",
    "            self.create_conv(self.channels,self.fchannel,1)\n",
    "        )\n",
    "        self.in4 = self.create_conv(self.channels,self.fchannel,1)\n",
    "\n",
    "        # Second inception block\n",
    "        self.in5 = nn.Sequential(\n",
    "            self.create_conv(self.fchannel*4,self.fchannel,1),\n",
    "            self.create_conv(self.fchannel,self.fchannel,3),\n",
    "            self.create_conv(self.fchannel,self.fchannel,3)\n",
    "        )\n",
    "        self.in6 = nn.Sequential(\n",
    "            self.create_conv(self.fchannel*4,self.fchannel,1),\n",
    "            self.create_conv(self.fchannel,self.fchannel,3)\n",
    "        )\n",
    "        self.in7 = nn.Sequential(\n",
    "            nn.MaxPool2d((3,3)),\n",
    "            self.create_conv(self.fchannel*4,self.fchannel,1)\n",
    "        )\n",
    "        self.in8 = self.create_conv(self.fchannel*4,self.fchannel,1)\n",
    "\n",
    "        self.conv5 = self.create_conv(self.fchannel*4,self.fchannel,7)\n",
    "        self.conv6 = self.create_conv(self.fchannel,self.fchannel,7)\n",
    "\n",
    "        self.conv7 = self.create_conv(self.fchannel,self.fchannel,3)\n",
    "        self.conv8 = self.create_conv(self.fchannel,self.fchannel,3)\n",
    "        \n",
    "        self.flatten = nn.Flatten()\n",
    "\n",
    "        # self.linear = nn.Sequential(\n",
    "        #     nn.Linear(2352,256),\n",
    "        #     nn.PReLU(1),\n",
    "        #     nn.BatchNorm1d(256),\n",
    "        #     self.drop_fc,\n",
    "        #     nn.Linear(256,64),\n",
    "        #     nn.PReLU(1),\n",
    "        #     nn.BatchNorm1d(64),\n",
    "        #     self.drop_fc,\n",
    "        #     nn.Linear(64,16),\n",
    "        #     nn.PReLU(1),\n",
    "        #     nn.BatchNorm1d(16),\n",
    "        #     self.drop_fc,\n",
    "        #     nn.Linear(16,3)\n",
    "        # )\n",
    "\n",
    "        self.linear = nn.Sequential(\n",
    "            nn.Linear(588,16),\n",
    "            nn.PReLU(1),\n",
    "            nn.BatchNorm1d(16),\n",
    "            nn.Linear(16,3)\n",
    "        )\n",
    "\n",
    "    \n",
    "    def forward(self,X):\n",
    "        X  = self.conv1(X)\n",
    "        X  = self.conv2(X)\n",
    "        X = self.mpool(X)\n",
    "\n",
    "        X = self.conv3(X)\n",
    "        X = self.conv4(X)\n",
    "        X = self.mpool(X)\n",
    "\n",
    "        X = self.drop_CNN(X)\n",
    "\n",
    "        a = self.in1(X)\n",
    "        a = F.pad(a,[2,2,2,2])\n",
    "        b = self.in2(X)\n",
    "        b = F.pad(b,[1,1,1,1])\n",
    "        c = self.in3(X)\n",
    "        c = F.pad(c,[16,16,16,16])\n",
    "        d = self.in4(X)\n",
    "\n",
    "        X = torch.cat((a,b,c,d),1)\n",
    "\n",
    "        X = self.drop_CNN(X)\n",
    "\n",
    "        a = self.in5(X)\n",
    "        a = F.pad(a,[2,2,2,2])\n",
    "        b = self.in6(X)\n",
    "        b = F.pad(b,[1,1,1,1])\n",
    "        c = self.in7(X)\n",
    "        c = F.pad(c,[16,16,16,16])\n",
    "        d = self.in8(X)\n",
    "\n",
    "        X = torch.cat((a,b,c,d),1)\n",
    "        X = self.drop_CNN(X)\n",
    "\n",
    "        X = self.conv5(X)\n",
    "        X = self.conv6(X)\n",
    "\n",
    "        X = self.mpool(X)\n",
    "\n",
    "        X = self.drop_CNN(X)\n",
    "\n",
    "        X = self.conv7(X)\n",
    "        X = self.conv8(X)\n",
    "        # print(X.shape)\n",
    "\n",
    "        X = self.flatten(X)\n",
    "        out = self.linear(X)\n",
    "\n",
    "        return out\n",
    "    \n",
    "    def create_conv(self,in_layers:int,out_layers:int,kernel,stride:int=1,\n",
    "                    padding:int=0) -> nn.Module :\n",
    "\n",
    "        return nn.Sequential(\n",
    "            nn.Conv2d(in_layers,out_layers,kernel,stride,padding),\n",
    "            nn.PReLU(out_layers),\n",
    "            nn.BatchNorm2d(out_layers)\n",
    "        )"
   ]
  },
  {
   "cell_type": "markdown",
   "id": "ce9344bc",
   "metadata": {
    "heading_collapsed": true,
    "id": "ce9344bc"
   },
   "source": [
    "# Lightning Trainer\n"
   ]
  },
  {
   "cell_type": "code",
   "execution_count": 6,
   "id": "ed8baca3",
   "metadata": {
    "ExecuteTime": {
     "end_time": "2022-04-07T06:11:03.402451Z",
     "start_time": "2022-04-07T06:11:03.282987Z"
    },
    "hidden": true,
    "id": "ed8baca3"
   },
   "outputs": [],
   "source": [
    "class lidar_trainer(pl.LightningModule):\n",
    "    def __init__(self,use_model:str='incp',\n",
    "                 drop_prob:float = 0.3,\n",
    "                 drop_prob_fc:float = 0.2,\n",
    "                 learning_rate:float = 1e-3,\n",
    "                 weight_decay:float = 0.0):\n",
    "        \n",
    "        '''\n",
    "        use_model = 'NU','imp'\n",
    "        '''\n",
    "\n",
    "        self.drp = drop_prob\n",
    "        self.drp_fc = drop_prob_fc\n",
    "\n",
    "        super().__init__()\n",
    "        if use_model == 'NU':\n",
    "            self.model = NU(drp=drop_prob,drp_fc = drop_prob_fc)\n",
    "        elif use_model == 'imp':\n",
    "            self.model = imp_lidar(drp=drop_prob,drp_fc = drop_prob_fc)\n",
    "        elif use_model == 'm1':\n",
    "            self.model = m1(drp=drop_prob,drp_fc = drop_prob_fc)\n",
    "        elif use_model == 'incp':\n",
    "            self.model = incp(drp=drop_prob,drp_fc = drop_prob_fc)\n",
    "\n",
    "        self.celoss = nn.CrossEntropyLoss()\n",
    "        self.lr = learning_rate\n",
    "        self.wd = weight_decay\n",
    "\n",
    "        self.train_acc = 0\n",
    "        self.val_acc = 0\n",
    "        self.test_acc = 0\n",
    "\n",
    "        self.example_input_array = torch.rand(1,10,240,240) # For logging graph\n",
    "    \n",
    "    def forward(self,lidar):\n",
    "        out = self.model(lidar)\n",
    "        return out\n",
    "    \n",
    "    def training_step(self,batch,batch_idx):\n",
    "        lidar = batch['lidar'].float()\n",
    "        label = batch['label'].long()\n",
    "        \n",
    "        yhat = self(lidar)\n",
    "        \n",
    "        loss = self.celoss(yhat,label)\n",
    "        \n",
    "        self.log('Train Loss',loss)\n",
    "        \n",
    "        return {'loss':loss,'pred':yhat.cpu().detach(),'label':label.cpu().detach()}\n",
    "    \n",
    "    def configure_optimizers(self):\n",
    "        opt = torch.optim.Adam(self.parameters(),self.lr,\n",
    "                               weight_decay=self.wd)\n",
    "        return opt\n",
    "    \n",
    "    def training_epoch_end(self,train_out):        \n",
    "        len_out = len(train_out)\n",
    "        y_pred = torch.Tensor(len_out*BATCH_SIZE,num_BS)\n",
    "        y_true = torch.Tensor(len_out*BATCH_SIZE)\n",
    "\n",
    "        for i in range(0,len_out):\n",
    "            y_pred[i*BATCH_SIZE:(i+1)*BATCH_SIZE,:] = train_out[i]['pred'] \n",
    "            y_true[i*BATCH_SIZE:(i+1)*BATCH_SIZE] = train_out[i]['label']\n",
    "\n",
    "        top1 = top_k_acc(y_true,y_pred,k=1)\n",
    "\n",
    "        # Calculating Avg loss\n",
    "        avg_loss = torch.stack([x['loss'] for x in train_out]).mean()\n",
    "        \n",
    "        self.logger.experiment.add_scalar('Loss-Train per epoch',avg_loss,self.current_epoch)\n",
    "        self.logger.experiment.add_scalar('Train Accuracy',top1,self.current_epoch)\n",
    "\n",
    "        self.train_acc = top1\n",
    "        \n",
    "        print(f'Train accuracies is {top1}')\n",
    "\n",
    "    def validation_step(self,batch,batch_idx):\n",
    "        lidar = batch['lidar'].float()\n",
    "        label = batch['label'].long()\n",
    "        \n",
    "        yhat = self.forward(lidar)\n",
    "        \n",
    "        return [yhat.cpu().detach(),label.cpu().detach()]\n",
    "     \n",
    "    def validation_epoch_end(self,val_out):\n",
    "        len_out = len(val_out)\n",
    "        y_pred = torch.Tensor(len_out*BATCH_SIZE,num_BS)\n",
    "        y_true = torch.Tensor(len_out*BATCH_SIZE)\n",
    "\n",
    "        for i in range(0,len_out):\n",
    "            y_pred[i*BATCH_SIZE:(i+1)*BATCH_SIZE,:] = val_out[i][0] \n",
    "            y_true[i*BATCH_SIZE:(i+1)*BATCH_SIZE] = val_out[i][1] \n",
    "\n",
    "        top1 = top_k_acc(y_true,y_pred,k=1)\n",
    "        self.val_acc = top1\n",
    "\n",
    "        self.logger.experiment.add_scalar('Validation Accuracy',top1,self.current_epoch)\n",
    "\n",
    "        print(f'Validation accuracy is {top1}')\n",
    "    \n",
    "    def test_step(self,batch,batch_idx):\n",
    "        lidar = batch['lidar'].float()\n",
    "        label = batch['label'].long()\n",
    "        \n",
    "        yhat = self.forward(lidar)\n",
    "        \n",
    "        return [yhat.cpu().detach(),label.cpu().detach()]\n",
    "     \n",
    "    def test_epoch_end(self,val_out):\n",
    "        len_out = len(val_out)\n",
    "        y_pred = torch.Tensor(len_out*BATCH_SIZE,num_BS)\n",
    "        y_true = torch.Tensor(len_out*BATCH_SIZE)\n",
    "\n",
    "        for i in range(0,len_out):\n",
    "            y_pred[i*BATCH_SIZE:(i+1)*BATCH_SIZE,:] = val_out[i][0] \n",
    "            y_true[i*BATCH_SIZE:(i+1)*BATCH_SIZE] = val_out[i][1] \n",
    "\n",
    "        top1 = top_k_acc(y_true,y_pred,k=1)\n",
    "        self.test_acc = top1\n",
    "\n",
    "        self.logger.experiment.add_hparams(\n",
    "            {\n",
    "                'LR' : self.lr,\n",
    "                'weight_decay' : self.wd,\n",
    "                'drop_prob' : self.drp,\n",
    "                'drop_fc' : self.drp_fc,\n",
    "                'overall params' : sum(p.numel() for p in self.model.parameters())\n",
    "            },\n",
    "            {\n",
    "                'hparam/test_acc' : self.test_acc,\n",
    "                'hparam/train_acc' : self.train_acc,\n",
    "                'hparam/val_acc' : self.val_acc\n",
    "            }\n",
    "        )\n",
    "        print(f'Test accuracy is {top1}')"
   ]
  },
  {
   "cell_type": "markdown",
   "id": "89d4d5ae",
   "metadata": {
    "id": "89d4d5ae"
   },
   "source": [
    "# Loading Models"
   ]
  },
  {
   "cell_type": "code",
   "execution_count": 8,
   "id": "1c0100f6",
   "metadata": {
    "ExecuteTime": {
     "end_time": "2022-04-07T06:11:03.973449Z",
     "start_time": "2022-04-07T06:11:03.404380Z"
    },
    "id": "1c0100f6"
   },
   "outputs": [],
   "source": [
    "models = list()\n",
    "# seed_dir = '/gdrive/MyDrive/BTP/seeds/seeds'\n",
    "seed_dir = ''\n",
    "\n",
    "for i in range(0,num_model):\n",
    "    tmp = seed_dir+f'/tb_logs_seed_{i}/inception/version_0/checkpoints'\n",
    "    tmp += '/' + os.listdir(tmp)[0]\n",
    "    \n",
    "    tmp_trainer = lidar_trainer(use_model='incp',drop_prob=0.3,drop_prob_fc=0.2,weight_decay=1e-4,learning_rate=3.63e-4)\n",
    "    tmp_model = tmp_trainer.load_from_checkpoint(tmp)\n",
    "    \n",
    "    models.append(tmp_model)"
   ]
  },
  {
   "cell_type": "markdown",
   "id": "096b1b09",
   "metadata": {
    "heading_collapsed": true,
    "id": "096b1b09"
   },
   "source": [
    "# Loading testing data"
   ]
  },
  {
   "cell_type": "code",
   "execution_count": 17,
   "id": "79005eeb",
   "metadata": {
    "ExecuteTime": {
     "end_time": "2022-04-07T06:12:30.257409Z",
     "start_time": "2022-04-07T06:11:03.974683Z"
    },
    "colab": {
     "base_uri": "https://localhost:8080/",
     "height": 49,
     "referenced_widgets": [
      "4fffddf7e1b34b71a6ba64e2f4cbb928",
      "68368694ecd34b63b8850886488665e0",
      "041a7705a9644f3dbab79522f07ee716",
      "92be6d11d36f4b0fa7d08e318c889b38",
      "243e2574ee9140eca461bb4037b08c66",
      "26961fd2b8c14582905e7d1664e2d8e3",
      "79745cf6af4c4951b77825ead1a276c6",
      "bffad3a1b74e42b083dc089d2a4f3c2c",
      "5852168ac0c64642bcb723824771dfef",
      "78d08affb41e4fdba8f8a42b442fd045",
      "36cc97ef16a342feb393e4388b77bbf1"
     ]
    },
    "hidden": true,
    "id": "79005eeb",
    "outputId": "ac3b7434-07ef-4ef0-a77c-131edeaedeb9",
    "scrolled": true
   },
   "outputs": [
    {
     "data": {
      "application/vnd.jupyter.widget-view+json": {
       "model_id": "4fffddf7e1b34b71a6ba64e2f4cbb928",
       "version_major": 2,
       "version_minor": 0
      },
      "text/plain": [
       "  0%|          | 0/14902 [00:00<?, ?it/s]"
      ]
     },
     "metadata": {},
     "output_type": "display_data"
    }
   ],
   "source": [
    "# dpath = '.'\n",
    "# gps_pd = pd.read_pickle('/gdrive/MyDrive/BTP/seeds/seeds/gps_stats_new.pkl')\n",
    "\n",
    "dpath = '/home/mohit/webots_code/data/final'\n",
    "gps_pd = pd.read_pickle('/home/mohit/webots_code/data/final/gps_stats_new.pkl')\n",
    "\n",
    "acc = list()\n",
    "\n",
    "device = torch.device('cuda' if torch.cuda.is_available() else 'cpu')\n",
    "\n",
    "for i in range(0,num_model):\n",
    "    models[i].model.to(device)\n",
    "\n",
    "for i in tqdm(gps_pd.index.values):\n",
    "    name = gps_pd.at[i,'Lidar']\n",
    "    lidar_data = torch.tensor(np.load(dpath+f'/lidar_compressed/{name}')['lidar'].reshape(1,10,240,240).astype('float32'),device=device)   \n",
    "    label = io.loadmat(dpath+f'/labels/{name[:-3]}mat')['ss']\n",
    "    label = np.argmax(label.astype('float64'))\n",
    "    \n",
    "    tmp_acc = list()\n",
    "    for j in range(0,num_model):\n",
    "        tmp = models[j].model\n",
    "        tmp.eval()\n",
    "        pred = tmp(lidar_data)\n",
    "        \n",
    "        if(label == torch.argmax(pred)):\n",
    "            tmp_acc.append(1)\n",
    "        else:\n",
    "            tmp_acc.append(0)\n",
    "    \n",
    "    acc.append(tmp_acc)"
   ]
  },
  {
   "cell_type": "code",
   "execution_count": 18,
   "id": "e7a2c5e1",
   "metadata": {
    "hidden": true,
    "id": "e7a2c5e1"
   },
   "outputs": [],
   "source": [
    "gps_pd['seed_acc'] = acc"
   ]
  },
  {
   "cell_type": "code",
   "execution_count": 19,
   "id": "EKzvDujttu85",
   "metadata": {
    "hidden": true,
    "id": "EKzvDujttu85"
   },
   "outputs": [],
   "source": [
    "gps_pd.to_pickle('/gdrive/MyDrive/BTP/seeds/seeds/gps_seed.pkl')"
   ]
  },
  {
   "cell_type": "markdown",
   "id": "MDHWHhqV2I7y",
   "metadata": {
    "id": "MDHWHhqV2I7y"
   },
   "source": [
    "# Graphs"
   ]
  },
  {
   "cell_type": "code",
   "execution_count": 8,
   "id": "qDBryvtQ8JkN",
   "metadata": {
    "ExecuteTime": {
     "end_time": "2022-04-07T07:42:35.496150Z",
     "start_time": "2022-04-07T07:42:35.382626Z"
    },
    "id": "qDBryvtQ8JkN"
   },
   "outputs": [],
   "source": [
    "gps_pd = pd.read_pickle('/home/mohit/webots_code/data/final/gps_seed.pkl')"
   ]
  },
  {
   "cell_type": "markdown",
   "id": "XvgHDdJa2cgR",
   "metadata": {
    "id": "XvgHDdJa2cgR"
   },
   "source": [
    "## Distribution Graph"
   ]
  },
  {
   "cell_type": "code",
   "execution_count": 23,
   "id": "mH-UBPS72MP4",
   "metadata": {
    "ExecuteTime": {
     "end_time": "2022-04-07T08:14:59.308272Z",
     "start_time": "2022-04-07T08:14:58.894043Z"
    },
    "colab": {
     "base_uri": "https://localhost:8080/",
     "height": 284
    },
    "id": "mH-UBPS72MP4",
    "outputId": "93f8ec0c-be66-4e7b-bea0-40b38528823a"
   },
   "outputs": [
    {
     "data": {
      "text/plain": [
       "<BarContainer object of 21 artists>"
      ]
     },
     "execution_count": 23,
     "metadata": {},
     "output_type": "execute_result"
    }
   ],
   "source": [
    "surr = [0]*21\n",
    "\n",
    "for i in (gps_pd.index.values):\n",
    "    surr[gps_pd.at[i,'veh_range']]+=1\n",
    "\n",
    "plt.bar(range(0,21),surr)"
   ]
  },
  {
   "cell_type": "markdown",
   "id": "QbOMnbr127WM",
   "metadata": {
    "id": "QbOMnbr127WM"
   },
   "source": [
    "## Accuracy Graph"
   ]
  },
  {
   "cell_type": "code",
   "execution_count": 10,
   "id": "l31brbyG3-Bl",
   "metadata": {
    "ExecuteTime": {
     "end_time": "2022-04-07T07:42:41.544981Z",
     "start_time": "2022-04-07T07:42:41.506151Z"
    },
    "colab": {
     "base_uri": "https://localhost:8080/"
    },
    "id": "l31brbyG3-Bl",
    "outputId": "1c51169d-0699-45e7-82f7-44ad6d74cc51"
   },
   "outputs": [
    {
     "name": "stdout",
     "output_type": "stream",
     "text": [
      "<class 'pandas.core.frame.DataFrame'>\n",
      "RangeIndex: 14902 entries, 0 to 14901\n",
      "Data columns (total 12 columns):\n",
      " #   Column     Non-Null Count  Dtype \n",
      "---  ------     --------------  ----- \n",
      " 0   index      14902 non-null  int64 \n",
      " 1   Time       14902 non-null  object\n",
      " 2   Name       14902 non-null  object\n",
      " 3   Model      14902 non-null  object\n",
      " 4   GPS        14902 non-null  object\n",
      " 5   Speed      14902 non-null  object\n",
      " 6   Lidar      14902 non-null  object\n",
      " 7   BS         14902 non-null  object\n",
      " 8   veh_range  14902 non-null  int64 \n",
      " 9   veh_dist   14902 non-null  object\n",
      " 10  Pred       14902 non-null  int64 \n",
      " 11  seed_acc   14902 non-null  object\n",
      "dtypes: int64(3), object(9)\n",
      "memory usage: 1.4+ MB\n"
     ]
    }
   ],
   "source": [
    "gps_pd.info()"
   ]
  },
  {
   "cell_type": "code",
   "execution_count": 28,
   "id": "F73pZdlL2NyN",
   "metadata": {
    "ExecuteTime": {
     "end_time": "2022-04-07T08:26:57.510578Z",
     "start_time": "2022-04-07T08:26:55.891779Z"
    },
    "id": "F73pZdlL2NyN"
   },
   "outputs": [
    {
     "ename": "ZeroDivisionError",
     "evalue": "float division by zero",
     "output_type": "error",
     "traceback": [
      "\u001b[0;31m---------------------------------------------------------------------------\u001b[0m",
      "\u001b[0;31mZeroDivisionError\u001b[0m                         Traceback (most recent call last)",
      "\u001b[0;32m/tmp/ipykernel_24567/670173102.py\u001b[0m in \u001b[0;36m<module>\u001b[0;34m\u001b[0m\n\u001b[1;32m     12\u001b[0m                 \u001b[0movr\u001b[0m\u001b[0;34m+=\u001b[0m\u001b[0;36m1\u001b[0m\u001b[0;34m\u001b[0m\u001b[0;34m\u001b[0m\u001b[0m\n\u001b[1;32m     13\u001b[0m \u001b[0;34m\u001b[0m\u001b[0m\n\u001b[0;32m---> 14\u001b[0;31m         \u001b[0mtmp_acc\u001b[0m \u001b[0;34m=\u001b[0m \u001b[0mfloat\u001b[0m\u001b[0;34m(\u001b[0m\u001b[0mtrue\u001b[0m\u001b[0;34m)\u001b[0m\u001b[0;34m/\u001b[0m\u001b[0mfloat\u001b[0m\u001b[0;34m(\u001b[0m\u001b[0movr\u001b[0m\u001b[0;34m)\u001b[0m\u001b[0;34m\u001b[0m\u001b[0;34m\u001b[0m\u001b[0m\n\u001b[0m\u001b[1;32m     15\u001b[0m         \u001b[0mtmp\u001b[0m\u001b[0;34m.\u001b[0m\u001b[0mappend\u001b[0m\u001b[0;34m(\u001b[0m\u001b[0mtmp_acc\u001b[0m\u001b[0;34m)\u001b[0m\u001b[0;34m\u001b[0m\u001b[0;34m\u001b[0m\u001b[0m\n\u001b[1;32m     16\u001b[0m     \u001b[0macc\u001b[0m\u001b[0;34m.\u001b[0m\u001b[0mappend\u001b[0m\u001b[0;34m(\u001b[0m\u001b[0mtmp\u001b[0m\u001b[0;34m)\u001b[0m\u001b[0;34m\u001b[0m\u001b[0;34m\u001b[0m\u001b[0m\n",
      "\u001b[0;31mZeroDivisionError\u001b[0m: float division by zero"
     ]
    }
   ],
   "source": [
    "acc = list()\n",
    "\n",
    "for i in range(0,21):\n",
    "    tmp = list()\n",
    "    for j in range(0,num_model):\n",
    "        true = 0\n",
    "        ovr = 0\n",
    "        for k in gps_pd.index.values:\n",
    "            if gps_pd.at[k,'veh_range'] == i:\n",
    "                if gps_pd.at[k,'seed_acc'][j] == 1:\n",
    "                    true+=1\n",
    "                ovr+=1\n",
    "        \n",
    "        tmp_acc = float(true)/float(ovr)\n",
    "        tmp.append(tmp_acc)\n",
    "    acc.append(tmp)\n",
    "            "
   ]
  },
  {
   "cell_type": "code",
   "execution_count": 12,
   "id": "aUw54m6K3bQ1",
   "metadata": {
    "ExecuteTime": {
     "end_time": "2022-04-07T07:42:58.601863Z",
     "start_time": "2022-04-07T07:42:58.596566Z"
    },
    "colab": {
     "base_uri": "https://localhost:8080/"
    },
    "id": "aUw54m6K3bQ1",
    "outputId": "4891ad58-bbde-4dc1-eed5-ae34a6b0dbd2"
   },
   "outputs": [
    {
     "data": {
      "text/plain": [
       "0.6393939393939394"
      ]
     },
     "execution_count": 12,
     "metadata": {},
     "output_type": "execute_result"
    }
   ],
   "source": [
    "sum(acc[0])/len(acc[0])"
   ]
  },
  {
   "cell_type": "code",
   "execution_count": 13,
   "id": "5sz4I46c7A1r",
   "metadata": {
    "ExecuteTime": {
     "end_time": "2022-04-07T07:42:58.756059Z",
     "start_time": "2022-04-07T07:42:58.669753Z"
    },
    "id": "5sz4I46c7A1r"
   },
   "outputs": [],
   "source": [
    "avg_acc = list()\n",
    "\n",
    "for i in range(0,21):\n",
    "    avg_acc.append((sum(acc[i])/(len(acc[i]))))\n",
    "    "
   ]
  },
  {
   "cell_type": "code",
   "execution_count": 26,
   "id": "QKovdhlR4tzw",
   "metadata": {
    "ExecuteTime": {
     "end_time": "2022-04-07T08:19:13.069530Z",
     "start_time": "2022-04-07T08:19:12.990354Z"
    },
    "colab": {
     "base_uri": "https://localhost:8080/",
     "height": 283
    },
    "id": "QKovdhlR4tzw",
    "outputId": "65f2727d-d4ed-440d-f5dd-81555d08089c"
   },
   "outputs": [
    {
     "data": {
      "text/plain": [
       "[<matplotlib.lines.Line2D at 0x7f10ebe24490>]"
      ]
     },
     "execution_count": 26,
     "metadata": {},
     "output_type": "execute_result"
    }
   ],
   "source": [
    "plt.xlabel('Number of surrounding vehicles(120m)')\n",
    "plt.ylabel('Average accuracy')\n",
    "plt.plot(range(0,21),avg_acc)"
   ]
  },
  {
   "cell_type": "code",
   "execution_count": null,
   "id": "b60e75a3",
   "metadata": {},
   "outputs": [],
   "source": []
  }
 ],
 "metadata": {
  "accelerator": "GPU",
  "colab": {
   "collapsed_sections": [
    "2dc1b18a",
    "ce9344bc"
   ],
   "include_colab_link": true,
   "name": "multiple_models.ipynb",
   "provenance": []
  },
  "kernelspec": {
   "display_name": "Python [conda env:webots_ml]",
   "language": "python",
   "name": "conda-env-webots_ml-py"
  },
  "language_info": {
   "codemirror_mode": {
    "name": "ipython",
    "version": 3
   },
   "file_extension": ".py",
   "mimetype": "text/x-python",
   "name": "python",
   "nbconvert_exporter": "python",
   "pygments_lexer": "ipython3",
   "version": "3.7.11"
  },
  "toc": {
   "base_numbering": 1,
   "nav_menu": {},
   "number_sections": true,
   "sideBar": true,
   "skip_h1_title": false,
   "title_cell": "Table of Contents",
   "title_sidebar": "Contents",
   "toc_cell": false,
   "toc_position": {
    "height": "calc(100% - 180px)",
    "left": "10px",
    "top": "150px",
    "width": "176px"
   },
   "toc_section_display": true,
   "toc_window_display": true
  },
  "varInspector": {
   "cols": {
    "lenName": 16,
    "lenType": 16,
    "lenVar": 40
   },
   "kernels_config": {
    "python": {
     "delete_cmd_postfix": "",
     "delete_cmd_prefix": "del ",
     "library": "var_list.py",
     "varRefreshCmd": "print(var_dic_list())"
    },
    "r": {
     "delete_cmd_postfix": ") ",
     "delete_cmd_prefix": "rm(",
     "library": "var_list.r",
     "varRefreshCmd": "cat(var_dic_list()) "
    }
   },
   "types_to_exclude": [
    "module",
    "function",
    "builtin_function_or_method",
    "instance",
    "_Feature"
   ],
   "window_display": false
  },
  "widgets": {
   "application/vnd.jupyter.widget-state+json": {
    "041a7705a9644f3dbab79522f07ee716": {
     "model_module": "@jupyter-widgets/controls",
     "model_module_version": "1.5.0",
     "model_name": "FloatProgressModel",
     "state": {
      "_dom_classes": [],
      "_model_module": "@jupyter-widgets/controls",
      "_model_module_version": "1.5.0",
      "_model_name": "FloatProgressModel",
      "_view_count": null,
      "_view_module": "@jupyter-widgets/controls",
      "_view_module_version": "1.5.0",
      "_view_name": "ProgressView",
      "bar_style": "success",
      "description": "",
      "description_tooltip": null,
      "layout": "IPY_MODEL_bffad3a1b74e42b083dc089d2a4f3c2c",
      "max": 14902,
      "min": 0,
      "orientation": "horizontal",
      "style": "IPY_MODEL_5852168ac0c64642bcb723824771dfef",
      "value": 14902
     }
    },
    "243e2574ee9140eca461bb4037b08c66": {
     "model_module": "@jupyter-widgets/base",
     "model_module_version": "1.2.0",
     "model_name": "LayoutModel",
     "state": {
      "_model_module": "@jupyter-widgets/base",
      "_model_module_version": "1.2.0",
      "_model_name": "LayoutModel",
      "_view_count": null,
      "_view_module": "@jupyter-widgets/base",
      "_view_module_version": "1.2.0",
      "_view_name": "LayoutView",
      "align_content": null,
      "align_items": null,
      "align_self": null,
      "border": null,
      "bottom": null,
      "display": null,
      "flex": null,
      "flex_flow": null,
      "grid_area": null,
      "grid_auto_columns": null,
      "grid_auto_flow": null,
      "grid_auto_rows": null,
      "grid_column": null,
      "grid_gap": null,
      "grid_row": null,
      "grid_template_areas": null,
      "grid_template_columns": null,
      "grid_template_rows": null,
      "height": null,
      "justify_content": null,
      "justify_items": null,
      "left": null,
      "margin": null,
      "max_height": null,
      "max_width": null,
      "min_height": null,
      "min_width": null,
      "object_fit": null,
      "object_position": null,
      "order": null,
      "overflow": null,
      "overflow_x": null,
      "overflow_y": null,
      "padding": null,
      "right": null,
      "top": null,
      "visibility": null,
      "width": null
     }
    },
    "26961fd2b8c14582905e7d1664e2d8e3": {
     "model_module": "@jupyter-widgets/base",
     "model_module_version": "1.2.0",
     "model_name": "LayoutModel",
     "state": {
      "_model_module": "@jupyter-widgets/base",
      "_model_module_version": "1.2.0",
      "_model_name": "LayoutModel",
      "_view_count": null,
      "_view_module": "@jupyter-widgets/base",
      "_view_module_version": "1.2.0",
      "_view_name": "LayoutView",
      "align_content": null,
      "align_items": null,
      "align_self": null,
      "border": null,
      "bottom": null,
      "display": null,
      "flex": null,
      "flex_flow": null,
      "grid_area": null,
      "grid_auto_columns": null,
      "grid_auto_flow": null,
      "grid_auto_rows": null,
      "grid_column": null,
      "grid_gap": null,
      "grid_row": null,
      "grid_template_areas": null,
      "grid_template_columns": null,
      "grid_template_rows": null,
      "height": null,
      "justify_content": null,
      "justify_items": null,
      "left": null,
      "margin": null,
      "max_height": null,
      "max_width": null,
      "min_height": null,
      "min_width": null,
      "object_fit": null,
      "object_position": null,
      "order": null,
      "overflow": null,
      "overflow_x": null,
      "overflow_y": null,
      "padding": null,
      "right": null,
      "top": null,
      "visibility": null,
      "width": null
     }
    },
    "36cc97ef16a342feb393e4388b77bbf1": {
     "model_module": "@jupyter-widgets/controls",
     "model_module_version": "1.5.0",
     "model_name": "DescriptionStyleModel",
     "state": {
      "_model_module": "@jupyter-widgets/controls",
      "_model_module_version": "1.5.0",
      "_model_name": "DescriptionStyleModel",
      "_view_count": null,
      "_view_module": "@jupyter-widgets/base",
      "_view_module_version": "1.2.0",
      "_view_name": "StyleView",
      "description_width": ""
     }
    },
    "4fffddf7e1b34b71a6ba64e2f4cbb928": {
     "model_module": "@jupyter-widgets/controls",
     "model_module_version": "1.5.0",
     "model_name": "HBoxModel",
     "state": {
      "_dom_classes": [],
      "_model_module": "@jupyter-widgets/controls",
      "_model_module_version": "1.5.0",
      "_model_name": "HBoxModel",
      "_view_count": null,
      "_view_module": "@jupyter-widgets/controls",
      "_view_module_version": "1.5.0",
      "_view_name": "HBoxView",
      "box_style": "",
      "children": [
       "IPY_MODEL_68368694ecd34b63b8850886488665e0",
       "IPY_MODEL_041a7705a9644f3dbab79522f07ee716",
       "IPY_MODEL_92be6d11d36f4b0fa7d08e318c889b38"
      ],
      "layout": "IPY_MODEL_243e2574ee9140eca461bb4037b08c66"
     }
    },
    "5852168ac0c64642bcb723824771dfef": {
     "model_module": "@jupyter-widgets/controls",
     "model_module_version": "1.5.0",
     "model_name": "ProgressStyleModel",
     "state": {
      "_model_module": "@jupyter-widgets/controls",
      "_model_module_version": "1.5.0",
      "_model_name": "ProgressStyleModel",
      "_view_count": null,
      "_view_module": "@jupyter-widgets/base",
      "_view_module_version": "1.2.0",
      "_view_name": "StyleView",
      "bar_color": null,
      "description_width": ""
     }
    },
    "68368694ecd34b63b8850886488665e0": {
     "model_module": "@jupyter-widgets/controls",
     "model_module_version": "1.5.0",
     "model_name": "HTMLModel",
     "state": {
      "_dom_classes": [],
      "_model_module": "@jupyter-widgets/controls",
      "_model_module_version": "1.5.0",
      "_model_name": "HTMLModel",
      "_view_count": null,
      "_view_module": "@jupyter-widgets/controls",
      "_view_module_version": "1.5.0",
      "_view_name": "HTMLView",
      "description": "",
      "description_tooltip": null,
      "layout": "IPY_MODEL_26961fd2b8c14582905e7d1664e2d8e3",
      "placeholder": "​",
      "style": "IPY_MODEL_79745cf6af4c4951b77825ead1a276c6",
      "value": "100%"
     }
    },
    "78d08affb41e4fdba8f8a42b442fd045": {
     "model_module": "@jupyter-widgets/base",
     "model_module_version": "1.2.0",
     "model_name": "LayoutModel",
     "state": {
      "_model_module": "@jupyter-widgets/base",
      "_model_module_version": "1.2.0",
      "_model_name": "LayoutModel",
      "_view_count": null,
      "_view_module": "@jupyter-widgets/base",
      "_view_module_version": "1.2.0",
      "_view_name": "LayoutView",
      "align_content": null,
      "align_items": null,
      "align_self": null,
      "border": null,
      "bottom": null,
      "display": null,
      "flex": null,
      "flex_flow": null,
      "grid_area": null,
      "grid_auto_columns": null,
      "grid_auto_flow": null,
      "grid_auto_rows": null,
      "grid_column": null,
      "grid_gap": null,
      "grid_row": null,
      "grid_template_areas": null,
      "grid_template_columns": null,
      "grid_template_rows": null,
      "height": null,
      "justify_content": null,
      "justify_items": null,
      "left": null,
      "margin": null,
      "max_height": null,
      "max_width": null,
      "min_height": null,
      "min_width": null,
      "object_fit": null,
      "object_position": null,
      "order": null,
      "overflow": null,
      "overflow_x": null,
      "overflow_y": null,
      "padding": null,
      "right": null,
      "top": null,
      "visibility": null,
      "width": null
     }
    },
    "79745cf6af4c4951b77825ead1a276c6": {
     "model_module": "@jupyter-widgets/controls",
     "model_module_version": "1.5.0",
     "model_name": "DescriptionStyleModel",
     "state": {
      "_model_module": "@jupyter-widgets/controls",
      "_model_module_version": "1.5.0",
      "_model_name": "DescriptionStyleModel",
      "_view_count": null,
      "_view_module": "@jupyter-widgets/base",
      "_view_module_version": "1.2.0",
      "_view_name": "StyleView",
      "description_width": ""
     }
    },
    "92be6d11d36f4b0fa7d08e318c889b38": {
     "model_module": "@jupyter-widgets/controls",
     "model_module_version": "1.5.0",
     "model_name": "HTMLModel",
     "state": {
      "_dom_classes": [],
      "_model_module": "@jupyter-widgets/controls",
      "_model_module_version": "1.5.0",
      "_model_name": "HTMLModel",
      "_view_count": null,
      "_view_module": "@jupyter-widgets/controls",
      "_view_module_version": "1.5.0",
      "_view_name": "HTMLView",
      "description": "",
      "description_tooltip": null,
      "layout": "IPY_MODEL_78d08affb41e4fdba8f8a42b442fd045",
      "placeholder": "​",
      "style": "IPY_MODEL_36cc97ef16a342feb393e4388b77bbf1",
      "value": " 14902/14902 [15:14&lt;00:00, 16.30it/s]"
     }
    },
    "bffad3a1b74e42b083dc089d2a4f3c2c": {
     "model_module": "@jupyter-widgets/base",
     "model_module_version": "1.2.0",
     "model_name": "LayoutModel",
     "state": {
      "_model_module": "@jupyter-widgets/base",
      "_model_module_version": "1.2.0",
      "_model_name": "LayoutModel",
      "_view_count": null,
      "_view_module": "@jupyter-widgets/base",
      "_view_module_version": "1.2.0",
      "_view_name": "LayoutView",
      "align_content": null,
      "align_items": null,
      "align_self": null,
      "border": null,
      "bottom": null,
      "display": null,
      "flex": null,
      "flex_flow": null,
      "grid_area": null,
      "grid_auto_columns": null,
      "grid_auto_flow": null,
      "grid_auto_rows": null,
      "grid_column": null,
      "grid_gap": null,
      "grid_row": null,
      "grid_template_areas": null,
      "grid_template_columns": null,
      "grid_template_rows": null,
      "height": null,
      "justify_content": null,
      "justify_items": null,
      "left": null,
      "margin": null,
      "max_height": null,
      "max_width": null,
      "min_height": null,
      "min_width": null,
      "object_fit": null,
      "object_position": null,
      "order": null,
      "overflow": null,
      "overflow_x": null,
      "overflow_y": null,
      "padding": null,
      "right": null,
      "top": null,
      "visibility": null,
      "width": null
     }
    }
   }
  }
 },
 "nbformat": 4,
 "nbformat_minor": 5
}
